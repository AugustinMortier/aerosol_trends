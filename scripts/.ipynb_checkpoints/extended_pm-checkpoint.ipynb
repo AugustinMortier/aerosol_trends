{
 "cells": [
  {
   "cell_type": "markdown",
   "metadata": {},
   "source": [
    "# Extended PM data\n",
    "\n",
    "Try to extend PM data with new EBAS extract"
   ]
  },
  {
   "cell_type": "code",
   "execution_count": 135,
   "metadata": {},
   "outputs": [],
   "source": [
    "import pyaerocom as pya\n",
    "import os\n",
    "import glob\n",
    "import pandas as pd \n",
    "import datetime"
   ]
  },
  {
   "cell_type": "code",
   "execution_count": 158,
   "metadata": {},
   "outputs": [],
   "source": [
    "# modules importation\n",
    "from trends_functions import *\n",
    "from warnings import filterwarnings\n",
    "filterwarnings('ignore')"
   ]
  },
  {
   "cell_type": "code",
   "execution_count": 159,
   "metadata": {},
   "outputs": [],
   "source": [
    "# computation parameters\n",
    "params = get_params()"
   ]
  },
  {
   "cell_type": "code",
   "execution_count": 160,
   "metadata": {},
   "outputs": [],
   "source": [
    "# run observations\n",
    "# 'ang4487aer' 'od550aer' 'od550gt1aer' 'od550lt1aer' 'concpm10' 'concpm25' 'concso4' 'scatc550dryaer' 'absc550aer'\n",
    "var = 'concpm10'\n",
    "params['kind'] = 'obs'\n",
    "fill_params(params, var)\n",
    "if var in ['scatc550dryaer', 'absc550aer']:\n",
    "    params['period'] = '2000-2018'\n",
    "params['var'] = var\n",
    "obs_source = params['source']\n",
    "reader = pya.io.ReadUngridded(obs_source)\n",
    "obs_data = reader.read(vars_to_retrieve=var)"
   ]
  },
  {
   "cell_type": "code",
   "execution_count": 166,
   "metadata": {},
   "outputs": [
    {
     "data": {
      "text/plain": [
       "'Amberd'"
      ]
     },
     "execution_count": 166,
     "metadata": {},
     "output_type": "execute_result"
    }
   ],
   "source": [
    "obs_data[0].station_name"
   ]
  },
  {
   "cell_type": "markdown",
   "metadata": {},
   "source": [
    "### Read EBAS Files"
   ]
  },
  {
   "cell_type": "code",
   "execution_count": 281,
   "metadata": {},
   "outputs": [],
   "source": [
    "#read all the .nas year from IMPROVE directory\n",
    "EBAS = {}\n",
    "folder = os.path.join(\"IMPROVE-2019_partial/data/\")\n",
    "for root,dirs,files in os.walk(folder):\n",
    "    for file in files:\n",
    "        if file.endswith(\".nas\"):\n",
    "            f=open(folder+'/'+file, 'r')\n",
    "            ebas = []\n",
    "            for i, line in enumerate(f):\n",
    "                #print(line.split(':')[0])\n",
    "                if line.split(':')[0] == 'Station name':\n",
    "                    iname = i\n",
    "                if line.split(':')[0] == 'Startdate':\n",
    "                    idate = i\n",
    "                if line.split(':')[0].split(' ')[0] == 'starttime':\n",
    "                    idata = i+1\n",
    "                ebas.append(repr(line))\n",
    "            \n",
    "            #statname\n",
    "            station_name = ebas[iname].split(':',1)[1].split('\\\\n')[0].strip()\n",
    "            #date\n",
    "            strdate0 = ebas[idate].split(':',1)[1].split('\\\\n')[0].strip()\n",
    "            yyyy, mm, dd, hh, mn, ss = int(strdate0[0:4]), int(strdate0[4:6]), int(strdate0[6:8]), int(strdate0[8:10]), int(strdate0[10:12]), int(strdate0[12:14])\n",
    "            date0 = datetime.datetime(yyyy,mm,dd,hh,mn,ss)\n",
    "            #data\n",
    "            data = [d[1:-3].strip().replace(\"''\",\"\").split(' ') for d in ebas[idata:]]\n",
    "            datok = []\n",
    "            #check flags\n",
    "            header = ebas[idata-1][0:-3].split(' ')\n",
    "            if 'flag_PM10' in header and 'flag_PM2.5' in header:\n",
    "                iflagpm10 = header.index('flag_PM10')\n",
    "                iflagpm25 = header.index('flag_PM2.5')\n",
    "            else:\n",
    "                #last columns: seame flag for both\n",
    "                iflagpm10 = -1\n",
    "                iflagpm25 = -1\n",
    "            #data\n",
    "            if 'PM10' in header:\n",
    "                ipm10 = header.index('PM10')\n",
    "            else:\n",
    "                ipm10 = -1\n",
    "            if 'PM2.5' in header:\n",
    "                ipm25 = header.index('PM2.5')\n",
    "            else:\n",
    "                ipm25 = -1\n",
    "            \n",
    "            \n",
    "            for dat in data:\n",
    "                datok.append([float(d) for d in dat if d!=''])\n",
    "\n",
    "            #prepare db\n",
    "            thead = ['datetime','concpm10','concpm25']\n",
    "            tbody = []\n",
    "            for dat in datok:\n",
    "                dt = date0+datetime.timedelta(days = dat[0])\n",
    "                #get data\n",
    "                if ipm10!=-1:\n",
    "                    pm10 = dat[ipm10]\n",
    "                else:\n",
    "                    pm10 = np.nan\n",
    "                if ipm25!=-1:\n",
    "                    pm25 = dat[ipm25]\n",
    "                else:\n",
    "                    pm25 = np.nan\n",
    "                #set flag\n",
    "                if dat[iflagpm10]!=0 or pm10>=999:\n",
    "                    pm10 = np.nan\n",
    "                if dat[iflagpm25]!=0 or pm25>=999:\n",
    "                    pm25 = np.nan\n",
    "                tbody.append([dt,pm10,pm25])\n",
    "            \n",
    "            db = pd.DataFrame(tbody, columns=thead)\n",
    "            db.set_index('datetime', inplace=True)\n",
    "            db.sort_index(inplace=True)\n",
    "            #resample\n",
    "            db = db.resample('D').mean()\n",
    "            if station_name!=EBAS.keys():\n",
    "                EBAS[station_name] = db\n",
    "            else:\n",
    "                print('concatenate',station_name)\n",
    "                EBAS[station_name] = pd.append(db)\n",
    "                EBAS[station_name].sort_index(inplace=True)\n",
    "            \n",
    "            f.close()"
   ]
  },
  {
   "cell_type": "code",
   "execution_count": 287,
   "metadata": {},
   "outputs": [],
   "source": [
    "EBAS[keys[0]]"
   ]
  },
  {
   "cell_type": "code",
   "execution_count": 286,
   "metadata": {},
   "outputs": [
    {
     "ename": "ValueError",
     "evalue": "x, y, and format string must not be None",
     "output_type": "error",
     "traceback": [
      "\u001b[0;31m---------------------------------------------------------------------------\u001b[0m",
      "\u001b[0;31mValueError\u001b[0m                                Traceback (most recent call last)",
      "\u001b[0;32m<ipython-input-286-9562852d066b>\u001b[0m in \u001b[0;36m<module>\u001b[0;34m\u001b[0m\n\u001b[1;32m      1\u001b[0m \u001b[0mkeys\u001b[0m \u001b[0;34m=\u001b[0m \u001b[0mlist\u001b[0m\u001b[0;34m(\u001b[0m\u001b[0mEBAS\u001b[0m\u001b[0;34m.\u001b[0m\u001b[0mkeys\u001b[0m\u001b[0;34m(\u001b[0m\u001b[0;34m)\u001b[0m\u001b[0;34m)\u001b[0m\u001b[0;34m\u001b[0m\u001b[0;34m\u001b[0m\u001b[0m\n\u001b[1;32m      2\u001b[0m \u001b[0;32mfor\u001b[0m \u001b[0mkey\u001b[0m \u001b[0;32min\u001b[0m \u001b[0mkeys\u001b[0m\u001b[0;34m:\u001b[0m\u001b[0;34m\u001b[0m\u001b[0;34m\u001b[0m\u001b[0m\n\u001b[0;32m----> 3\u001b[0;31m     \u001b[0mplt\u001b[0m\u001b[0;34m.\u001b[0m\u001b[0mplot\u001b[0m\u001b[0;34m(\u001b[0m\u001b[0mEBAS\u001b[0m\u001b[0;34m[\u001b[0m\u001b[0mkey\u001b[0m\u001b[0;34m]\u001b[0m\u001b[0;34m)\u001b[0m\u001b[0;34m\u001b[0m\u001b[0;34m\u001b[0m\u001b[0m\n\u001b[0m",
      "\u001b[0;32m~/anaconda3/envs/pya/lib/python3.7/site-packages/matplotlib/pyplot.py\u001b[0m in \u001b[0;36mplot\u001b[0;34m(scalex, scaley, data, *args, **kwargs)\u001b[0m\n\u001b[1;32m   2787\u001b[0m     return gca().plot(\n\u001b[1;32m   2788\u001b[0m         *args, scalex=scalex, scaley=scaley, **({\"data\": data} if data\n\u001b[0;32m-> 2789\u001b[0;31m         is not None else {}), **kwargs)\n\u001b[0m\u001b[1;32m   2790\u001b[0m \u001b[0;34m\u001b[0m\u001b[0m\n\u001b[1;32m   2791\u001b[0m \u001b[0;34m\u001b[0m\u001b[0m\n",
      "\u001b[0;32m~/anaconda3/envs/pya/lib/python3.7/site-packages/matplotlib/axes/_axes.py\u001b[0m in \u001b[0;36mplot\u001b[0;34m(self, scalex, scaley, data, *args, **kwargs)\u001b[0m\n\u001b[1;32m   1664\u001b[0m         \"\"\"\n\u001b[1;32m   1665\u001b[0m         \u001b[0mkwargs\u001b[0m \u001b[0;34m=\u001b[0m \u001b[0mcbook\u001b[0m\u001b[0;34m.\u001b[0m\u001b[0mnormalize_kwargs\u001b[0m\u001b[0;34m(\u001b[0m\u001b[0mkwargs\u001b[0m\u001b[0;34m,\u001b[0m \u001b[0mmlines\u001b[0m\u001b[0;34m.\u001b[0m\u001b[0mLine2D\u001b[0m\u001b[0;34m.\u001b[0m\u001b[0m_alias_map\u001b[0m\u001b[0;34m)\u001b[0m\u001b[0;34m\u001b[0m\u001b[0;34m\u001b[0m\u001b[0m\n\u001b[0;32m-> 1666\u001b[0;31m         \u001b[0mlines\u001b[0m \u001b[0;34m=\u001b[0m \u001b[0;34m[\u001b[0m\u001b[0;34m*\u001b[0m\u001b[0mself\u001b[0m\u001b[0;34m.\u001b[0m\u001b[0m_get_lines\u001b[0m\u001b[0;34m(\u001b[0m\u001b[0;34m*\u001b[0m\u001b[0margs\u001b[0m\u001b[0;34m,\u001b[0m \u001b[0mdata\u001b[0m\u001b[0;34m=\u001b[0m\u001b[0mdata\u001b[0m\u001b[0;34m,\u001b[0m \u001b[0;34m**\u001b[0m\u001b[0mkwargs\u001b[0m\u001b[0;34m)\u001b[0m\u001b[0;34m]\u001b[0m\u001b[0;34m\u001b[0m\u001b[0;34m\u001b[0m\u001b[0m\n\u001b[0m\u001b[1;32m   1667\u001b[0m         \u001b[0;32mfor\u001b[0m \u001b[0mline\u001b[0m \u001b[0;32min\u001b[0m \u001b[0mlines\u001b[0m\u001b[0;34m:\u001b[0m\u001b[0;34m\u001b[0m\u001b[0;34m\u001b[0m\u001b[0m\n\u001b[1;32m   1668\u001b[0m             \u001b[0mself\u001b[0m\u001b[0;34m.\u001b[0m\u001b[0madd_line\u001b[0m\u001b[0;34m(\u001b[0m\u001b[0mline\u001b[0m\u001b[0;34m)\u001b[0m\u001b[0;34m\u001b[0m\u001b[0;34m\u001b[0m\u001b[0m\n",
      "\u001b[0;32m~/anaconda3/envs/pya/lib/python3.7/site-packages/matplotlib/axes/_base.py\u001b[0m in \u001b[0;36m__call__\u001b[0;34m(self, *args, **kwargs)\u001b[0m\n\u001b[1;32m    223\u001b[0m                 \u001b[0mthis\u001b[0m \u001b[0;34m+=\u001b[0m \u001b[0margs\u001b[0m\u001b[0;34m[\u001b[0m\u001b[0;36m0\u001b[0m\u001b[0;34m]\u001b[0m\u001b[0;34m,\u001b[0m\u001b[0;34m\u001b[0m\u001b[0;34m\u001b[0m\u001b[0m\n\u001b[1;32m    224\u001b[0m                 \u001b[0margs\u001b[0m \u001b[0;34m=\u001b[0m \u001b[0margs\u001b[0m\u001b[0;34m[\u001b[0m\u001b[0;36m1\u001b[0m\u001b[0;34m:\u001b[0m\u001b[0;34m]\u001b[0m\u001b[0;34m\u001b[0m\u001b[0;34m\u001b[0m\u001b[0m\n\u001b[0;32m--> 225\u001b[0;31m             \u001b[0;32myield\u001b[0m \u001b[0;32mfrom\u001b[0m \u001b[0mself\u001b[0m\u001b[0;34m.\u001b[0m\u001b[0m_plot_args\u001b[0m\u001b[0;34m(\u001b[0m\u001b[0mthis\u001b[0m\u001b[0;34m,\u001b[0m \u001b[0mkwargs\u001b[0m\u001b[0;34m)\u001b[0m\u001b[0;34m\u001b[0m\u001b[0;34m\u001b[0m\u001b[0m\n\u001b[0m\u001b[1;32m    226\u001b[0m \u001b[0;34m\u001b[0m\u001b[0m\n\u001b[1;32m    227\u001b[0m     \u001b[0;32mdef\u001b[0m \u001b[0mget_next_color\u001b[0m\u001b[0;34m(\u001b[0m\u001b[0mself\u001b[0m\u001b[0;34m)\u001b[0m\u001b[0;34m:\u001b[0m\u001b[0;34m\u001b[0m\u001b[0;34m\u001b[0m\u001b[0m\n",
      "\u001b[0;32m~/anaconda3/envs/pya/lib/python3.7/site-packages/matplotlib/axes/_base.py\u001b[0m in \u001b[0;36m_plot_args\u001b[0;34m(self, tup, kwargs)\u001b[0m\n\u001b[1;32m    375\u001b[0m         \u001b[0;31m# downstream.\u001b[0m\u001b[0;34m\u001b[0m\u001b[0;34m\u001b[0m\u001b[0;34m\u001b[0m\u001b[0m\n\u001b[1;32m    376\u001b[0m         \u001b[0;32mif\u001b[0m \u001b[0many\u001b[0m\u001b[0;34m(\u001b[0m\u001b[0mv\u001b[0m \u001b[0;32mis\u001b[0m \u001b[0;32mNone\u001b[0m \u001b[0;32mfor\u001b[0m \u001b[0mv\u001b[0m \u001b[0;32min\u001b[0m \u001b[0mtup\u001b[0m\u001b[0;34m)\u001b[0m\u001b[0;34m:\u001b[0m\u001b[0;34m\u001b[0m\u001b[0;34m\u001b[0m\u001b[0m\n\u001b[0;32m--> 377\u001b[0;31m             \u001b[0;32mraise\u001b[0m \u001b[0mValueError\u001b[0m\u001b[0;34m(\u001b[0m\u001b[0;34m\"x, y, and format string must not be None\"\u001b[0m\u001b[0;34m)\u001b[0m\u001b[0;34m\u001b[0m\u001b[0;34m\u001b[0m\u001b[0m\n\u001b[0m\u001b[1;32m    378\u001b[0m \u001b[0;34m\u001b[0m\u001b[0m\n\u001b[1;32m    379\u001b[0m         \u001b[0mkw\u001b[0m \u001b[0;34m=\u001b[0m \u001b[0;34m{\u001b[0m\u001b[0;34m}\u001b[0m\u001b[0;34m\u001b[0m\u001b[0;34m\u001b[0m\u001b[0m\n",
      "\u001b[0;31mValueError\u001b[0m: x, y, and format string must not be None"
     ]
    },
    {
     "data": {
      "image/png": "[encoded data removed]",
      "text/plain": [
       "<Figure size 432x288 with 1 Axes>"
      ]
     },
     "metadata": {
      "needs_background": "light"
     },
     "output_type": "display_data"
    }
   ],
   "source": [
    "keys = list(EBAS.keys())\n",
    "for key in keys:\n",
    "    plt.plot(EBAS[key])"
   ]
  },
  {
   "cell_type": "code",
   "execution_count": 283,
   "metadata": {},
   "outputs": [
    {
     "ename": "ValueError",
     "evalue": "x, y, and format string must not be None",
     "output_type": "error",
     "traceback": [
      "\u001b[0;31m---------------------------------------------------------------------------\u001b[0m",
      "\u001b[0;31mValueError\u001b[0m                                Traceback (most recent call last)",
      "\u001b[0;32m<ipython-input-283-38701f16ee7a>\u001b[0m in \u001b[0;36m<module>\u001b[0;34m\u001b[0m\n\u001b[0;32m----> 1\u001b[0;31m \u001b[0mplt\u001b[0m\u001b[0;34m.\u001b[0m\u001b[0mplot\u001b[0m\u001b[0;34m(\u001b[0m\u001b[0mEBAS\u001b[0m\u001b[0;34m[\u001b[0m\u001b[0mkey\u001b[0m\u001b[0;34m]\u001b[0m\u001b[0;34m)\u001b[0m\u001b[0;34m\u001b[0m\u001b[0;34m\u001b[0m\u001b[0m\n\u001b[0m",
      "\u001b[0;32m~/anaconda3/envs/pya/lib/python3.7/site-packages/matplotlib/pyplot.py\u001b[0m in \u001b[0;36mplot\u001b[0;34m(scalex, scaley, data, *args, **kwargs)\u001b[0m\n\u001b[1;32m   2787\u001b[0m     return gca().plot(\n\u001b[1;32m   2788\u001b[0m         *args, scalex=scalex, scaley=scaley, **({\"data\": data} if data\n\u001b[0;32m-> 2789\u001b[0;31m         is not None else {}), **kwargs)\n\u001b[0m\u001b[1;32m   2790\u001b[0m \u001b[0;34m\u001b[0m\u001b[0m\n\u001b[1;32m   2791\u001b[0m \u001b[0;34m\u001b[0m\u001b[0m\n",
      "\u001b[0;32m~/anaconda3/envs/pya/lib/python3.7/site-packages/matplotlib/axes/_axes.py\u001b[0m in \u001b[0;36mplot\u001b[0;34m(self, scalex, scaley, data, *args, **kwargs)\u001b[0m\n\u001b[1;32m   1664\u001b[0m         \"\"\"\n\u001b[1;32m   1665\u001b[0m         \u001b[0mkwargs\u001b[0m \u001b[0;34m=\u001b[0m \u001b[0mcbook\u001b[0m\u001b[0;34m.\u001b[0m\u001b[0mnormalize_kwargs\u001b[0m\u001b[0;34m(\u001b[0m\u001b[0mkwargs\u001b[0m\u001b[0;34m,\u001b[0m \u001b[0mmlines\u001b[0m\u001b[0;34m.\u001b[0m\u001b[0mLine2D\u001b[0m\u001b[0;34m.\u001b[0m\u001b[0m_alias_map\u001b[0m\u001b[0;34m)\u001b[0m\u001b[0;34m\u001b[0m\u001b[0;34m\u001b[0m\u001b[0m\n\u001b[0;32m-> 1666\u001b[0;31m         \u001b[0mlines\u001b[0m \u001b[0;34m=\u001b[0m \u001b[0;34m[\u001b[0m\u001b[0;34m*\u001b[0m\u001b[0mself\u001b[0m\u001b[0;34m.\u001b[0m\u001b[0m_get_lines\u001b[0m\u001b[0;34m(\u001b[0m\u001b[0;34m*\u001b[0m\u001b[0margs\u001b[0m\u001b[0;34m,\u001b[0m \u001b[0mdata\u001b[0m\u001b[0;34m=\u001b[0m\u001b[0mdata\u001b[0m\u001b[0;34m,\u001b[0m \u001b[0;34m**\u001b[0m\u001b[0mkwargs\u001b[0m\u001b[0;34m)\u001b[0m\u001b[0;34m]\u001b[0m\u001b[0;34m\u001b[0m\u001b[0;34m\u001b[0m\u001b[0m\n\u001b[0m\u001b[1;32m   1667\u001b[0m         \u001b[0;32mfor\u001b[0m \u001b[0mline\u001b[0m \u001b[0;32min\u001b[0m \u001b[0mlines\u001b[0m\u001b[0;34m:\u001b[0m\u001b[0;34m\u001b[0m\u001b[0;34m\u001b[0m\u001b[0m\n\u001b[1;32m   1668\u001b[0m             \u001b[0mself\u001b[0m\u001b[0;34m.\u001b[0m\u001b[0madd_line\u001b[0m\u001b[0;34m(\u001b[0m\u001b[0mline\u001b[0m\u001b[0;34m)\u001b[0m\u001b[0;34m\u001b[0m\u001b[0;34m\u001b[0m\u001b[0m\n",
      "\u001b[0;32m~/anaconda3/envs/pya/lib/python3.7/site-packages/matplotlib/axes/_base.py\u001b[0m in \u001b[0;36m__call__\u001b[0;34m(self, *args, **kwargs)\u001b[0m\n\u001b[1;32m    223\u001b[0m                 \u001b[0mthis\u001b[0m \u001b[0;34m+=\u001b[0m \u001b[0margs\u001b[0m\u001b[0;34m[\u001b[0m\u001b[0;36m0\u001b[0m\u001b[0;34m]\u001b[0m\u001b[0;34m,\u001b[0m\u001b[0;34m\u001b[0m\u001b[0;34m\u001b[0m\u001b[0m\n\u001b[1;32m    224\u001b[0m                 \u001b[0margs\u001b[0m \u001b[0;34m=\u001b[0m \u001b[0margs\u001b[0m\u001b[0;34m[\u001b[0m\u001b[0;36m1\u001b[0m\u001b[0;34m:\u001b[0m\u001b[0;34m]\u001b[0m\u001b[0;34m\u001b[0m\u001b[0;34m\u001b[0m\u001b[0m\n\u001b[0;32m--> 225\u001b[0;31m             \u001b[0;32myield\u001b[0m \u001b[0;32mfrom\u001b[0m \u001b[0mself\u001b[0m\u001b[0;34m.\u001b[0m\u001b[0m_plot_args\u001b[0m\u001b[0;34m(\u001b[0m\u001b[0mthis\u001b[0m\u001b[0;34m,\u001b[0m \u001b[0mkwargs\u001b[0m\u001b[0;34m)\u001b[0m\u001b[0;34m\u001b[0m\u001b[0;34m\u001b[0m\u001b[0m\n\u001b[0m\u001b[1;32m    226\u001b[0m \u001b[0;34m\u001b[0m\u001b[0m\n\u001b[1;32m    227\u001b[0m     \u001b[0;32mdef\u001b[0m \u001b[0mget_next_color\u001b[0m\u001b[0;34m(\u001b[0m\u001b[0mself\u001b[0m\u001b[0;34m)\u001b[0m\u001b[0;34m:\u001b[0m\u001b[0;34m\u001b[0m\u001b[0;34m\u001b[0m\u001b[0m\n",
      "\u001b[0;32m~/anaconda3/envs/pya/lib/python3.7/site-packages/matplotlib/axes/_base.py\u001b[0m in \u001b[0;36m_plot_args\u001b[0;34m(self, tup, kwargs)\u001b[0m\n\u001b[1;32m    375\u001b[0m         \u001b[0;31m# downstream.\u001b[0m\u001b[0;34m\u001b[0m\u001b[0;34m\u001b[0m\u001b[0;34m\u001b[0m\u001b[0m\n\u001b[1;32m    376\u001b[0m         \u001b[0;32mif\u001b[0m \u001b[0many\u001b[0m\u001b[0;34m(\u001b[0m\u001b[0mv\u001b[0m \u001b[0;32mis\u001b[0m \u001b[0;32mNone\u001b[0m \u001b[0;32mfor\u001b[0m \u001b[0mv\u001b[0m \u001b[0;32min\u001b[0m \u001b[0mtup\u001b[0m\u001b[0;34m)\u001b[0m\u001b[0;34m:\u001b[0m\u001b[0;34m\u001b[0m\u001b[0;34m\u001b[0m\u001b[0m\n\u001b[0;32m--> 377\u001b[0;31m             \u001b[0;32mraise\u001b[0m \u001b[0mValueError\u001b[0m\u001b[0;34m(\u001b[0m\u001b[0;34m\"x, y, and format string must not be None\"\u001b[0m\u001b[0;34m)\u001b[0m\u001b[0;34m\u001b[0m\u001b[0;34m\u001b[0m\u001b[0m\n\u001b[0m\u001b[1;32m    378\u001b[0m \u001b[0;34m\u001b[0m\u001b[0m\n\u001b[1;32m    379\u001b[0m         \u001b[0mkw\u001b[0m \u001b[0;34m=\u001b[0m \u001b[0;34m{\u001b[0m\u001b[0;34m}\u001b[0m\u001b[0;34m\u001b[0m\u001b[0;34m\u001b[0m\u001b[0m\n",
      "\u001b[0;31mValueError\u001b[0m: x, y, and format string must not be None"
     ]
    },
    {
     "data": {
      "image/png": "[encoded data removed]",
      "text/plain": [
       "<Figure size 432x288 with 1 Axes>"
      ]
     },
     "metadata": {
      "needs_background": "light"
     },
     "output_type": "display_data"
    }
   ],
   "source": [
    "plt.plot(EBAS[key])"
   ]
  },
  {
   "cell_type": "code",
   "execution_count": 227,
   "metadata": {},
   "outputs": [
    {
     "data": {
      "text/plain": [
       "datetime\n",
       "1988-03-12 10:17:30.001200     4.945\n",
       "1988-03-12 13:17:30.001200    11.705\n",
       "1988-03-12 17:17:30.001200     5.821\n",
       "1988-03-12 20:17:30.001200     7.962\n",
       "1988-03-13 00:17:30.001200     3.110\n",
       "1988-03-13 03:17:30.001200     7.205\n",
       "1988-03-13 07:17:30.001200     5.231\n",
       "1988-03-13 14:17:30.001200    17.922\n",
       "1988-03-13 17:17:30.001200    14.245\n",
       "1988-03-13 21:17:30.001200     4.064\n",
       "1988-03-14 00:17:30.001200     9.959\n",
       "1988-03-14 07:17:30.001200     6.761\n",
       "1988-03-14 11:17:30.001200     5.415\n",
       "1988-03-14 18:17:30.001200     4.941\n",
       "1988-03-14 21:17:30.001200     9.617\n",
       "1988-03-15 01:17:30.001200     5.654\n",
       "1988-03-15 04:17:30.001200     6.423\n",
       "1988-03-15 11:17:30.001200    18.500\n",
       "1988-03-15 15:17:30.001200     5.966\n",
       "1988-03-15 18:17:30.001200    12.527\n",
       "1988-03-15 22:17:30.001200    30.650\n",
       "1988-03-16 01:17:30.001200    20.903\n",
       "1988-03-16 05:17:30.001200    16.729\n",
       "1988-03-16 12:17:30.001200    23.992\n",
       "1988-03-16 15:17:30.001200    29.478\n",
       "1988-03-16 19:17:30.001200    32.247\n",
       "1988-03-16 22:17:30.001200    49.077\n",
       "1988-03-17 02:17:30.001200    21.884\n",
       "1988-03-17 05:17:30.001200    18.542\n",
       "1988-03-17 09:17:30.001200    33.597\n",
       "1988-03-17 12:17:30.001200    22.238\n",
       "1988-03-20 07:17:30.001200    13.559\n",
       "1988-03-20 10:17:30.001200    15.343\n",
       "1988-03-20 14:17:30.001200     5.109\n",
       "1988-03-20 17:17:30.001200     8.740\n",
       "1988-03-20 21:17:30.001200    10.613\n",
       "1988-03-21 14:17:30.001200     7.208\n",
       "1988-03-21 18:17:30.001200    19.213\n",
       "1988-03-21 21:17:30.001200     7.519\n",
       "1988-03-22 01:17:30.001200    10.789\n",
       "1988-03-22 04:17:30.001200     3.650\n",
       "1988-03-22 11:17:30.001200     7.121\n",
       "1988-03-22 18:17:30.001200     4.106\n",
       "1988-03-23 01:17:30.001200     3.708\n",
       "1988-03-23 05:17:30.001200     3.221\n",
       "1988-03-23 08:17:30.001200     3.221\n",
       "1988-03-23 12:17:30.001200     2.386\n",
       "1988-03-23 15:17:30.001200     1.402\n",
       "1988-03-23 19:17:30.001200     2.576\n",
       "1988-03-24 09:17:30.001200     3.815\n",
       "1988-03-24 12:17:30.001200     2.815\n",
       "Name: concpm10, dtype: float64"
      ]
     },
     "execution_count": 227,
     "metadata": {},
     "output_type": "execute_result"
    }
   ],
   "source": [
    "ebas[var]"
   ]
  },
  {
   "cell_type": "code",
   "execution_count": 155,
   "metadata": {},
   "outputs": [],
   "source": [
    "#statname\n",
    "station_name = ebas[35].split(':',1)[1].split('\\\\n')[0].strip()\n",
    "#date\n",
    "strdate0 = ebas[23].split(':',1)[1].split('\\\\n')[0].strip()\n",
    "yyyy, mm, dd, hh, mn, ss = int(strdate0[0:4]), int(strdate0[4:6]), int(strdate0[6:8]), int(strdate0[8:10]), int(strdate0[10:12]), int(strdate0[12:14])\n",
    "date0 = datetime.datetime(yyyy,mm,dd,hh,mn,ss)\n",
    "#data\n",
    "data = [d[1:-3].strip().replace(\"''\",\"\").split(' ') for d in ebas[51:]]\n",
    "datok = []\n",
    "for dat in data:\n",
    "    datok.append([float(d) for d in dat if d!=''])\n",
    "    \n",
    "#prepare db\n",
    "thead = ['datetime','concpm10','concpm25']\n",
    "tbody = []\n",
    "for dat in datok:\n",
    "    dt = date0+datetime.timedelta(hours = dat[0])\n",
    "    flag = dat[-1]\n",
    "    if flag==0:\n",
    "        tbody.append([dt,dat[2],dat[3]])\n",
    "\n",
    "db = pd.DataFrame(tbody, columns=thead)\n",
    "\n",
    "EBAS[station_name] = db"
   ]
  },
  {
   "cell_type": "code",
   "execution_count": 156,
   "metadata": {},
   "outputs": [
    {
     "data": {
      "text/html": [
       "<div>\n",
       "<style scoped>\n",
       "    .dataframe tbody tr th:only-of-type {\n",
       "        vertical-align: middle;\n",
       "    }\n",
       "\n",
       "    .dataframe tbody tr th {\n",
       "        vertical-align: top;\n",
       "    }\n",
       "\n",
       "    .dataframe thead th {\n",
       "        text-align: right;\n",
       "    }\n",
       "</style>\n",
       "<table border=\"1\" class=\"dataframe\">\n",
       "  <thead>\n",
       "    <tr style=\"text-align: right;\">\n",
       "      <th></th>\n",
       "      <th>datetime</th>\n",
       "      <th>concpm10</th>\n",
       "      <th>concpm25</th>\n",
       "    </tr>\n",
       "  </thead>\n",
       "  <tbody>\n",
       "    <tr>\n",
       "      <th>0</th>\n",
       "      <td>1996-01-03 23:17:30.001200</td>\n",
       "      <td>1.263</td>\n",
       "      <td>0.598</td>\n",
       "    </tr>\n",
       "    <tr>\n",
       "      <th>1</th>\n",
       "      <td>1996-01-04 06:17:30.001200</td>\n",
       "      <td>2.433</td>\n",
       "      <td>1.229</td>\n",
       "    </tr>\n",
       "    <tr>\n",
       "      <th>2</th>\n",
       "      <td>1996-01-04 09:17:30.001200</td>\n",
       "      <td>2.746</td>\n",
       "      <td>0.987</td>\n",
       "    </tr>\n",
       "    <tr>\n",
       "      <th>3</th>\n",
       "      <td>1996-01-04 13:17:30.001200</td>\n",
       "      <td>1.068</td>\n",
       "      <td>1.042</td>\n",
       "    </tr>\n",
       "    <tr>\n",
       "      <th>4</th>\n",
       "      <td>1996-01-04 16:17:30.001200</td>\n",
       "      <td>1.547</td>\n",
       "      <td>0.473</td>\n",
       "    </tr>\n",
       "    <tr>\n",
       "      <th>...</th>\n",
       "      <td>...</td>\n",
       "      <td>...</td>\n",
       "      <td>...</td>\n",
       "    </tr>\n",
       "    <tr>\n",
       "      <th>83</th>\n",
       "      <td>1996-01-17 19:17:30.001200</td>\n",
       "      <td>3.819</td>\n",
       "      <td>1.250</td>\n",
       "    </tr>\n",
       "    <tr>\n",
       "      <th>84</th>\n",
       "      <td>1996-01-17 23:17:30.001200</td>\n",
       "      <td>2.415</td>\n",
       "      <td>1.061</td>\n",
       "    </tr>\n",
       "    <tr>\n",
       "      <th>85</th>\n",
       "      <td>1996-01-18 02:17:30.001200</td>\n",
       "      <td>6.653</td>\n",
       "      <td>1.375</td>\n",
       "    </tr>\n",
       "    <tr>\n",
       "      <th>86</th>\n",
       "      <td>1996-01-18 06:17:30.001200</td>\n",
       "      <td>2.910</td>\n",
       "      <td>1.218</td>\n",
       "    </tr>\n",
       "    <tr>\n",
       "      <th>87</th>\n",
       "      <td>1996-01-18 09:17:30.001200</td>\n",
       "      <td>2.542</td>\n",
       "      <td>1.550</td>\n",
       "    </tr>\n",
       "  </tbody>\n",
       "</table>\n",
       "<p>88 rows × 3 columns</p>\n",
       "</div>"
      ],
      "text/plain": [
       "                     datetime  concpm10  concpm25\n",
       "0  1996-01-03 23:17:30.001200     1.263     0.598\n",
       "1  1996-01-04 06:17:30.001200     2.433     1.229\n",
       "2  1996-01-04 09:17:30.001200     2.746     0.987\n",
       "3  1996-01-04 13:17:30.001200     1.068     1.042\n",
       "4  1996-01-04 16:17:30.001200     1.547     0.473\n",
       "..                        ...       ...       ...\n",
       "83 1996-01-17 19:17:30.001200     3.819     1.250\n",
       "84 1996-01-17 23:17:30.001200     2.415     1.061\n",
       "85 1996-01-18 02:17:30.001200     6.653     1.375\n",
       "86 1996-01-18 06:17:30.001200     2.910     1.218\n",
       "87 1996-01-18 09:17:30.001200     2.542     1.550\n",
       "\n",
       "[88 rows x 3 columns]"
      ]
     },
     "execution_count": 156,
     "metadata": {},
     "output_type": "execute_result"
    }
   ],
   "source": [
    "DICT['Weminuche Wilderness']"
   ]
  },
  {
   "cell_type": "code",
   "execution_count": 157,
   "metadata": {},
   "outputs": [
    {
     "name": "stdout",
     "output_type": "stream",
     "text": [
      "1996 1 3 7 0 0\n"
     ]
    }
   ],
   "source": [
    "print(yyyy,mm,dd,hh,mn,ss)"
   ]
  },
  {
   "cell_type": "code",
   "execution_count": 144,
   "metadata": {},
   "outputs": [
    {
     "data": {
      "text/plain": [
       "datetime.datetime(2019, 12, 16, 1, 15)"
      ]
     },
     "execution_count": 144,
     "metadata": {},
     "output_type": "execute_result"
    }
   ],
   "source": []
  },
  {
   "cell_type": "code",
   "execution_count": null,
   "metadata": {},
   "outputs": [],
   "source": []
  }
 ],
 "metadata": {
  "kernelspec": {
   "display_name": "Python 3",
   "language": "python",
   "name": "python3"
  },
  "language_info": {
   "codemirror_mode": {
    "name": "ipython",
    "version": 3
   },
   "file_extension": ".py",
   "mimetype": "text/x-python",
   "name": "python",
   "nbconvert_exporter": "python",
   "pygments_lexer": "ipython3",
   "version": "3.7.3"
  }
 },
 "nbformat": 4,
 "nbformat_minor": 4
}
