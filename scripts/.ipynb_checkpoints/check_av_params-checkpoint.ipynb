{
 "cells": [
  {
   "cell_type": "markdown",
   "metadata": {},
   "source": [
    "# Check if model can provide parameters"
   ]
  },
  {
   "cell_type": "code",
   "execution_count": 1,
   "metadata": {},
   "outputs": [],
   "source": [
    "from trends_functions import *\n",
    "import pyaerocom as pya\n",
    "from warnings import filterwarnings\n",
    "filterwarnings('ignore')\n",
    "pya.change_verbosity('critical', pya.const.logger)\n",
    "pya.change_verbosity('critical', pya.const.print_log)"
   ]
  },
  {
   "cell_type": "code",
   "execution_count": 2,
   "metadata": {},
   "outputs": [
    {
     "data": {
      "text/plain": [
       "{'ECMWF_CAMS_REAN': {'name': 'ECMWF-Rean', 'group': 'CAMS-Rean'},\n",
       " 'NorESM2-CPL-NEWTEST_HIST': {'name': 'NorESM2', 'group': 'AP3'},\n",
       " 'MIROC-SPRINTARS_AP3-HIST': {'name': 'SPRINTARS', 'group': 'AP3'},\n",
       " 'ECHAM6.3-HAM2.3-fSST_HIST': {'name': 'ECHAM-HAM', 'group': 'AP3'},\n",
       " 'GEOS-i33p2_HIST': {'name': 'GEOS', 'group': 'AP3'},\n",
       " 'OsloCTM3v1.01-met2010_AP3-HIST': {'name': 'OsloCTM3', 'group': 'AP3'},\n",
       " 'GFDL-AM4-amip_HIST': {'name': 'GFDL-AM4', 'group': 'AP3'},\n",
       " 'BCC-CUACE_AP3-HIST': {'name': 'BCC-CUACE', 'group': 'AP3'},\n",
       " 'CanESM5_historical': {'name': 'CanESM5', 'group': 'CMIP6'},\n",
       " 'CESM2_historical': {'name': 'CESM2', 'group': 'CMIP6'},\n",
       " 'IPSL-CM6A-LR_historical': {'name': 'IPSL-CM6A', 'group': 'CMIP6'}}"
      ]
     },
     "execution_count": 2,
     "metadata": {},
     "output_type": "execute_result"
    }
   ],
   "source": [
    "all_mods = get_all_mods()\n",
    "all_mods"
   ]
  },
  {
   "cell_type": "markdown",
   "metadata": {},
   "source": [
    "### For one model, check list of available parameters"
   ]
  },
  {
   "cell_type": "code",
   "execution_count": 3,
   "metadata": {},
   "outputs": [],
   "source": [
    "mod = 'BCC-CUACE_AP3-HIST'"
   ]
  },
  {
   "cell_type": "code",
   "execution_count": 4,
   "metadata": {},
   "outputs": [],
   "source": [
    "varss = ['ang4487aer', 'od550aer', 'od550gt1aer', 'od550lt1aer', 'concpm10', 'concpm25', 'concso4', 'scatc550dryaer', 'absc550aer']\n",
    "#params = ['od550aer', 'od550dust', 'od550ss', 'od550oa', 'od550so4', 'od550bc', 'emidust', 'emiss', 'emioa', 'emiso4', 'emibc']\n",
    "#params = ['concso4']"
   ]
  },
  {
   "cell_type": "code",
   "execution_count": 5,
   "metadata": {},
   "outputs": [
    {
     "name": "stdout",
     "output_type": "stream",
     "text": [
      "ang4487aer NOPE\n",
      "od550aer NOPE\n",
      "od550gt1aer NOPE\n",
      "od550lt1aer NOPE\n",
      "concpm10 NOPE\n",
      "concpm25 NOPE\n",
      "concso4 NOPE\n",
      "scatc550dryaer NOPE\n",
      "absc550aer NOPE\n"
     ]
    }
   ],
   "source": [
    "r = pya.io.ReadGridded(mod)\n",
    "for param in varss:\n",
    "    params = get_params()\n",
    "    fill_params(params, param)\n",
    "    try:\n",
    "        if param=='scatc550dryaer':\n",
    "            data = r.read_var(param, ts_type='daily', aux_fun=pya.io.aux_read_cubes.subtract_cubes, aux_vars=['ec550dryaer', 'absc550aer'], vert_which=params['vert'])\n",
    "        else:\n",
    "            data = r.read_var(param, ts_type='daily', vert_which=params['vert'])\n",
    "        print(param,' OK')\n",
    "    except:\n",
    "        print(param, 'NOPE')"
   ]
  },
  {
   "cell_type": "code",
   "execution_count": 10,
   "metadata": {},
   "outputs": [
    {
     "data": {
      "text/plain": [
       "pyaerocom.GriddedData\n",
       "Grid data: <iris 'Cube' of ambient aerosol optical thickness at 550 nm / (1) (time: 252; latitude: 64; longitude: 128)>"
      ]
     },
     "execution_count": 10,
     "metadata": {},
     "output_type": "execute_result"
    }
   ],
   "source": [
    "r.read_var('od550aer', ts_type='monthly', vert_which='Column')"
   ]
  },
  {
   "cell_type": "markdown",
   "metadata": {},
   "source": [
    "### For parameters, print list of available models"
   ]
  },
  {
   "cell_type": "code",
   "execution_count": 18,
   "metadata": {},
   "outputs": [
    {
     "name": "stdout",
     "output_type": "stream",
     "text": [
      "* * * ang4487aer * *\n",
      "ang4487aer ['ECMWF_CAMS_REAN', 'GEOS-i33p2_HIST', 'OsloCTM3v1.01-met2010_AP3-HIST', 'NorESM2-CPL-NEWTEST_HIST', 'CAM5-ATRAS_AP3-HIST', 'GFDL-AM4-amip_HIST', 'ECHAM6.3-HAM2.3-fSST_HIST']\n",
      "* * * od550aer * *\n",
      "od550aer ['ECMWF_CAMS_REAN', 'GEOS-i33p2_HIST', 'OsloCTM3v1.01-met2010_AP3-HIST', 'NorESM2-CPL-NEWTEST_HIST', 'CAM5-ATRAS_AP3-HIST', 'GFDL-AM4-amip_HIST', 'ECHAM6.3-HAM2.3-fSST_HIST', 'BCC-CUACE_AP3-HIST', 'CanESM5_historical', 'CESM2_historical', 'IPSL-CM6A-LR_historical']\n",
      "* * * od550gt1aer * *\n",
      "od550gt1aer ['OsloCTM3v1.01-met2010_AP3-HIST', 'NorESM2-CPL-NEWTEST_HIST', 'CAM5-ATRAS_AP3-HIST', 'GFDL-AM4-amip_HIST', 'ECHAM6.3-HAM2.3-fSST_HIST']\n",
      "* * * od550lt1aer * *\n",
      "od550lt1aer ['GEOS-i33p2_HIST', 'OsloCTM3v1.01-met2010_AP3-HIST', 'NorESM2-CPL-NEWTEST_HIST', 'CAM5-ATRAS_AP3-HIST', 'GFDL-AM4-amip_HIST', 'ECHAM6.3-HAM2.3-fSST_HIST']\n",
      "* * * concpm10 * *\n",
      "concpm10 ['ECMWF_CAMS_REAN', 'GEOS-i33p2_HIST', 'NorESM2-CPL-NEWTEST_HIST', 'ECHAM6.3-HAM2.3-fSST_HIST']\n",
      "* * * concpm25 * *\n",
      "concpm25 ['ECMWF_CAMS_REAN', 'NorESM2-CPL-NEWTEST_HIST']\n",
      "* * * concso4 * *\n",
      "concso4 ['ECMWF_CAMS_REAN', 'GEOS-i33p2_HIST', 'OsloCTM3v1.01-met2010_AP3-HIST', 'NorESM2-CPL-NEWTEST_HIST', 'ECHAM6.3-HAM2.3-fSST_HIST', 'BCC-CUACE_AP3-HIST']\n",
      "* * * scatc550dryaer * *\n",
      "scatc550dryaer []\n",
      "* * * absc550aer * *\n",
      "absc550aer ['NorESM2-CPL-NEWTEST_HIST']\n"
     ]
    }
   ],
   "source": [
    "POINTS = {}\n",
    "params = ['ang4487aer', 'od550aer', 'od550gt1aer', 'od550lt1aer', 'concpm10', 'concpm25', 'concso4', 'scatc550dryaer', 'absc550aer']\n",
    "for param in params:\n",
    "    POINTS[param] = []\n",
    "    print('* * * '+param+' * *')\n",
    "    av_mods = []\n",
    "    for mod in list(all_mods.keys()):\n",
    "        r = pya.io.ReadGridded(mod)\n",
    "        try:\n",
    "            if param=='scatc550dryaer':\n",
    "                data = reader.read_var(param, ts_type='daily', aux_fun=pya.io.aux_read_cubes.subtract_cubes, aux_vars=['ec550dryaer', 'absc550aer'])\n",
    "            else:\n",
    "                data = r.read_var(param, ts_type='daily')\n",
    "            av_mods.append(mod)\n",
    "            POINTS[param].append(mod)\n",
    "        except:\n",
    "            continue\n",
    "    print(param, av_mods)"
   ]
  },
  {
   "cell_type": "code",
   "execution_count": 19,
   "metadata": {},
   "outputs": [],
   "source": [
    "MODPOINTS = {}\n",
    "for model in list(all_mods.keys()):\n",
    "    MODPOINTS[model] = 0\n",
    "    for param in params:\n",
    "        if model in POINTS[param]:\n",
    "            MODPOINTS[model] += 1 "
   ]
  },
  {
   "cell_type": "code",
   "execution_count": 22,
   "metadata": {},
   "outputs": [
    {
     "name": "stdout",
     "output_type": "stream",
     "text": [
      "ECMWF_CAMS_REAN 5\n",
      "GEOS-i33p2_HIST 5\n",
      "OsloCTM3v1.01-met2010_AP3-HIST 5\n",
      "NorESM2-CPL-NEWTEST_HIST 8\n",
      "CAM5-ATRAS_AP3-HIST 4\n",
      "GFDL-AM4-amip_HIST 4\n",
      "ECHAM6.3-HAM2.3-fSST_HIST 6\n",
      "BCC-CUACE_AP3-HIST 2\n",
      "CanESM5_historical 1\n",
      "CESM2_historical 1\n",
      "IPSL-CM6A-LR_historical 1\n"
     ]
    }
   ],
   "source": [
    "for model in list(all_mods.keys()):\n",
    "    print(model, MODPOINTS[model])"
   ]
  },
  {
   "cell_type": "code",
   "execution_count": 26,
   "metadata": {},
   "outputs": [
    {
     "name": "stdout",
     "output_type": "stream",
     "text": [
      "od550aer: [-1.0:10.0]\n",
      "od550lt1aer: [-1.0:9e+30]\n",
      "od550gt1aer: [-1.0:9e+30]\n",
      "absc550aer: [-1.0:100.0]\n",
      "ang4487aer: [-0.5:4.0]\n",
      "concpm10: [-9e+30:9e+30]\n",
      "concpm25: [-9e+30:9e+30]\n"
     ]
    },
    {
     "ename": "KeyError",
     "evalue": "'sconcdust'",
     "output_type": "error",
     "traceback": [
      "\u001b[0;31m---------------------------------------------------------------------------\u001b[0m",
      "\u001b[0;31mKeyError\u001b[0m                                  Traceback (most recent call last)",
      "\u001b[0;32m<ipython-input-26-a5f6113bbf08>\u001b[0m in \u001b[0;36m<module>\u001b[0;34m\u001b[0m\n\u001b[1;32m      1\u001b[0m \u001b[0mvar_access\u001b[0m \u001b[0;34m=\u001b[0m \u001b[0mpya\u001b[0m\u001b[0;34m.\u001b[0m\u001b[0mconst\u001b[0m\u001b[0;34m.\u001b[0m\u001b[0mVARS\u001b[0m\u001b[0;34m\u001b[0m\u001b[0;34m\u001b[0m\u001b[0m\n\u001b[1;32m      2\u001b[0m \u001b[0mparams\u001b[0m \u001b[0;34m=\u001b[0m \u001b[0;34m[\u001b[0m\u001b[0;34m'ang4487aer'\u001b[0m\u001b[0;34m,\u001b[0m \u001b[0;34m'od550aer'\u001b[0m\u001b[0;34m,\u001b[0m \u001b[0;34m'od550gt1aer'\u001b[0m\u001b[0;34m,\u001b[0m \u001b[0;34m'od550lt1aer'\u001b[0m\u001b[0;34m,\u001b[0m \u001b[0;34m'concpm10'\u001b[0m\u001b[0;34m,\u001b[0m \u001b[0;34m'concpm25'\u001b[0m\u001b[0;34m,\u001b[0m \u001b[0;34m'scatc550dryaer'\u001b[0m\u001b[0;34m,\u001b[0m \u001b[0;34m'absc550aer'\u001b[0m\u001b[0;34m]\u001b[0m\u001b[0;34m\u001b[0m\u001b[0;34m\u001b[0m\u001b[0m\n\u001b[0;32m----> 3\u001b[0;31m \u001b[0;32mfor\u001b[0m \u001b[0mv\u001b[0m \u001b[0;32min\u001b[0m \u001b[0mvar_access\u001b[0m\u001b[0;34m:\u001b[0m\u001b[0;34m\u001b[0m\u001b[0;34m\u001b[0m\u001b[0m\n\u001b[0m\u001b[1;32m      4\u001b[0m     \u001b[0;32mif\u001b[0m \u001b[0mv\u001b[0m\u001b[0;34m.\u001b[0m\u001b[0mvar_name\u001b[0m \u001b[0;32min\u001b[0m \u001b[0mparams\u001b[0m\u001b[0;34m:\u001b[0m\u001b[0;34m\u001b[0m\u001b[0;34m\u001b[0m\u001b[0m\n\u001b[1;32m      5\u001b[0m         \u001b[0mprint\u001b[0m\u001b[0;34m(\u001b[0m\u001b[0;34m'{}: [{}:{}]'\u001b[0m\u001b[0;34m.\u001b[0m\u001b[0mformat\u001b[0m\u001b[0;34m(\u001b[0m\u001b[0mv\u001b[0m\u001b[0;34m.\u001b[0m\u001b[0mvar_name\u001b[0m\u001b[0;34m,\u001b[0m \u001b[0mv\u001b[0m\u001b[0;34m.\u001b[0m\u001b[0mminimum\u001b[0m\u001b[0;34m,\u001b[0m \u001b[0mv\u001b[0m\u001b[0;34m.\u001b[0m\u001b[0mmaximum\u001b[0m\u001b[0;34m)\u001b[0m\u001b[0;34m)\u001b[0m\u001b[0;34m\u001b[0m\u001b[0;34m\u001b[0m\u001b[0m\n",
      "\u001b[0;32m~/Dev/pyaerocom/pyaerocom/pyaerocom/variable.py\u001b[0m in \u001b[0;36m__next__\u001b[0;34m(self)\u001b[0m\n\u001b[1;32m    709\u001b[0m             \u001b[0;32mraise\u001b[0m \u001b[0mStopIteration\u001b[0m\u001b[0;34m\u001b[0m\u001b[0;34m\u001b[0m\u001b[0m\n\u001b[1;32m    710\u001b[0m         \u001b[0mvar_name\u001b[0m \u001b[0;34m=\u001b[0m \u001b[0mself\u001b[0m\u001b[0;34m.\u001b[0m\u001b[0mall_vars\u001b[0m\u001b[0;34m[\u001b[0m\u001b[0mself\u001b[0m\u001b[0;34m.\u001b[0m\u001b[0m_idx\u001b[0m\u001b[0;34m]\u001b[0m\u001b[0;34m\u001b[0m\u001b[0;34m\u001b[0m\u001b[0m\n\u001b[0;32m--> 711\u001b[0;31m         \u001b[0;32mreturn\u001b[0m \u001b[0mself\u001b[0m\u001b[0;34m[\u001b[0m\u001b[0mvar_name\u001b[0m\u001b[0;34m]\u001b[0m\u001b[0;34m\u001b[0m\u001b[0;34m\u001b[0m\u001b[0m\n\u001b[0m\u001b[1;32m    712\u001b[0m \u001b[0;34m\u001b[0m\u001b[0m\n\u001b[1;32m    713\u001b[0m     \u001b[0;32mdef\u001b[0m \u001b[0m__contains__\u001b[0m\u001b[0;34m(\u001b[0m\u001b[0mself\u001b[0m\u001b[0;34m,\u001b[0m \u001b[0mvar_name\u001b[0m\u001b[0;34m)\u001b[0m\u001b[0;34m:\u001b[0m\u001b[0;34m\u001b[0m\u001b[0;34m\u001b[0m\u001b[0m\n",
      "\u001b[0;32m~/Dev/pyaerocom/pyaerocom/pyaerocom/variable.py\u001b[0m in \u001b[0;36m__getitem__\u001b[0;34m(self, var_name)\u001b[0m\n\u001b[1;32m    750\u001b[0m         \u001b[0;31m#make sure to be in the right namespace\u001b[0m\u001b[0;34m\u001b[0m\u001b[0;34m\u001b[0m\u001b[0;34m\u001b[0m\u001b[0m\n\u001b[1;32m    751\u001b[0m         \u001b[0;32mif\u001b[0m \u001b[0mvar_name\u001b[0m \u001b[0;32min\u001b[0m \u001b[0mself\u001b[0m\u001b[0;34m:\u001b[0m\u001b[0;34m\u001b[0m\u001b[0;34m\u001b[0m\u001b[0m\n\u001b[0;32m--> 752\u001b[0;31m             \u001b[0;32mreturn\u001b[0m \u001b[0mVariable\u001b[0m\u001b[0;34m(\u001b[0m\u001b[0mvar_name\u001b[0m\u001b[0;34m,\u001b[0m \u001b[0mcfg\u001b[0m\u001b[0;34m=\u001b[0m\u001b[0mself\u001b[0m\u001b[0;34m.\u001b[0m\u001b[0m_cfg_parser\u001b[0m\u001b[0;34m)\u001b[0m\u001b[0;34m\u001b[0m\u001b[0;34m\u001b[0m\u001b[0m\n\u001b[0m\u001b[1;32m    753\u001b[0m \u001b[0;34m\u001b[0m\u001b[0m\n\u001b[1;32m    754\u001b[0m         \u001b[0mlow\u001b[0m \u001b[0;34m=\u001b[0m \u001b[0mvar_name\u001b[0m\u001b[0;34m.\u001b[0m\u001b[0mlower\u001b[0m\u001b[0;34m(\u001b[0m\u001b[0;34m)\u001b[0m\u001b[0;34m\u001b[0m\u001b[0;34m\u001b[0m\u001b[0m\n",
      "\u001b[0;32m~/Dev/pyaerocom/pyaerocom/pyaerocom/variable.py\u001b[0m in \u001b[0;36m__init__\u001b[0;34m(self, var_name, init, cfg, **kwargs)\u001b[0m\n\u001b[1;32m    363\u001b[0m             self.parse_from_ini(var_name, \n\u001b[1;32m    364\u001b[0m                                 \u001b[0mvar_name_alt\u001b[0m\u001b[0;34m=\u001b[0m\u001b[0mself\u001b[0m\u001b[0;34m.\u001b[0m\u001b[0mvar_name_alt\u001b[0m\u001b[0;34m,\u001b[0m\u001b[0;34m\u001b[0m\u001b[0;34m\u001b[0m\u001b[0m\n\u001b[0;32m--> 365\u001b[0;31m                                 cfg=cfg) \n\u001b[0m\u001b[1;32m    366\u001b[0m \u001b[0;34m\u001b[0m\u001b[0m\n\u001b[1;32m    367\u001b[0m         \u001b[0mself\u001b[0m\u001b[0;34m.\u001b[0m\u001b[0mupdate\u001b[0m\u001b[0;34m(\u001b[0m\u001b[0;34m**\u001b[0m\u001b[0mkwargs\u001b[0m\u001b[0;34m)\u001b[0m\u001b[0;34m\u001b[0m\u001b[0;34m\u001b[0m\u001b[0m\n",
      "\u001b[0;32m~/Dev/pyaerocom/pyaerocom/pyaerocom/variable.py\u001b[0m in \u001b[0;36mparse_from_ini\u001b[0;34m(self, var_name, var_name_alt, cfg)\u001b[0m\n\u001b[1;32m    518\u001b[0m         \u001b[0;32mif\u001b[0m \u001b[0mvar_info\u001b[0m \u001b[0;32mis\u001b[0m \u001b[0;32mNone\u001b[0m\u001b[0;34m:\u001b[0m\u001b[0;34m\u001b[0m\u001b[0;34m\u001b[0m\u001b[0m\n\u001b[1;32m    519\u001b[0m             \u001b[0;32mtry\u001b[0m\u001b[0;34m:\u001b[0m\u001b[0;34m\u001b[0m\u001b[0;34m\u001b[0m\u001b[0m\n\u001b[0;32m--> 520\u001b[0;31m                 \u001b[0mvar_info\u001b[0m \u001b[0;34m=\u001b[0m \u001b[0mself\u001b[0m\u001b[0;34m.\u001b[0m\u001b[0m_get_var_info\u001b[0m\u001b[0;34m(\u001b[0m\u001b[0mvar_name\u001b[0m\u001b[0;34m,\u001b[0m \u001b[0mcfg\u001b[0m\u001b[0;34m)\u001b[0m\u001b[0;34m\u001b[0m\u001b[0;34m\u001b[0m\u001b[0m\n\u001b[0m\u001b[1;32m    521\u001b[0m             \u001b[0;32mexcept\u001b[0m \u001b[0mVariableDefinitionError\u001b[0m\u001b[0;34m:\u001b[0m\u001b[0;34m\u001b[0m\u001b[0;34m\u001b[0m\u001b[0m\n\u001b[1;32m    522\u001b[0m                 \u001b[0mvar_info\u001b[0m \u001b[0;34m=\u001b[0m \u001b[0;34m{\u001b[0m\u001b[0;34m}\u001b[0m\u001b[0;34m\u001b[0m\u001b[0;34m\u001b[0m\u001b[0m\n",
      "\u001b[0;32m~/Dev/pyaerocom/pyaerocom/pyaerocom/variable.py\u001b[0m in \u001b[0;36m_get_var_info\u001b[0;34m(self, var_name, cfg)\u001b[0m\n\u001b[1;32m    475\u001b[0m             \u001b[0;32mif\u001b[0m \u001b[0mvar_name\u001b[0m \u001b[0;32min\u001b[0m \u001b[0maliases\u001b[0m\u001b[0;34m:\u001b[0m\u001b[0;34m\u001b[0m\u001b[0;34m\u001b[0m\u001b[0m\n\u001b[1;32m    476\u001b[0m                 \u001b[0mvar_name\u001b[0m \u001b[0;34m=\u001b[0m \u001b[0maliases\u001b[0m\u001b[0;34m[\u001b[0m\u001b[0mvar_name\u001b[0m\u001b[0;34m]\u001b[0m\u001b[0;34m\u001b[0m\u001b[0;34m\u001b[0m\u001b[0m\n\u001b[0;32m--> 477\u001b[0;31m                 \u001b[0;32mreturn\u001b[0m \u001b[0mcfg\u001b[0m\u001b[0;34m[\u001b[0m\u001b[0mvar_name\u001b[0m\u001b[0;34m]\u001b[0m\u001b[0;34m\u001b[0m\u001b[0;34m\u001b[0m\u001b[0m\n\u001b[0m\u001b[1;32m    478\u001b[0m \u001b[0;34m\u001b[0m\u001b[0m\n\u001b[1;32m    479\u001b[0m             \u001b[0mvar_name\u001b[0m\u001b[0;34m=\u001b[0m\u001b[0m_check_alias_family\u001b[0m\u001b[0;34m(\u001b[0m\u001b[0mvar_name\u001b[0m\u001b[0;34m,\u001b[0m \u001b[0map\u001b[0m\u001b[0;34m)\u001b[0m\u001b[0;34m\u001b[0m\u001b[0;34m\u001b[0m\u001b[0m\n",
      "\u001b[0;32m~/anaconda3/envs/pya/lib/python3.7/configparser.py\u001b[0m in \u001b[0;36m__getitem__\u001b[0;34m(self, key)\u001b[0m\n\u001b[1;32m    956\u001b[0m     \u001b[0;32mdef\u001b[0m \u001b[0m__getitem__\u001b[0m\u001b[0;34m(\u001b[0m\u001b[0mself\u001b[0m\u001b[0;34m,\u001b[0m \u001b[0mkey\u001b[0m\u001b[0;34m)\u001b[0m\u001b[0;34m:\u001b[0m\u001b[0;34m\u001b[0m\u001b[0;34m\u001b[0m\u001b[0m\n\u001b[1;32m    957\u001b[0m         \u001b[0;32mif\u001b[0m \u001b[0mkey\u001b[0m \u001b[0;34m!=\u001b[0m \u001b[0mself\u001b[0m\u001b[0;34m.\u001b[0m\u001b[0mdefault_section\u001b[0m \u001b[0;32mand\u001b[0m \u001b[0;32mnot\u001b[0m \u001b[0mself\u001b[0m\u001b[0;34m.\u001b[0m\u001b[0mhas_section\u001b[0m\u001b[0;34m(\u001b[0m\u001b[0mkey\u001b[0m\u001b[0;34m)\u001b[0m\u001b[0;34m:\u001b[0m\u001b[0;34m\u001b[0m\u001b[0;34m\u001b[0m\u001b[0m\n\u001b[0;32m--> 958\u001b[0;31m             \u001b[0;32mraise\u001b[0m \u001b[0mKeyError\u001b[0m\u001b[0;34m(\u001b[0m\u001b[0mkey\u001b[0m\u001b[0;34m)\u001b[0m\u001b[0;34m\u001b[0m\u001b[0;34m\u001b[0m\u001b[0m\n\u001b[0m\u001b[1;32m    959\u001b[0m         \u001b[0;32mreturn\u001b[0m \u001b[0mself\u001b[0m\u001b[0;34m.\u001b[0m\u001b[0m_proxies\u001b[0m\u001b[0;34m[\u001b[0m\u001b[0mkey\u001b[0m\u001b[0;34m]\u001b[0m\u001b[0;34m\u001b[0m\u001b[0;34m\u001b[0m\u001b[0m\n\u001b[1;32m    960\u001b[0m \u001b[0;34m\u001b[0m\u001b[0m\n",
      "\u001b[0;31mKeyError\u001b[0m: 'sconcdust'"
     ]
    }
   ],
   "source": [
    "var_access = pya.const.VARS\n",
    "params = ['ang4487aer', 'od550aer', 'od550gt1aer', 'od550lt1aer', 'concpm10', 'concpm25', 'scatc550dryaer', 'absc550aer']\n",
    "for v in var_access:\n",
    "    if v.var_name in params:\n",
    "        print('{}: [{}:{}]'.format(v.var_name, v.minimum, v.maximum))"
   ]
  },
  {
   "cell_type": "code",
   "execution_count": 19,
   "metadata": {},
   "outputs": [
    {
     "name": "stdout",
     "output_type": "stream",
     "text": [
      "od550aer  OK\n"
     ]
    }
   ],
   "source": [
    "mod = 'OsloCTM3v1.01-met2010_AP3-HIST'\n",
    "params = ['od550aer']\n",
    "r = pya.io.ReadGridded(mod)\n",
    "for param in params:\n",
    "    try:\n",
    "        if param=='scatc550dryaer':\n",
    "            data = r.read_var(param, ts_type='daily', aux_fun=pya.io.aux_read_cubes.subtract_cubes, aux_vars=['ec550dryaer', 'absc550aer'])\n",
    "        else:\n",
    "            data = r.read_var(param, ts_type='daily')\n",
    "        print(param,' OK')\n",
    "    except:\n",
    "        print(param, 'NOPE')"
   ]
  },
  {
   "cell_type": "code",
   "execution_count": 32,
   "metadata": {},
   "outputs": [
    {
     "data": {
      "text/plain": [
       "5"
      ]
     },
     "execution_count": 32,
     "metadata": {},
     "output_type": "execute_result"
    }
   ],
   "source": [
    "years = [ts.item().year for ts in data.time_stamps()]\n",
    "uyears = np.unique(years)\n",
    "i2000 = np.argmin(abs(uyears-2000))\n",
    "dy = uyears[i2000+1]-uyears[i2000]\n",
    "dy"
   ]
  },
  {
   "cell_type": "code",
   "execution_count": 31,
   "metadata": {},
   "outputs": [
    {
     "data": {
      "text/plain": [
       "0"
      ]
     },
     "execution_count": 31,
     "metadata": {},
     "output_type": "execute_result"
    }
   ],
   "source": [
    "i2000"
   ]
  },
  {
   "cell_type": "code",
   "execution_count": null,
   "metadata": {},
   "outputs": [],
   "source": []
  }
 ],
 "metadata": {
  "kernelspec": {
   "display_name": "Python 3",
   "language": "python",
   "name": "python3"
  },
  "language_info": {
   "codemirror_mode": {
    "name": "ipython",
    "version": 3
   },
   "file_extension": ".py",
   "mimetype": "text/x-python",
   "name": "python",
   "nbconvert_exporter": "python",
   "pygments_lexer": "ipython3",
   "version": "3.7.3"
  }
 },
 "nbformat": 4,
 "nbformat_minor": 4
}
