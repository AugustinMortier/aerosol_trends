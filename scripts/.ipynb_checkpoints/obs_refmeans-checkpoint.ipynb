{
 "cells": [
  {
   "cell_type": "markdown",
   "metadata": {},
   "source": [
    "# Compute mean of observation for a specific year"
   ]
  },
  {
   "cell_type": "code",
   "execution_count": 1,
   "metadata": {},
   "outputs": [],
   "source": [
    "# modules importation\n",
    "from trends_functions import *\n",
    "from warnings import filterwarnings\n",
    "filterwarnings('ignore')"
   ]
  },
  {
   "cell_type": "code",
   "execution_count": 2,
   "metadata": {},
   "outputs": [],
   "source": [
    "# run observations\n",
    "varss = ['od550aer', 'od550lt1aer', 'od550gt1aer', 'ang4487aer', 'concpm25', 'concpm10', 'concso4', 'scatc550dryaer', 'absc550aer']\n",
    "regions = ['EUROPE', 'NAMERICA', 'SAMERICA', 'NAFRICA', 'SAFRICA', 'ASIA', 'AUSTRALIA']"
   ]
  },
  {
   "cell_type": "code",
   "execution_count": 4,
   "metadata": {
    "code_folding": [
     4,
     10,
     16,
     22,
     28,
     34,
     40,
     53
    ]
   },
   "outputs": [
    {
     "name": "stdout",
     "output_type": "stream",
     "text": [
      "compute trend\n",
      "no flags\n",
      "no flags EUROPE station:  ZvenigoroddsEi_GCWD\n",
      "no flags ASIA station:  Zhongshan_Univitythstation:  Mobile_S_011509_ND\n",
      "no flags NAMERICA station:  Yumaowknife_AuroraC NAMERICA station:  Calipso_W_Strasburg DRAGON_MNKTN\n",
      "no flags SAMERICA station:  Veracruz_MAX_MEXFOP\n",
      "no flags NAFRICA station:  Zinder_DMNporttutea\n",
      "region:  SAFRICA station:  Walvis_Bay_airport\n",
      "Less than 7 points in selected period\n",
      "no flags\n",
      "no flags AUSTRALIA station:  Tinga_Tinganand_QLD\n",
      "compute trendD station:  ZvenigorodportityaP Cairo_EMAWORLD station:  Mobile_Kanpur_W2\n",
      "no flags\n",
      "no flags EUROPE station:  ZvenigorodMOW1erCWD\n",
      "no flags ASIA station:  Zhongshan_UnivityDh ASIA station:  DRAGON_NIER ASIA station:  Mobile_S_052908W\n",
      "no flags NAMERICA station:  Yumaowknife_AuroraC NAMERICA station:  Calipso_Dean_Rd NAMERICA station:  Columbia_SC NAMERICA station:  DRAGON_PineyOrchard\n",
      "no flags SAMERICA station:  UdeConcepcion-CEFOP\n",
      "no flags NAFRICA station:  Zinder_Airporttutea\n",
      "region:  SAFRICA station:  Walvis_Bay_airport\n",
      "Less than 7 points in selected period\n",
      "no flags\n",
      "no flags AUSTRALIA station:  Tinga_Tinganand_QLD\n",
      "compute trendD station:  ZvenigorodportityaP WORLD station:  DRAGON_Bainbridge WORLD station:  DRAGON_Osaka_Center WORLD station:  MadridTaihu\n",
      "no flags\n",
      "no flags EUROPE station:  ZvenigorodMOW1erCWD\n",
      "no flags ASIA station:  Zhongshan_UnivniNDhKORUS_Daegwallyeong ASIA station:  Mobile_N_051508E ASIA station:  Yonsei_University\n",
      "no flags NAMERICA station:  Yumaowknife_AuroraC NAMERICA station:  Calipso_WillistonLk\n",
      "no flags SAMERICA station:  UdeConcepcion-CEFOP\n",
      "no flags NAFRICA station:  Zinder_Airporttutea\n",
      "region:  SAFRICA station:  Walvis_Bay_airport\n",
      "Less than 7 points in selected period\n",
      "no flags\n",
      "no flags AUSTRALIA station:  Tinga_Tinganand_QLD\n",
      "compute trendD station:  ZvenigorodportityaP WORLD station:  Calipso_Zion WORLD station:  DRAGON_KampungBharu WORLD station:  Galata_Platform WORLD station:  Makassar WORLD station:  Prospect_HillRottnest_Island\n",
      "no flags\n",
      "no flags EUROPE station:  ZvenigorodMOW1erCWD\n",
      "no flags ASIA station:  Zhongshan_UnivityDh ASIA station:  DRAGON_Pusan_NU ASIA station:  KORUS_Taehwa ASIA station:  NCU_Taiwan\n",
      "no flags NAMERICA station:  Yumaowknife_AuroraCstation:  Calipso_West_Denton\n",
      "no flags SAMERICA station:  Veracruz_MAX_MEXFOP\n",
      "no flags NAFRICA station:  Zinder_DMNporttutea\n",
      "region:  SAFRICA station:  Walvis_Bay_airport\n",
      "Less than 7 points in selected period\n",
      "no flags\n",
      "no flags AUSTRALIA station:  Tinga_Tinganand_QLD\n",
      "region:  WORLD station:  ZvenigorodportityaP WORLD station:  Churchill WORLD station:  Lanai WORLD station:  Messina WORLD station:  Sigma_Space_Corp\r"
     ]
    },
    {
     "name": "stderr",
     "output_type": "stream",
     "text": [
      "Retrieving EBAS files for variables\n",
      "['concpm25']\n",
      "INFO:pyaerocom_print:Retrieving EBAS files for variables\n",
      "['concpm25']\n",
      "Reading files 1-193 of 1923 (ReadEbas) | 14:34:47 (delta = 0 s')\n",
      "INFO:pyaerocom_print:Reading files 1-193 of 1923 (ReadEbas) | 14:34:47 (delta = 0 s')\n",
      "Reading files 193-385 of 1923 (ReadEbas) | 14:34:56 (delta = 8 s')\n",
      "INFO:pyaerocom_print:Reading files 193-385 of 1923 (ReadEbas) | 14:34:56 (delta = 8 s')\n",
      "Reading files 385-577 of 1923 (ReadEbas) | 14:35:05 (delta = 8 s')\n",
      "INFO:pyaerocom_print:Reading files 385-577 of 1923 (ReadEbas) | 14:35:05 (delta = 8 s')\n",
      "Reading files 577-769 of 1923 (ReadEbas) | 14:35:29 (delta = 24 s')\n",
      "INFO:pyaerocom_print:Reading files 577-769 of 1923 (ReadEbas) | 14:35:29 (delta = 24 s')\n",
      "Reading files 769-961 of 1923 (ReadEbas) | 14:35:46 (delta = 16 s')\n",
      "INFO:pyaerocom_print:Reading files 769-961 of 1923 (ReadEbas) | 14:35:46 (delta = 16 s')\n",
      "Reading files 961-1153 of 1923 (ReadEbas) | 14:35:56 (delta = 10 s')\n",
      "INFO:pyaerocom_print:Reading files 961-1153 of 1923 (ReadEbas) | 14:35:56 (delta = 10 s')\n",
      "Reading files 1153-1345 of 1923 (ReadEbas) | 14:36:06 (delta = 9 s')\n",
      "INFO:pyaerocom_print:Reading files 1153-1345 of 1923 (ReadEbas) | 14:36:06 (delta = 9 s')\n",
      "Reading files 1345-1537 of 1923 (ReadEbas) | 14:36:16 (delta = 10 s')\n",
      "INFO:pyaerocom_print:Reading files 1345-1537 of 1923 (ReadEbas) | 14:36:16 (delta = 10 s')\n",
      "Reading files 1537-1729 of 1923 (ReadEbas) | 14:36:28 (delta = 11 s')\n",
      "INFO:pyaerocom_print:Reading files 1537-1729 of 1923 (ReadEbas) | 14:36:28 (delta = 11 s')\n",
      "Reading files 1729-1921 of 1923 (ReadEbas) | 14:36:38 (delta = 9 s')\n",
      "INFO:pyaerocom_print:Reading files 1729-1921 of 1923 (ReadEbas) | 14:36:38 (delta = 9 s')\n",
      "Reading files 1921-2113 of 1923 (ReadEbas) | 14:36:51 (delta = 13 s')\n",
      "INFO:pyaerocom_print:Reading files 1921-2113 of 1923 (ReadEbas) | 14:36:51 (delta = 13 s')\n"
     ]
    },
    {
     "name": "stdout",
     "output_type": "stream",
     "text": [
      "compute trend\n",
      "region:  NAFRICA station:  Zarraablo de los MontesCyprus Atmospheric Observatory\n",
      "Less than 7 points in selected period\n",
      "No station found in , SAFRICA\n",
      "No station found in , AUSTRALIA\n",
      "region:  WORLD station:  Zosenibodenntainstional Park-Lind Point (VI01)n5)tory\r"
     ]
    },
    {
     "name": "stderr",
     "output_type": "stream",
     "text": [
      "Retrieving EBAS files for variables\n",
      "['concpm10']\n",
      "INFO:pyaerocom_print:Retrieving EBAS files for variables\n",
      "['concpm10']\n",
      "Reading files 1-245 of 2443 (ReadEbas) | 14:38:02 (delta = 0 s')\n",
      "INFO:pyaerocom_print:Reading files 1-245 of 2443 (ReadEbas) | 14:38:02 (delta = 0 s')\n",
      "Reading files 245-489 of 2443 (ReadEbas) | 14:38:13 (delta = 10 s')\n",
      "INFO:pyaerocom_print:Reading files 245-489 of 2443 (ReadEbas) | 14:38:13 (delta = 10 s')\n",
      "Reading files 489-733 of 2443 (ReadEbas) | 14:38:28 (delta = 15 s')\n",
      "INFO:pyaerocom_print:Reading files 489-733 of 2443 (ReadEbas) | 14:38:28 (delta = 15 s')\n",
      "Reading files 733-977 of 2443 (ReadEbas) | 14:38:41 (delta = 12 s')\n",
      "INFO:pyaerocom_print:Reading files 733-977 of 2443 (ReadEbas) | 14:38:41 (delta = 12 s')\n",
      "Reading files 977-1221 of 2443 (ReadEbas) | 14:39:17 (delta = 36 s')\n",
      "INFO:pyaerocom_print:Reading files 977-1221 of 2443 (ReadEbas) | 14:39:17 (delta = 36 s')\n",
      "Reading files 1221-1465 of 2443 (ReadEbas) | 14:39:44 (delta = 26 s')\n",
      "INFO:pyaerocom_print:Reading files 1221-1465 of 2443 (ReadEbas) | 14:39:44 (delta = 26 s')\n",
      "Reading files 1465-1709 of 2443 (ReadEbas) | 14:39:58 (delta = 14 s')\n",
      "INFO:pyaerocom_print:Reading files 1465-1709 of 2443 (ReadEbas) | 14:39:58 (delta = 14 s')\n",
      "Reading files 1709-1953 of 2443 (ReadEbas) | 14:40:05 (delta = 6 s')\n",
      "INFO:pyaerocom_print:Reading files 1709-1953 of 2443 (ReadEbas) | 14:40:05 (delta = 6 s')\n",
      "Reading files 1953-2197 of 2443 (ReadEbas) | 14:40:11 (delta = 6 s')\n",
      "INFO:pyaerocom_print:Reading files 1953-2197 of 2443 (ReadEbas) | 14:40:11 (delta = 6 s')\n",
      "Reading files 2197-2441 of 2443 (ReadEbas) | 14:40:17 (delta = 5 s')\n",
      "INFO:pyaerocom_print:Reading files 2197-2441 of 2443 (ReadEbas) | 14:40:17 (delta = 5 s')\n",
      "Reading files 2441-2685 of 2443 (ReadEbas) | 14:40:23 (delta = 6 s')\n",
      "INFO:pyaerocom_print:Reading files 2441-2685 of 2443 (ReadEbas) | 14:40:23 (delta = 6 s')\n"
     ]
    },
    {
     "name": "stdout",
     "output_type": "stream",
     "text": [
      "compute trend\n",
      "region:  ASIA station:  Petalling JayaI Gentésertrch Observatoryt\n",
      "Less than 7 points in selected period\n",
      "No station found in , SAFRICArraablo de los MontesCyprus Atmospheric Observatory\n",
      "No station found in , AUSTRALIA\n",
      "compute trendD station:  Zosenibodenntainstional Park-Lind Point (VI01)n5)tory\n",
      "no flags\n",
      "no flags EUROPE station:  Ähtäri I-III Dam)\n",
      "no flags ASIA station:  TereljRataari (Vachiralongkorn Dam)\n",
      "no flags NAMERICA station:  Zion_Canyon - Turtleback Domey_Run)\n",
      "no flags SAMERICA station:  Virgin_Islands_NP\n",
      "No station found in , SAFRICArrarrota\n",
      "No station found in , AUSTRALIA\n",
      "no flags\n",
      "compute trendD station:  Ähtäri I-IIuntain (Ny-Ålesund) Dam)\n",
      "excluding module\n",
      "exclude  Ispra\n",
      "exclude  Montseny\n",
      "excluding modulestation:  Vavihillmospheric Research Observatoryt\n",
      "region:  ASIA station:  Gosanon-do\n",
      "Less than 7 points in selected period\n",
      "excluding module\n",
      "excluding moduleA station:  Wichita Mountainsderness3ain #1ment (GA09)WA99)5)\n",
      "excluding moduleA station:  Cape San Juan\n",
      "exclude  Granada\n",
      "region:  NAFRICA station:  Finokaliaillo\n",
      "Less than 7 points in selected period\n",
      "excluding module\n",
      "No station found in , AUSTRALIA Point\n",
      "excluding module\n",
      "exclude  Granada\n",
      "exclude  Ispra\n",
      "exclude  Montseny\n",
      "compute trendD station:  Zeppelin mountain (Ny-Ålesund)1rvatoryA09)WA99)5)\n",
      "excluding module\n",
      "excluding modulestation:  Vavihillmospheric Research Observatoryt\n",
      "region:  ASIA station:  Gosanon-do\n",
      "Less than 7 points in selected period\n",
      "excluding module\n",
      "excluding moduleA station:  Trinidad Headt Plains E13\n",
      "excluding moduleA station:  Cape San Juan\n",
      "exclude  Granada\n",
      "region:  NAFRICA station:  Finokaliaillo\n",
      "Less than 7 points in selected period\n",
      "excluding module\n",
      "No station found in , AUSTRALIA Point\n",
      "excluding module\n",
      "exclude  Alert\n",
      "exclude  Granada\n",
      "region:  WORLD station:  Zeppelin mountain (Ny-Ålesund)ervatoryt\r"
     ]
    }
   ],
   "source": [
    "OBS_MAP = {}\n",
    "for var in varss:\n",
    "    # computation parameters\n",
    "    params = get_params()\n",
    "    params['kind'] = 'obs'\n",
    "    params['min_dobs'] = 300\n",
    "    fill_params(params, var)\n",
    "    if var in ['scatc550dryaer', 'absc550aer']:\n",
    "        params['period'] = '2000-2018'\n",
    "    else:\n",
    "        params['period'] = '2000-2014'\n",
    "    params['var'] = var\n",
    "    \n",
    "    obs_source = params['source']\n",
    "    reader = pya.io.ReadUngridded(obs_source)\n",
    "    obs_data = reader.read(vars_to_retrieve=var)\n",
    "    \n",
    "    print('compute trend')\n",
    "    _, OBS_MAP[var], _ = process_trend(\n",
    "        obs_data, params,\n",
    "        plot=False, show_plot=False, save_plot=False, write_json=False\n",
    "    )"
   ]
  },
  {
   "cell_type": "markdown",
   "metadata": {},
   "source": [
    "## put this in a dataframe"
   ]
  },
  {
   "cell_type": "code",
   "execution_count": 5,
   "metadata": {},
   "outputs": [],
   "source": [
    "#'concpm25', 'concpm10', 'concso4', 'scatc550dryaer', 'absc550aer'"
   ]
  },
  {
   "cell_type": "code",
   "execution_count": 6,
   "metadata": {},
   "outputs": [
    {
     "name": "stdout",
     "output_type": "stream",
     "text": [
      "od550aer\n",
      "od550lt1aer\n",
      "od550gt1aer\n",
      "ang4487aer\n",
      "concpm25\n",
      "concpm10\n",
      "concso4\n",
      "scatc550dryaer\n",
      "absc550aer\n"
     ]
    }
   ],
   "source": [
    "thead = ['']+regions\n",
    "tbody = []\n",
    "\n",
    "for var in varss:\n",
    "    period = '2000-2014'\n",
    "    if var in ['concpm25', 'concpm10', 'scatc550dryaer', 'absc550aer']:\n",
    "        fmt = '{:2.1f}'\n",
    "        if var in ['scatc550dryaer', 'absc550aer']:\n",
    "            period = '2000-2018'\n",
    "    else:\n",
    "        fmt = '{:3.2f}'\n",
    "    print(var)\n",
    "    fill_params(params, var)\n",
    "    unit = params['unit']\n",
    "    if unit == '':\n",
    "        str_unit = ''\n",
    "    else:\n",
    "        str_unit = ' ('+unit+')'\n",
    "    line = [params['ylabel']+str_unit] + [fmt.format(OBS_MAP[var][region]['trends']['trends'][period]['data'][0]) if region in OBS_MAP[var] and 'trends' in OBS_MAP[var][region]['trends'] and '2000-2014' in OBS_MAP[var][region]['trends']['trends'] else '-' for region in regions]\n",
    "    tbody.append(line)\n",
    "\n",
    "    df = pd.DataFrame(tbody, columns=thead)"
   ]
  },
  {
   "cell_type": "code",
   "execution_count": 7,
   "metadata": {},
   "outputs": [
    {
     "name": "stdout",
     "output_type": "stream",
     "text": [
      "\\begin{tabular}{llllllll}\n",
      "\\tophline\n",
      "                    & EUROPE & NAMERICA & SAMERICA & NAFRICA & SAFRICA &  ASIA & AUSTRALIA \\\\\n",
      "\\middlehline\n",
      "                AOD &   0.17 &     0.10 &     0.15 &    0.26 &       - &  0.35 &      0.10 \\\\\n",
      "            AOD<1µm &   0.14 &     0.08 &     0.12 &    0.11 &       - &  0.18 &      0.05 \\\\\n",
      "            AOD>1µm &   0.03 &     0.02 &     0.03 &    0.10 &       - &  0.11 &      0.03 \\\\\n",
      "                 AE &   1.44 &     1.46 &     1.30 &    0.72 &       - &  1.06 &      0.97 \\\\\n",
      "     PM2.5 (µg.m-3) &   12.8 &      6.0 &        - &       - &       - &     - &         - \\\\\n",
      "      PM10 (µg.m-3) &   16.8 &     11.5 &        - &    19.6 &       - &     - &         - \\\\\n",
      "       SO4 (µg.m-3) &   2.01 &     1.45 &        - &    2.98 &       - &  1.97 &         - \\\\\n",
      " Scat. Coef. (1/Mm) &      - &        - &        - &       - &       - &     - &         - \\\\\n",
      "  Abs. Coef. (1/Mm) &      - &        - &        - &       - &       - &     - &         - \\\\\n",
      "\\bottomhline\n",
      "\\end{tabular}\n",
      "\n"
     ]
    }
   ],
   "source": [
    "with pd.option_context(\"max_colwidth\", 1000):\n",
    "    latable = df.to_latex(index=False, longtable=False, escape=False)\n",
    "    #replace rule with hline for ACP\n",
    "    latable = latable.replace('toprule','tophline')\n",
    "    latable = latable.replace('midrule','middlehline')\n",
    "    latable = latable.replace('bottomrule','bottomhline')\n",
    "    print(latable)"
   ]
  },
  {
   "cell_type": "code",
   "execution_count": null,
   "metadata": {},
   "outputs": [],
   "source": []
  },
  {
   "cell_type": "code",
   "execution_count": null,
   "metadata": {},
   "outputs": [],
   "source": []
  },
  {
   "cell_type": "code",
   "execution_count": 1,
   "metadata": {},
   "outputs": [
    {
     "ename": "NameError",
     "evalue": "name 'obs_data' is not defined",
     "output_type": "error",
     "traceback": [
      "\u001b[0;31m---------------------------------------------------------------------------\u001b[0m",
      "\u001b[0;31mNameError\u001b[0m                                 Traceback (most recent call last)",
      "\u001b[0;32m<ipython-input-1-0f15bac3a2b2>\u001b[0m in \u001b[0;36m<module>\u001b[0;34m\u001b[0m\n\u001b[0;32m----> 1\u001b[0;31m \u001b[0mobs_data\u001b[0m\u001b[0;34m\u001b[0m\u001b[0;34m\u001b[0m\u001b[0m\n\u001b[0m",
      "\u001b[0;31mNameError\u001b[0m: name 'obs_data' is not defined"
     ]
    }
   ],
   "source": [
    "obs_data"
   ]
  },
  {
   "cell_type": "code",
   "execution_count": null,
   "metadata": {},
   "outputs": [],
   "source": []
  }
 ],
 "metadata": {
  "kernelspec": {
   "display_name": "Python 3",
   "language": "python",
   "name": "python3"
  },
  "language_info": {
   "codemirror_mode": {
    "name": "ipython",
    "version": 3
   },
   "file_extension": ".py",
   "mimetype": "text/x-python",
   "name": "python",
   "nbconvert_exporter": "python",
   "pygments_lexer": "ipython3",
   "version": "3.7.3"
  }
 },
 "nbformat": 4,
 "nbformat_minor": 4
}
