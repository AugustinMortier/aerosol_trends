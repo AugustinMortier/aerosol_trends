{
 "cells": [
  {
   "cell_type": "markdown",
   "metadata": {},
   "source": [
    "# Compute mean of observation for a specific year"
   ]
  },
  {
   "cell_type": "code",
   "execution_count": 1,
   "metadata": {},
   "outputs": [],
   "source": [
    "# modules importation\n",
    "from trends_functions import *\n",
    "from warnings import filterwarnings\n",
    "filterwarnings('ignore')"
   ]
  },
  {
   "cell_type": "code",
   "execution_count": 2,
   "metadata": {},
   "outputs": [],
   "source": [
    "# run observations\n",
    "varss = ['od550aer', 'od550lt1aer', 'od550gt1aer', 'ang4487aer', 'concpm25', 'concpm10', 'concso4', 'scatc550dryaer', 'absc550aer']\n",
    "regions = ['EUROPE', 'NAMERICA', 'SAMERICA', 'NAFRICA', 'SAFRICA', 'ASIA', 'AUSTRALIA']"
   ]
  },
  {
   "cell_type": "code",
   "execution_count": null,
   "metadata": {
    "code_folding": [
     4,
     10,
     16,
     22,
     28,
     34,
     40,
     53
    ]
   },
   "outputs": [
    {
     "name": "stdout",
     "output_type": "stream",
     "text": [
      "compute trend\n",
      "no flags\n",
      "no flags EUROPE station:  ZvenigoroddsEi_GCWD EUROPE station:  OHP_OBSERVATOIRE\n",
      "no flags ASIA station:  Zhongshan_UnivityDh\n",
      "no flags NAMERICA station:  Yumaowknife_AuroraC\n",
      "no flags SAMERICA station:  Veracruz_MAX_MEXFOPSAMERICA station:  Pantanal\n",
      "no flags NAFRICA station:  Zinder_DMNporttutea\n",
      "region:  SAFRICA station:  Walvis_Bay_airport\n",
      "Less than 7 points in selected period\n",
      "no flags\n",
      "no flags AUSTRALIA station:  Tinga_Tinganand_QLD\n",
      "compute trendD station:  ZvenigorodportityaP WORLD station:  Calipso_Flat_Iron WORLD station:  DRAGON_Henties_2 WORLD station:  Naalehu_Elementary\n",
      "no flags\n",
      "no flags EUROPE station:  ZvenigorodMOW1erCWD EUROPE station:  Bolzano\n",
      "no flags ASIA station:  Zhongshan_UnivityDh\n",
      "no flags NAMERICA station:  Yumaowknife_AuroraC NAMERICA station:  NEON_SRER Thompson\n",
      "no flags SAMERICA station:  UdeConcepcion-CEFOP\n",
      "no flags NAFRICA station:  Zinder_Airporttutea\n",
      "region:  SAFRICA station:  Walvis_Bay_airport\n",
      "Less than 7 points in selected period\n",
      "no flags\n",
      "no flags AUSTRALIA station:  Tinga_Tinganand_QLD\n",
      "compute trendD station:  ZvenigorodportityaP WORLD station:  Calipso_Morgnec_Rd WORLD station:  Chulalongkorn WORLD station:  DRAGON_NW_Harris_CO WORLD station:  Galata_Platform WORLD station:  Osaka\n",
      "no flags\n",
      "no flags EUROPE station:  ZvenigorodMOW1erCWD\n",
      "no flags ASIA station:  Zhongshan_UnivityDh ASIA station:  DRAGON_Permatang_DL\n",
      "no flags NAMERICA station:  Yumaowknife_AuroraC NAMERICA station:  Calipso_WofDenton\n",
      "no flags SAMERICA station:  UdeConcepcion-CEFOP\n",
      "no flags NAFRICA station:  Zinder_Airporttutea\n",
      "region:  SAFRICA station:  Walvis_Bay_airport\n",
      "Less than 7 points in selected period\n",
      "no flags\n",
      "no flags AUSTRALIA station:  Tinga_Tinganand_QLD\n",
      "compute trendD station:  ZvenigorodportityaP WORLD station:  Calipso_W_Strasburg WORLD station:  Mobile_N_051508E\n",
      "no flags\n",
      "no flags EUROPE station:  ZvenigorodMOW1erCWD\n",
      "no flags ASIA station:  Zhongshan_UnivityDh ASIA station:  Kanpur ASIA station:  Yeomsan-Myeon\n",
      "no flags NAMERICA station:  Yumaowknife_AuroraCCalipso_Kinchaloe NAMERICA station:  DRAGON_BLTCC\n",
      "no flags SAMERICA station:  Veracruz_MAX_MEXFOPPorto_Velho_UNIR\n",
      "no flags NAFRICA station:  Zinder_DMNporttutea\n",
      "region:  SAFRICA station:  Walvis_Bay_airport\n",
      "Less than 7 points in selected period\n",
      "no flags\n",
      "no flags AUSTRALIA station:  Tinga_Tinganand_QLD\n",
      "compute trendD station:  ZvenigorodportityaPstation:  Calipso_Dean_Rd WORLD station:  DRAGON_Edgewood WORLD station:  DRAGON_Pandan_Resrv WORLD station:  Modena WORLD station:  PerthPuerto_Madryn WORLD station:  Suertes\n",
      "region:  NAFRICA station:  Zarraablo de los MontesCyprus Atmospheric Observatory\n",
      "Less than 7 points in selected period\n",
      "No station found in , SAFRICA\n",
      "No station found in , AUSTRALIA\n",
      "compute trendD station:  Zosenibodenntainstional Park-Lind Point (VI01)n5)tory\n"
     ]
    }
   ],
   "source": [
    "OBS_MAP = {}\n",
    "for var in varss:\n",
    "    if var in ['concpm10', 'concpm25']:\n",
    "        print('read EBAS')\n",
    "        EBAS = read_EBAS()\n",
    "    else:\n",
    "        EBAS = None\n",
    "    # computation parameters\n",
    "    params = get_params()\n",
    "    params['kind'] = 'obs'\n",
    "    params['min_dobs'] = 300\n",
    "    fill_params(params, var)\n",
    "    if var in ['scatc550dryaer', 'absc550aer']:\n",
    "        params['period'] = '2000-2018'\n",
    "    else:\n",
    "        params['period'] = '2000-2014'\n",
    "    params['var'] = var\n",
    "    \n",
    "    obs_source = params['source']\n",
    "    reader = pya.io.ReadUngridded(obs_source)\n",
    "    obs_data = reader.read(vars_to_retrieve=var)\n",
    "    \n",
    "    print('compute trend')\n",
    "    _, OBS_MAP[var], _ = process_trend(\n",
    "        obs_data, params,\n",
    "        plot=False, show_plot=False, save_plot=False, write_json=False, EBAS=EBAS\n",
    "    )"
   ]
  },
  {
   "cell_type": "markdown",
   "metadata": {},
   "source": [
    "## put this in a dataframe"
   ]
  },
  {
   "cell_type": "code",
   "execution_count": null,
   "metadata": {},
   "outputs": [],
   "source": [
    "#'concpm25', 'concpm10', 'concso4', 'scatc550dryaer', 'absc550aer'"
   ]
  },
  {
   "cell_type": "code",
   "execution_count": null,
   "metadata": {},
   "outputs": [],
   "source": [
    "regions.remove('SAFRICA')"
   ]
  },
  {
   "cell_type": "code",
   "execution_count": 18,
   "metadata": {},
   "outputs": [
    {
     "name": "stdout",
     "output_type": "stream",
     "text": [
      "od550aer\n",
      "od550lt1aer\n",
      "od550gt1aer\n",
      "ang4487aer\n",
      "concpm25\n",
      "concpm10\n",
      "concso4\n",
      "scatc550dryaer\n",
      "absc550aer\n"
     ]
    }
   ],
   "source": [
    "thead = ['']+regions\n",
    "tbody = []\n",
    "\n",
    "for var in varss:\n",
    "    period = '2000-2014'\n",
    "    if var in ['concpm25', 'concpm10', 'scatc550dryaer', 'absc550aer']:\n",
    "        fmt = '{:2.1f}'\n",
    "        if var in ['scatc550dryaer', 'absc550aer']:\n",
    "            period = '2000-2018'\n",
    "    else:\n",
    "        fmt = '{:3.2f}'\n",
    "    print(var)\n",
    "    fill_params(params, var)\n",
    "    unit = params['unit']\n",
    "    if unit == '':\n",
    "        str_unit = ''\n",
    "    else:\n",
    "        str_unit = ' ('+unit+')'\n",
    "    line = [params['ylabel']+str_unit] + [fmt.format(OBS_MAP[var][region]['trends']['trends'][period]['data'][0]) if region in OBS_MAP[var] and 'trends' in OBS_MAP[var][region]['trends'] and period in OBS_MAP[var][region]['trends']['trends'] else '-' for region in regions]\n",
    "    tbody.append(line)\n",
    "\n",
    "    df = pd.DataFrame(tbody, columns=thead)"
   ]
  },
  {
   "cell_type": "code",
   "execution_count": 19,
   "metadata": {},
   "outputs": [
    {
     "name": "stdout",
     "output_type": "stream",
     "text": [
      "\\begin{tabular}{lllllll}\n",
      "\\tophline\n",
      "                    & EUROPE & NAMERICA & SAMERICA & NAFRICA &  ASIA & AUSTRALIA \\\\\n",
      "\\middlehline\n",
      "                AOD &   0.17 &     0.10 &     0.15 &    0.26 &  0.35 &      0.10 \\\\\n",
      "            AOD<1µm &   0.14 &     0.08 &     0.12 &    0.11 &  0.18 &      0.05 \\\\\n",
      "            AOD>1µm &   0.03 &     0.02 &     0.03 &    0.10 &  0.11 &      0.03 \\\\\n",
      "                 AE &   1.44 &     1.46 &     1.30 &    0.72 &  1.06 &      0.97 \\\\\n",
      "     PM2.5 (µg.m-3) &   12.8 &      6.0 &        - &       - &     - &         - \\\\\n",
      "      PM10 (µg.m-3) &   16.8 &     11.5 &        - &    19.6 &     - &         - \\\\\n",
      "       SO4 (µg.m-3) &   2.01 &     1.45 &        - &    2.98 &  1.97 &         - \\\\\n",
      " Scat. Coef. (1/Mm) &   33.2 &     25.0 &        - &       - &     - &         - \\\\\n",
      "  Abs. Coef. (1/Mm) &    9.7 &      2.7 &        - &       - &     - &         - \\\\\n",
      "\\bottomhline\n",
      "\\end{tabular}\n",
      "\n"
     ]
    }
   ],
   "source": [
    "with pd.option_context(\"max_colwidth\", 1000):\n",
    "    latable = df.to_latex(index=False, longtable=False, escape=False)\n",
    "    #replace rule with hline for ACP\n",
    "    latable = latable.replace('toprule','tophline')\n",
    "    latable = latable.replace('midrule','middlehline')\n",
    "    latable = latable.replace('bottomrule','bottomhline')\n",
    "    print(latable)"
   ]
  },
  {
   "cell_type": "code",
   "execution_count": null,
   "metadata": {},
   "outputs": [],
   "source": []
  }
 ],
 "metadata": {
  "kernelspec": {
   "display_name": "Python 3",
   "language": "python",
   "name": "python3"
  },
  "language_info": {
   "codemirror_mode": {
    "name": "ipython",
    "version": 3
   },
   "file_extension": ".py",
   "mimetype": "text/x-python",
   "name": "python",
   "nbconvert_exporter": "python",
   "pygments_lexer": "ipython3",
   "version": "3.7.3"
  }
 },
 "nbformat": 4,
 "nbformat_minor": 4
}
