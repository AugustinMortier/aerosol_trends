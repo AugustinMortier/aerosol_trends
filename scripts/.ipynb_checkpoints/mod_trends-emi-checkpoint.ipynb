{
 "cells": [
  {
   "cell_type": "code",
   "execution_count": 1,
   "metadata": {},
   "outputs": [],
   "source": [
    "# modules importation\n",
    "from trends_functions import *\n",
    "import pickle\n",
    "import os"
   ]
  },
  {
   "cell_type": "code",
   "execution_count": 2,
   "metadata": {},
   "outputs": [],
   "source": [
    "# import seaborn style\n",
    "sns.set()\n",
    "sns.set_context(\"paper\")\n",
    "# sns.set_style(\"whitegrid\")\n",
    "sns.color_palette(\"muted\")\n",
    "# since each figure will be a subfigure, increase font_size\n",
    "fscale = 1.2\n",
    "sns.set(font_scale=fscale)"
   ]
  },
  {
   "cell_type": "code",
   "execution_count": 3,
   "metadata": {
    "code_folding": []
   },
   "outputs": [],
   "source": [
    "# computation parameters\n",
    "params = get_params()"
   ]
  },
  {
   "cell_type": "code",
   "execution_count": 4,
   "metadata": {
    "code_folding": [
     4,
     10,
     16,
     22,
     28,
     34,
     40
    ]
   },
   "outputs": [],
   "source": [
    "# run observations\n",
    "# 'ang4487aer' 'od550aer' 'od550gt1aer' 'od550lt1aer' 'concpm10' 'concpm25' 'concso4' 'absc550aer'\n",
    "var = 'od550aer'\n",
    "params['kind'] = 'obs'\n",
    "params = fill_params(params, var)\n",
    "params['var'] = var\n",
    "obs_source = params['source']\n",
    "reader = pya.io.ReadUngridded(obs_source)\n",
    "obs_data = reader.read(vars_to_retrieve=var)"
   ]
  },
  {
   "cell_type": "code",
   "execution_count": 5,
   "metadata": {
    "code_folding": [],
    "scrolled": true
   },
   "outputs": [
    {
     "name": "stdout",
     "output_type": "stream",
     "text": [
      "OBS\n",
      "no flags\n",
      "region:  EUROPE station:  ZvenigoroddsEi_GCWD\r"
     ]
    },
    {
     "name": "stderr",
     "output_type": "stream",
     "text": [
      "/home/augustinm/anaconda3/envs/pya/lib/python3.7/site-packages/numpy/lib/nanfunctions.py:1115: RuntimeWarning: All-NaN slice encountered\n",
      "  overwrite_input=overwrite_input)\n",
      "/home/augustinm/Dev/pyaerocom/trends/scripts/trends_functions.py:988: FutureWarning: how in .resample() is deprecated\n",
      "the new syntax is .resample(...).mean()\n",
      "  df = df.resample('D', how='mean')\n"
     ]
    },
    {
     "name": "stdout",
     "output_type": "stream",
     "text": [
      "no flags\n",
      "no flags ASIA station:  Zhongshan_UnivityDh ASIA station:  DRAGON_Tsukuba\n",
      "no flags NAMERICA station:  Yumaowknife_AuroraC NAMERICA station:  Calipso_WofDenton NAMERICA station:  DRAGON_Pylesville\n",
      "no flags SAMERICA station:  Veracruz_MAX_MEXFOPSAMERICA station:  Ji_Parana_SE\n",
      "no flags NAFRICA station:  Zinder_DMNporttutea\n",
      "region:  SAFRICA station:  Walvis_Bay_airport\n",
      "Less than 7 points in selected period\n",
      "no flags\n",
      "no flags AUSTRALIA station:  Tinga_Tinganand_QLD\n",
      "region:  WORLD station:  ZvenigorodportityaP WORLD station:  DRAGON_Pusan_NU\r"
     ]
    }
   ],
   "source": [
    "print('OBS')\n",
    "OBS_TS, OBS_MAP, OBS_DF = process_trend(\n",
    "    obs_data, params,\n",
    "    plot=False, show_plot=False, save_plot=False, write_json=False\n",
    ")"
   ]
  },
  {
   "cell_type": "code",
   "execution_count": 6,
   "metadata": {
    "code_folding": [
     7,
     13,
     19,
     25,
     31,
     37,
     43
    ]
   },
   "outputs": [
    {
     "name": "stdout",
     "output_type": "stream",
     "text": [
      "GEOS-i33p2_HIST use cache/GEOS-i33p2_HIST_emidust.pkl\n"
     ]
    },
    {
     "name": "stderr",
     "output_type": "stream",
     "text": [
      "/home/augustinm/anaconda3/envs/pya/lib/python3.7/site-packages/numpy/ma/core.py:3172: FutureWarning: Using a non-tuple sequence for multidimensional indexing is deprecated; use `arr[tuple(seq)]` instead of `arr[seq]`. In the future this will be interpreted as an array index, `arr[np.array(seq)]`, which will result either in an error or a different result.\n",
      "  dout = self.data[indx]\n",
      "/home/augustinm/anaconda3/envs/pya/lib/python3.7/site-packages/iris/analysis/_scipy_interpolate.py:290: FutureWarning: Using a non-tuple sequence for multidimensional indexing is deprecated; use `arr[tuple(seq)]` instead of `arr[seq]`. In the future this will be interpreted as an array index, `arr[np.array(seq)]`, which will result either in an error or a different result.\n",
      "  return self.values[idx_res]\n"
     ]
    },
    {
     "name": "stdout",
     "output_type": "stream",
     "text": [
      "region:  EUROPE station:  ZvenigorodhecergDWD\r"
     ]
    },
    {
     "name": "stderr",
     "output_type": "stream",
     "text": [
      "/home/augustinm/Dev/pyaerocom/trends/scripts/trends_functions.py:719: RuntimeWarning: invalid value encountered in double_scalars\n",
      "  rel_slope = a * 100 / reg[0]\n",
      "/home/augustinm/Dev/pyaerocom/trends/scripts/trends_functions.py:504: RuntimeWarning: invalid value encountered in double_scalars\n",
      "  delta_sl = m_err / v0\n",
      "/home/augustinm/Dev/pyaerocom/trends/scripts/trends_functions.py:505: RuntimeWarning: invalid value encountered in double_scalars\n",
      "  delta_ref = m * v0_err / v0**2\n",
      "/home/augustinm/Dev/pyaerocom/trends/scripts/trends_functions.py:727: RuntimeWarning: invalid value encountered in double_scalars\n",
      "  delta_sl = slope_err/a\n"
     ]
    },
    {
     "name": "stdout",
     "output_type": "stream",
     "text": [
      "OsloCTM3v1.01-met2010_AP3-HIST use cache/OsloCTM3v1.01-met2010_AP3-HIST_emidust.pkl\n"
     ]
    },
    {
     "name": "stderr",
     "output_type": "stream",
     "text": [
      "/home/augustinm/anaconda3/envs/pya/lib/python3.7/site-packages/numpy/ma/core.py:3172: FutureWarning: Using a non-tuple sequence for multidimensional indexing is deprecated; use `arr[tuple(seq)]` instead of `arr[seq]`. In the future this will be interpreted as an array index, `arr[np.array(seq)]`, which will result either in an error or a different result.\n",
      "  dout = self.data[indx]\n",
      "/home/augustinm/anaconda3/envs/pya/lib/python3.7/site-packages/numpy/ma/core.py:3204: FutureWarning: Using a non-tuple sequence for multidimensional indexing is deprecated; use `arr[tuple(seq)]` instead of `arr[seq]`. In the future this will be interpreted as an array index, `arr[np.array(seq)]`, which will result either in an error or a different result.\n",
      "  mout = _mask[indx]\n",
      "/home/augustinm/anaconda3/envs/pya/lib/python3.7/site-packages/iris/analysis/_scipy_interpolate.py:290: FutureWarning: Using a non-tuple sequence for multidimensional indexing is deprecated; use `arr[tuple(seq)]` instead of `arr[seq]`. In the future this will be interpreted as an array index, `arr[np.array(seq)]`, which will result either in an error or a different result.\n",
      "  return self.values[idx_res]\n"
     ]
    },
    {
     "name": "stdout",
     "output_type": "stream",
     "text": [
      "region:  EUROPE station:  ZvenigorodhecergDWD\n",
      "Less than 4 points in selected period\n"
     ]
    },
    {
     "name": "stderr",
     "output_type": "stream",
     "text": [
      "/home/augustinm/anaconda3/envs/pya/lib/python3.7/site-packages/numpy/lib/nanfunctions.py:1115: RuntimeWarning: All-NaN slice encountered\n",
      "  overwrite_input=overwrite_input)\n"
     ]
    },
    {
     "name": "stdout",
     "output_type": "stream",
     "text": [
      "region:  ASIA station:  Yekaterinburgoo\n",
      "Less than 4 points in selected period\n",
      "region:  NAMERICA station:  Yumaesiuilleillelee\n",
      "Less than 4 points in selected period\n",
      "region:  SAMERICA station:  UdeConcepcion-CEFOP\n",
      "Less than 4 points in selected period\n",
      "region:  NAFRICA station:  SaadaSougouANMLI\n",
      "Less than 4 points in selected period\n",
      "region:  AUSTRALIA station:  Jabirurale\n",
      "Less than 4 points in selected period\n",
      "region:  WORLD station:  Zvenigorodurg-CEFOP\n",
      "Less than 4 points in selected period\n",
      "CAM5-ATRAS_AP3-HIST use cache/CAM5-ATRAS_AP3-HIST_emidust.pkl\n"
     ]
    },
    {
     "name": "stderr",
     "output_type": "stream",
     "text": [
      "/home/augustinm/anaconda3/envs/pya/lib/python3.7/site-packages/numpy/ma/core.py:3172: FutureWarning: Using a non-tuple sequence for multidimensional indexing is deprecated; use `arr[tuple(seq)]` instead of `arr[seq]`. In the future this will be interpreted as an array index, `arr[np.array(seq)]`, which will result either in an error or a different result.\n",
      "  dout = self.data[indx]\n",
      "/home/augustinm/anaconda3/envs/pya/lib/python3.7/site-packages/numpy/ma/core.py:3204: FutureWarning: Using a non-tuple sequence for multidimensional indexing is deprecated; use `arr[tuple(seq)]` instead of `arr[seq]`. In the future this will be interpreted as an array index, `arr[np.array(seq)]`, which will result either in an error or a different result.\n",
      "  mout = _mask[indx]\n",
      "/home/augustinm/anaconda3/envs/pya/lib/python3.7/site-packages/iris/analysis/_scipy_interpolate.py:290: FutureWarning: Using a non-tuple sequence for multidimensional indexing is deprecated; use `arr[tuple(seq)]` instead of `arr[seq]`. In the future this will be interpreted as an array index, `arr[np.array(seq)]`, which will result either in an error or a different result.\n",
      "  return self.values[idx_res]\n"
     ]
    },
    {
     "name": "stdout",
     "output_type": "stream",
     "text": [
      "region:  EUROPE station:  ZvenigorodhecergDWD\n",
      "Less than 4 points in selected period\n"
     ]
    },
    {
     "name": "stderr",
     "output_type": "stream",
     "text": [
      "/home/augustinm/anaconda3/envs/pya/lib/python3.7/site-packages/numpy/lib/nanfunctions.py:1115: RuntimeWarning: All-NaN slice encountered\n",
      "  overwrite_input=overwrite_input)\n"
     ]
    },
    {
     "name": "stdout",
     "output_type": "stream",
     "text": [
      "region:  ASIA station:  Yekaterinburgoo\n",
      "Less than 4 points in selected period\n",
      "region:  NAMERICA station:  Yumaesiuilleillelee\n",
      "Less than 4 points in selected period\n",
      "region:  SAMERICA station:  UdeConcepcion-CEFOP\n",
      "Less than 4 points in selected period\n",
      "region:  NAFRICA station:  SaadaSougouANMLI\n",
      "Less than 4 points in selected period\n",
      "region:  AUSTRALIA station:  Jabirurale\n",
      "Less than 4 points in selected period\n",
      "region:  WORLD station:  Zvenigorodurg-CEFOP\n",
      "Less than 4 points in selected period\n",
      "GFDL-AM4-amip_HIST use cache/GFDL-AM4-amip_HIST_emidust.pkl\n"
     ]
    },
    {
     "name": "stderr",
     "output_type": "stream",
     "text": [
      "/home/augustinm/anaconda3/envs/pya/lib/python3.7/site-packages/numpy/ma/core.py:3172: FutureWarning: Using a non-tuple sequence for multidimensional indexing is deprecated; use `arr[tuple(seq)]` instead of `arr[seq]`. In the future this will be interpreted as an array index, `arr[np.array(seq)]`, which will result either in an error or a different result.\n",
      "  dout = self.data[indx]\n",
      "/home/augustinm/anaconda3/envs/pya/lib/python3.7/site-packages/iris/analysis/_scipy_interpolate.py:290: FutureWarning: Using a non-tuple sequence for multidimensional indexing is deprecated; use `arr[tuple(seq)]` instead of `arr[seq]`. In the future this will be interpreted as an array index, `arr[np.array(seq)]`, which will result either in an error or a different result.\n",
      "  return self.values[idx_res]\n"
     ]
    },
    {
     "name": "stdout",
     "output_type": "stream",
     "text": [
      "region:  EUROPE station:  ZvenigorodhecergDWD\r"
     ]
    },
    {
     "name": "stderr",
     "output_type": "stream",
     "text": [
      "/home/augustinm/Dev/pyaerocom/trends/scripts/trends_functions.py:719: RuntimeWarning: invalid value encountered in double_scalars\n",
      "  rel_slope = a * 100 / reg[0]\n",
      "/home/augustinm/Dev/pyaerocom/trends/scripts/trends_functions.py:504: RuntimeWarning: invalid value encountered in double_scalars\n",
      "  delta_sl = m_err / v0\n",
      "/home/augustinm/Dev/pyaerocom/trends/scripts/trends_functions.py:505: RuntimeWarning: invalid value encountered in double_scalars\n",
      "  delta_ref = m * v0_err / v0**2\n",
      "/home/augustinm/Dev/pyaerocom/trends/scripts/trends_functions.py:727: RuntimeWarning: invalid value encountered in double_scalars\n",
      "  delta_sl = slope_err/a\n"
     ]
    },
    {
     "name": "stdout",
     "output_type": "stream",
     "text": [
      "region:  ASIA station:  Yekaterinburgoo\r"
     ]
    },
    {
     "name": "stderr",
     "output_type": "stream",
     "text": [
      "/home/augustinm/Dev/pyaerocom/pyaerocom/pyaerocom/ungriddeddata.py:126: RuntimeWarning: invalid value encountered in multiply\n",
      "  self._data = np.empty([num_points, self._COLNO]) * np.nan\n"
     ]
    },
    {
     "name": "stdout",
     "output_type": "stream",
     "text": [
      "ECHAM6.3-HAM2.3-fSST_HIST use cache/ECHAM6.3-HAM2.3-fSST_HIST_emidust.pkl\n"
     ]
    },
    {
     "name": "stderr",
     "output_type": "stream",
     "text": [
      "/home/augustinm/anaconda3/envs/pya/lib/python3.7/site-packages/numpy/ma/core.py:3172: FutureWarning: Using a non-tuple sequence for multidimensional indexing is deprecated; use `arr[tuple(seq)]` instead of `arr[seq]`. In the future this will be interpreted as an array index, `arr[np.array(seq)]`, which will result either in an error or a different result.\n",
      "  dout = self.data[indx]\n",
      "/home/augustinm/anaconda3/envs/pya/lib/python3.7/site-packages/iris/analysis/_scipy_interpolate.py:290: FutureWarning: Using a non-tuple sequence for multidimensional indexing is deprecated; use `arr[tuple(seq)]` instead of `arr[seq]`. In the future this will be interpreted as an array index, `arr[np.array(seq)]`, which will result either in an error or a different result.\n",
      "  return self.values[idx_res]\n"
     ]
    },
    {
     "name": "stdout",
     "output_type": "stream",
     "text": [
      "region:  EUROPE station:  ZvenigorodhecergDWD\r"
     ]
    },
    {
     "name": "stderr",
     "output_type": "stream",
     "text": [
      "/home/augustinm/Dev/pyaerocom/trends/scripts/trends_functions.py:719: RuntimeWarning: invalid value encountered in double_scalars\n",
      "  rel_slope = a * 100 / reg[0]\n",
      "/home/augustinm/Dev/pyaerocom/trends/scripts/trends_functions.py:504: RuntimeWarning: invalid value encountered in double_scalars\n",
      "  delta_sl = m_err / v0\n",
      "/home/augustinm/Dev/pyaerocom/trends/scripts/trends_functions.py:505: RuntimeWarning: invalid value encountered in double_scalars\n",
      "  delta_ref = m * v0_err / v0**2\n",
      "/home/augustinm/Dev/pyaerocom/trends/scripts/trends_functions.py:727: RuntimeWarning: invalid value encountered in double_scalars\n",
      "  delta_sl = slope_err/a\n"
     ]
    },
    {
     "name": "stdout",
     "output_type": "stream",
     "text": [
      "BCC-CUACE_AP3-HIST use cache/BCC-CUACE_AP3-HIST_emidust.pkl\n"
     ]
    },
    {
     "name": "stderr",
     "output_type": "stream",
     "text": [
      "/home/augustinm/anaconda3/envs/pya/lib/python3.7/site-packages/iris/fileformats/netcdf.py:395: UserWarning: WARNING: missing_value not used since it\n",
      "cannot be safely cast to variable data type\n",
      "  var = variable[keys]\n",
      "/home/augustinm/anaconda3/envs/pya/lib/python3.7/site-packages/numpy/ma/core.py:3172: FutureWarning: Using a non-tuple sequence for multidimensional indexing is deprecated; use `arr[tuple(seq)]` instead of `arr[seq]`. In the future this will be interpreted as an array index, `arr[np.array(seq)]`, which will result either in an error or a different result.\n",
      "  dout = self.data[indx]\n",
      "/home/augustinm/anaconda3/envs/pya/lib/python3.7/site-packages/numpy/ma/core.py:3204: FutureWarning: Using a non-tuple sequence for multidimensional indexing is deprecated; use `arr[tuple(seq)]` instead of `arr[seq]`. In the future this will be interpreted as an array index, `arr[np.array(seq)]`, which will result either in an error or a different result.\n",
      "  mout = _mask[indx]\n",
      "/home/augustinm/anaconda3/envs/pya/lib/python3.7/site-packages/iris/analysis/_scipy_interpolate.py:290: FutureWarning: Using a non-tuple sequence for multidimensional indexing is deprecated; use `arr[tuple(seq)]` instead of `arr[seq]`. In the future this will be interpreted as an array index, `arr[np.array(seq)]`, which will result either in an error or a different result.\n",
      "  return self.values[idx_res]\n"
     ]
    },
    {
     "name": "stdout",
     "output_type": "stream",
     "text": [
      "region:  EUROPE station:  ZvenigorodhecergDWD\r"
     ]
    },
    {
     "name": "stderr",
     "output_type": "stream",
     "text": [
      "/home/augustinm/anaconda3/envs/pya/lib/python3.7/site-packages/numpy/lib/nanfunctions.py:1115: RuntimeWarning: All-NaN slice encountered\n",
      "  overwrite_input=overwrite_input)\n",
      "/home/augustinm/Dev/pyaerocom/trends/scripts/trends_functions.py:719: RuntimeWarning: invalid value encountered in double_scalars\n",
      "  rel_slope = a * 100 / reg[0]\n",
      "/home/augustinm/Dev/pyaerocom/trends/scripts/trends_functions.py:504: RuntimeWarning: invalid value encountered in double_scalars\n",
      "  delta_sl = m_err / v0\n",
      "/home/augustinm/Dev/pyaerocom/trends/scripts/trends_functions.py:505: RuntimeWarning: invalid value encountered in double_scalars\n",
      "  delta_ref = m * v0_err / v0**2\n",
      "/home/augustinm/Dev/pyaerocom/trends/scripts/trends_functions.py:727: RuntimeWarning: invalid value encountered in double_scalars\n",
      "  delta_sl = slope_err/a\n"
     ]
    },
    {
     "name": "stdout",
     "output_type": "stream",
     "text": [
      "GEOS-i33p2_HIST use cache/GEOS-i33p2_HIST_emiss.pkl\n"
     ]
    },
    {
     "name": "stderr",
     "output_type": "stream",
     "text": [
      "/home/augustinm/anaconda3/envs/pya/lib/python3.7/site-packages/numpy/ma/core.py:3172: FutureWarning: Using a non-tuple sequence for multidimensional indexing is deprecated; use `arr[tuple(seq)]` instead of `arr[seq]`. In the future this will be interpreted as an array index, `arr[np.array(seq)]`, which will result either in an error or a different result.\n",
      "  dout = self.data[indx]\n",
      "/home/augustinm/anaconda3/envs/pya/lib/python3.7/site-packages/iris/analysis/_scipy_interpolate.py:290: FutureWarning: Using a non-tuple sequence for multidimensional indexing is deprecated; use `arr[tuple(seq)]` instead of `arr[seq]`. In the future this will be interpreted as an array index, `arr[np.array(seq)]`, which will result either in an error or a different result.\n",
      "  return self.values[idx_res]\n"
     ]
    },
    {
     "name": "stdout",
     "output_type": "stream",
     "text": [
      "OsloCTM3v1.01-met2010_AP3-HIST use cache/OsloCTM3v1.01-met2010_AP3-HIST_emiss.pkl\n"
     ]
    },
    {
     "name": "stderr",
     "output_type": "stream",
     "text": [
      "/home/augustinm/anaconda3/envs/pya/lib/python3.7/site-packages/numpy/ma/core.py:3172: FutureWarning: Using a non-tuple sequence for multidimensional indexing is deprecated; use `arr[tuple(seq)]` instead of `arr[seq]`. In the future this will be interpreted as an array index, `arr[np.array(seq)]`, which will result either in an error or a different result.\n",
      "  dout = self.data[indx]\n",
      "/home/augustinm/anaconda3/envs/pya/lib/python3.7/site-packages/numpy/ma/core.py:3204: FutureWarning: Using a non-tuple sequence for multidimensional indexing is deprecated; use `arr[tuple(seq)]` instead of `arr[seq]`. In the future this will be interpreted as an array index, `arr[np.array(seq)]`, which will result either in an error or a different result.\n",
      "  mout = _mask[indx]\n",
      "/home/augustinm/anaconda3/envs/pya/lib/python3.7/site-packages/iris/analysis/_scipy_interpolate.py:290: FutureWarning: Using a non-tuple sequence for multidimensional indexing is deprecated; use `arr[tuple(seq)]` instead of `arr[seq]`. In the future this will be interpreted as an array index, `arr[np.array(seq)]`, which will result either in an error or a different result.\n",
      "  return self.values[idx_res]\n"
     ]
    },
    {
     "name": "stdout",
     "output_type": "stream",
     "text": [
      "region:  EUROPE station:  ZvenigorodhecergDWD\n",
      "Less than 4 points in selected period\n"
     ]
    },
    {
     "name": "stderr",
     "output_type": "stream",
     "text": [
      "/home/augustinm/anaconda3/envs/pya/lib/python3.7/site-packages/numpy/lib/nanfunctions.py:1115: RuntimeWarning: All-NaN slice encountered\n",
      "  overwrite_input=overwrite_input)\n"
     ]
    },
    {
     "name": "stdout",
     "output_type": "stream",
     "text": [
      "region:  ASIA station:  Yekaterinburgoo\n",
      "Less than 4 points in selected period\n",
      "region:  NAMERICA station:  Yumaesiuilleillelee\n",
      "Less than 4 points in selected period\n",
      "region:  SAMERICA station:  UdeConcepcion-CEFOP\n",
      "Less than 4 points in selected period\n",
      "region:  NAFRICA station:  SaadaSougouANMLI\n",
      "Less than 4 points in selected period\n",
      "region:  AUSTRALIA station:  Jabirurale\n",
      "Less than 4 points in selected period\n",
      "region:  WORLD station:  Zvenigorodurg-CEFOP\n",
      "Less than 4 points in selected period\n",
      "CAM5-ATRAS_AP3-HIST use cache/CAM5-ATRAS_AP3-HIST_emiss.pkl\n"
     ]
    },
    {
     "name": "stderr",
     "output_type": "stream",
     "text": [
      "/home/augustinm/anaconda3/envs/pya/lib/python3.7/site-packages/numpy/ma/core.py:3172: FutureWarning: Using a non-tuple sequence for multidimensional indexing is deprecated; use `arr[tuple(seq)]` instead of `arr[seq]`. In the future this will be interpreted as an array index, `arr[np.array(seq)]`, which will result either in an error or a different result.\n",
      "  dout = self.data[indx]\n",
      "/home/augustinm/anaconda3/envs/pya/lib/python3.7/site-packages/numpy/ma/core.py:3204: FutureWarning: Using a non-tuple sequence for multidimensional indexing is deprecated; use `arr[tuple(seq)]` instead of `arr[seq]`. In the future this will be interpreted as an array index, `arr[np.array(seq)]`, which will result either in an error or a different result.\n",
      "  mout = _mask[indx]\n",
      "/home/augustinm/anaconda3/envs/pya/lib/python3.7/site-packages/iris/analysis/_scipy_interpolate.py:290: FutureWarning: Using a non-tuple sequence for multidimensional indexing is deprecated; use `arr[tuple(seq)]` instead of `arr[seq]`. In the future this will be interpreted as an array index, `arr[np.array(seq)]`, which will result either in an error or a different result.\n",
      "  return self.values[idx_res]\n"
     ]
    },
    {
     "name": "stdout",
     "output_type": "stream",
     "text": [
      "region:  EUROPE station:  ZvenigorodhecergDWD\r"
     ]
    },
    {
     "name": "stderr",
     "output_type": "stream",
     "text": [
      "/home/augustinm/anaconda3/envs/pya/lib/python3.7/site-packages/numpy/lib/nanfunctions.py:1115: RuntimeWarning: All-NaN slice encountered\n",
      "  overwrite_input=overwrite_input)\n"
     ]
    },
    {
     "name": "stdout",
     "output_type": "stream",
     "text": [
      "\n",
      "Less than 4 points in selected period\n",
      "region:  ASIA station:  Yekaterinburgoo\n",
      "Less than 4 points in selected period\n",
      "region:  NAMERICA station:  Yumaesiuilleillelee\n",
      "Less than 4 points in selected period\n",
      "region:  SAMERICA station:  UdeConcepcion-CEFOP\n",
      "Less than 4 points in selected period\n",
      "region:  NAFRICA station:  SaadaSougouANMLI\n",
      "Less than 4 points in selected period\n",
      "region:  AUSTRALIA station:  Jabirurale\n",
      "Less than 4 points in selected period\n",
      "region:  WORLD station:  Zvenigorodurg-CEFOP MALE\n",
      "Less than 4 points in selected period\n",
      "GFDL-AM4-amip_HIST use cache/GFDL-AM4-amip_HIST_emiss.pkl\n"
     ]
    },
    {
     "name": "stderr",
     "output_type": "stream",
     "text": [
      "/home/augustinm/anaconda3/envs/pya/lib/python3.7/site-packages/numpy/ma/core.py:3172: FutureWarning: Using a non-tuple sequence for multidimensional indexing is deprecated; use `arr[tuple(seq)]` instead of `arr[seq]`. In the future this will be interpreted as an array index, `arr[np.array(seq)]`, which will result either in an error or a different result.\n",
      "  dout = self.data[indx]\n",
      "/home/augustinm/anaconda3/envs/pya/lib/python3.7/site-packages/iris/analysis/_scipy_interpolate.py:290: FutureWarning: Using a non-tuple sequence for multidimensional indexing is deprecated; use `arr[tuple(seq)]` instead of `arr[seq]`. In the future this will be interpreted as an array index, `arr[np.array(seq)]`, which will result either in an error or a different result.\n",
      "  return self.values[idx_res]\n"
     ]
    },
    {
     "name": "stdout",
     "output_type": "stream",
     "text": [
      "ECHAM6.3-HAM2.3-fSST_HIST use cache/ECHAM6.3-HAM2.3-fSST_HIST_emiss.pkl\n"
     ]
    },
    {
     "name": "stderr",
     "output_type": "stream",
     "text": [
      "/home/augustinm/anaconda3/envs/pya/lib/python3.7/site-packages/numpy/ma/core.py:3172: FutureWarning: Using a non-tuple sequence for multidimensional indexing is deprecated; use `arr[tuple(seq)]` instead of `arr[seq]`. In the future this will be interpreted as an array index, `arr[np.array(seq)]`, which will result either in an error or a different result.\n",
      "  dout = self.data[indx]\n",
      "/home/augustinm/anaconda3/envs/pya/lib/python3.7/site-packages/iris/analysis/_scipy_interpolate.py:290: FutureWarning: Using a non-tuple sequence for multidimensional indexing is deprecated; use `arr[tuple(seq)]` instead of `arr[seq]`. In the future this will be interpreted as an array index, `arr[np.array(seq)]`, which will result either in an error or a different result.\n",
      "  return self.values[idx_res]\n"
     ]
    },
    {
     "name": "stdout",
     "output_type": "stream",
     "text": [
      "region:  EUROPE station:  ZvenigorodhecergDWD\r"
     ]
    },
    {
     "name": "stderr",
     "output_type": "stream",
     "text": [
      "/home/augustinm/Dev/pyaerocom/trends/scripts/trends_functions.py:719: RuntimeWarning: invalid value encountered in double_scalars\n",
      "  rel_slope = a * 100 / reg[0]\n",
      "/home/augustinm/Dev/pyaerocom/trends/scripts/trends_functions.py:504: RuntimeWarning: invalid value encountered in double_scalars\n",
      "  delta_sl = m_err / v0\n",
      "/home/augustinm/Dev/pyaerocom/trends/scripts/trends_functions.py:505: RuntimeWarning: invalid value encountered in double_scalars\n",
      "  delta_ref = m * v0_err / v0**2\n",
      "/home/augustinm/Dev/pyaerocom/trends/scripts/trends_functions.py:727: RuntimeWarning: invalid value encountered in double_scalars\n",
      "  delta_sl = slope_err/a\n"
     ]
    },
    {
     "name": "stdout",
     "output_type": "stream",
     "text": [
      "BCC-CUACE_AP3-HIST use cache/BCC-CUACE_AP3-HIST_emiss.pkl\n"
     ]
    },
    {
     "name": "stderr",
     "output_type": "stream",
     "text": [
      "/home/augustinm/anaconda3/envs/pya/lib/python3.7/site-packages/iris/fileformats/netcdf.py:395: UserWarning: WARNING: missing_value not used since it\n",
      "cannot be safely cast to variable data type\n",
      "  var = variable[keys]\n",
      "/home/augustinm/anaconda3/envs/pya/lib/python3.7/site-packages/numpy/ma/core.py:3172: FutureWarning: Using a non-tuple sequence for multidimensional indexing is deprecated; use `arr[tuple(seq)]` instead of `arr[seq]`. In the future this will be interpreted as an array index, `arr[np.array(seq)]`, which will result either in an error or a different result.\n",
      "  dout = self.data[indx]\n",
      "/home/augustinm/anaconda3/envs/pya/lib/python3.7/site-packages/numpy/ma/core.py:3204: FutureWarning: Using a non-tuple sequence for multidimensional indexing is deprecated; use `arr[tuple(seq)]` instead of `arr[seq]`. In the future this will be interpreted as an array index, `arr[np.array(seq)]`, which will result either in an error or a different result.\n",
      "  mout = _mask[indx]\n",
      "/home/augustinm/anaconda3/envs/pya/lib/python3.7/site-packages/iris/analysis/_scipy_interpolate.py:290: FutureWarning: Using a non-tuple sequence for multidimensional indexing is deprecated; use `arr[tuple(seq)]` instead of `arr[seq]`. In the future this will be interpreted as an array index, `arr[np.array(seq)]`, which will result either in an error or a different result.\n",
      "  return self.values[idx_res]\n"
     ]
    },
    {
     "name": "stdout",
     "output_type": "stream",
     "text": [
      "region:  EUROPE station:  ZvenigorodhecergDWD\r"
     ]
    },
    {
     "name": "stderr",
     "output_type": "stream",
     "text": [
      "/home/augustinm/anaconda3/envs/pya/lib/python3.7/site-packages/numpy/lib/nanfunctions.py:1115: RuntimeWarning: All-NaN slice encountered\n",
      "  overwrite_input=overwrite_input)\n"
     ]
    },
    {
     "name": "stdout",
     "output_type": "stream",
     "text": [
      "GEOS-i33p2_HIST use cache/GEOS-i33p2_HIST_emiso4.pkl\n"
     ]
    },
    {
     "name": "stderr",
     "output_type": "stream",
     "text": [
      "/home/augustinm/anaconda3/envs/pya/lib/python3.7/site-packages/numpy/ma/core.py:3172: FutureWarning: Using a non-tuple sequence for multidimensional indexing is deprecated; use `arr[tuple(seq)]` instead of `arr[seq]`. In the future this will be interpreted as an array index, `arr[np.array(seq)]`, which will result either in an error or a different result.\n",
      "  dout = self.data[indx]\n",
      "/home/augustinm/anaconda3/envs/pya/lib/python3.7/site-packages/iris/analysis/_scipy_interpolate.py:290: FutureWarning: Using a non-tuple sequence for multidimensional indexing is deprecated; use `arr[tuple(seq)]` instead of `arr[seq]`. In the future this will be interpreted as an array index, `arr[np.array(seq)]`, which will result either in an error or a different result.\n",
      "  return self.values[idx_res]\n"
     ]
    },
    {
     "name": "stdout",
     "output_type": "stream",
     "text": [
      "OsloCTM3v1.01-met2010_AP3-HIST use cache/OsloCTM3v1.01-met2010_AP3-HIST_emiso4.pkl\n"
     ]
    },
    {
     "name": "stderr",
     "output_type": "stream",
     "text": [
      "/home/augustinm/anaconda3/envs/pya/lib/python3.7/site-packages/numpy/ma/core.py:3172: FutureWarning: Using a non-tuple sequence for multidimensional indexing is deprecated; use `arr[tuple(seq)]` instead of `arr[seq]`. In the future this will be interpreted as an array index, `arr[np.array(seq)]`, which will result either in an error or a different result.\n",
      "  dout = self.data[indx]\n",
      "/home/augustinm/anaconda3/envs/pya/lib/python3.7/site-packages/numpy/ma/core.py:3204: FutureWarning: Using a non-tuple sequence for multidimensional indexing is deprecated; use `arr[tuple(seq)]` instead of `arr[seq]`. In the future this will be interpreted as an array index, `arr[np.array(seq)]`, which will result either in an error or a different result.\n",
      "  mout = _mask[indx]\n",
      "/home/augustinm/anaconda3/envs/pya/lib/python3.7/site-packages/iris/analysis/_scipy_interpolate.py:290: FutureWarning: Using a non-tuple sequence for multidimensional indexing is deprecated; use `arr[tuple(seq)]` instead of `arr[seq]`. In the future this will be interpreted as an array index, `arr[np.array(seq)]`, which will result either in an error or a different result.\n",
      "  return self.values[idx_res]\n"
     ]
    },
    {
     "name": "stdout",
     "output_type": "stream",
     "text": [
      "region:  EUROPE station:  ZvenigorodhecergDWD\r"
     ]
    },
    {
     "name": "stderr",
     "output_type": "stream",
     "text": [
      "/home/augustinm/anaconda3/envs/pya/lib/python3.7/site-packages/numpy/lib/nanfunctions.py:1115: RuntimeWarning: All-NaN slice encountered\n",
      "  overwrite_input=overwrite_input)\n"
     ]
    },
    {
     "name": "stdout",
     "output_type": "stream",
     "text": [
      "\n",
      "Less than 4 points in selected period\n",
      "region:  ASIA station:  Yekaterinburgoo\n",
      "Less than 4 points in selected period\n",
      "region:  NAMERICA station:  Yumaesiuilleillelee\n",
      "Less than 4 points in selected period\n",
      "region:  SAMERICA station:  UdeConcepcion-CEFOP\n",
      "Less than 4 points in selected period\n",
      "region:  NAFRICA station:  SaadaSougouANMLI\n",
      "Less than 4 points in selected period\n",
      "region:  AUSTRALIA station:  Jabirurale\n",
      "Less than 4 points in selected period\n",
      "region:  WORLD station:  Zvenigorodurg-CEFOPRLD station:  Easton-MDE\n",
      "Less than 4 points in selected period\n",
      "CAM5-ATRAS_AP3-HIST use cache/CAM5-ATRAS_AP3-HIST_emiso4.pkl\n"
     ]
    },
    {
     "name": "stderr",
     "output_type": "stream",
     "text": [
      "/home/augustinm/anaconda3/envs/pya/lib/python3.7/site-packages/numpy/ma/core.py:3172: FutureWarning: Using a non-tuple sequence for multidimensional indexing is deprecated; use `arr[tuple(seq)]` instead of `arr[seq]`. In the future this will be interpreted as an array index, `arr[np.array(seq)]`, which will result either in an error or a different result.\n",
      "  dout = self.data[indx]\n",
      "/home/augustinm/anaconda3/envs/pya/lib/python3.7/site-packages/numpy/ma/core.py:3204: FutureWarning: Using a non-tuple sequence for multidimensional indexing is deprecated; use `arr[tuple(seq)]` instead of `arr[seq]`. In the future this will be interpreted as an array index, `arr[np.array(seq)]`, which will result either in an error or a different result.\n",
      "  mout = _mask[indx]\n",
      "/home/augustinm/anaconda3/envs/pya/lib/python3.7/site-packages/iris/analysis/_scipy_interpolate.py:290: FutureWarning: Using a non-tuple sequence for multidimensional indexing is deprecated; use `arr[tuple(seq)]` instead of `arr[seq]`. In the future this will be interpreted as an array index, `arr[np.array(seq)]`, which will result either in an error or a different result.\n",
      "  return self.values[idx_res]\n"
     ]
    },
    {
     "name": "stdout",
     "output_type": "stream",
     "text": [
      "region:  EUROPE station:  ZvenigorodhecergDWD\n",
      "Less than 4 points in selected period\n"
     ]
    },
    {
     "name": "stderr",
     "output_type": "stream",
     "text": [
      "/home/augustinm/anaconda3/envs/pya/lib/python3.7/site-packages/numpy/lib/nanfunctions.py:1115: RuntimeWarning: All-NaN slice encountered\n",
      "  overwrite_input=overwrite_input)\n"
     ]
    },
    {
     "name": "stdout",
     "output_type": "stream",
     "text": [
      "region:  ASIA station:  Yekaterinburgoo\n",
      "Less than 4 points in selected period\n",
      "region:  NAMERICA station:  Yumaesiuilleillelee\n",
      "Less than 4 points in selected period\n",
      "region:  SAMERICA station:  UdeConcepcion-CEFOP\n",
      "Less than 4 points in selected period\n",
      "region:  NAFRICA station:  SaadaSougouANMLI\n",
      "Less than 4 points in selected period\n",
      "region:  AUSTRALIA station:  Jabirurale\n",
      "Less than 4 points in selected period\n",
      "region:  WORLD station:  Zvenigorodurg-CEFOP\n",
      "Less than 4 points in selected period\n",
      "ECHAM6.3-HAM2.3-fSST_HIST read netcf file\n"
     ]
    },
    {
     "name": "stderr",
     "output_type": "stream",
     "text": [
      "/home/augustinm/Dev/pyaerocom/pyaerocom/pyaerocom/ungriddeddata.py:126: RuntimeWarning: invalid value encountered in multiply\n",
      "  self._data = np.empty([num_points, self._COLNO]) * np.nan\n",
      "/home/augustinm/anaconda3/envs/pya/lib/python3.7/site-packages/numpy/ma/core.py:3172: FutureWarning: Using a non-tuple sequence for multidimensional indexing is deprecated; use `arr[tuple(seq)]` instead of `arr[seq]`. In the future this will be interpreted as an array index, `arr[np.array(seq)]`, which will result either in an error or a different result.\n",
      "  dout = self.data[indx]\n",
      "/home/augustinm/anaconda3/envs/pya/lib/python3.7/site-packages/iris/analysis/_scipy_interpolate.py:290: FutureWarning: Using a non-tuple sequence for multidimensional indexing is deprecated; use `arr[tuple(seq)]` instead of `arr[seq]`. In the future this will be interpreted as an array index, `arr[np.array(seq)]`, which will result either in an error or a different result.\n",
      "  return self.values[idx_res]\n"
     ]
    },
    {
     "name": "stdout",
     "output_type": "stream",
     "text": [
      "region:  AUSTRALIA station:  JabiruraleNMLIEFOP\r"
     ]
    },
    {
     "name": "stderr",
     "output_type": "stream",
     "text": [
      "/home/augustinm/Dev/pyaerocom/pyaerocom/pyaerocom/ungriddeddata.py:126: RuntimeWarning: invalid value encountered in multiply\n",
      "  self._data = np.empty([num_points, self._COLNO]) * np.nan\n"
     ]
    },
    {
     "name": "stdout",
     "output_type": "stream",
     "text": [
      "GEOS-i33p2_HIST read netcf fileorodurg-CEFOP\n"
     ]
    },
    {
     "name": "stderr",
     "output_type": "stream",
     "text": [
      "/home/augustinm/anaconda3/envs/pya/lib/python3.7/site-packages/iris/fileformats/_pyke_rules/compiled_krb/fc_rules_cf_fc.py:1932: UserWarning: Ignoring netCDF variable 'time' invalid units 'month of year'\n",
      "  warnings.warn(msg)\n",
      "/home/augustinm/anaconda3/envs/pya/lib/python3.7/site-packages/iris/fileformats/_pyke_rules/compiled_krb/fc_rules_cf_fc.py:1932: UserWarning: Ignoring netCDF variable 'time' invalid units 'month of year'\n",
      "  warnings.warn(msg)\n",
      "/home/augustinm/anaconda3/envs/pya/lib/python3.7/site-packages/iris/fileformats/_pyke_rules/compiled_krb/fc_rules_cf_fc.py:1932: UserWarning: Ignoring netCDF variable 'time' invalid units 'month of year'\n",
      "  warnings.warn(msg)\n",
      "/home/augustinm/anaconda3/envs/pya/lib/python3.7/site-packages/iris/fileformats/_pyke_rules/compiled_krb/fc_rules_cf_fc.py:1932: UserWarning: Ignoring netCDF variable 'time' invalid units 'month of year'\n",
      "  warnings.warn(msg)\n",
      "/home/augustinm/anaconda3/envs/pya/lib/python3.7/site-packages/iris/fileformats/_pyke_rules/compiled_krb/fc_rules_cf_fc.py:1932: UserWarning: Ignoring netCDF variable 'time' invalid units 'month of year'\n",
      "  warnings.warn(msg)\n",
      "/home/augustinm/anaconda3/envs/pya/lib/python3.7/site-packages/iris/fileformats/_pyke_rules/compiled_krb/fc_rules_cf_fc.py:1932: UserWarning: Ignoring netCDF variable 'time' invalid units 'month of year'\n",
      "  warnings.warn(msg)\n",
      "/home/augustinm/anaconda3/envs/pya/lib/python3.7/site-packages/iris/fileformats/_pyke_rules/compiled_krb/fc_rules_cf_fc.py:1932: UserWarning: Ignoring netCDF variable 'time' invalid units 'month of year'\n",
      "  warnings.warn(msg)\n",
      "/home/augustinm/anaconda3/envs/pya/lib/python3.7/site-packages/iris/fileformats/_pyke_rules/compiled_krb/fc_rules_cf_fc.py:1932: UserWarning: Ignoring netCDF variable 'time' invalid units 'month of year'\n",
      "  warnings.warn(msg)\n",
      "/home/augustinm/anaconda3/envs/pya/lib/python3.7/site-packages/iris/fileformats/_pyke_rules/compiled_krb/fc_rules_cf_fc.py:1932: UserWarning: Ignoring netCDF variable 'time' invalid units 'month of year'\n",
      "  warnings.warn(msg)\n",
      "/home/augustinm/anaconda3/envs/pya/lib/python3.7/site-packages/iris/fileformats/_pyke_rules/compiled_krb/fc_rules_cf_fc.py:1932: UserWarning: Ignoring netCDF variable 'time' invalid units 'month of year'\n",
      "  warnings.warn(msg)\n",
      "/home/augustinm/anaconda3/envs/pya/lib/python3.7/site-packages/iris/fileformats/_pyke_rules/compiled_krb/fc_rules_cf_fc.py:1932: UserWarning: Ignoring netCDF variable 'time' invalid units 'month of year'\n",
      "  warnings.warn(msg)\n",
      "/home/augustinm/anaconda3/envs/pya/lib/python3.7/site-packages/iris/fileformats/_pyke_rules/compiled_krb/fc_rules_cf_fc.py:1932: UserWarning: Ignoring netCDF variable 'time' invalid units 'month of year'\n",
      "  warnings.warn(msg)\n",
      "/home/augustinm/anaconda3/envs/pya/lib/python3.7/site-packages/iris/fileformats/_pyke_rules/compiled_krb/fc_rules_cf_fc.py:1932: UserWarning: Ignoring netCDF variable 'time' invalid units 'month of year'\n",
      "  warnings.warn(msg)\n",
      "/home/augustinm/anaconda3/envs/pya/lib/python3.7/site-packages/iris/fileformats/_pyke_rules/compiled_krb/fc_rules_cf_fc.py:1932: UserWarning: Ignoring netCDF variable 'time' invalid units 'month of year'\n",
      "  warnings.warn(msg)\n",
      "/home/augustinm/anaconda3/envs/pya/lib/python3.7/site-packages/iris/fileformats/_pyke_rules/compiled_krb/fc_rules_cf_fc.py:1932: UserWarning: Ignoring netCDF variable 'time' invalid units 'month of year'\n",
      "  warnings.warn(msg)\n",
      "/home/augustinm/anaconda3/envs/pya/lib/python3.7/site-packages/iris/fileformats/_pyke_rules/compiled_krb/fc_rules_cf_fc.py:1932: UserWarning: Ignoring netCDF variable 'time' invalid units 'month of year'\n",
      "  warnings.warn(msg)\n",
      "/home/augustinm/anaconda3/envs/pya/lib/python3.7/site-packages/iris/fileformats/_pyke_rules/compiled_krb/fc_rules_cf_fc.py:1932: UserWarning: Ignoring netCDF variable 'time' invalid units 'month of year'\n",
      "  warnings.warn(msg)\n",
      "/home/augustinm/anaconda3/envs/pya/lib/python3.7/site-packages/iris/fileformats/_pyke_rules/compiled_krb/fc_rules_cf_fc.py:1932: UserWarning: Ignoring netCDF variable 'time' invalid units 'month of year'\n",
      "  warnings.warn(msg)\n",
      "/home/augustinm/anaconda3/envs/pya/lib/python3.7/site-packages/iris/fileformats/_pyke_rules/compiled_krb/fc_rules_cf_fc.py:1932: UserWarning: Ignoring netCDF variable 'time' invalid units 'month of year'\n",
      "  warnings.warn(msg)\n",
      "/home/augustinm/anaconda3/envs/pya/lib/python3.7/site-packages/iris/fileformats/_pyke_rules/compiled_krb/fc_rules_cf_fc.py:1932: UserWarning: Ignoring netCDF variable 'time' invalid units 'month of year'\n",
      "  warnings.warn(msg)\n",
      "/home/augustinm/anaconda3/envs/pya/lib/python3.7/site-packages/iris/fileformats/_pyke_rules/compiled_krb/fc_rules_cf_fc.py:1932: UserWarning: Ignoring netCDF variable 'time' invalid units 'month of year'\n",
      "  warnings.warn(msg)\n",
      "/home/augustinm/anaconda3/envs/pya/lib/python3.7/site-packages/iris/fileformats/_pyke_rules/compiled_krb/fc_rules_cf_fc.py:1932: UserWarning: Ignoring netCDF variable 'time' invalid units 'month of year'\n",
      "  warnings.warn(msg)\n",
      "/home/augustinm/anaconda3/envs/pya/lib/python3.7/site-packages/iris/fileformats/_pyke_rules/compiled_krb/fc_rules_cf_fc.py:1932: UserWarning: Ignoring netCDF variable 'time' invalid units 'month of year'\n",
      "  warnings.warn(msg)\n",
      "/home/augustinm/anaconda3/envs/pya/lib/python3.7/site-packages/iris/fileformats/_pyke_rules/compiled_krb/fc_rules_cf_fc.py:1932: UserWarning: Ignoring netCDF variable 'time' invalid units 'month of year'\n",
      "  warnings.warn(msg)\n",
      "/home/augustinm/anaconda3/envs/pya/lib/python3.7/site-packages/iris/fileformats/_pyke_rules/compiled_krb/fc_rules_cf_fc.py:1932: UserWarning: Ignoring netCDF variable 'time' invalid units 'month of year'\n",
      "  warnings.warn(msg)\n",
      "/home/augustinm/anaconda3/envs/pya/lib/python3.7/site-packages/iris/fileformats/_pyke_rules/compiled_krb/fc_rules_cf_fc.py:1932: UserWarning: Ignoring netCDF variable 'time' invalid units 'month of year'\n",
      "  warnings.warn(msg)\n",
      "/home/augustinm/anaconda3/envs/pya/lib/python3.7/site-packages/iris/fileformats/_pyke_rules/compiled_krb/fc_rules_cf_fc.py:1932: UserWarning: Ignoring netCDF variable 'time' invalid units 'month of year'\n",
      "  warnings.warn(msg)\n",
      "/home/augustinm/anaconda3/envs/pya/lib/python3.7/site-packages/iris/fileformats/_pyke_rules/compiled_krb/fc_rules_cf_fc.py:1932: UserWarning: Ignoring netCDF variable 'time' invalid units 'month of year'\n",
      "  warnings.warn(msg)\n",
      "/home/augustinm/anaconda3/envs/pya/lib/python3.7/site-packages/iris/fileformats/_pyke_rules/compiled_krb/fc_rules_cf_fc.py:1932: UserWarning: Ignoring netCDF variable 'time' invalid units 'month of year'\n",
      "  warnings.warn(msg)\n",
      "/home/augustinm/anaconda3/envs/pya/lib/python3.7/site-packages/iris/fileformats/_pyke_rules/compiled_krb/fc_rules_cf_fc.py:1932: UserWarning: Ignoring netCDF variable 'time' invalid units 'month of year'\n",
      "  warnings.warn(msg)\n",
      "/home/augustinm/anaconda3/envs/pya/lib/python3.7/site-packages/iris/fileformats/_pyke_rules/compiled_krb/fc_rules_cf_fc.py:1932: UserWarning: Ignoring netCDF variable 'time' invalid units 'month of year'\n",
      "  warnings.warn(msg)\n",
      "/home/augustinm/anaconda3/envs/pya/lib/python3.7/site-packages/iris/fileformats/_pyke_rules/compiled_krb/fc_rules_cf_fc.py:1932: UserWarning: Ignoring netCDF variable 'time' invalid units 'month of year'\n",
      "  warnings.warn(msg)\n",
      "/home/augustinm/anaconda3/envs/pya/lib/python3.7/site-packages/iris/fileformats/_pyke_rules/compiled_krb/fc_rules_cf_fc.py:1932: UserWarning: Ignoring netCDF variable 'time' invalid units 'month of year'\n",
      "  warnings.warn(msg)\n",
      "/home/augustinm/anaconda3/envs/pya/lib/python3.7/site-packages/iris/fileformats/_pyke_rules/compiled_krb/fc_rules_cf_fc.py:1932: UserWarning: Ignoring netCDF variable 'time' invalid units 'month of year'\n",
      "  warnings.warn(msg)\n",
      "/home/augustinm/anaconda3/envs/pya/lib/python3.7/site-packages/iris/fileformats/_pyke_rules/compiled_krb/fc_rules_cf_fc.py:1932: UserWarning: Ignoring netCDF variable 'time' invalid units 'month of year'\n",
      "  warnings.warn(msg)\n",
      "/home/augustinm/anaconda3/envs/pya/lib/python3.7/site-packages/iris/fileformats/_pyke_rules/compiled_krb/fc_rules_cf_fc.py:1932: UserWarning: Ignoring netCDF variable 'time' invalid units 'month of year'\n",
      "  warnings.warn(msg)\n",
      "/home/augustinm/anaconda3/envs/pya/lib/python3.7/site-packages/iris/fileformats/_pyke_rules/compiled_krb/fc_rules_cf_fc.py:1932: UserWarning: Ignoring netCDF variable 'time' invalid units 'month of year'\n",
      "  warnings.warn(msg)\n",
      "/home/augustinm/anaconda3/envs/pya/lib/python3.7/site-packages/iris/fileformats/_pyke_rules/compiled_krb/fc_rules_cf_fc.py:1932: UserWarning: Ignoring netCDF variable 'time' invalid units 'month of year'\n",
      "  warnings.warn(msg)\n",
      "/home/augustinm/anaconda3/envs/pya/lib/python3.7/site-packages/iris/fileformats/_pyke_rules/compiled_krb/fc_rules_cf_fc.py:1932: UserWarning: Ignoring netCDF variable 'time' invalid units 'month of year'\n",
      "  warnings.warn(msg)\n",
      "/home/augustinm/anaconda3/envs/pya/lib/python3.7/site-packages/numpy/ma/core.py:3172: FutureWarning: Using a non-tuple sequence for multidimensional indexing is deprecated; use `arr[tuple(seq)]` instead of `arr[seq]`. In the future this will be interpreted as an array index, `arr[np.array(seq)]`, which will result either in an error or a different result.\n",
      "  dout = self.data[indx]\n",
      "/home/augustinm/anaconda3/envs/pya/lib/python3.7/site-packages/iris/analysis/_scipy_interpolate.py:290: FutureWarning: Using a non-tuple sequence for multidimensional indexing is deprecated; use `arr[tuple(seq)]` instead of `arr[seq]`. In the future this will be interpreted as an array index, `arr[np.array(seq)]`, which will result either in an error or a different result.\n",
      "  return self.values[idx_res]\n"
     ]
    },
    {
     "name": "stdout",
     "output_type": "stream",
     "text": [
      "OsloCTM3v1.01-met2010_AP3-HIST read netcf fileP\n"
     ]
    },
    {
     "name": "stderr",
     "output_type": "stream",
     "text": [
      "/home/augustinm/anaconda3/envs/pya/lib/python3.7/site-packages/numpy/ma/core.py:3172: FutureWarning: Using a non-tuple sequence for multidimensional indexing is deprecated; use `arr[tuple(seq)]` instead of `arr[seq]`. In the future this will be interpreted as an array index, `arr[np.array(seq)]`, which will result either in an error or a different result.\n",
      "  dout = self.data[indx]\n",
      "/home/augustinm/anaconda3/envs/pya/lib/python3.7/site-packages/numpy/ma/core.py:3204: FutureWarning: Using a non-tuple sequence for multidimensional indexing is deprecated; use `arr[tuple(seq)]` instead of `arr[seq]`. In the future this will be interpreted as an array index, `arr[np.array(seq)]`, which will result either in an error or a different result.\n",
      "  mout = _mask[indx]\n",
      "/home/augustinm/anaconda3/envs/pya/lib/python3.7/site-packages/iris/analysis/_scipy_interpolate.py:290: FutureWarning: Using a non-tuple sequence for multidimensional indexing is deprecated; use `arr[tuple(seq)]` instead of `arr[seq]`. In the future this will be interpreted as an array index, `arr[np.array(seq)]`, which will result either in an error or a different result.\n",
      "  return self.values[idx_res]\n"
     ]
    },
    {
     "name": "stdout",
     "output_type": "stream",
     "text": [
      "region:  EUROPE station:  ZvenigorodhecergDWD\n",
      "Less than 4 points in selected period\n"
     ]
    },
    {
     "name": "stderr",
     "output_type": "stream",
     "text": [
      "/home/augustinm/anaconda3/envs/pya/lib/python3.7/site-packages/numpy/lib/nanfunctions.py:1115: RuntimeWarning: All-NaN slice encountered\n",
      "  overwrite_input=overwrite_input)\n"
     ]
    },
    {
     "name": "stdout",
     "output_type": "stream",
     "text": [
      "region:  ASIA station:  Yekaterinburgoo\n",
      "Less than 4 points in selected period\n",
      "region:  NAMERICA station:  Yumaesiuilleillelee\n",
      "Less than 4 points in selected period\n",
      "region:  SAMERICA station:  UdeConcepcion-CEFOP\n",
      "Less than 4 points in selected period\n",
      "region:  NAFRICA station:  SaadaSougouANMLI\n",
      "Less than 4 points in selected period\n",
      "region:  AUSTRALIA station:  Jabirurale\n",
      "Less than 4 points in selected period\n",
      "region:  WORLD station:  Zvenigorodurg-CEFOP\n",
      "Less than 4 points in selected period\n",
      "CAM5-ATRAS_AP3-HIST read netcf file\n"
     ]
    },
    {
     "name": "stderr",
     "output_type": "stream",
     "text": [
      "/home/augustinm/anaconda3/envs/pya/lib/python3.7/site-packages/numpy/ma/core.py:3172: FutureWarning: Using a non-tuple sequence for multidimensional indexing is deprecated; use `arr[tuple(seq)]` instead of `arr[seq]`. In the future this will be interpreted as an array index, `arr[np.array(seq)]`, which will result either in an error or a different result.\n",
      "  dout = self.data[indx]\n",
      "/home/augustinm/anaconda3/envs/pya/lib/python3.7/site-packages/numpy/ma/core.py:3204: FutureWarning: Using a non-tuple sequence for multidimensional indexing is deprecated; use `arr[tuple(seq)]` instead of `arr[seq]`. In the future this will be interpreted as an array index, `arr[np.array(seq)]`, which will result either in an error or a different result.\n",
      "  mout = _mask[indx]\n",
      "/home/augustinm/anaconda3/envs/pya/lib/python3.7/site-packages/iris/analysis/_scipy_interpolate.py:290: FutureWarning: Using a non-tuple sequence for multidimensional indexing is deprecated; use `arr[tuple(seq)]` instead of `arr[seq]`. In the future this will be interpreted as an array index, `arr[np.array(seq)]`, which will result either in an error or a different result.\n",
      "  return self.values[idx_res]\n"
     ]
    },
    {
     "name": "stdout",
     "output_type": "stream",
     "text": [
      "region:  EUROPE station:  ZvenigorodhecergDWD\r"
     ]
    },
    {
     "name": "stderr",
     "output_type": "stream",
     "text": [
      "/home/augustinm/anaconda3/envs/pya/lib/python3.7/site-packages/numpy/lib/nanfunctions.py:1115: RuntimeWarning: All-NaN slice encountered\n",
      "  overwrite_input=overwrite_input)\n"
     ]
    },
    {
     "name": "stdout",
     "output_type": "stream",
     "text": [
      "\n",
      "Less than 4 points in selected period\n",
      "region:  ASIA station:  Yekaterinburgoo\n",
      "Less than 4 points in selected period\n",
      "region:  NAMERICA station:  Yumaesiuilleillelee\n",
      "Less than 4 points in selected period\n",
      "region:  SAMERICA station:  UdeConcepcion-CEFOPtation:  Belterra\n",
      "Less than 4 points in selected period\n",
      "region:  NAFRICA station:  SaadaSougouANMLI\n",
      "Less than 4 points in selected period\n",
      "region:  AUSTRALIA station:  Jabirurale\n",
      "Less than 4 points in selected period\n",
      "region:  WORLD station:  Zvenigorodurg-CEFOP\n",
      "Less than 4 points in selected period\n",
      "GFDL-AM4-amip_HIST read netcf file\n"
     ]
    },
    {
     "name": "stderr",
     "output_type": "stream",
     "text": [
      "/home/augustinm/anaconda3/envs/pya/lib/python3.7/site-packages/iris/fileformats/cf.py:798: UserWarning: Missing CF-netCDF measure variable 'area', referenced by netCDF variable 'emioa'\n",
      "  warnings.warn(message % (variable_name, nc_var_name))\n",
      "/home/augustinm/anaconda3/envs/pya/lib/python3.7/site-packages/iris/fileformats/cf.py:798: UserWarning: Missing CF-netCDF measure variable 'area', referenced by netCDF variable 'emioa'\n",
      "  warnings.warn(message % (variable_name, nc_var_name))\n",
      "/home/augustinm/anaconda3/envs/pya/lib/python3.7/site-packages/iris/fileformats/cf.py:798: UserWarning: Missing CF-netCDF measure variable 'area', referenced by netCDF variable 'emioa'\n",
      "  warnings.warn(message % (variable_name, nc_var_name))\n",
      "/home/augustinm/anaconda3/envs/pya/lib/python3.7/site-packages/iris/fileformats/cf.py:798: UserWarning: Missing CF-netCDF measure variable 'area', referenced by netCDF variable 'emioa'\n",
      "  warnings.warn(message % (variable_name, nc_var_name))\n",
      "/home/augustinm/anaconda3/envs/pya/lib/python3.7/site-packages/iris/fileformats/cf.py:798: UserWarning: Missing CF-netCDF measure variable 'area', referenced by netCDF variable 'emioa'\n",
      "  warnings.warn(message % (variable_name, nc_var_name))\n",
      "/home/augustinm/anaconda3/envs/pya/lib/python3.7/site-packages/iris/fileformats/cf.py:798: UserWarning: Missing CF-netCDF measure variable 'area', referenced by netCDF variable 'emioa'\n",
      "  warnings.warn(message % (variable_name, nc_var_name))\n",
      "/home/augustinm/anaconda3/envs/pya/lib/python3.7/site-packages/iris/fileformats/cf.py:798: UserWarning: Missing CF-netCDF measure variable 'area', referenced by netCDF variable 'emioa'\n",
      "  warnings.warn(message % (variable_name, nc_var_name))\n",
      "/home/augustinm/anaconda3/envs/pya/lib/python3.7/site-packages/iris/fileformats/cf.py:798: UserWarning: Missing CF-netCDF measure variable 'area', referenced by netCDF variable 'emioa'\n",
      "  warnings.warn(message % (variable_name, nc_var_name))\n",
      "/home/augustinm/anaconda3/envs/pya/lib/python3.7/site-packages/iris/fileformats/cf.py:798: UserWarning: Missing CF-netCDF measure variable 'area', referenced by netCDF variable 'emioa'\n",
      "  warnings.warn(message % (variable_name, nc_var_name))\n",
      "/home/augustinm/anaconda3/envs/pya/lib/python3.7/site-packages/iris/fileformats/cf.py:798: UserWarning: Missing CF-netCDF measure variable 'area', referenced by netCDF variable 'emioa'\n",
      "  warnings.warn(message % (variable_name, nc_var_name))\n",
      "/home/augustinm/anaconda3/envs/pya/lib/python3.7/site-packages/iris/fileformats/cf.py:798: UserWarning: Missing CF-netCDF measure variable 'area', referenced by netCDF variable 'emioa'\n",
      "  warnings.warn(message % (variable_name, nc_var_name))\n",
      "/home/augustinm/anaconda3/envs/pya/lib/python3.7/site-packages/iris/fileformats/cf.py:798: UserWarning: Missing CF-netCDF measure variable 'area', referenced by netCDF variable 'emioa'\n",
      "  warnings.warn(message % (variable_name, nc_var_name))\n",
      "/home/augustinm/anaconda3/envs/pya/lib/python3.7/site-packages/iris/fileformats/cf.py:798: UserWarning: Missing CF-netCDF measure variable 'area', referenced by netCDF variable 'emioa'\n",
      "  warnings.warn(message % (variable_name, nc_var_name))\n",
      "/home/augustinm/anaconda3/envs/pya/lib/python3.7/site-packages/iris/fileformats/cf.py:798: UserWarning: Missing CF-netCDF measure variable 'area', referenced by netCDF variable 'emioa'\n",
      "  warnings.warn(message % (variable_name, nc_var_name))\n",
      "/home/augustinm/anaconda3/envs/pya/lib/python3.7/site-packages/iris/fileformats/cf.py:798: UserWarning: Missing CF-netCDF measure variable 'area', referenced by netCDF variable 'emioa'\n",
      "  warnings.warn(message % (variable_name, nc_var_name))\n",
      "/home/augustinm/anaconda3/envs/pya/lib/python3.7/site-packages/iris/fileformats/cf.py:798: UserWarning: Missing CF-netCDF measure variable 'area', referenced by netCDF variable 'emioa'\n",
      "  warnings.warn(message % (variable_name, nc_var_name))\n",
      "/home/augustinm/anaconda3/envs/pya/lib/python3.7/site-packages/iris/fileformats/cf.py:798: UserWarning: Missing CF-netCDF measure variable 'area', referenced by netCDF variable 'emioa'\n",
      "  warnings.warn(message % (variable_name, nc_var_name))\n",
      "/home/augustinm/anaconda3/envs/pya/lib/python3.7/site-packages/iris/fileformats/cf.py:798: UserWarning: Missing CF-netCDF measure variable 'area', referenced by netCDF variable 'emioa'\n",
      "  warnings.warn(message % (variable_name, nc_var_name))\n",
      "/home/augustinm/anaconda3/envs/pya/lib/python3.7/site-packages/iris/fileformats/cf.py:798: UserWarning: Missing CF-netCDF measure variable 'area', referenced by netCDF variable 'emioa'\n",
      "  warnings.warn(message % (variable_name, nc_var_name))\n",
      "/home/augustinm/anaconda3/envs/pya/lib/python3.7/site-packages/iris/fileformats/cf.py:798: UserWarning: Missing CF-netCDF measure variable 'area', referenced by netCDF variable 'emioa'\n",
      "  warnings.warn(message % (variable_name, nc_var_name))\n",
      "/home/augustinm/anaconda3/envs/pya/lib/python3.7/site-packages/iris/fileformats/cf.py:798: UserWarning: Missing CF-netCDF measure variable 'area', referenced by netCDF variable 'emioa'\n",
      "  warnings.warn(message % (variable_name, nc_var_name))\n",
      "/home/augustinm/anaconda3/envs/pya/lib/python3.7/site-packages/iris/fileformats/cf.py:798: UserWarning: Missing CF-netCDF measure variable 'area', referenced by netCDF variable 'emioa'\n",
      "  warnings.warn(message % (variable_name, nc_var_name))\n",
      "/home/augustinm/anaconda3/envs/pya/lib/python3.7/site-packages/iris/fileformats/cf.py:798: UserWarning: Missing CF-netCDF measure variable 'area', referenced by netCDF variable 'emioa'\n",
      "  warnings.warn(message % (variable_name, nc_var_name))\n",
      "/home/augustinm/anaconda3/envs/pya/lib/python3.7/site-packages/iris/fileformats/cf.py:798: UserWarning: Missing CF-netCDF measure variable 'area', referenced by netCDF variable 'emioa'\n",
      "  warnings.warn(message % (variable_name, nc_var_name))\n",
      "/home/augustinm/anaconda3/envs/pya/lib/python3.7/site-packages/iris/fileformats/cf.py:798: UserWarning: Missing CF-netCDF measure variable 'area', referenced by netCDF variable 'emioa'\n",
      "  warnings.warn(message % (variable_name, nc_var_name))\n",
      "/home/augustinm/anaconda3/envs/pya/lib/python3.7/site-packages/iris/fileformats/cf.py:798: UserWarning: Missing CF-netCDF measure variable 'area', referenced by netCDF variable 'emioa'\n",
      "  warnings.warn(message % (variable_name, nc_var_name))\n",
      "/home/augustinm/anaconda3/envs/pya/lib/python3.7/site-packages/iris/fileformats/cf.py:798: UserWarning: Missing CF-netCDF measure variable 'area', referenced by netCDF variable 'emioa'\n",
      "  warnings.warn(message % (variable_name, nc_var_name))\n",
      "/home/augustinm/anaconda3/envs/pya/lib/python3.7/site-packages/iris/fileformats/cf.py:798: UserWarning: Missing CF-netCDF measure variable 'area', referenced by netCDF variable 'emioa'\n",
      "  warnings.warn(message % (variable_name, nc_var_name))\n",
      "/home/augustinm/anaconda3/envs/pya/lib/python3.7/site-packages/iris/fileformats/cf.py:798: UserWarning: Missing CF-netCDF measure variable 'area', referenced by netCDF variable 'emioa'\n",
      "  warnings.warn(message % (variable_name, nc_var_name))\n",
      "/home/augustinm/anaconda3/envs/pya/lib/python3.7/site-packages/iris/fileformats/cf.py:798: UserWarning: Missing CF-netCDF measure variable 'area', referenced by netCDF variable 'emioa'\n",
      "  warnings.warn(message % (variable_name, nc_var_name))\n",
      "/home/augustinm/anaconda3/envs/pya/lib/python3.7/site-packages/iris/fileformats/cf.py:798: UserWarning: Missing CF-netCDF measure variable 'area', referenced by netCDF variable 'emioa'\n",
      "  warnings.warn(message % (variable_name, nc_var_name))\n",
      "/home/augustinm/anaconda3/envs/pya/lib/python3.7/site-packages/iris/fileformats/cf.py:798: UserWarning: Missing CF-netCDF measure variable 'area', referenced by netCDF variable 'emioa'\n",
      "  warnings.warn(message % (variable_name, nc_var_name))\n",
      "/home/augustinm/anaconda3/envs/pya/lib/python3.7/site-packages/iris/fileformats/cf.py:798: UserWarning: Missing CF-netCDF measure variable 'area', referenced by netCDF variable 'emioa'\n",
      "  warnings.warn(message % (variable_name, nc_var_name))\n",
      "/home/augustinm/anaconda3/envs/pya/lib/python3.7/site-packages/iris/fileformats/cf.py:798: UserWarning: Missing CF-netCDF measure variable 'area', referenced by netCDF variable 'emioa'\n",
      "  warnings.warn(message % (variable_name, nc_var_name))\n",
      "/home/augustinm/anaconda3/envs/pya/lib/python3.7/site-packages/iris/fileformats/cf.py:798: UserWarning: Missing CF-netCDF measure variable 'area', referenced by netCDF variable 'emioa'\n",
      "  warnings.warn(message % (variable_name, nc_var_name))\n",
      "/home/augustinm/anaconda3/envs/pya/lib/python3.7/site-packages/iris/fileformats/cf.py:798: UserWarning: Missing CF-netCDF measure variable 'area', referenced by netCDF variable 'emioa'\n",
      "  warnings.warn(message % (variable_name, nc_var_name))\n",
      "/home/augustinm/anaconda3/envs/pya/lib/python3.7/site-packages/iris/fileformats/cf.py:798: UserWarning: Missing CF-netCDF measure variable 'area', referenced by netCDF variable 'emioa'\n",
      "  warnings.warn(message % (variable_name, nc_var_name))\n",
      "/home/augustinm/anaconda3/envs/pya/lib/python3.7/site-packages/iris/fileformats/cf.py:798: UserWarning: Missing CF-netCDF measure variable 'area', referenced by netCDF variable 'emioa'\n",
      "  warnings.warn(message % (variable_name, nc_var_name))\n",
      "/home/augustinm/anaconda3/envs/pya/lib/python3.7/site-packages/iris/fileformats/cf.py:798: UserWarning: Missing CF-netCDF measure variable 'area', referenced by netCDF variable 'emioa'\n",
      "  warnings.warn(message % (variable_name, nc_var_name))\n",
      "/home/augustinm/anaconda3/envs/pya/lib/python3.7/site-packages/iris/fileformats/cf.py:798: UserWarning: Missing CF-netCDF measure variable 'area', referenced by netCDF variable 'emioa'\n",
      "  warnings.warn(message % (variable_name, nc_var_name))\n",
      "/home/augustinm/anaconda3/envs/pya/lib/python3.7/site-packages/iris/fileformats/cf.py:798: UserWarning: Missing CF-netCDF measure variable 'area', referenced by netCDF variable 'emioa'\n",
      "  warnings.warn(message % (variable_name, nc_var_name))\n",
      "/home/augustinm/anaconda3/envs/pya/lib/python3.7/site-packages/iris/fileformats/cf.py:798: UserWarning: Missing CF-netCDF measure variable 'area', referenced by netCDF variable 'emioa'\n",
      "  warnings.warn(message % (variable_name, nc_var_name))\n",
      "/home/augustinm/anaconda3/envs/pya/lib/python3.7/site-packages/iris/fileformats/cf.py:798: UserWarning: Missing CF-netCDF measure variable 'area', referenced by netCDF variable 'emioa'\n",
      "  warnings.warn(message % (variable_name, nc_var_name))\n",
      "/home/augustinm/anaconda3/envs/pya/lib/python3.7/site-packages/iris/fileformats/cf.py:798: UserWarning: Missing CF-netCDF measure variable 'area', referenced by netCDF variable 'emioa'\n",
      "  warnings.warn(message % (variable_name, nc_var_name))\n",
      "/home/augustinm/anaconda3/envs/pya/lib/python3.7/site-packages/iris/fileformats/cf.py:798: UserWarning: Missing CF-netCDF measure variable 'area', referenced by netCDF variable 'emioa'\n",
      "  warnings.warn(message % (variable_name, nc_var_name))\n",
      "/home/augustinm/anaconda3/envs/pya/lib/python3.7/site-packages/iris/fileformats/cf.py:798: UserWarning: Missing CF-netCDF measure variable 'area', referenced by netCDF variable 'emioa'\n",
      "  warnings.warn(message % (variable_name, nc_var_name))\n",
      "/home/augustinm/anaconda3/envs/pya/lib/python3.7/site-packages/iris/fileformats/cf.py:798: UserWarning: Missing CF-netCDF measure variable 'area', referenced by netCDF variable 'emioa'\n",
      "  warnings.warn(message % (variable_name, nc_var_name))\n",
      "/home/augustinm/anaconda3/envs/pya/lib/python3.7/site-packages/iris/fileformats/cf.py:798: UserWarning: Missing CF-netCDF measure variable 'area', referenced by netCDF variable 'emioa'\n",
      "  warnings.warn(message % (variable_name, nc_var_name))\n",
      "/home/augustinm/anaconda3/envs/pya/lib/python3.7/site-packages/iris/fileformats/cf.py:798: UserWarning: Missing CF-netCDF measure variable 'area', referenced by netCDF variable 'emioa'\n",
      "  warnings.warn(message % (variable_name, nc_var_name))\n",
      "/home/augustinm/anaconda3/envs/pya/lib/python3.7/site-packages/iris/fileformats/cf.py:798: UserWarning: Missing CF-netCDF measure variable 'area', referenced by netCDF variable 'emioa'\n",
      "  warnings.warn(message % (variable_name, nc_var_name))\n",
      "/home/augustinm/anaconda3/envs/pya/lib/python3.7/site-packages/iris/fileformats/cf.py:798: UserWarning: Missing CF-netCDF measure variable 'area', referenced by netCDF variable 'emioa'\n",
      "  warnings.warn(message % (variable_name, nc_var_name))\n",
      "/home/augustinm/anaconda3/envs/pya/lib/python3.7/site-packages/iris/fileformats/cf.py:798: UserWarning: Missing CF-netCDF measure variable 'area', referenced by netCDF variable 'emioa'\n",
      "  warnings.warn(message % (variable_name, nc_var_name))\n",
      "/home/augustinm/anaconda3/envs/pya/lib/python3.7/site-packages/iris/fileformats/cf.py:798: UserWarning: Missing CF-netCDF measure variable 'area', referenced by netCDF variable 'emioa'\n",
      "  warnings.warn(message % (variable_name, nc_var_name))\n",
      "/home/augustinm/anaconda3/envs/pya/lib/python3.7/site-packages/iris/fileformats/cf.py:798: UserWarning: Missing CF-netCDF measure variable 'area', referenced by netCDF variable 'emioa'\n",
      "  warnings.warn(message % (variable_name, nc_var_name))\n",
      "/home/augustinm/anaconda3/envs/pya/lib/python3.7/site-packages/iris/fileformats/cf.py:798: UserWarning: Missing CF-netCDF measure variable 'area', referenced by netCDF variable 'emioa'\n",
      "  warnings.warn(message % (variable_name, nc_var_name))\n",
      "/home/augustinm/anaconda3/envs/pya/lib/python3.7/site-packages/iris/fileformats/cf.py:798: UserWarning: Missing CF-netCDF measure variable 'area', referenced by netCDF variable 'emioa'\n",
      "  warnings.warn(message % (variable_name, nc_var_name))\n",
      "/home/augustinm/anaconda3/envs/pya/lib/python3.7/site-packages/iris/fileformats/cf.py:798: UserWarning: Missing CF-netCDF measure variable 'area', referenced by netCDF variable 'emioa'\n",
      "  warnings.warn(message % (variable_name, nc_var_name))\n",
      "/home/augustinm/anaconda3/envs/pya/lib/python3.7/site-packages/iris/fileformats/cf.py:798: UserWarning: Missing CF-netCDF measure variable 'area', referenced by netCDF variable 'emioa'\n",
      "  warnings.warn(message % (variable_name, nc_var_name))\n",
      "/home/augustinm/anaconda3/envs/pya/lib/python3.7/site-packages/iris/fileformats/cf.py:798: UserWarning: Missing CF-netCDF measure variable 'area', referenced by netCDF variable 'emioa'\n",
      "  warnings.warn(message % (variable_name, nc_var_name))\n",
      "/home/augustinm/anaconda3/envs/pya/lib/python3.7/site-packages/iris/fileformats/cf.py:798: UserWarning: Missing CF-netCDF measure variable 'area', referenced by netCDF variable 'emioa'\n",
      "  warnings.warn(message % (variable_name, nc_var_name))\n",
      "/home/augustinm/anaconda3/envs/pya/lib/python3.7/site-packages/iris/fileformats/cf.py:798: UserWarning: Missing CF-netCDF measure variable 'area', referenced by netCDF variable 'emioa'\n",
      "  warnings.warn(message % (variable_name, nc_var_name))\n",
      "/home/augustinm/anaconda3/envs/pya/lib/python3.7/site-packages/iris/fileformats/cf.py:798: UserWarning: Missing CF-netCDF measure variable 'area', referenced by netCDF variable 'emioa'\n",
      "  warnings.warn(message % (variable_name, nc_var_name))\n",
      "/home/augustinm/anaconda3/envs/pya/lib/python3.7/site-packages/iris/fileformats/cf.py:798: UserWarning: Missing CF-netCDF measure variable 'area', referenced by netCDF variable 'emioa'\n",
      "  warnings.warn(message % (variable_name, nc_var_name))\n",
      "/home/augustinm/anaconda3/envs/pya/lib/python3.7/site-packages/iris/fileformats/cf.py:798: UserWarning: Missing CF-netCDF measure variable 'area', referenced by netCDF variable 'emioa'\n",
      "  warnings.warn(message % (variable_name, nc_var_name))\n",
      "/home/augustinm/anaconda3/envs/pya/lib/python3.7/site-packages/iris/fileformats/cf.py:798: UserWarning: Missing CF-netCDF measure variable 'area', referenced by netCDF variable 'emioa'\n",
      "  warnings.warn(message % (variable_name, nc_var_name))\n",
      "/home/augustinm/anaconda3/envs/pya/lib/python3.7/site-packages/iris/fileformats/cf.py:798: UserWarning: Missing CF-netCDF measure variable 'area', referenced by netCDF variable 'emioa'\n",
      "  warnings.warn(message % (variable_name, nc_var_name))\n",
      "/home/augustinm/anaconda3/envs/pya/lib/python3.7/site-packages/iris/fileformats/cf.py:798: UserWarning: Missing CF-netCDF measure variable 'area', referenced by netCDF variable 'emioa'\n",
      "  warnings.warn(message % (variable_name, nc_var_name))\n",
      "/home/augustinm/anaconda3/envs/pya/lib/python3.7/site-packages/iris/fileformats/cf.py:798: UserWarning: Missing CF-netCDF measure variable 'area', referenced by netCDF variable 'emioa'\n",
      "  warnings.warn(message % (variable_name, nc_var_name))\n",
      "/home/augustinm/anaconda3/envs/pya/lib/python3.7/site-packages/iris/fileformats/cf.py:798: UserWarning: Missing CF-netCDF measure variable 'area', referenced by netCDF variable 'emioa'\n",
      "  warnings.warn(message % (variable_name, nc_var_name))\n",
      "/home/augustinm/anaconda3/envs/pya/lib/python3.7/site-packages/iris/fileformats/cf.py:798: UserWarning: Missing CF-netCDF measure variable 'area', referenced by netCDF variable 'emioa'\n",
      "  warnings.warn(message % (variable_name, nc_var_name))\n",
      "/home/augustinm/anaconda3/envs/pya/lib/python3.7/site-packages/iris/fileformats/cf.py:798: UserWarning: Missing CF-netCDF measure variable 'area', referenced by netCDF variable 'emioa'\n",
      "  warnings.warn(message % (variable_name, nc_var_name))\n",
      "/home/augustinm/anaconda3/envs/pya/lib/python3.7/site-packages/iris/fileformats/cf.py:798: UserWarning: Missing CF-netCDF measure variable 'area', referenced by netCDF variable 'emioa'\n",
      "  warnings.warn(message % (variable_name, nc_var_name))\n",
      "/home/augustinm/anaconda3/envs/pya/lib/python3.7/site-packages/iris/fileformats/cf.py:798: UserWarning: Missing CF-netCDF measure variable 'area', referenced by netCDF variable 'emioa'\n",
      "  warnings.warn(message % (variable_name, nc_var_name))\n",
      "/home/augustinm/anaconda3/envs/pya/lib/python3.7/site-packages/iris/fileformats/cf.py:798: UserWarning: Missing CF-netCDF measure variable 'area', referenced by netCDF variable 'emioa'\n",
      "  warnings.warn(message % (variable_name, nc_var_name))\n",
      "/home/augustinm/anaconda3/envs/pya/lib/python3.7/site-packages/iris/fileformats/cf.py:798: UserWarning: Missing CF-netCDF measure variable 'area', referenced by netCDF variable 'emioa'\n",
      "  warnings.warn(message % (variable_name, nc_var_name))\n",
      "/home/augustinm/anaconda3/envs/pya/lib/python3.7/site-packages/iris/fileformats/cf.py:798: UserWarning: Missing CF-netCDF measure variable 'area', referenced by netCDF variable 'emioa'\n",
      "  warnings.warn(message % (variable_name, nc_var_name))\n",
      "/home/augustinm/anaconda3/envs/pya/lib/python3.7/site-packages/iris/fileformats/cf.py:798: UserWarning: Missing CF-netCDF measure variable 'area', referenced by netCDF variable 'emioa'\n",
      "  warnings.warn(message % (variable_name, nc_var_name))\n",
      "/home/augustinm/anaconda3/envs/pya/lib/python3.7/site-packages/iris/fileformats/cf.py:798: UserWarning: Missing CF-netCDF measure variable 'area', referenced by netCDF variable 'emioa'\n",
      "  warnings.warn(message % (variable_name, nc_var_name))\n",
      "/home/augustinm/anaconda3/envs/pya/lib/python3.7/site-packages/iris/fileformats/cf.py:798: UserWarning: Missing CF-netCDF measure variable 'area', referenced by netCDF variable 'emioa'\n",
      "  warnings.warn(message % (variable_name, nc_var_name))\n",
      "/home/augustinm/anaconda3/envs/pya/lib/python3.7/site-packages/iris/fileformats/cf.py:798: UserWarning: Missing CF-netCDF measure variable 'area', referenced by netCDF variable 'emioa'\n",
      "  warnings.warn(message % (variable_name, nc_var_name))\n",
      "/home/augustinm/anaconda3/envs/pya/lib/python3.7/site-packages/iris/fileformats/cf.py:798: UserWarning: Missing CF-netCDF measure variable 'area', referenced by netCDF variable 'emioa'\n",
      "  warnings.warn(message % (variable_name, nc_var_name))\n",
      "/home/augustinm/anaconda3/envs/pya/lib/python3.7/site-packages/iris/fileformats/cf.py:798: UserWarning: Missing CF-netCDF measure variable 'area', referenced by netCDF variable 'emioa'\n",
      "  warnings.warn(message % (variable_name, nc_var_name))\n",
      "/home/augustinm/anaconda3/envs/pya/lib/python3.7/site-packages/iris/fileformats/cf.py:798: UserWarning: Missing CF-netCDF measure variable 'area', referenced by netCDF variable 'emioa'\n",
      "  warnings.warn(message % (variable_name, nc_var_name))\n",
      "/home/augustinm/anaconda3/envs/pya/lib/python3.7/site-packages/iris/fileformats/cf.py:798: UserWarning: Missing CF-netCDF measure variable 'area', referenced by netCDF variable 'emioa'\n",
      "  warnings.warn(message % (variable_name, nc_var_name))\n",
      "/home/augustinm/anaconda3/envs/pya/lib/python3.7/site-packages/iris/fileformats/cf.py:798: UserWarning: Missing CF-netCDF measure variable 'area', referenced by netCDF variable 'emioa'\n",
      "  warnings.warn(message % (variable_name, nc_var_name))\n",
      "/home/augustinm/anaconda3/envs/pya/lib/python3.7/site-packages/iris/fileformats/cf.py:798: UserWarning: Missing CF-netCDF measure variable 'area', referenced by netCDF variable 'emioa'\n",
      "  warnings.warn(message % (variable_name, nc_var_name))\n",
      "/home/augustinm/anaconda3/envs/pya/lib/python3.7/site-packages/iris/fileformats/cf.py:798: UserWarning: Missing CF-netCDF measure variable 'area', referenced by netCDF variable 'emioa'\n",
      "  warnings.warn(message % (variable_name, nc_var_name))\n",
      "/home/augustinm/anaconda3/envs/pya/lib/python3.7/site-packages/iris/fileformats/cf.py:798: UserWarning: Missing CF-netCDF measure variable 'area', referenced by netCDF variable 'emioa'\n",
      "  warnings.warn(message % (variable_name, nc_var_name))\n",
      "/home/augustinm/anaconda3/envs/pya/lib/python3.7/site-packages/iris/fileformats/cf.py:798: UserWarning: Missing CF-netCDF measure variable 'area', referenced by netCDF variable 'emioa'\n",
      "  warnings.warn(message % (variable_name, nc_var_name))\n",
      "/home/augustinm/anaconda3/envs/pya/lib/python3.7/site-packages/iris/fileformats/cf.py:798: UserWarning: Missing CF-netCDF measure variable 'area', referenced by netCDF variable 'emioa'\n",
      "  warnings.warn(message % (variable_name, nc_var_name))\n",
      "/home/augustinm/anaconda3/envs/pya/lib/python3.7/site-packages/iris/fileformats/cf.py:798: UserWarning: Missing CF-netCDF measure variable 'area', referenced by netCDF variable 'emioa'\n",
      "  warnings.warn(message % (variable_name, nc_var_name))\n",
      "/home/augustinm/anaconda3/envs/pya/lib/python3.7/site-packages/iris/fileformats/cf.py:798: UserWarning: Missing CF-netCDF measure variable 'area', referenced by netCDF variable 'emioa'\n",
      "  warnings.warn(message % (variable_name, nc_var_name))\n",
      "/home/augustinm/anaconda3/envs/pya/lib/python3.7/site-packages/iris/fileformats/cf.py:798: UserWarning: Missing CF-netCDF measure variable 'area', referenced by netCDF variable 'emioa'\n",
      "  warnings.warn(message % (variable_name, nc_var_name))\n",
      "/home/augustinm/anaconda3/envs/pya/lib/python3.7/site-packages/iris/fileformats/cf.py:798: UserWarning: Missing CF-netCDF measure variable 'area', referenced by netCDF variable 'emioa'\n",
      "  warnings.warn(message % (variable_name, nc_var_name))\n",
      "/home/augustinm/anaconda3/envs/pya/lib/python3.7/site-packages/iris/fileformats/cf.py:798: UserWarning: Missing CF-netCDF measure variable 'area', referenced by netCDF variable 'emioa'\n",
      "  warnings.warn(message % (variable_name, nc_var_name))\n",
      "/home/augustinm/anaconda3/envs/pya/lib/python3.7/site-packages/iris/fileformats/cf.py:798: UserWarning: Missing CF-netCDF measure variable 'area', referenced by netCDF variable 'emioa'\n",
      "  warnings.warn(message % (variable_name, nc_var_name))\n",
      "/home/augustinm/anaconda3/envs/pya/lib/python3.7/site-packages/iris/fileformats/cf.py:798: UserWarning: Missing CF-netCDF measure variable 'area', referenced by netCDF variable 'emioa'\n",
      "  warnings.warn(message % (variable_name, nc_var_name))\n",
      "/home/augustinm/anaconda3/envs/pya/lib/python3.7/site-packages/iris/fileformats/cf.py:798: UserWarning: Missing CF-netCDF measure variable 'area', referenced by netCDF variable 'emioa'\n",
      "  warnings.warn(message % (variable_name, nc_var_name))\n",
      "/home/augustinm/anaconda3/envs/pya/lib/python3.7/site-packages/iris/fileformats/cf.py:798: UserWarning: Missing CF-netCDF measure variable 'area', referenced by netCDF variable 'emioa'\n",
      "  warnings.warn(message % (variable_name, nc_var_name))\n",
      "/home/augustinm/anaconda3/envs/pya/lib/python3.7/site-packages/iris/fileformats/cf.py:798: UserWarning: Missing CF-netCDF measure variable 'area', referenced by netCDF variable 'emioa'\n",
      "  warnings.warn(message % (variable_name, nc_var_name))\n",
      "/home/augustinm/anaconda3/envs/pya/lib/python3.7/site-packages/iris/fileformats/cf.py:798: UserWarning: Missing CF-netCDF measure variable 'area', referenced by netCDF variable 'emioa'\n",
      "  warnings.warn(message % (variable_name, nc_var_name))\n",
      "/home/augustinm/anaconda3/envs/pya/lib/python3.7/site-packages/iris/fileformats/cf.py:798: UserWarning: Missing CF-netCDF measure variable 'area', referenced by netCDF variable 'emioa'\n",
      "  warnings.warn(message % (variable_name, nc_var_name))\n",
      "/home/augustinm/anaconda3/envs/pya/lib/python3.7/site-packages/iris/fileformats/cf.py:798: UserWarning: Missing CF-netCDF measure variable 'area', referenced by netCDF variable 'emioa'\n",
      "  warnings.warn(message % (variable_name, nc_var_name))\n",
      "/home/augustinm/anaconda3/envs/pya/lib/python3.7/site-packages/iris/fileformats/cf.py:798: UserWarning: Missing CF-netCDF measure variable 'area', referenced by netCDF variable 'emioa'\n",
      "  warnings.warn(message % (variable_name, nc_var_name))\n",
      "/home/augustinm/anaconda3/envs/pya/lib/python3.7/site-packages/iris/fileformats/cf.py:798: UserWarning: Missing CF-netCDF measure variable 'area', referenced by netCDF variable 'emioa'\n",
      "  warnings.warn(message % (variable_name, nc_var_name))\n",
      "/home/augustinm/anaconda3/envs/pya/lib/python3.7/site-packages/iris/fileformats/cf.py:798: UserWarning: Missing CF-netCDF measure variable 'area', referenced by netCDF variable 'emioa'\n",
      "  warnings.warn(message % (variable_name, nc_var_name))\n",
      "/home/augustinm/anaconda3/envs/pya/lib/python3.7/site-packages/iris/fileformats/cf.py:798: UserWarning: Missing CF-netCDF measure variable 'area', referenced by netCDF variable 'emioa'\n",
      "  warnings.warn(message % (variable_name, nc_var_name))\n",
      "/home/augustinm/anaconda3/envs/pya/lib/python3.7/site-packages/iris/fileformats/cf.py:798: UserWarning: Missing CF-netCDF measure variable 'area', referenced by netCDF variable 'emioa'\n",
      "  warnings.warn(message % (variable_name, nc_var_name))\n",
      "/home/augustinm/anaconda3/envs/pya/lib/python3.7/site-packages/iris/fileformats/cf.py:798: UserWarning: Missing CF-netCDF measure variable 'area', referenced by netCDF variable 'emioa'\n",
      "  warnings.warn(message % (variable_name, nc_var_name))\n",
      "/home/augustinm/anaconda3/envs/pya/lib/python3.7/site-packages/iris/fileformats/cf.py:798: UserWarning: Missing CF-netCDF measure variable 'area', referenced by netCDF variable 'emioa'\n",
      "  warnings.warn(message % (variable_name, nc_var_name))\n",
      "/home/augustinm/anaconda3/envs/pya/lib/python3.7/site-packages/iris/fileformats/cf.py:798: UserWarning: Missing CF-netCDF measure variable 'area', referenced by netCDF variable 'emioa'\n",
      "  warnings.warn(message % (variable_name, nc_var_name))\n",
      "/home/augustinm/anaconda3/envs/pya/lib/python3.7/site-packages/iris/fileformats/cf.py:798: UserWarning: Missing CF-netCDF measure variable 'area', referenced by netCDF variable 'emioa'\n",
      "  warnings.warn(message % (variable_name, nc_var_name))\n",
      "/home/augustinm/anaconda3/envs/pya/lib/python3.7/site-packages/iris/fileformats/cf.py:798: UserWarning: Missing CF-netCDF measure variable 'area', referenced by netCDF variable 'emioa'\n",
      "  warnings.warn(message % (variable_name, nc_var_name))\n",
      "/home/augustinm/anaconda3/envs/pya/lib/python3.7/site-packages/iris/fileformats/cf.py:798: UserWarning: Missing CF-netCDF measure variable 'area', referenced by netCDF variable 'emioa'\n",
      "  warnings.warn(message % (variable_name, nc_var_name))\n",
      "/home/augustinm/anaconda3/envs/pya/lib/python3.7/site-packages/iris/fileformats/cf.py:798: UserWarning: Missing CF-netCDF measure variable 'area', referenced by netCDF variable 'emioa'\n",
      "  warnings.warn(message % (variable_name, nc_var_name))\n",
      "/home/augustinm/anaconda3/envs/pya/lib/python3.7/site-packages/iris/fileformats/cf.py:798: UserWarning: Missing CF-netCDF measure variable 'area', referenced by netCDF variable 'emioa'\n",
      "  warnings.warn(message % (variable_name, nc_var_name))\n",
      "/home/augustinm/anaconda3/envs/pya/lib/python3.7/site-packages/iris/fileformats/cf.py:798: UserWarning: Missing CF-netCDF measure variable 'area', referenced by netCDF variable 'emioa'\n",
      "  warnings.warn(message % (variable_name, nc_var_name))\n",
      "/home/augustinm/anaconda3/envs/pya/lib/python3.7/site-packages/iris/fileformats/cf.py:798: UserWarning: Missing CF-netCDF measure variable 'area', referenced by netCDF variable 'emioa'\n",
      "  warnings.warn(message % (variable_name, nc_var_name))\n",
      "/home/augustinm/anaconda3/envs/pya/lib/python3.7/site-packages/iris/fileformats/cf.py:798: UserWarning: Missing CF-netCDF measure variable 'area', referenced by netCDF variable 'emioa'\n",
      "  warnings.warn(message % (variable_name, nc_var_name))\n",
      "/home/augustinm/anaconda3/envs/pya/lib/python3.7/site-packages/iris/fileformats/cf.py:798: UserWarning: Missing CF-netCDF measure variable 'area', referenced by netCDF variable 'emioa'\n",
      "  warnings.warn(message % (variable_name, nc_var_name))\n",
      "/home/augustinm/anaconda3/envs/pya/lib/python3.7/site-packages/iris/fileformats/cf.py:798: UserWarning: Missing CF-netCDF measure variable 'area', referenced by netCDF variable 'emioa'\n",
      "  warnings.warn(message % (variable_name, nc_var_name))\n",
      "/home/augustinm/anaconda3/envs/pya/lib/python3.7/site-packages/iris/fileformats/cf.py:798: UserWarning: Missing CF-netCDF measure variable 'area', referenced by netCDF variable 'emioa'\n",
      "  warnings.warn(message % (variable_name, nc_var_name))\n",
      "/home/augustinm/anaconda3/envs/pya/lib/python3.7/site-packages/iris/fileformats/cf.py:798: UserWarning: Missing CF-netCDF measure variable 'area', referenced by netCDF variable 'emioa'\n",
      "  warnings.warn(message % (variable_name, nc_var_name))\n",
      "/home/augustinm/anaconda3/envs/pya/lib/python3.7/site-packages/iris/fileformats/cf.py:798: UserWarning: Missing CF-netCDF measure variable 'area', referenced by netCDF variable 'emioa'\n",
      "  warnings.warn(message % (variable_name, nc_var_name))\n",
      "/home/augustinm/anaconda3/envs/pya/lib/python3.7/site-packages/iris/fileformats/cf.py:798: UserWarning: Missing CF-netCDF measure variable 'area', referenced by netCDF variable 'emioa'\n",
      "  warnings.warn(message % (variable_name, nc_var_name))\n",
      "/home/augustinm/anaconda3/envs/pya/lib/python3.7/site-packages/iris/fileformats/cf.py:798: UserWarning: Missing CF-netCDF measure variable 'area', referenced by netCDF variable 'emioa'\n",
      "  warnings.warn(message % (variable_name, nc_var_name))\n",
      "/home/augustinm/anaconda3/envs/pya/lib/python3.7/site-packages/iris/fileformats/cf.py:798: UserWarning: Missing CF-netCDF measure variable 'area', referenced by netCDF variable 'emioa'\n",
      "  warnings.warn(message % (variable_name, nc_var_name))\n",
      "/home/augustinm/anaconda3/envs/pya/lib/python3.7/site-packages/iris/fileformats/cf.py:798: UserWarning: Missing CF-netCDF measure variable 'area', referenced by netCDF variable 'emioa'\n",
      "  warnings.warn(message % (variable_name, nc_var_name))\n",
      "/home/augustinm/anaconda3/envs/pya/lib/python3.7/site-packages/iris/fileformats/cf.py:798: UserWarning: Missing CF-netCDF measure variable 'area', referenced by netCDF variable 'emioa'\n",
      "  warnings.warn(message % (variable_name, nc_var_name))\n",
      "/home/augustinm/anaconda3/envs/pya/lib/python3.7/site-packages/iris/fileformats/cf.py:798: UserWarning: Missing CF-netCDF measure variable 'area', referenced by netCDF variable 'emioa'\n",
      "  warnings.warn(message % (variable_name, nc_var_name))\n",
      "/home/augustinm/anaconda3/envs/pya/lib/python3.7/site-packages/iris/fileformats/cf.py:798: UserWarning: Missing CF-netCDF measure variable 'area', referenced by netCDF variable 'emioa'\n",
      "  warnings.warn(message % (variable_name, nc_var_name))\n",
      "/home/augustinm/anaconda3/envs/pya/lib/python3.7/site-packages/iris/fileformats/cf.py:798: UserWarning: Missing CF-netCDF measure variable 'area', referenced by netCDF variable 'emioa'\n",
      "  warnings.warn(message % (variable_name, nc_var_name))\n",
      "/home/augustinm/anaconda3/envs/pya/lib/python3.7/site-packages/iris/fileformats/cf.py:798: UserWarning: Missing CF-netCDF measure variable 'area', referenced by netCDF variable 'emioa'\n",
      "  warnings.warn(message % (variable_name, nc_var_name))\n",
      "/home/augustinm/anaconda3/envs/pya/lib/python3.7/site-packages/iris/fileformats/cf.py:798: UserWarning: Missing CF-netCDF measure variable 'area', referenced by netCDF variable 'emioa'\n",
      "  warnings.warn(message % (variable_name, nc_var_name))\n",
      "/home/augustinm/anaconda3/envs/pya/lib/python3.7/site-packages/iris/fileformats/cf.py:798: UserWarning: Missing CF-netCDF measure variable 'area', referenced by netCDF variable 'emioa'\n",
      "  warnings.warn(message % (variable_name, nc_var_name))\n",
      "/home/augustinm/anaconda3/envs/pya/lib/python3.7/site-packages/iris/fileformats/cf.py:798: UserWarning: Missing CF-netCDF measure variable 'area', referenced by netCDF variable 'emioa'\n",
      "  warnings.warn(message % (variable_name, nc_var_name))\n",
      "/home/augustinm/anaconda3/envs/pya/lib/python3.7/site-packages/iris/fileformats/cf.py:798: UserWarning: Missing CF-netCDF measure variable 'area', referenced by netCDF variable 'emioa'\n",
      "  warnings.warn(message % (variable_name, nc_var_name))\n",
      "/home/augustinm/anaconda3/envs/pya/lib/python3.7/site-packages/iris/fileformats/cf.py:798: UserWarning: Missing CF-netCDF measure variable 'area', referenced by netCDF variable 'emioa'\n",
      "  warnings.warn(message % (variable_name, nc_var_name))\n",
      "/home/augustinm/anaconda3/envs/pya/lib/python3.7/site-packages/iris/fileformats/cf.py:798: UserWarning: Missing CF-netCDF measure variable 'area', referenced by netCDF variable 'emioa'\n",
      "  warnings.warn(message % (variable_name, nc_var_name))\n",
      "/home/augustinm/anaconda3/envs/pya/lib/python3.7/site-packages/iris/fileformats/cf.py:798: UserWarning: Missing CF-netCDF measure variable 'area', referenced by netCDF variable 'emioa'\n",
      "  warnings.warn(message % (variable_name, nc_var_name))\n",
      "/home/augustinm/anaconda3/envs/pya/lib/python3.7/site-packages/iris/fileformats/cf.py:798: UserWarning: Missing CF-netCDF measure variable 'area', referenced by netCDF variable 'emioa'\n",
      "  warnings.warn(message % (variable_name, nc_var_name))\n",
      "/home/augustinm/anaconda3/envs/pya/lib/python3.7/site-packages/iris/fileformats/cf.py:798: UserWarning: Missing CF-netCDF measure variable 'area', referenced by netCDF variable 'emioa'\n",
      "  warnings.warn(message % (variable_name, nc_var_name))\n",
      "/home/augustinm/anaconda3/envs/pya/lib/python3.7/site-packages/iris/fileformats/cf.py:798: UserWarning: Missing CF-netCDF measure variable 'area', referenced by netCDF variable 'emioa'\n",
      "  warnings.warn(message % (variable_name, nc_var_name))\n",
      "/home/augustinm/anaconda3/envs/pya/lib/python3.7/site-packages/iris/fileformats/cf.py:798: UserWarning: Missing CF-netCDF measure variable 'area', referenced by netCDF variable 'emioa'\n",
      "  warnings.warn(message % (variable_name, nc_var_name))\n",
      "/home/augustinm/anaconda3/envs/pya/lib/python3.7/site-packages/iris/fileformats/cf.py:798: UserWarning: Missing CF-netCDF measure variable 'area', referenced by netCDF variable 'emioa'\n",
      "  warnings.warn(message % (variable_name, nc_var_name))\n",
      "/home/augustinm/Dev/pyaerocom/pyaerocom/pyaerocom/ungriddeddata.py:126: RuntimeWarning: invalid value encountered in multiply\n",
      "  self._data = np.empty([num_points, self._COLNO]) * np.nan\n",
      "/home/augustinm/anaconda3/envs/pya/lib/python3.7/site-packages/numpy/ma/core.py:3172: FutureWarning: Using a non-tuple sequence for multidimensional indexing is deprecated; use `arr[tuple(seq)]` instead of `arr[seq]`. In the future this will be interpreted as an array index, `arr[np.array(seq)]`, which will result either in an error or a different result.\n",
      "  dout = self.data[indx]\n",
      "/home/augustinm/anaconda3/envs/pya/lib/python3.7/site-packages/iris/analysis/_scipy_interpolate.py:290: FutureWarning: Using a non-tuple sequence for multidimensional indexing is deprecated; use `arr[tuple(seq)]` instead of `arr[seq]`. In the future this will be interpreted as an array index, `arr[np.array(seq)]`, which will result either in an error or a different result.\n",
      "  return self.values[idx_res]\n"
     ]
    },
    {
     "name": "stdout",
     "output_type": "stream",
     "text": [
      "ECHAM6.3-HAM2.3-fSST_HIST read netcf fileFOPFOP\n"
     ]
    },
    {
     "name": "stderr",
     "output_type": "stream",
     "text": [
      "/home/augustinm/Dev/pyaerocom/pyaerocom/pyaerocom/ungriddeddata.py:126: RuntimeWarning: invalid value encountered in multiply\n",
      "  self._data = np.empty([num_points, self._COLNO]) * np.nan\n",
      "/home/augustinm/anaconda3/envs/pya/lib/python3.7/site-packages/numpy/ma/core.py:3172: FutureWarning: Using a non-tuple sequence for multidimensional indexing is deprecated; use `arr[tuple(seq)]` instead of `arr[seq]`. In the future this will be interpreted as an array index, `arr[np.array(seq)]`, which will result either in an error or a different result.\n",
      "  dout = self.data[indx]\n",
      "/home/augustinm/anaconda3/envs/pya/lib/python3.7/site-packages/iris/analysis/_scipy_interpolate.py:290: FutureWarning: Using a non-tuple sequence for multidimensional indexing is deprecated; use `arr[tuple(seq)]` instead of `arr[seq]`. In the future this will be interpreted as an array index, `arr[np.array(seq)]`, which will result either in an error or a different result.\n",
      "  return self.values[idx_res]\n"
     ]
    },
    {
     "name": "stdout",
     "output_type": "stream",
     "text": [
      "region:  WORLD station:  Zvenigorodurg-CEFOPFOP\r"
     ]
    }
   ],
   "source": [
    "fn0 = 'cache/emi_species_cs.pkl'\n",
    "if os.path.isfile(fn0):\n",
    "    print('use',fn0)\n",
    "    # for reading also binary mode is important \n",
    "    pklfile = open(fn0, 'rb')      \n",
    "    MOD_MAP = pickle.load(pklfile) \n",
    "    pklfile.close()\n",
    "else:    \n",
    "    MOD_TS, MOD_MAP, MOD_DF = {}, {}, {}\n",
    "    for mod_var in ['emidust', 'emiss', 'emiso4', 'emioa', 'emibc']:\n",
    "        MOD_MAP[mod_var] = {}\n",
    "        #fill paameters for this variable\n",
    "        params = fill_params(params, mod_var)\n",
    "        params['kind'] = 'mod' \n",
    "        params['min_dim'] = 0\n",
    "        params['min_ntrend'] = 4\n",
    "\n",
    "        for model in params['models']:\n",
    "            mod_source = model\n",
    "\n",
    "            #check if model in cache\n",
    "            fn = 'cache/'+mod_source+'_'+mod_var+'.pkl'\n",
    "            if os.path.isfile(fn):\n",
    "                print(model,'use',fn)\n",
    "                # for reading also binary mode is important \n",
    "                pklfile = open(fn, 'rb')      \n",
    "                mod_data = pickle.load(pklfile) \n",
    "                pklfile.close()\n",
    "            else:\n",
    "                print(model,'read netcf file')\n",
    "                reader = pya.io.ReadGridded(mod_source)\n",
    "                mod_data = reader.read_var(mod_var, ts_type='daily')\n",
    "                mod_data = mod_data.resample_time(to_ts_type='monthly')\n",
    "\n",
    "                #write picke file in cache directory\n",
    "                pklfile = open(fn, 'ab') \n",
    "\n",
    "                # source, destination \n",
    "                pickle.dump(mod_data, pklfile)                      \n",
    "                pklfile.close()\n",
    "\n",
    "            #crop the cube to interest period, so can handle WORLD region\n",
    "            mod_data = mod_data.crop(time_range=(params['period'].split('-')[0], str(int(params['period'].split('-')[1])+1)))\n",
    "\n",
    "            #space colocation\n",
    "            _, MOD_MAP[mod_var][model], _ = process_trend(\n",
    "                mod_data, params, obs=obs_data,\n",
    "                colocate_time=False, colocate_space=True, \n",
    "                OBS_DF = OBS_DF,\n",
    "                plot=False, show_plot=False, save_plot=False, write_json=False\n",
    "            )\n",
    "    \n",
    "    #write picke file in cache directory\n",
    "    pklfile = open(fn0, 'ab') \n",
    "\n",
    "    # source, destination \n",
    "    pickle.dump(MOD_MAP, pklfile)                      \n",
    "    pklfile.close()"
   ]
  },
  {
   "cell_type": "code",
   "execution_count": 7,
   "metadata": {},
   "outputs": [
    {
     "name": "stdout",
     "output_type": "stream",
     "text": [
      "GEOS-i33p2_HIST read netcf file\n"
     ]
    },
    {
     "name": "stderr",
     "output_type": "stream",
     "text": [
      "/home/augustinm/anaconda3/envs/pya/lib/python3.7/site-packages/iris/fileformats/_pyke_rules/compiled_krb/fc_rules_cf_fc.py:1932: UserWarning: Ignoring netCDF variable 'time' invalid units 'month of year'\n",
      "  warnings.warn(msg)\n",
      "/home/augustinm/anaconda3/envs/pya/lib/python3.7/site-packages/iris/fileformats/_pyke_rules/compiled_krb/fc_rules_cf_fc.py:1932: UserWarning: Ignoring netCDF variable 'time' invalid units 'month of year'\n",
      "  warnings.warn(msg)\n",
      "/home/augustinm/anaconda3/envs/pya/lib/python3.7/site-packages/iris/fileformats/_pyke_rules/compiled_krb/fc_rules_cf_fc.py:1932: UserWarning: Ignoring netCDF variable 'time' invalid units 'month of year'\n",
      "  warnings.warn(msg)\n",
      "/home/augustinm/anaconda3/envs/pya/lib/python3.7/site-packages/iris/fileformats/_pyke_rules/compiled_krb/fc_rules_cf_fc.py:1932: UserWarning: Ignoring netCDF variable 'time' invalid units 'month of year'\n",
      "  warnings.warn(msg)\n",
      "/home/augustinm/anaconda3/envs/pya/lib/python3.7/site-packages/iris/fileformats/_pyke_rules/compiled_krb/fc_rules_cf_fc.py:1932: UserWarning: Ignoring netCDF variable 'time' invalid units 'month of year'\n",
      "  warnings.warn(msg)\n",
      "/home/augustinm/anaconda3/envs/pya/lib/python3.7/site-packages/iris/fileformats/_pyke_rules/compiled_krb/fc_rules_cf_fc.py:1932: UserWarning: Ignoring netCDF variable 'time' invalid units 'month of year'\n",
      "  warnings.warn(msg)\n",
      "/home/augustinm/anaconda3/envs/pya/lib/python3.7/site-packages/iris/fileformats/_pyke_rules/compiled_krb/fc_rules_cf_fc.py:1932: UserWarning: Ignoring netCDF variable 'time' invalid units 'month of year'\n",
      "  warnings.warn(msg)\n",
      "/home/augustinm/anaconda3/envs/pya/lib/python3.7/site-packages/iris/fileformats/_pyke_rules/compiled_krb/fc_rules_cf_fc.py:1932: UserWarning: Ignoring netCDF variable 'time' invalid units 'month of year'\n",
      "  warnings.warn(msg)\n",
      "/home/augustinm/anaconda3/envs/pya/lib/python3.7/site-packages/iris/fileformats/_pyke_rules/compiled_krb/fc_rules_cf_fc.py:1932: UserWarning: Ignoring netCDF variable 'time' invalid units 'month of year'\n",
      "  warnings.warn(msg)\n",
      "/home/augustinm/anaconda3/envs/pya/lib/python3.7/site-packages/iris/fileformats/_pyke_rules/compiled_krb/fc_rules_cf_fc.py:1932: UserWarning: Ignoring netCDF variable 'time' invalid units 'month of year'\n",
      "  warnings.warn(msg)\n",
      "/home/augustinm/anaconda3/envs/pya/lib/python3.7/site-packages/iris/fileformats/_pyke_rules/compiled_krb/fc_rules_cf_fc.py:1932: UserWarning: Ignoring netCDF variable 'time' invalid units 'month of year'\n",
      "  warnings.warn(msg)\n",
      "/home/augustinm/anaconda3/envs/pya/lib/python3.7/site-packages/iris/fileformats/_pyke_rules/compiled_krb/fc_rules_cf_fc.py:1932: UserWarning: Ignoring netCDF variable 'time' invalid units 'month of year'\n",
      "  warnings.warn(msg)\n",
      "/home/augustinm/anaconda3/envs/pya/lib/python3.7/site-packages/iris/fileformats/_pyke_rules/compiled_krb/fc_rules_cf_fc.py:1932: UserWarning: Ignoring netCDF variable 'time' invalid units 'month of year'\n",
      "  warnings.warn(msg)\n",
      "/home/augustinm/anaconda3/envs/pya/lib/python3.7/site-packages/iris/fileformats/_pyke_rules/compiled_krb/fc_rules_cf_fc.py:1932: UserWarning: Ignoring netCDF variable 'time' invalid units 'month of year'\n",
      "  warnings.warn(msg)\n",
      "/home/augustinm/anaconda3/envs/pya/lib/python3.7/site-packages/iris/fileformats/_pyke_rules/compiled_krb/fc_rules_cf_fc.py:1932: UserWarning: Ignoring netCDF variable 'time' invalid units 'month of year'\n",
      "  warnings.warn(msg)\n",
      "/home/augustinm/anaconda3/envs/pya/lib/python3.7/site-packages/iris/fileformats/_pyke_rules/compiled_krb/fc_rules_cf_fc.py:1932: UserWarning: Ignoring netCDF variable 'time' invalid units 'month of year'\n",
      "  warnings.warn(msg)\n",
      "/home/augustinm/anaconda3/envs/pya/lib/python3.7/site-packages/iris/fileformats/_pyke_rules/compiled_krb/fc_rules_cf_fc.py:1932: UserWarning: Ignoring netCDF variable 'time' invalid units 'month of year'\n",
      "  warnings.warn(msg)\n",
      "/home/augustinm/anaconda3/envs/pya/lib/python3.7/site-packages/iris/fileformats/_pyke_rules/compiled_krb/fc_rules_cf_fc.py:1932: UserWarning: Ignoring netCDF variable 'time' invalid units 'month of year'\n",
      "  warnings.warn(msg)\n",
      "/home/augustinm/anaconda3/envs/pya/lib/python3.7/site-packages/iris/fileformats/_pyke_rules/compiled_krb/fc_rules_cf_fc.py:1932: UserWarning: Ignoring netCDF variable 'time' invalid units 'month of year'\n",
      "  warnings.warn(msg)\n",
      "/home/augustinm/anaconda3/envs/pya/lib/python3.7/site-packages/iris/fileformats/_pyke_rules/compiled_krb/fc_rules_cf_fc.py:1932: UserWarning: Ignoring netCDF variable 'time' invalid units 'month of year'\n",
      "  warnings.warn(msg)\n",
      "/home/augustinm/anaconda3/envs/pya/lib/python3.7/site-packages/iris/fileformats/_pyke_rules/compiled_krb/fc_rules_cf_fc.py:1932: UserWarning: Ignoring netCDF variable 'time' invalid units 'month of year'\n",
      "  warnings.warn(msg)\n",
      "/home/augustinm/anaconda3/envs/pya/lib/python3.7/site-packages/iris/fileformats/_pyke_rules/compiled_krb/fc_rules_cf_fc.py:1932: UserWarning: Ignoring netCDF variable 'time' invalid units 'month of year'\n",
      "  warnings.warn(msg)\n",
      "/home/augustinm/anaconda3/envs/pya/lib/python3.7/site-packages/iris/fileformats/_pyke_rules/compiled_krb/fc_rules_cf_fc.py:1932: UserWarning: Ignoring netCDF variable 'time' invalid units 'month of year'\n",
      "  warnings.warn(msg)\n",
      "/home/augustinm/anaconda3/envs/pya/lib/python3.7/site-packages/iris/fileformats/_pyke_rules/compiled_krb/fc_rules_cf_fc.py:1932: UserWarning: Ignoring netCDF variable 'time' invalid units 'month of year'\n",
      "  warnings.warn(msg)\n",
      "/home/augustinm/anaconda3/envs/pya/lib/python3.7/site-packages/iris/fileformats/_pyke_rules/compiled_krb/fc_rules_cf_fc.py:1932: UserWarning: Ignoring netCDF variable 'time' invalid units 'month of year'\n",
      "  warnings.warn(msg)\n",
      "/home/augustinm/anaconda3/envs/pya/lib/python3.7/site-packages/iris/fileformats/_pyke_rules/compiled_krb/fc_rules_cf_fc.py:1932: UserWarning: Ignoring netCDF variable 'time' invalid units 'month of year'\n",
      "  warnings.warn(msg)\n",
      "/home/augustinm/anaconda3/envs/pya/lib/python3.7/site-packages/iris/fileformats/_pyke_rules/compiled_krb/fc_rules_cf_fc.py:1932: UserWarning: Ignoring netCDF variable 'time' invalid units 'month of year'\n",
      "  warnings.warn(msg)\n",
      "/home/augustinm/anaconda3/envs/pya/lib/python3.7/site-packages/iris/fileformats/_pyke_rules/compiled_krb/fc_rules_cf_fc.py:1932: UserWarning: Ignoring netCDF variable 'time' invalid units 'month of year'\n",
      "  warnings.warn(msg)\n",
      "/home/augustinm/anaconda3/envs/pya/lib/python3.7/site-packages/iris/fileformats/_pyke_rules/compiled_krb/fc_rules_cf_fc.py:1932: UserWarning: Ignoring netCDF variable 'time' invalid units 'month of year'\n",
      "  warnings.warn(msg)\n",
      "/home/augustinm/anaconda3/envs/pya/lib/python3.7/site-packages/iris/fileformats/_pyke_rules/compiled_krb/fc_rules_cf_fc.py:1932: UserWarning: Ignoring netCDF variable 'time' invalid units 'month of year'\n",
      "  warnings.warn(msg)\n",
      "/home/augustinm/anaconda3/envs/pya/lib/python3.7/site-packages/iris/fileformats/_pyke_rules/compiled_krb/fc_rules_cf_fc.py:1932: UserWarning: Ignoring netCDF variable 'time' invalid units 'month of year'\n",
      "  warnings.warn(msg)\n",
      "/home/augustinm/anaconda3/envs/pya/lib/python3.7/site-packages/iris/fileformats/_pyke_rules/compiled_krb/fc_rules_cf_fc.py:1932: UserWarning: Ignoring netCDF variable 'time' invalid units 'month of year'\n",
      "  warnings.warn(msg)\n",
      "/home/augustinm/anaconda3/envs/pya/lib/python3.7/site-packages/iris/fileformats/_pyke_rules/compiled_krb/fc_rules_cf_fc.py:1932: UserWarning: Ignoring netCDF variable 'time' invalid units 'month of year'\n",
      "  warnings.warn(msg)\n",
      "/home/augustinm/anaconda3/envs/pya/lib/python3.7/site-packages/iris/fileformats/_pyke_rules/compiled_krb/fc_rules_cf_fc.py:1932: UserWarning: Ignoring netCDF variable 'time' invalid units 'month of year'\n",
      "  warnings.warn(msg)\n",
      "/home/augustinm/anaconda3/envs/pya/lib/python3.7/site-packages/iris/fileformats/_pyke_rules/compiled_krb/fc_rules_cf_fc.py:1932: UserWarning: Ignoring netCDF variable 'time' invalid units 'month of year'\n",
      "  warnings.warn(msg)\n",
      "/home/augustinm/anaconda3/envs/pya/lib/python3.7/site-packages/iris/fileformats/_pyke_rules/compiled_krb/fc_rules_cf_fc.py:1932: UserWarning: Ignoring netCDF variable 'time' invalid units 'month of year'\n",
      "  warnings.warn(msg)\n",
      "/home/augustinm/anaconda3/envs/pya/lib/python3.7/site-packages/iris/fileformats/_pyke_rules/compiled_krb/fc_rules_cf_fc.py:1932: UserWarning: Ignoring netCDF variable 'time' invalid units 'month of year'\n",
      "  warnings.warn(msg)\n",
      "/home/augustinm/anaconda3/envs/pya/lib/python3.7/site-packages/iris/fileformats/_pyke_rules/compiled_krb/fc_rules_cf_fc.py:1932: UserWarning: Ignoring netCDF variable 'time' invalid units 'month of year'\n",
      "  warnings.warn(msg)\n",
      "/home/augustinm/anaconda3/envs/pya/lib/python3.7/site-packages/iris/fileformats/_pyke_rules/compiled_krb/fc_rules_cf_fc.py:1932: UserWarning: Ignoring netCDF variable 'time' invalid units 'month of year'\n",
      "  warnings.warn(msg)\n",
      "/home/augustinm/anaconda3/envs/pya/lib/python3.7/site-packages/numpy/ma/core.py:3172: FutureWarning: Using a non-tuple sequence for multidimensional indexing is deprecated; use `arr[tuple(seq)]` instead of `arr[seq]`. In the future this will be interpreted as an array index, `arr[np.array(seq)]`, which will result either in an error or a different result.\n",
      "  dout = self.data[indx]\n",
      "/home/augustinm/anaconda3/envs/pya/lib/python3.7/site-packages/iris/analysis/_scipy_interpolate.py:290: FutureWarning: Using a non-tuple sequence for multidimensional indexing is deprecated; use `arr[tuple(seq)]` instead of `arr[seq]`. In the future this will be interpreted as an array index, `arr[np.array(seq)]`, which will result either in an error or a different result.\n",
      "  return self.values[idx_res]\n"
     ]
    },
    {
     "name": "stdout",
     "output_type": "stream",
     "text": [
      "OsloCTM3v1.01-met2010_AP3-HIST read netcf fileP\n"
     ]
    },
    {
     "name": "stderr",
     "output_type": "stream",
     "text": [
      "/home/augustinm/anaconda3/envs/pya/lib/python3.7/site-packages/numpy/ma/core.py:3172: FutureWarning: Using a non-tuple sequence for multidimensional indexing is deprecated; use `arr[tuple(seq)]` instead of `arr[seq]`. In the future this will be interpreted as an array index, `arr[np.array(seq)]`, which will result either in an error or a different result.\n",
      "  dout = self.data[indx]\n",
      "/home/augustinm/anaconda3/envs/pya/lib/python3.7/site-packages/numpy/ma/core.py:3204: FutureWarning: Using a non-tuple sequence for multidimensional indexing is deprecated; use `arr[tuple(seq)]` instead of `arr[seq]`. In the future this will be interpreted as an array index, `arr[np.array(seq)]`, which will result either in an error or a different result.\n",
      "  mout = _mask[indx]\n",
      "/home/augustinm/anaconda3/envs/pya/lib/python3.7/site-packages/iris/analysis/_scipy_interpolate.py:290: FutureWarning: Using a non-tuple sequence for multidimensional indexing is deprecated; use `arr[tuple(seq)]` instead of `arr[seq]`. In the future this will be interpreted as an array index, `arr[np.array(seq)]`, which will result either in an error or a different result.\n",
      "  return self.values[idx_res]\n"
     ]
    },
    {
     "name": "stdout",
     "output_type": "stream",
     "text": [
      "region:  EUROPE station:  ZvenigorodhecergDWD\n",
      "Less than 4 points in selected period\n"
     ]
    },
    {
     "name": "stderr",
     "output_type": "stream",
     "text": [
      "/home/augustinm/anaconda3/envs/pya/lib/python3.7/site-packages/numpy/lib/nanfunctions.py:1115: RuntimeWarning: All-NaN slice encountered\n",
      "  overwrite_input=overwrite_input)\n"
     ]
    },
    {
     "name": "stdout",
     "output_type": "stream",
     "text": [
      "region:  ASIA station:  Yekaterinburgoo\n",
      "Less than 4 points in selected period\n",
      "region:  NAMERICA station:  Yumaesiuilleillelee\n",
      "Less than 4 points in selected period\n",
      "region:  SAMERICA station:  UdeConcepcion-CEFOP\n",
      "Less than 4 points in selected period\n",
      "region:  NAFRICA station:  SaadaSougouANMLI\n",
      "Less than 4 points in selected period\n",
      "region:  AUSTRALIA station:  Jabirurale\n",
      "Less than 4 points in selected period\n",
      "region:  WORLD station:  Zvenigorodurg-CEFOP\n",
      "Less than 4 points in selected period\n",
      "CAM5-ATRAS_AP3-HIST read netcf file\n"
     ]
    },
    {
     "name": "stderr",
     "output_type": "stream",
     "text": [
      "/home/augustinm/anaconda3/envs/pya/lib/python3.7/site-packages/numpy/ma/core.py:3172: FutureWarning: Using a non-tuple sequence for multidimensional indexing is deprecated; use `arr[tuple(seq)]` instead of `arr[seq]`. In the future this will be interpreted as an array index, `arr[np.array(seq)]`, which will result either in an error or a different result.\n",
      "  dout = self.data[indx]\n",
      "/home/augustinm/anaconda3/envs/pya/lib/python3.7/site-packages/numpy/ma/core.py:3204: FutureWarning: Using a non-tuple sequence for multidimensional indexing is deprecated; use `arr[tuple(seq)]` instead of `arr[seq]`. In the future this will be interpreted as an array index, `arr[np.array(seq)]`, which will result either in an error or a different result.\n",
      "  mout = _mask[indx]\n",
      "/home/augustinm/anaconda3/envs/pya/lib/python3.7/site-packages/iris/analysis/_scipy_interpolate.py:290: FutureWarning: Using a non-tuple sequence for multidimensional indexing is deprecated; use `arr[tuple(seq)]` instead of `arr[seq]`. In the future this will be interpreted as an array index, `arr[np.array(seq)]`, which will result either in an error or a different result.\n",
      "  return self.values[idx_res]\n"
     ]
    },
    {
     "name": "stdout",
     "output_type": "stream",
     "text": [
      "region:  EUROPE station:  ZvenigorodhecergDWD\n",
      "Less than 4 points in selected period\n"
     ]
    },
    {
     "name": "stderr",
     "output_type": "stream",
     "text": [
      "/home/augustinm/anaconda3/envs/pya/lib/python3.7/site-packages/numpy/lib/nanfunctions.py:1115: RuntimeWarning: All-NaN slice encountered\n",
      "  overwrite_input=overwrite_input)\n"
     ]
    },
    {
     "name": "stdout",
     "output_type": "stream",
     "text": [
      "region:  ASIA station:  Yekaterinburgoo\n",
      "Less than 4 points in selected period\n",
      "region:  NAMERICA station:  Yumaesiuilleillelee\n",
      "Less than 4 points in selected period\n",
      "region:  SAMERICA station:  UdeConcepcion-CEFOP\n",
      "Less than 4 points in selected period\n",
      "region:  NAFRICA station:  SaadaSougouANMLI\n",
      "Less than 4 points in selected period\n",
      "region:  AUSTRALIA station:  Jabirurale\n",
      "Less than 4 points in selected period\n",
      "region:  WORLD station:  Zvenigorodurg-CEFOP\n",
      "Less than 4 points in selected period\n",
      "GFDL-AM4-amip_HIST read netcf file\n"
     ]
    },
    {
     "name": "stderr",
     "output_type": "stream",
     "text": [
      "/home/augustinm/anaconda3/envs/pya/lib/python3.7/site-packages/iris/fileformats/cf.py:798: UserWarning: Missing CF-netCDF measure variable 'area', referenced by netCDF variable 'emibc'\n",
      "  warnings.warn(message % (variable_name, nc_var_name))\n",
      "/home/augustinm/anaconda3/envs/pya/lib/python3.7/site-packages/iris/fileformats/cf.py:798: UserWarning: Missing CF-netCDF measure variable 'area', referenced by netCDF variable 'emibc'\n",
      "  warnings.warn(message % (variable_name, nc_var_name))\n",
      "/home/augustinm/anaconda3/envs/pya/lib/python3.7/site-packages/iris/fileformats/cf.py:798: UserWarning: Missing CF-netCDF measure variable 'area', referenced by netCDF variable 'emibc'\n",
      "  warnings.warn(message % (variable_name, nc_var_name))\n",
      "/home/augustinm/anaconda3/envs/pya/lib/python3.7/site-packages/iris/fileformats/cf.py:798: UserWarning: Missing CF-netCDF measure variable 'area', referenced by netCDF variable 'emibc'\n",
      "  warnings.warn(message % (variable_name, nc_var_name))\n",
      "/home/augustinm/anaconda3/envs/pya/lib/python3.7/site-packages/iris/fileformats/cf.py:798: UserWarning: Missing CF-netCDF measure variable 'area', referenced by netCDF variable 'emibc'\n",
      "  warnings.warn(message % (variable_name, nc_var_name))\n",
      "/home/augustinm/anaconda3/envs/pya/lib/python3.7/site-packages/iris/fileformats/cf.py:798: UserWarning: Missing CF-netCDF measure variable 'area', referenced by netCDF variable 'emibc'\n",
      "  warnings.warn(message % (variable_name, nc_var_name))\n",
      "/home/augustinm/anaconda3/envs/pya/lib/python3.7/site-packages/iris/fileformats/cf.py:798: UserWarning: Missing CF-netCDF measure variable 'area', referenced by netCDF variable 'emibc'\n",
      "  warnings.warn(message % (variable_name, nc_var_name))\n",
      "/home/augustinm/anaconda3/envs/pya/lib/python3.7/site-packages/iris/fileformats/cf.py:798: UserWarning: Missing CF-netCDF measure variable 'area', referenced by netCDF variable 'emibc'\n",
      "  warnings.warn(message % (variable_name, nc_var_name))\n",
      "/home/augustinm/anaconda3/envs/pya/lib/python3.7/site-packages/iris/fileformats/cf.py:798: UserWarning: Missing CF-netCDF measure variable 'area', referenced by netCDF variable 'emibc'\n",
      "  warnings.warn(message % (variable_name, nc_var_name))\n",
      "/home/augustinm/anaconda3/envs/pya/lib/python3.7/site-packages/iris/fileformats/cf.py:798: UserWarning: Missing CF-netCDF measure variable 'area', referenced by netCDF variable 'emibc'\n",
      "  warnings.warn(message % (variable_name, nc_var_name))\n",
      "/home/augustinm/anaconda3/envs/pya/lib/python3.7/site-packages/iris/fileformats/cf.py:798: UserWarning: Missing CF-netCDF measure variable 'area', referenced by netCDF variable 'emibc'\n",
      "  warnings.warn(message % (variable_name, nc_var_name))\n",
      "/home/augustinm/anaconda3/envs/pya/lib/python3.7/site-packages/iris/fileformats/cf.py:798: UserWarning: Missing CF-netCDF measure variable 'area', referenced by netCDF variable 'emibc'\n",
      "  warnings.warn(message % (variable_name, nc_var_name))\n",
      "/home/augustinm/anaconda3/envs/pya/lib/python3.7/site-packages/iris/fileformats/cf.py:798: UserWarning: Missing CF-netCDF measure variable 'area', referenced by netCDF variable 'emibc'\n",
      "  warnings.warn(message % (variable_name, nc_var_name))\n",
      "/home/augustinm/anaconda3/envs/pya/lib/python3.7/site-packages/iris/fileformats/cf.py:798: UserWarning: Missing CF-netCDF measure variable 'area', referenced by netCDF variable 'emibc'\n",
      "  warnings.warn(message % (variable_name, nc_var_name))\n",
      "/home/augustinm/anaconda3/envs/pya/lib/python3.7/site-packages/iris/fileformats/cf.py:798: UserWarning: Missing CF-netCDF measure variable 'area', referenced by netCDF variable 'emibc'\n",
      "  warnings.warn(message % (variable_name, nc_var_name))\n",
      "/home/augustinm/anaconda3/envs/pya/lib/python3.7/site-packages/iris/fileformats/cf.py:798: UserWarning: Missing CF-netCDF measure variable 'area', referenced by netCDF variable 'emibc'\n",
      "  warnings.warn(message % (variable_name, nc_var_name))\n",
      "/home/augustinm/anaconda3/envs/pya/lib/python3.7/site-packages/iris/fileformats/cf.py:798: UserWarning: Missing CF-netCDF measure variable 'area', referenced by netCDF variable 'emibc'\n",
      "  warnings.warn(message % (variable_name, nc_var_name))\n",
      "/home/augustinm/anaconda3/envs/pya/lib/python3.7/site-packages/iris/fileformats/cf.py:798: UserWarning: Missing CF-netCDF measure variable 'area', referenced by netCDF variable 'emibc'\n",
      "  warnings.warn(message % (variable_name, nc_var_name))\n",
      "/home/augustinm/anaconda3/envs/pya/lib/python3.7/site-packages/iris/fileformats/cf.py:798: UserWarning: Missing CF-netCDF measure variable 'area', referenced by netCDF variable 'emibc'\n",
      "  warnings.warn(message % (variable_name, nc_var_name))\n",
      "/home/augustinm/anaconda3/envs/pya/lib/python3.7/site-packages/iris/fileformats/cf.py:798: UserWarning: Missing CF-netCDF measure variable 'area', referenced by netCDF variable 'emibc'\n",
      "  warnings.warn(message % (variable_name, nc_var_name))\n",
      "/home/augustinm/anaconda3/envs/pya/lib/python3.7/site-packages/iris/fileformats/cf.py:798: UserWarning: Missing CF-netCDF measure variable 'area', referenced by netCDF variable 'emibc'\n",
      "  warnings.warn(message % (variable_name, nc_var_name))\n",
      "/home/augustinm/anaconda3/envs/pya/lib/python3.7/site-packages/iris/fileformats/cf.py:798: UserWarning: Missing CF-netCDF measure variable 'area', referenced by netCDF variable 'emibc'\n",
      "  warnings.warn(message % (variable_name, nc_var_name))\n",
      "/home/augustinm/anaconda3/envs/pya/lib/python3.7/site-packages/iris/fileformats/cf.py:798: UserWarning: Missing CF-netCDF measure variable 'area', referenced by netCDF variable 'emibc'\n",
      "  warnings.warn(message % (variable_name, nc_var_name))\n",
      "/home/augustinm/anaconda3/envs/pya/lib/python3.7/site-packages/iris/fileformats/cf.py:798: UserWarning: Missing CF-netCDF measure variable 'area', referenced by netCDF variable 'emibc'\n",
      "  warnings.warn(message % (variable_name, nc_var_name))\n",
      "/home/augustinm/anaconda3/envs/pya/lib/python3.7/site-packages/iris/fileformats/cf.py:798: UserWarning: Missing CF-netCDF measure variable 'area', referenced by netCDF variable 'emibc'\n",
      "  warnings.warn(message % (variable_name, nc_var_name))\n",
      "/home/augustinm/anaconda3/envs/pya/lib/python3.7/site-packages/iris/fileformats/cf.py:798: UserWarning: Missing CF-netCDF measure variable 'area', referenced by netCDF variable 'emibc'\n",
      "  warnings.warn(message % (variable_name, nc_var_name))\n",
      "/home/augustinm/anaconda3/envs/pya/lib/python3.7/site-packages/iris/fileformats/cf.py:798: UserWarning: Missing CF-netCDF measure variable 'area', referenced by netCDF variable 'emibc'\n",
      "  warnings.warn(message % (variable_name, nc_var_name))\n",
      "/home/augustinm/anaconda3/envs/pya/lib/python3.7/site-packages/iris/fileformats/cf.py:798: UserWarning: Missing CF-netCDF measure variable 'area', referenced by netCDF variable 'emibc'\n",
      "  warnings.warn(message % (variable_name, nc_var_name))\n",
      "/home/augustinm/anaconda3/envs/pya/lib/python3.7/site-packages/iris/fileformats/cf.py:798: UserWarning: Missing CF-netCDF measure variable 'area', referenced by netCDF variable 'emibc'\n",
      "  warnings.warn(message % (variable_name, nc_var_name))\n",
      "/home/augustinm/anaconda3/envs/pya/lib/python3.7/site-packages/iris/fileformats/cf.py:798: UserWarning: Missing CF-netCDF measure variable 'area', referenced by netCDF variable 'emibc'\n",
      "  warnings.warn(message % (variable_name, nc_var_name))\n",
      "/home/augustinm/anaconda3/envs/pya/lib/python3.7/site-packages/iris/fileformats/cf.py:798: UserWarning: Missing CF-netCDF measure variable 'area', referenced by netCDF variable 'emibc'\n",
      "  warnings.warn(message % (variable_name, nc_var_name))\n",
      "/home/augustinm/anaconda3/envs/pya/lib/python3.7/site-packages/iris/fileformats/cf.py:798: UserWarning: Missing CF-netCDF measure variable 'area', referenced by netCDF variable 'emibc'\n",
      "  warnings.warn(message % (variable_name, nc_var_name))\n",
      "/home/augustinm/anaconda3/envs/pya/lib/python3.7/site-packages/iris/fileformats/cf.py:798: UserWarning: Missing CF-netCDF measure variable 'area', referenced by netCDF variable 'emibc'\n",
      "  warnings.warn(message % (variable_name, nc_var_name))\n",
      "/home/augustinm/anaconda3/envs/pya/lib/python3.7/site-packages/iris/fileformats/cf.py:798: UserWarning: Missing CF-netCDF measure variable 'area', referenced by netCDF variable 'emibc'\n",
      "  warnings.warn(message % (variable_name, nc_var_name))\n",
      "/home/augustinm/anaconda3/envs/pya/lib/python3.7/site-packages/iris/fileformats/cf.py:798: UserWarning: Missing CF-netCDF measure variable 'area', referenced by netCDF variable 'emibc'\n",
      "  warnings.warn(message % (variable_name, nc_var_name))\n",
      "/home/augustinm/anaconda3/envs/pya/lib/python3.7/site-packages/iris/fileformats/cf.py:798: UserWarning: Missing CF-netCDF measure variable 'area', referenced by netCDF variable 'emibc'\n",
      "  warnings.warn(message % (variable_name, nc_var_name))\n",
      "/home/augustinm/anaconda3/envs/pya/lib/python3.7/site-packages/iris/fileformats/cf.py:798: UserWarning: Missing CF-netCDF measure variable 'area', referenced by netCDF variable 'emibc'\n",
      "  warnings.warn(message % (variable_name, nc_var_name))\n",
      "/home/augustinm/anaconda3/envs/pya/lib/python3.7/site-packages/iris/fileformats/cf.py:798: UserWarning: Missing CF-netCDF measure variable 'area', referenced by netCDF variable 'emibc'\n",
      "  warnings.warn(message % (variable_name, nc_var_name))\n",
      "/home/augustinm/anaconda3/envs/pya/lib/python3.7/site-packages/iris/fileformats/cf.py:798: UserWarning: Missing CF-netCDF measure variable 'area', referenced by netCDF variable 'emibc'\n",
      "  warnings.warn(message % (variable_name, nc_var_name))\n",
      "/home/augustinm/anaconda3/envs/pya/lib/python3.7/site-packages/iris/fileformats/cf.py:798: UserWarning: Missing CF-netCDF measure variable 'area', referenced by netCDF variable 'emibc'\n",
      "  warnings.warn(message % (variable_name, nc_var_name))\n",
      "/home/augustinm/anaconda3/envs/pya/lib/python3.7/site-packages/iris/fileformats/cf.py:798: UserWarning: Missing CF-netCDF measure variable 'area', referenced by netCDF variable 'emibc'\n",
      "  warnings.warn(message % (variable_name, nc_var_name))\n",
      "/home/augustinm/anaconda3/envs/pya/lib/python3.7/site-packages/iris/fileformats/cf.py:798: UserWarning: Missing CF-netCDF measure variable 'area', referenced by netCDF variable 'emibc'\n",
      "  warnings.warn(message % (variable_name, nc_var_name))\n",
      "/home/augustinm/anaconda3/envs/pya/lib/python3.7/site-packages/iris/fileformats/cf.py:798: UserWarning: Missing CF-netCDF measure variable 'area', referenced by netCDF variable 'emibc'\n",
      "  warnings.warn(message % (variable_name, nc_var_name))\n",
      "/home/augustinm/anaconda3/envs/pya/lib/python3.7/site-packages/iris/fileformats/cf.py:798: UserWarning: Missing CF-netCDF measure variable 'area', referenced by netCDF variable 'emibc'\n",
      "  warnings.warn(message % (variable_name, nc_var_name))\n",
      "/home/augustinm/anaconda3/envs/pya/lib/python3.7/site-packages/iris/fileformats/cf.py:798: UserWarning: Missing CF-netCDF measure variable 'area', referenced by netCDF variable 'emibc'\n",
      "  warnings.warn(message % (variable_name, nc_var_name))\n",
      "/home/augustinm/anaconda3/envs/pya/lib/python3.7/site-packages/iris/fileformats/cf.py:798: UserWarning: Missing CF-netCDF measure variable 'area', referenced by netCDF variable 'emibc'\n",
      "  warnings.warn(message % (variable_name, nc_var_name))\n",
      "/home/augustinm/anaconda3/envs/pya/lib/python3.7/site-packages/iris/fileformats/cf.py:798: UserWarning: Missing CF-netCDF measure variable 'area', referenced by netCDF variable 'emibc'\n",
      "  warnings.warn(message % (variable_name, nc_var_name))\n",
      "/home/augustinm/anaconda3/envs/pya/lib/python3.7/site-packages/iris/fileformats/cf.py:798: UserWarning: Missing CF-netCDF measure variable 'area', referenced by netCDF variable 'emibc'\n",
      "  warnings.warn(message % (variable_name, nc_var_name))\n",
      "/home/augustinm/anaconda3/envs/pya/lib/python3.7/site-packages/iris/fileformats/cf.py:798: UserWarning: Missing CF-netCDF measure variable 'area', referenced by netCDF variable 'emibc'\n",
      "  warnings.warn(message % (variable_name, nc_var_name))\n",
      "/home/augustinm/anaconda3/envs/pya/lib/python3.7/site-packages/iris/fileformats/cf.py:798: UserWarning: Missing CF-netCDF measure variable 'area', referenced by netCDF variable 'emibc'\n",
      "  warnings.warn(message % (variable_name, nc_var_name))\n",
      "/home/augustinm/anaconda3/envs/pya/lib/python3.7/site-packages/iris/fileformats/cf.py:798: UserWarning: Missing CF-netCDF measure variable 'area', referenced by netCDF variable 'emibc'\n",
      "  warnings.warn(message % (variable_name, nc_var_name))\n",
      "/home/augustinm/anaconda3/envs/pya/lib/python3.7/site-packages/iris/fileformats/cf.py:798: UserWarning: Missing CF-netCDF measure variable 'area', referenced by netCDF variable 'emibc'\n",
      "  warnings.warn(message % (variable_name, nc_var_name))\n",
      "/home/augustinm/anaconda3/envs/pya/lib/python3.7/site-packages/iris/fileformats/cf.py:798: UserWarning: Missing CF-netCDF measure variable 'area', referenced by netCDF variable 'emibc'\n",
      "  warnings.warn(message % (variable_name, nc_var_name))\n",
      "/home/augustinm/anaconda3/envs/pya/lib/python3.7/site-packages/iris/fileformats/cf.py:798: UserWarning: Missing CF-netCDF measure variable 'area', referenced by netCDF variable 'emibc'\n",
      "  warnings.warn(message % (variable_name, nc_var_name))\n",
      "/home/augustinm/anaconda3/envs/pya/lib/python3.7/site-packages/iris/fileformats/cf.py:798: UserWarning: Missing CF-netCDF measure variable 'area', referenced by netCDF variable 'emibc'\n",
      "  warnings.warn(message % (variable_name, nc_var_name))\n",
      "/home/augustinm/anaconda3/envs/pya/lib/python3.7/site-packages/iris/fileformats/cf.py:798: UserWarning: Missing CF-netCDF measure variable 'area', referenced by netCDF variable 'emibc'\n",
      "  warnings.warn(message % (variable_name, nc_var_name))\n",
      "/home/augustinm/anaconda3/envs/pya/lib/python3.7/site-packages/iris/fileformats/cf.py:798: UserWarning: Missing CF-netCDF measure variable 'area', referenced by netCDF variable 'emibc'\n",
      "  warnings.warn(message % (variable_name, nc_var_name))\n",
      "/home/augustinm/anaconda3/envs/pya/lib/python3.7/site-packages/iris/fileformats/cf.py:798: UserWarning: Missing CF-netCDF measure variable 'area', referenced by netCDF variable 'emibc'\n",
      "  warnings.warn(message % (variable_name, nc_var_name))\n",
      "/home/augustinm/anaconda3/envs/pya/lib/python3.7/site-packages/iris/fileformats/cf.py:798: UserWarning: Missing CF-netCDF measure variable 'area', referenced by netCDF variable 'emibc'\n",
      "  warnings.warn(message % (variable_name, nc_var_name))\n",
      "/home/augustinm/anaconda3/envs/pya/lib/python3.7/site-packages/iris/fileformats/cf.py:798: UserWarning: Missing CF-netCDF measure variable 'area', referenced by netCDF variable 'emibc'\n",
      "  warnings.warn(message % (variable_name, nc_var_name))\n",
      "/home/augustinm/anaconda3/envs/pya/lib/python3.7/site-packages/iris/fileformats/cf.py:798: UserWarning: Missing CF-netCDF measure variable 'area', referenced by netCDF variable 'emibc'\n",
      "  warnings.warn(message % (variable_name, nc_var_name))\n",
      "/home/augustinm/anaconda3/envs/pya/lib/python3.7/site-packages/iris/fileformats/cf.py:798: UserWarning: Missing CF-netCDF measure variable 'area', referenced by netCDF variable 'emibc'\n",
      "  warnings.warn(message % (variable_name, nc_var_name))\n",
      "/home/augustinm/anaconda3/envs/pya/lib/python3.7/site-packages/iris/fileformats/cf.py:798: UserWarning: Missing CF-netCDF measure variable 'area', referenced by netCDF variable 'emibc'\n",
      "  warnings.warn(message % (variable_name, nc_var_name))\n",
      "/home/augustinm/anaconda3/envs/pya/lib/python3.7/site-packages/iris/fileformats/cf.py:798: UserWarning: Missing CF-netCDF measure variable 'area', referenced by netCDF variable 'emibc'\n",
      "  warnings.warn(message % (variable_name, nc_var_name))\n",
      "/home/augustinm/anaconda3/envs/pya/lib/python3.7/site-packages/iris/fileformats/cf.py:798: UserWarning: Missing CF-netCDF measure variable 'area', referenced by netCDF variable 'emibc'\n",
      "  warnings.warn(message % (variable_name, nc_var_name))\n",
      "/home/augustinm/anaconda3/envs/pya/lib/python3.7/site-packages/iris/fileformats/cf.py:798: UserWarning: Missing CF-netCDF measure variable 'area', referenced by netCDF variable 'emibc'\n",
      "  warnings.warn(message % (variable_name, nc_var_name))\n",
      "/home/augustinm/anaconda3/envs/pya/lib/python3.7/site-packages/iris/fileformats/cf.py:798: UserWarning: Missing CF-netCDF measure variable 'area', referenced by netCDF variable 'emibc'\n",
      "  warnings.warn(message % (variable_name, nc_var_name))\n",
      "/home/augustinm/anaconda3/envs/pya/lib/python3.7/site-packages/iris/fileformats/cf.py:798: UserWarning: Missing CF-netCDF measure variable 'area', referenced by netCDF variable 'emibc'\n",
      "  warnings.warn(message % (variable_name, nc_var_name))\n",
      "/home/augustinm/anaconda3/envs/pya/lib/python3.7/site-packages/iris/fileformats/cf.py:798: UserWarning: Missing CF-netCDF measure variable 'area', referenced by netCDF variable 'emibc'\n",
      "  warnings.warn(message % (variable_name, nc_var_name))\n",
      "/home/augustinm/anaconda3/envs/pya/lib/python3.7/site-packages/iris/fileformats/cf.py:798: UserWarning: Missing CF-netCDF measure variable 'area', referenced by netCDF variable 'emibc'\n",
      "  warnings.warn(message % (variable_name, nc_var_name))\n",
      "/home/augustinm/anaconda3/envs/pya/lib/python3.7/site-packages/iris/fileformats/cf.py:798: UserWarning: Missing CF-netCDF measure variable 'area', referenced by netCDF variable 'emibc'\n",
      "  warnings.warn(message % (variable_name, nc_var_name))\n",
      "/home/augustinm/anaconda3/envs/pya/lib/python3.7/site-packages/iris/fileformats/cf.py:798: UserWarning: Missing CF-netCDF measure variable 'area', referenced by netCDF variable 'emibc'\n",
      "  warnings.warn(message % (variable_name, nc_var_name))\n",
      "/home/augustinm/anaconda3/envs/pya/lib/python3.7/site-packages/iris/fileformats/cf.py:798: UserWarning: Missing CF-netCDF measure variable 'area', referenced by netCDF variable 'emibc'\n",
      "  warnings.warn(message % (variable_name, nc_var_name))\n",
      "/home/augustinm/anaconda3/envs/pya/lib/python3.7/site-packages/iris/fileformats/cf.py:798: UserWarning: Missing CF-netCDF measure variable 'area', referenced by netCDF variable 'emibc'\n",
      "  warnings.warn(message % (variable_name, nc_var_name))\n",
      "/home/augustinm/anaconda3/envs/pya/lib/python3.7/site-packages/iris/fileformats/cf.py:798: UserWarning: Missing CF-netCDF measure variable 'area', referenced by netCDF variable 'emibc'\n",
      "  warnings.warn(message % (variable_name, nc_var_name))\n",
      "/home/augustinm/anaconda3/envs/pya/lib/python3.7/site-packages/iris/fileformats/cf.py:798: UserWarning: Missing CF-netCDF measure variable 'area', referenced by netCDF variable 'emibc'\n",
      "  warnings.warn(message % (variable_name, nc_var_name))\n",
      "/home/augustinm/anaconda3/envs/pya/lib/python3.7/site-packages/iris/fileformats/cf.py:798: UserWarning: Missing CF-netCDF measure variable 'area', referenced by netCDF variable 'emibc'\n",
      "  warnings.warn(message % (variable_name, nc_var_name))\n",
      "/home/augustinm/anaconda3/envs/pya/lib/python3.7/site-packages/iris/fileformats/cf.py:798: UserWarning: Missing CF-netCDF measure variable 'area', referenced by netCDF variable 'emibc'\n",
      "  warnings.warn(message % (variable_name, nc_var_name))\n",
      "/home/augustinm/anaconda3/envs/pya/lib/python3.7/site-packages/iris/fileformats/cf.py:798: UserWarning: Missing CF-netCDF measure variable 'area', referenced by netCDF variable 'emibc'\n",
      "  warnings.warn(message % (variable_name, nc_var_name))\n",
      "/home/augustinm/anaconda3/envs/pya/lib/python3.7/site-packages/iris/fileformats/cf.py:798: UserWarning: Missing CF-netCDF measure variable 'area', referenced by netCDF variable 'emibc'\n",
      "  warnings.warn(message % (variable_name, nc_var_name))\n",
      "/home/augustinm/anaconda3/envs/pya/lib/python3.7/site-packages/iris/fileformats/cf.py:798: UserWarning: Missing CF-netCDF measure variable 'area', referenced by netCDF variable 'emibc'\n",
      "  warnings.warn(message % (variable_name, nc_var_name))\n",
      "/home/augustinm/anaconda3/envs/pya/lib/python3.7/site-packages/iris/fileformats/cf.py:798: UserWarning: Missing CF-netCDF measure variable 'area', referenced by netCDF variable 'emibc'\n",
      "  warnings.warn(message % (variable_name, nc_var_name))\n",
      "/home/augustinm/anaconda3/envs/pya/lib/python3.7/site-packages/iris/fileformats/cf.py:798: UserWarning: Missing CF-netCDF measure variable 'area', referenced by netCDF variable 'emibc'\n",
      "  warnings.warn(message % (variable_name, nc_var_name))\n",
      "/home/augustinm/anaconda3/envs/pya/lib/python3.7/site-packages/iris/fileformats/cf.py:798: UserWarning: Missing CF-netCDF measure variable 'area', referenced by netCDF variable 'emibc'\n",
      "  warnings.warn(message % (variable_name, nc_var_name))\n",
      "/home/augustinm/anaconda3/envs/pya/lib/python3.7/site-packages/iris/fileformats/cf.py:798: UserWarning: Missing CF-netCDF measure variable 'area', referenced by netCDF variable 'emibc'\n",
      "  warnings.warn(message % (variable_name, nc_var_name))\n",
      "/home/augustinm/anaconda3/envs/pya/lib/python3.7/site-packages/iris/fileformats/cf.py:798: UserWarning: Missing CF-netCDF measure variable 'area', referenced by netCDF variable 'emibc'\n",
      "  warnings.warn(message % (variable_name, nc_var_name))\n",
      "/home/augustinm/anaconda3/envs/pya/lib/python3.7/site-packages/iris/fileformats/cf.py:798: UserWarning: Missing CF-netCDF measure variable 'area', referenced by netCDF variable 'emibc'\n",
      "  warnings.warn(message % (variable_name, nc_var_name))\n",
      "/home/augustinm/anaconda3/envs/pya/lib/python3.7/site-packages/iris/fileformats/cf.py:798: UserWarning: Missing CF-netCDF measure variable 'area', referenced by netCDF variable 'emibc'\n",
      "  warnings.warn(message % (variable_name, nc_var_name))\n",
      "/home/augustinm/anaconda3/envs/pya/lib/python3.7/site-packages/iris/fileformats/cf.py:798: UserWarning: Missing CF-netCDF measure variable 'area', referenced by netCDF variable 'emibc'\n",
      "  warnings.warn(message % (variable_name, nc_var_name))\n",
      "/home/augustinm/anaconda3/envs/pya/lib/python3.7/site-packages/iris/fileformats/cf.py:798: UserWarning: Missing CF-netCDF measure variable 'area', referenced by netCDF variable 'emibc'\n",
      "  warnings.warn(message % (variable_name, nc_var_name))\n",
      "/home/augustinm/anaconda3/envs/pya/lib/python3.7/site-packages/iris/fileformats/cf.py:798: UserWarning: Missing CF-netCDF measure variable 'area', referenced by netCDF variable 'emibc'\n",
      "  warnings.warn(message % (variable_name, nc_var_name))\n",
      "/home/augustinm/anaconda3/envs/pya/lib/python3.7/site-packages/iris/fileformats/cf.py:798: UserWarning: Missing CF-netCDF measure variable 'area', referenced by netCDF variable 'emibc'\n",
      "  warnings.warn(message % (variable_name, nc_var_name))\n",
      "/home/augustinm/anaconda3/envs/pya/lib/python3.7/site-packages/iris/fileformats/cf.py:798: UserWarning: Missing CF-netCDF measure variable 'area', referenced by netCDF variable 'emibc'\n",
      "  warnings.warn(message % (variable_name, nc_var_name))\n",
      "/home/augustinm/anaconda3/envs/pya/lib/python3.7/site-packages/iris/fileformats/cf.py:798: UserWarning: Missing CF-netCDF measure variable 'area', referenced by netCDF variable 'emibc'\n",
      "  warnings.warn(message % (variable_name, nc_var_name))\n",
      "/home/augustinm/anaconda3/envs/pya/lib/python3.7/site-packages/iris/fileformats/cf.py:798: UserWarning: Missing CF-netCDF measure variable 'area', referenced by netCDF variable 'emibc'\n",
      "  warnings.warn(message % (variable_name, nc_var_name))\n",
      "/home/augustinm/anaconda3/envs/pya/lib/python3.7/site-packages/iris/fileformats/cf.py:798: UserWarning: Missing CF-netCDF measure variable 'area', referenced by netCDF variable 'emibc'\n",
      "  warnings.warn(message % (variable_name, nc_var_name))\n",
      "/home/augustinm/anaconda3/envs/pya/lib/python3.7/site-packages/iris/fileformats/cf.py:798: UserWarning: Missing CF-netCDF measure variable 'area', referenced by netCDF variable 'emibc'\n",
      "  warnings.warn(message % (variable_name, nc_var_name))\n",
      "/home/augustinm/anaconda3/envs/pya/lib/python3.7/site-packages/iris/fileformats/cf.py:798: UserWarning: Missing CF-netCDF measure variable 'area', referenced by netCDF variable 'emibc'\n",
      "  warnings.warn(message % (variable_name, nc_var_name))\n",
      "/home/augustinm/anaconda3/envs/pya/lib/python3.7/site-packages/iris/fileformats/cf.py:798: UserWarning: Missing CF-netCDF measure variable 'area', referenced by netCDF variable 'emibc'\n",
      "  warnings.warn(message % (variable_name, nc_var_name))\n",
      "/home/augustinm/anaconda3/envs/pya/lib/python3.7/site-packages/iris/fileformats/cf.py:798: UserWarning: Missing CF-netCDF measure variable 'area', referenced by netCDF variable 'emibc'\n",
      "  warnings.warn(message % (variable_name, nc_var_name))\n",
      "/home/augustinm/anaconda3/envs/pya/lib/python3.7/site-packages/iris/fileformats/cf.py:798: UserWarning: Missing CF-netCDF measure variable 'area', referenced by netCDF variable 'emibc'\n",
      "  warnings.warn(message % (variable_name, nc_var_name))\n",
      "/home/augustinm/anaconda3/envs/pya/lib/python3.7/site-packages/iris/fileformats/cf.py:798: UserWarning: Missing CF-netCDF measure variable 'area', referenced by netCDF variable 'emibc'\n",
      "  warnings.warn(message % (variable_name, nc_var_name))\n",
      "/home/augustinm/anaconda3/envs/pya/lib/python3.7/site-packages/iris/fileformats/cf.py:798: UserWarning: Missing CF-netCDF measure variable 'area', referenced by netCDF variable 'emibc'\n",
      "  warnings.warn(message % (variable_name, nc_var_name))\n",
      "/home/augustinm/anaconda3/envs/pya/lib/python3.7/site-packages/iris/fileformats/cf.py:798: UserWarning: Missing CF-netCDF measure variable 'area', referenced by netCDF variable 'emibc'\n",
      "  warnings.warn(message % (variable_name, nc_var_name))\n",
      "/home/augustinm/anaconda3/envs/pya/lib/python3.7/site-packages/iris/fileformats/cf.py:798: UserWarning: Missing CF-netCDF measure variable 'area', referenced by netCDF variable 'emibc'\n",
      "  warnings.warn(message % (variable_name, nc_var_name))\n",
      "/home/augustinm/anaconda3/envs/pya/lib/python3.7/site-packages/iris/fileformats/cf.py:798: UserWarning: Missing CF-netCDF measure variable 'area', referenced by netCDF variable 'emibc'\n",
      "  warnings.warn(message % (variable_name, nc_var_name))\n",
      "/home/augustinm/anaconda3/envs/pya/lib/python3.7/site-packages/iris/fileformats/cf.py:798: UserWarning: Missing CF-netCDF measure variable 'area', referenced by netCDF variable 'emibc'\n",
      "  warnings.warn(message % (variable_name, nc_var_name))\n",
      "/home/augustinm/anaconda3/envs/pya/lib/python3.7/site-packages/iris/fileformats/cf.py:798: UserWarning: Missing CF-netCDF measure variable 'area', referenced by netCDF variable 'emibc'\n",
      "  warnings.warn(message % (variable_name, nc_var_name))\n",
      "/home/augustinm/anaconda3/envs/pya/lib/python3.7/site-packages/iris/fileformats/cf.py:798: UserWarning: Missing CF-netCDF measure variable 'area', referenced by netCDF variable 'emibc'\n",
      "  warnings.warn(message % (variable_name, nc_var_name))\n",
      "/home/augustinm/anaconda3/envs/pya/lib/python3.7/site-packages/iris/fileformats/cf.py:798: UserWarning: Missing CF-netCDF measure variable 'area', referenced by netCDF variable 'emibc'\n",
      "  warnings.warn(message % (variable_name, nc_var_name))\n",
      "/home/augustinm/anaconda3/envs/pya/lib/python3.7/site-packages/iris/fileformats/cf.py:798: UserWarning: Missing CF-netCDF measure variable 'area', referenced by netCDF variable 'emibc'\n",
      "  warnings.warn(message % (variable_name, nc_var_name))\n",
      "/home/augustinm/anaconda3/envs/pya/lib/python3.7/site-packages/iris/fileformats/cf.py:798: UserWarning: Missing CF-netCDF measure variable 'area', referenced by netCDF variable 'emibc'\n",
      "  warnings.warn(message % (variable_name, nc_var_name))\n",
      "/home/augustinm/anaconda3/envs/pya/lib/python3.7/site-packages/iris/fileformats/cf.py:798: UserWarning: Missing CF-netCDF measure variable 'area', referenced by netCDF variable 'emibc'\n",
      "  warnings.warn(message % (variable_name, nc_var_name))\n",
      "/home/augustinm/anaconda3/envs/pya/lib/python3.7/site-packages/iris/fileformats/cf.py:798: UserWarning: Missing CF-netCDF measure variable 'area', referenced by netCDF variable 'emibc'\n",
      "  warnings.warn(message % (variable_name, nc_var_name))\n",
      "/home/augustinm/anaconda3/envs/pya/lib/python3.7/site-packages/iris/fileformats/cf.py:798: UserWarning: Missing CF-netCDF measure variable 'area', referenced by netCDF variable 'emibc'\n",
      "  warnings.warn(message % (variable_name, nc_var_name))\n",
      "/home/augustinm/anaconda3/envs/pya/lib/python3.7/site-packages/iris/fileformats/cf.py:798: UserWarning: Missing CF-netCDF measure variable 'area', referenced by netCDF variable 'emibc'\n",
      "  warnings.warn(message % (variable_name, nc_var_name))\n",
      "/home/augustinm/anaconda3/envs/pya/lib/python3.7/site-packages/iris/fileformats/cf.py:798: UserWarning: Missing CF-netCDF measure variable 'area', referenced by netCDF variable 'emibc'\n",
      "  warnings.warn(message % (variable_name, nc_var_name))\n",
      "/home/augustinm/anaconda3/envs/pya/lib/python3.7/site-packages/iris/fileformats/cf.py:798: UserWarning: Missing CF-netCDF measure variable 'area', referenced by netCDF variable 'emibc'\n",
      "  warnings.warn(message % (variable_name, nc_var_name))\n",
      "/home/augustinm/anaconda3/envs/pya/lib/python3.7/site-packages/iris/fileformats/cf.py:798: UserWarning: Missing CF-netCDF measure variable 'area', referenced by netCDF variable 'emibc'\n",
      "  warnings.warn(message % (variable_name, nc_var_name))\n",
      "/home/augustinm/anaconda3/envs/pya/lib/python3.7/site-packages/iris/fileformats/cf.py:798: UserWarning: Missing CF-netCDF measure variable 'area', referenced by netCDF variable 'emibc'\n",
      "  warnings.warn(message % (variable_name, nc_var_name))\n",
      "/home/augustinm/anaconda3/envs/pya/lib/python3.7/site-packages/iris/fileformats/cf.py:798: UserWarning: Missing CF-netCDF measure variable 'area', referenced by netCDF variable 'emibc'\n",
      "  warnings.warn(message % (variable_name, nc_var_name))\n",
      "/home/augustinm/anaconda3/envs/pya/lib/python3.7/site-packages/iris/fileformats/cf.py:798: UserWarning: Missing CF-netCDF measure variable 'area', referenced by netCDF variable 'emibc'\n",
      "  warnings.warn(message % (variable_name, nc_var_name))\n",
      "/home/augustinm/anaconda3/envs/pya/lib/python3.7/site-packages/iris/fileformats/cf.py:798: UserWarning: Missing CF-netCDF measure variable 'area', referenced by netCDF variable 'emibc'\n",
      "  warnings.warn(message % (variable_name, nc_var_name))\n",
      "/home/augustinm/anaconda3/envs/pya/lib/python3.7/site-packages/iris/fileformats/cf.py:798: UserWarning: Missing CF-netCDF measure variable 'area', referenced by netCDF variable 'emibc'\n",
      "  warnings.warn(message % (variable_name, nc_var_name))\n",
      "/home/augustinm/anaconda3/envs/pya/lib/python3.7/site-packages/iris/fileformats/cf.py:798: UserWarning: Missing CF-netCDF measure variable 'area', referenced by netCDF variable 'emibc'\n",
      "  warnings.warn(message % (variable_name, nc_var_name))\n",
      "/home/augustinm/anaconda3/envs/pya/lib/python3.7/site-packages/iris/fileformats/cf.py:798: UserWarning: Missing CF-netCDF measure variable 'area', referenced by netCDF variable 'emibc'\n",
      "  warnings.warn(message % (variable_name, nc_var_name))\n",
      "/home/augustinm/anaconda3/envs/pya/lib/python3.7/site-packages/iris/fileformats/cf.py:798: UserWarning: Missing CF-netCDF measure variable 'area', referenced by netCDF variable 'emibc'\n",
      "  warnings.warn(message % (variable_name, nc_var_name))\n",
      "/home/augustinm/anaconda3/envs/pya/lib/python3.7/site-packages/iris/fileformats/cf.py:798: UserWarning: Missing CF-netCDF measure variable 'area', referenced by netCDF variable 'emibc'\n",
      "  warnings.warn(message % (variable_name, nc_var_name))\n",
      "/home/augustinm/anaconda3/envs/pya/lib/python3.7/site-packages/iris/fileformats/cf.py:798: UserWarning: Missing CF-netCDF measure variable 'area', referenced by netCDF variable 'emibc'\n",
      "  warnings.warn(message % (variable_name, nc_var_name))\n",
      "/home/augustinm/anaconda3/envs/pya/lib/python3.7/site-packages/iris/fileformats/cf.py:798: UserWarning: Missing CF-netCDF measure variable 'area', referenced by netCDF variable 'emibc'\n",
      "  warnings.warn(message % (variable_name, nc_var_name))\n",
      "/home/augustinm/anaconda3/envs/pya/lib/python3.7/site-packages/iris/fileformats/cf.py:798: UserWarning: Missing CF-netCDF measure variable 'area', referenced by netCDF variable 'emibc'\n",
      "  warnings.warn(message % (variable_name, nc_var_name))\n",
      "/home/augustinm/anaconda3/envs/pya/lib/python3.7/site-packages/iris/fileformats/cf.py:798: UserWarning: Missing CF-netCDF measure variable 'area', referenced by netCDF variable 'emibc'\n",
      "  warnings.warn(message % (variable_name, nc_var_name))\n",
      "/home/augustinm/anaconda3/envs/pya/lib/python3.7/site-packages/iris/fileformats/cf.py:798: UserWarning: Missing CF-netCDF measure variable 'area', referenced by netCDF variable 'emibc'\n",
      "  warnings.warn(message % (variable_name, nc_var_name))\n",
      "/home/augustinm/anaconda3/envs/pya/lib/python3.7/site-packages/iris/fileformats/cf.py:798: UserWarning: Missing CF-netCDF measure variable 'area', referenced by netCDF variable 'emibc'\n",
      "  warnings.warn(message % (variable_name, nc_var_name))\n",
      "/home/augustinm/anaconda3/envs/pya/lib/python3.7/site-packages/iris/fileformats/cf.py:798: UserWarning: Missing CF-netCDF measure variable 'area', referenced by netCDF variable 'emibc'\n",
      "  warnings.warn(message % (variable_name, nc_var_name))\n",
      "/home/augustinm/anaconda3/envs/pya/lib/python3.7/site-packages/iris/fileformats/cf.py:798: UserWarning: Missing CF-netCDF measure variable 'area', referenced by netCDF variable 'emibc'\n",
      "  warnings.warn(message % (variable_name, nc_var_name))\n",
      "/home/augustinm/anaconda3/envs/pya/lib/python3.7/site-packages/iris/fileformats/cf.py:798: UserWarning: Missing CF-netCDF measure variable 'area', referenced by netCDF variable 'emibc'\n",
      "  warnings.warn(message % (variable_name, nc_var_name))\n",
      "/home/augustinm/anaconda3/envs/pya/lib/python3.7/site-packages/iris/fileformats/cf.py:798: UserWarning: Missing CF-netCDF measure variable 'area', referenced by netCDF variable 'emibc'\n",
      "  warnings.warn(message % (variable_name, nc_var_name))\n",
      "/home/augustinm/anaconda3/envs/pya/lib/python3.7/site-packages/iris/fileformats/cf.py:798: UserWarning: Missing CF-netCDF measure variable 'area', referenced by netCDF variable 'emibc'\n",
      "  warnings.warn(message % (variable_name, nc_var_name))\n",
      "/home/augustinm/anaconda3/envs/pya/lib/python3.7/site-packages/iris/fileformats/cf.py:798: UserWarning: Missing CF-netCDF measure variable 'area', referenced by netCDF variable 'emibc'\n",
      "  warnings.warn(message % (variable_name, nc_var_name))\n",
      "/home/augustinm/anaconda3/envs/pya/lib/python3.7/site-packages/iris/fileformats/cf.py:798: UserWarning: Missing CF-netCDF measure variable 'area', referenced by netCDF variable 'emibc'\n",
      "  warnings.warn(message % (variable_name, nc_var_name))\n",
      "/home/augustinm/anaconda3/envs/pya/lib/python3.7/site-packages/iris/fileformats/cf.py:798: UserWarning: Missing CF-netCDF measure variable 'area', referenced by netCDF variable 'emibc'\n",
      "  warnings.warn(message % (variable_name, nc_var_name))\n",
      "/home/augustinm/anaconda3/envs/pya/lib/python3.7/site-packages/iris/fileformats/cf.py:798: UserWarning: Missing CF-netCDF measure variable 'area', referenced by netCDF variable 'emibc'\n",
      "  warnings.warn(message % (variable_name, nc_var_name))\n",
      "/home/augustinm/anaconda3/envs/pya/lib/python3.7/site-packages/iris/fileformats/cf.py:798: UserWarning: Missing CF-netCDF measure variable 'area', referenced by netCDF variable 'emibc'\n",
      "  warnings.warn(message % (variable_name, nc_var_name))\n",
      "/home/augustinm/anaconda3/envs/pya/lib/python3.7/site-packages/iris/fileformats/cf.py:798: UserWarning: Missing CF-netCDF measure variable 'area', referenced by netCDF variable 'emibc'\n",
      "  warnings.warn(message % (variable_name, nc_var_name))\n",
      "/home/augustinm/Dev/pyaerocom/pyaerocom/pyaerocom/ungriddeddata.py:126: RuntimeWarning: invalid value encountered in multiply\n",
      "  self._data = np.empty([num_points, self._COLNO]) * np.nan\n",
      "/home/augustinm/anaconda3/envs/pya/lib/python3.7/site-packages/numpy/ma/core.py:3172: FutureWarning: Using a non-tuple sequence for multidimensional indexing is deprecated; use `arr[tuple(seq)]` instead of `arr[seq]`. In the future this will be interpreted as an array index, `arr[np.array(seq)]`, which will result either in an error or a different result.\n",
      "  dout = self.data[indx]\n",
      "/home/augustinm/anaconda3/envs/pya/lib/python3.7/site-packages/iris/analysis/_scipy_interpolate.py:290: FutureWarning: Using a non-tuple sequence for multidimensional indexing is deprecated; use `arr[tuple(seq)]` instead of `arr[seq]`. In the future this will be interpreted as an array index, `arr[np.array(seq)]`, which will result either in an error or a different result.\n",
      "  return self.values[idx_res]\n"
     ]
    },
    {
     "name": "stdout",
     "output_type": "stream",
     "text": [
      "region:  EUROPE station:  ZvenigorodhecergDWD\r"
     ]
    },
    {
     "name": "stderr",
     "output_type": "stream",
     "text": [
      "/home/augustinm/Dev/pyaerocom/pyaerocom/pyaerocom/ungriddeddata.py:126: RuntimeWarning: invalid value encountered in multiply\n",
      "  self._data = np.empty([num_points, self._COLNO]) * np.nan\n"
     ]
    },
    {
     "name": "stdout",
     "output_type": "stream",
     "text": [
      "ECHAM6.3-HAM2.3-fSST_HIST read netcf fileFOPFOP\n"
     ]
    },
    {
     "name": "stderr",
     "output_type": "stream",
     "text": [
      "/home/augustinm/Dev/pyaerocom/pyaerocom/pyaerocom/ungriddeddata.py:126: RuntimeWarning: invalid value encountered in multiply\n",
      "  self._data = np.empty([num_points, self._COLNO]) * np.nan\n",
      "/home/augustinm/anaconda3/envs/pya/lib/python3.7/site-packages/numpy/ma/core.py:3172: FutureWarning: Using a non-tuple sequence for multidimensional indexing is deprecated; use `arr[tuple(seq)]` instead of `arr[seq]`. In the future this will be interpreted as an array index, `arr[np.array(seq)]`, which will result either in an error or a different result.\n",
      "  dout = self.data[indx]\n",
      "/home/augustinm/anaconda3/envs/pya/lib/python3.7/site-packages/iris/analysis/_scipy_interpolate.py:290: FutureWarning: Using a non-tuple sequence for multidimensional indexing is deprecated; use `arr[tuple(seq)]` instead of `arr[seq]`. In the future this will be interpreted as an array index, `arr[np.array(seq)]`, which will result either in an error or a different result.\n",
      "  return self.values[idx_res]\n"
     ]
    },
    {
     "name": "stdout",
     "output_type": "stream",
     "text": [
      "region:  WORLD station:  Zvenigorodurg-CEFOPFOP AUSTRALIA station:  Canberra\r"
     ]
    }
   ],
   "source": [
    "for mod_var in ['emidust']:\n",
    "    MOD_MAP[mod_var] = {}\n",
    "    #fill paameters for this variable\n",
    "    params = fill_params(params, mod_var)\n",
    "    params['kind'] = 'mod' \n",
    "    params['min_dim'] = 0\n",
    "    params['min_ntrend'] = 4\n",
    "\n",
    "    for model in params['models']:\n",
    "        mod_source = model\n",
    "\n",
    "        #check if model in cache\n",
    "        fn = 'cache/'+mod_source+'_'+mod_var+'.pkl'\n",
    "        if os.path.isfile(fn):\n",
    "            print(model,'use',fn)\n",
    "            # for reading also binary mode is important \n",
    "            pklfile = open(fn, 'rb')      \n",
    "            mod_data = pickle.load(pklfile) \n",
    "            pklfile.close()\n",
    "        else:\n",
    "            print(model,'read netcf file')\n",
    "            reader = pya.io.ReadGridded(mod_source)\n",
    "            mod_data = reader.read_var(mod_var, ts_type='daily')\n",
    "            mod_data = mod_data.resample_time(to_ts_type='monthly')\n",
    "\n",
    "            #write picke file in cache directory\n",
    "            pklfile = open(fn, 'ab') \n",
    "\n",
    "            # source, destination \n",
    "            pickle.dump(mod_data, pklfile)                      \n",
    "            pklfile.close()\n",
    "\n",
    "        #crop the cube to interest period, so can handle WORLD region\n",
    "        mod_data = mod_data.crop(time_range=(params['period'].split('-')[0], str(int(params['period'].split('-')[1])+1)))\n",
    "\n",
    "        #space colocation\n",
    "        _, MOD_MAP[mod_var][model], _ = process_trend(\n",
    "            mod_data, params, obs=obs_data,\n",
    "            colocate_time=False, colocate_space=True, \n",
    "            OBS_DF = OBS_DF,\n",
    "            plot=False, show_plot=False, save_plot=False, write_json=False\n",
    "        )\n",
    "\n",
    "#write picke file in cache directory\n",
    "pklfile = open(fn0, 'ab') \n",
    "\n",
    "# source, destination \n",
    "pickle.dump(MOD_MAP, pklfile)                      \n",
    "pklfile.close()"
   ]
  },
  {
   "cell_type": "code",
   "execution_count": null,
   "metadata": {},
   "outputs": [],
   "source": []
  },
  {
   "cell_type": "code",
   "execution_count": null,
   "metadata": {},
   "outputs": [],
   "source": []
  },
  {
   "cell_type": "code",
   "execution_count": null,
   "metadata": {},
   "outputs": [],
   "source": []
  },
  {
   "cell_type": "code",
   "execution_count": 8,
   "metadata": {},
   "outputs": [
    {
     "name": "stdout",
     "output_type": "stream",
     "text": [
      "GEOS-i33p2_HIST use cache/GEOS-i33p2_HIST_emidust.pkl\n"
     ]
    },
    {
     "name": "stderr",
     "output_type": "stream",
     "text": [
      "/home/augustinm/anaconda3/envs/pya/lib/python3.7/site-packages/numpy/ma/core.py:3172: FutureWarning: Using a non-tuple sequence for multidimensional indexing is deprecated; use `arr[tuple(seq)]` instead of `arr[seq]`. In the future this will be interpreted as an array index, `arr[np.array(seq)]`, which will result either in an error or a different result.\n",
      "  dout = self.data[indx]\n",
      "/home/augustinm/anaconda3/envs/pya/lib/python3.7/site-packages/iris/analysis/_scipy_interpolate.py:290: FutureWarning: Using a non-tuple sequence for multidimensional indexing is deprecated; use `arr[tuple(seq)]` instead of `arr[seq]`. In the future this will be interpreted as an array index, `arr[np.array(seq)]`, which will result either in an error or a different result.\n",
      "  return self.values[idx_res]\n"
     ]
    },
    {
     "name": "stdout",
     "output_type": "stream",
     "text": [
      "region:  EUROPE station:  ZvenigorodhecergDWD\r"
     ]
    },
    {
     "name": "stderr",
     "output_type": "stream",
     "text": [
      "/home/augustinm/Dev/pyaerocom/trends/scripts/trends_functions.py:719: RuntimeWarning: invalid value encountered in double_scalars\n",
      "  rel_slope = a * 100 / reg[0]\n",
      "/home/augustinm/Dev/pyaerocom/trends/scripts/trends_functions.py:504: RuntimeWarning: invalid value encountered in double_scalars\n",
      "  delta_sl = m_err / v0\n",
      "/home/augustinm/Dev/pyaerocom/trends/scripts/trends_functions.py:505: RuntimeWarning: invalid value encountered in double_scalars\n",
      "  delta_ref = m * v0_err / v0**2\n",
      "/home/augustinm/Dev/pyaerocom/trends/scripts/trends_functions.py:727: RuntimeWarning: invalid value encountered in double_scalars\n",
      "  delta_sl = slope_err/a\n"
     ]
    },
    {
     "name": "stdout",
     "output_type": "stream",
     "text": [
      "region:  WORLD station:  Zvenigorodurg-CEFOPFOP AUSTRALIA station:  Darwin\r"
     ]
    }
   ],
   "source": [
    "MOD_TS, MOD_MAP, MOD_DF = {}, {}, {}\n",
    "for mod_var in ['emidust']:\n",
    "    MOD_MAP[mod_var] = {}\n",
    "    #fill paameters for this variable\n",
    "    params = fill_params(params, mod_var)\n",
    "    params['kind'] = 'mod' \n",
    "    params['min_dim'] = 0\n",
    "    params['min_ntrend'] = 4\n",
    "\n",
    "    for model in [params['models'][0]]:\n",
    "        mod_source = model\n",
    "\n",
    "        #check if model in cache\n",
    "        fn = 'cache/'+mod_source+'_'+mod_var+'.pkl'\n",
    "        if os.path.isfile(fn):\n",
    "            print(model,'use',fn)\n",
    "            # for reading also binary mode is important \n",
    "            pklfile = open(fn, 'rb')      \n",
    "            mod_data = pickle.load(pklfile) \n",
    "            pklfile.close()\n",
    "        else:\n",
    "            print(model,'read netcf file')\n",
    "            reader = pya.io.ReadGridded(mod_source)\n",
    "            mod_data = reader.read_var(mod_var, ts_type='daily')\n",
    "            mod_data = mod_data.resample_time(to_ts_type='monthly')\n",
    "\n",
    "            #write picke file in cache directory\n",
    "            pklfile = open(fn, 'ab') \n",
    "\n",
    "            # source, destination \n",
    "            pickle.dump(mod_data, pklfile)                      \n",
    "            pklfile.close()\n",
    "\n",
    "        #crop the cube to interest period, so can handle WORLD region\n",
    "        mod_data = mod_data.crop(time_range=(params['period'].split('-')[0], str(int(params['period'].split('-')[1])+1)))\n",
    "        \n",
    "        #if emissions, apply factor\n",
    "        emif = 1e9\n",
    "        if mod_var[0:3]=='emi':\n",
    "            mod_var.data = mod_var.data * 1e9\n",
    "        #space colocation\n",
    "        _, MOD_MAP[mod_var][model], _ = process_trend(\n",
    "            mod_data, params, obs=obs_data,\n",
    "            colocate_time=False, colocate_space=True, \n",
    "            OBS_DF = OBS_DF,\n",
    "            plot=False, show_plot=False, save_plot=False, write_json=False\n",
    "        )"
   ]
  },
  {
   "cell_type": "code",
   "execution_count": 19,
   "metadata": {},
   "outputs": [
    {
     "data": {
      "text/plain": [
       "5.0607294e-08"
      ]
     },
     "execution_count": 19,
     "metadata": {},
     "output_type": "execute_result"
    }
   ],
   "source": [
    "np.max(mod_data.data)"
   ]
  },
  {
   "cell_type": "code",
   "execution_count": null,
   "metadata": {},
   "outputs": [],
   "source": []
  }
 ],
 "metadata": {
  "kernelspec": {
   "display_name": "Python 3",
   "language": "python",
   "name": "python3"
  },
  "language_info": {
   "codemirror_mode": {
    "name": "ipython",
    "version": 3
   },
   "file_extension": ".py",
   "mimetype": "text/x-python",
   "name": "python",
   "nbconvert_exporter": "python",
   "pygments_lexer": "ipython3",
   "version": "3.7.3"
  }
 },
 "nbformat": 4,
 "nbformat_minor": 4
}
