{
 "cells": [
  {
   "cell_type": "code",
   "execution_count": 1,
   "metadata": {},
   "outputs": [],
   "source": [
    "# modules importation\n",
    "from trends_functions import *\n",
    "import pickle\n",
    "import os\n",
    "from warnings import filterwarnings\n",
    "filterwarnings('ignore')"
   ]
  },
  {
   "cell_type": "code",
   "execution_count": 2,
   "metadata": {},
   "outputs": [],
   "source": [
    "# import seaborn style\n",
    "sns.set()\n",
    "sns.set_context(\"paper\")\n",
    "# sns.set_style(\"whitegrid\")\n",
    "sns.color_palette(\"muted\")\n",
    "# since each figure will be a subfigure, increase font_size\n",
    "fscale = 1.2\n",
    "sns.set(font_scale=fscale)"
   ]
  },
  {
   "cell_type": "code",
   "execution_count": 3,
   "metadata": {
    "code_folding": []
   },
   "outputs": [],
   "source": [
    "# computation parameters\n",
    "params = get_params()"
   ]
  },
  {
   "cell_type": "code",
   "execution_count": 4,
   "metadata": {
    "code_folding": [
     4,
     10,
     16,
     22,
     28,
     34,
     40
    ]
   },
   "outputs": [],
   "source": [
    "# run observations\n",
    "# 'ang4487aer' 'od550aer' 'od550gt1aer' 'od550lt1aer' 'concpm10' 'concpm25' 'concso4' 'scatc550dryaer' 'absc550aer'\n",
    "var = 'concpm25'\n",
    "params['kind'] = 'obs'\n",
    "params = fill_params(params, var)\n",
    "#if var in ['scatc550dryaer', 'absc550aer']:\n",
    "#    params['period'] = '2000-2018'\n",
    "params['var'] = var\n",
    "obs_source = params['source']\n",
    "reader = pya.io.ReadUngridded(obs_source)\n",
    "obs_data = reader.read(vars_to_retrieve=var)"
   ]
  },
  {
   "cell_type": "code",
   "execution_count": 5,
   "metadata": {
    "code_folding": [],
    "scrolled": true
   },
   "outputs": [
    {
     "name": "stdout",
     "output_type": "stream",
     "text": [
      "OBS\n",
      "region:  ASIA station:  Gual Pahari Island-Désert\n",
      "Less than 7 points in selected period\n",
      "region:  NAFRICA station:  Zarraablo de los MontesCyprus Atmospheric Observatory\n",
      "Less than 7 points in selected period\n",
      "No station found in , SAFRICA\n",
      "No station found in , AUSTRALIA\n",
      "region:  WORLD station:  Zosenibodenntainstional Park-Lind Point (VI01)n5)tory\r"
     ]
    }
   ],
   "source": [
    "print('OBS')\n",
    "OBS_TS, OBS_MAP, OBS_DF = process_trend(\n",
    "    obs_data, params,\n",
    "    plot=False, show_plot=False, save_plot=False, write_json=False\n",
    ")"
   ]
  },
  {
   "cell_type": "code",
   "execution_count": 6,
   "metadata": {
    "code_folding": [
     7,
     13,
     19,
     25,
     31,
     37,
     43
    ]
   },
   "outputs": [
    {
     "name": "stdout",
     "output_type": "stream",
     "text": [
      "NorESM2-CPL-NEWTEST_HIST\n",
      "\n",
      "use pickle\n"
     ]
    }
   ],
   "source": [
    "params['kind'] = 'mod' \n",
    "params['min_dim'] = 0\n",
    "mod_var = params['mod_var']\n",
    "mod_source = params['ref_model']\n",
    "\n",
    "print(mod_source)\n",
    "print()\n",
    "\n",
    "#check if model in cache\n",
    "fn = 'cache/'+mod_source+'_'+var+'.pkl'\n",
    "if os.path.isfile(fn):\n",
    "    print('use pickle')\n",
    "    # for reading also binary mode is important \n",
    "    pklfile = open(fn, 'rb')      \n",
    "    mod_data = pickle.load(pklfile) \n",
    "    pklfile.close()\n",
    "else:\n",
    "    reader = pya.io.ReadGridded(mod_source)\n",
    "    if (var=='scatc550dryaer'):\n",
    "        mod_data = reader.read_var(mod_var, ts_type='daily', aux_fun=pya.io.aux_read_cubes.subtract_cubes, aux_vars=['ec550dryaer', 'absc550aer'])\n",
    "    else:\n",
    "        mod_data = reader.read_var(mod_var, ts_type='daily')\n",
    "    #if cube has 4 dimensions, extract first level\n",
    "    if mod_var in ['concso4', 'concpm10', 'concpm25', 'scatc550dryaer', 'absc550aer'] and len(np.shape(mod_data))==4:\n",
    "        print('cube has 4 dimension, extract first layer')\n",
    "        mod_data = mod_data.extract_surface_level()\n",
    "    mod_data = mod_data.resample_time(to_ts_type='monthly')\n",
    "\n",
    "    try:\n",
    "        #write picke file in cache directory\n",
    "        pklfile = open(fn, 'ab') \n",
    "\n",
    "        # source, destination \n",
    "        pickle.dump(mod_data, pklfile)                      \n",
    "        pklfile.close()\n",
    "    except AttributeError:\n",
    "        print('AttributeError')\n",
    "        os.remove(fn)"
   ]
  },
  {
   "cell_type": "code",
   "execution_count": 7,
   "metadata": {},
   "outputs": [],
   "source": [
    "#crop the cube to interest period, so can handle WORLD region\n",
    "mod_data = mod_data.crop(time_range=(params['period'].split('-')[0], str(int(params['period'].split('-')[1])+1)))"
   ]
  },
  {
   "cell_type": "code",
   "execution_count": 8,
   "metadata": {},
   "outputs": [
    {
     "name": "stdout",
     "output_type": "stream",
     "text": [
      "#full colocation\n",
      "colocate monthly dataframesosenibodenII-le-Désert\n",
      "colocate monthly dataframes Wichita Mountainsdernessnal Park-Painted Canyon5)\n",
      "No station found in  SAFRICA\n",
      "No station found in  AUSTRALIA\n",
      "colocate monthly dataframessenibodenntainstional Park-Lind Point (VI01)n5)tory\n"
     ]
    }
   ],
   "source": [
    "#full colocation\n",
    "print('#full colocation')\n",
    "MOD_TS, MOD_MAP, MOD_DF = process_trend(\n",
    "    mod_data, params, obs=obs_data,\n",
    "    colocate_time=True, colocate_space=True, \n",
    "    OBS_DF = OBS_DF,\n",
    "    plot=False, show_plot=False, save_plot=False, write_json=False\n",
    ")"
   ]
  },
  {
   "cell_type": "code",
   "execution_count": 9,
   "metadata": {
    "scrolled": true
   },
   "outputs": [
    {
     "name": "stdout",
     "output_type": "stream",
     "text": [
      "#space colocation only\n",
      "No station found in  SAFRICAWichita Mountainsdernessnal Park-Painted Canyon5)\n",
      "No station found in  AUSTRALIA\n",
      "region:  WORLD station:  Zosenibodenntainstional Park-Lind Point (VI01)n5)tory\r"
     ]
    }
   ],
   "source": [
    "#space colocation only\n",
    "print('#space colocation only')\n",
    "ALLTS_MOD_TS, ALLTS_MOD_MAP, ALLTS_MOD_DF = process_trend(\n",
    "    mod_data, params, obs=obs_data, \n",
    "    colocate_time=False, colocate_space=True,\n",
    "    OBS_DF = OBS_DF,\n",
    "    plot=False, show_plot=False, save_plot=False, write_json=False, \n",
    ")"
   ]
  },
  {
   "cell_type": "code",
   "execution_count": 10,
   "metadata": {
    "scrolled": true
   },
   "outputs": [
    {
     "name": "stdout",
     "output_type": "stream",
     "text": [
      "#all pixels in region\n",
      "No station found in  SAFRICA\n",
      "No station found in  AUSTRALIA\n"
     ]
    }
   ],
   "source": [
    "#all pixels in region\n",
    "print('#all pixels in region')\n",
    "REG_MOD_TS, REG_MOD_MAP, REG_MOD_DF = process_trend(\n",
    "    mod_data, params, obs=obs_data, \n",
    "    colocate_time=False, colocate_space=False, \n",
    "    OBS_DF = OBS_DF,\n",
    "    plot=False, show_plot=False, save_plot=False, write_json=False, \n",
    ")"
   ]
  },
  {
   "cell_type": "code",
   "execution_count": 11,
   "metadata": {
    "scrolled": true
   },
   "outputs": [
    {
     "name": "stdout",
     "output_type": "stream",
     "text": [
      " * * OBS * *\n",
      "region \t period \t %/yr \t\t pval\n",
      " - - - \t  - - - \t  - - \t\t  - -\n",
      "EUROP \t 2000-2014 \t \u001b[1m -2.6 ± 1.1 \u001b[0m \t 0.0\n",
      "AUSTRALIA \t Key Error\n",
      "SAFRICA \t Key Error\n",
      "NAMER \t 2000-2014 \t \u001b[1m -2.1 ± 1.0 \u001b[0m \t 0.0\n",
      "SAMERICA \t Key Error\n",
      "WORLD \t 2000-2014 \t \u001b[1m -2.6 ± 0.8 \u001b[0m \t 0.0\n",
      "\n",
      " * * MOD * *\n",
      "region \t period \t %/yr \t\t pval\n",
      " - - - \t  - - - \t  - - \t\t  - -\n",
      "EUROP \t 2000-2014 \t  -0.9 ± 1.2  \t 0.11\n",
      "ASIA \t Key Error\n",
      "AUSTRALIA \t Key Error\n",
      "NAFRICA \t Key Error\n",
      "SAFRICA \t Key Error\n",
      "NAMER \t 2000-2014 \t \u001b[1m -2.2 ± 1.1 \u001b[0m \t 0.0\n",
      "SAMERICA \t Key Error\n",
      "WORLD \t 2000-2014 \t \u001b[1m -1.1 ± 1.2 \u001b[0m \t 0.07\n",
      "\n",
      " * * ALLTS_MOD * *\n",
      "region \t period \t %/yr \t\t pval\n",
      " - - - \t  - - - \t  - - \t\t  - -\n",
      "EUROP \t 2000-2014 \t ( -0.3 ± 1.0 ) \t 0.44\n",
      "ASIA \t Key Error\n",
      "AUSTRALIA \t Key Error\n",
      "NAFRICA \t Key Error\n",
      "SAFRICA \t Key Error\n",
      "NAMER \t 2000-2014 \t \u001b[1m -1.7 ± 0.7 \u001b[0m \t 0.0\n",
      "SAMERICA \t Key Error\n",
      "WORLD \t 2000-2014 \t \u001b[1m -1.6 ± 0.6 \u001b[0m \t 0.0\n",
      "\n",
      " * * REG_MOD * *\n",
      "region \t period \t %/yr \t\t pval\n",
      " - - - \t  - - - \t  - - \t\t  - -\n",
      "EUROP \t 2000-2014 \t ( 0.1 ± 0.8 ) \t 0.7\n",
      "ASIA \t 2000-2014 \t \u001b[1m 0.8 ± 0.5 \u001b[0m \t 0.02\n",
      "AUSTRALIA \t Key Error\n",
      "NAFRI \t 2000-2014 \t ( -0.2 ± 0.9 ) \t 0.77\n",
      "SAFRICA \t Key Error\n",
      "NAMER \t 2000-2014 \t \u001b[1m -0.7 ± 0.5 \u001b[0m \t 0.01\n",
      "SAMER \t 2000-2014 \t ( 0.1 ± 0.5 ) \t 0.28\n",
      "WORLD \t 2000-2014 \t ( 0.2 ± 0.4 ) \t 0.2\n",
      "\n"
     ]
    }
   ],
   "source": [
    "#print the results\n",
    "print(' * * OBS * *')\n",
    "print_trends(OBS_MAP)\n",
    "print(' * * MOD * *')\n",
    "print_trends(MOD_MAP)\n",
    "print(' * * ALLTS_MOD * *')\n",
    "print_trends(ALLTS_MOD_MAP)\n",
    "print(' * * REG_MOD * *')\n",
    "print_trends(REG_MOD_MAP)"
   ]
  },
  {
   "cell_type": "code",
   "execution_count": 12,
   "metadata": {},
   "outputs": [
    {
     "name": "stdout",
     "output_type": "stream",
     "text": [
      "concpm25\n",
      " * * CONSISTENCY * *\n",
      "region   period   slp (%/yr)   allTS-slp (%/yr)   reg-slp (%/yr)   time_consist   space_consist   consist\n",
      " - - -    - - -    - - - - - - -    - - - - - - -    - - - - - - -    - - - - - -    - - - - - - \n",
      "EUROP \t 2000-2014 \t -0.9 \t -0.3 \t 0.1 \t \u001b[1m 81 \t \u001b[1m 87 \u001b[0m \t \u001b[1m 84 \u001b[0m\t\n",
      "ASIA Key Error\n",
      "AUSTRALIA Key Error\n",
      "NAFRICA Key Error\n",
      "SAFRICA Key Error\n",
      "NAMER \t 2000-2014 \t -2.2 \t -1.7 \t -0.7 \t \u001b[1m 84 \t \u001b[1m 49 \u001b[0m \t \u001b[1m 67 \u001b[0m\t\n",
      "SAMERICA Key Error\n",
      "\n"
     ]
    }
   ],
   "source": [
    "#computation region by region\n",
    "print(var)\n",
    "print(' * * CONSISTENCY * *')\n",
    "print_consistency(MOD_MAP, ALLTS_MOD_MAP, REG_MOD_MAP, kind='rel')"
   ]
  },
  {
   "cell_type": "code",
   "execution_count": 13,
   "metadata": {},
   "outputs": [],
   "source": [
    "#plot Normal distribution\n",
    "def norm_dist(diff):\n",
    "    norm = 1\n",
    "    mu = 0\n",
    "    stdv = 0.50\n",
    "    gauss = 100*norm*np.exp(-0.5*(((diff-mu)/stdv)**2))\n",
    "    \n",
    "    consistency = gauss\n",
    "    return consistency"
   ]
  },
  {
   "cell_type": "code",
   "execution_count": 14,
   "metadata": {},
   "outputs": [
    {
     "name": "stdout",
     "output_type": "stream",
     "text": [
      "PM2.5 EUROPE 2000-2014 -0.9 -0.3 0.1 0.5 0.4 0.5 55.2 66.7 61.0\n",
      "ASIA Key Error\n",
      "NAFRICA Key Error\n",
      "SAFRICA Key Error\n",
      "PM2.5 NAMERICA 2000-2014 -2.2 -1.7 -0.7 0.5 1.0 0.8 59.9 13.1 36.5\n",
      "SAMERICA Key Error\n",
      "AUSTRALIA Key Error\n",
      "PM2.5 WORLD 2000-2014 -1.1 -1.6 0.2 0.5 1.8 1.1 58.7 0.2 29.5\n"
     ]
    }
   ],
   "source": [
    "regions = ['EUROPE', 'ASIA', 'NAFRICA', 'SAFRICA', 'NAMERICA', 'SAMERICA', 'AUSTRALIA', 'WORLD']\n",
    "MOD = MOD_MAP\n",
    "ALLTS_MOD = ALLTS_MOD_MAP\n",
    "REG_MOD = REG_MOD_MAP\n",
    "key_slope = 'rel_slp'\n",
    "kind = 'rel'\n",
    "\n",
    "tab = []\n",
    "\n",
    "for region in regions:\n",
    "    #get trends keys\n",
    "    try:\n",
    "        periods = MOD[region]['trends']['trends'].keys()\n",
    "    except KeyError:\n",
    "        print(region,'Key Error')\n",
    "        continue\n",
    "    for p, per in enumerate(periods):\n",
    "        try:\n",
    "            r = MOD[region]['trends']['trends'][per]\n",
    "            allts_r = ALLTS_MOD[region]['trends']['trends'][per]\n",
    "            reg_r = REG_MOD[region]['trends']['trends'][per]\n",
    "        except KeyError:\n",
    "            print('\\t',per,'\\t','Key Error')\n",
    "            continue\n",
    "\n",
    "        str_region = region\n",
    "\n",
    "        if r[key_slope]!=None and allts_r[key_slope]:\n",
    "            slp = r[key_slope]\n",
    "            allts_slp = allts_r[key_slope]\n",
    "            reg_slp = reg_r[key_slope]\n",
    "            \n",
    "            time_diff = abs(allts_slp - slp)\n",
    "            space_diff = abs(reg_slp - allts_slp)\n",
    "            all_diff = np.mean([time_diff, space_diff])\n",
    "            \n",
    "            time_consist = norm_dist(time_diff)\n",
    "            space_consist = norm_dist(space_diff)\n",
    "            all_consist = np.mean([time_consist, space_consist])\n",
    "            #all_consist = np.nanmin([time_consist, space_consist])\n",
    "            \n",
    "\n",
    "        else:\n",
    "            time_diff = np.nan\n",
    "            space_diff = np.nan\n",
    "            time_consist = np.nan\n",
    "            space_consist = np.nan\n",
    "            all_consist = np.nan\n",
    "            accuracy = np.nan\n",
    "\n",
    "        print(params['ylabel'],str_region, per, \n",
    "              round(slp,1), round(allts_slp,1), round(reg_slp,1), \n",
    "              round(time_diff,1), round(space_diff,1), round(all_diff,1), \n",
    "              round(time_consist,1), round(space_consist,1), round(all_consist,1)\n",
    "             )\n",
    "        tab.append([params['ylabel'],str_region, per, all_consist])\n",
    "        \n",
    "head_df = ['Parameter', 'Region', 'Segment', 'Representativity']\n",
    "df = pd.DataFrame(tab, columns=head_df).set_index(['Parameter', 'Region', 'Segment'])\n",
    "\n",
    "# write dataframe\n",
    "pklfile = open('cache/repr/' + var + '.pkl', 'wb')\n",
    "# source, destination\n",
    "pickle.dump(df, pklfile)\n",
    "pklfile.close()\n",
    "# - - - - - - - - - - - - - - - - - - - - - -"
   ]
  },
  {
   "cell_type": "code",
   "execution_count": 15,
   "metadata": {},
   "outputs": [
    {
     "data": {
      "text/html": [
       "<div>\n",
       "<style scoped>\n",
       "    .dataframe tbody tr th:only-of-type {\n",
       "        vertical-align: middle;\n",
       "    }\n",
       "\n",
       "    .dataframe tbody tr th {\n",
       "        vertical-align: top;\n",
       "    }\n",
       "\n",
       "    .dataframe thead th {\n",
       "        text-align: right;\n",
       "    }\n",
       "</style>\n",
       "<table border=\"1\" class=\"dataframe\">\n",
       "  <thead>\n",
       "    <tr style=\"text-align: right;\">\n",
       "      <th></th>\n",
       "      <th></th>\n",
       "      <th></th>\n",
       "      <th>Representativity</th>\n",
       "    </tr>\n",
       "    <tr>\n",
       "      <th>Parameter</th>\n",
       "      <th>Region</th>\n",
       "      <th>Segment</th>\n",
       "      <th></th>\n",
       "    </tr>\n",
       "  </thead>\n",
       "  <tbody>\n",
       "    <tr>\n",
       "      <th rowspan=\"3\" valign=\"top\">PM2.5</th>\n",
       "      <th>EUROPE</th>\n",
       "      <th>2000-2014</th>\n",
       "      <td>60.950780</td>\n",
       "    </tr>\n",
       "    <tr>\n",
       "      <th>NAMERICA</th>\n",
       "      <th>2000-2014</th>\n",
       "      <td>36.494467</td>\n",
       "    </tr>\n",
       "    <tr>\n",
       "      <th>WORLD</th>\n",
       "      <th>2000-2014</th>\n",
       "      <td>29.456987</td>\n",
       "    </tr>\n",
       "  </tbody>\n",
       "</table>\n",
       "</div>"
      ],
      "text/plain": [
       "                              Representativity\n",
       "Parameter Region   Segment                    \n",
       "PM2.5     EUROPE   2000-2014         60.950780\n",
       "          NAMERICA 2000-2014         36.494467\n",
       "          WORLD    2000-2014         29.456987"
      ]
     },
     "execution_count": 15,
     "metadata": {},
     "output_type": "execute_result"
    }
   ],
   "source": [
    "df"
   ]
  },
  {
   "cell_type": "code",
   "execution_count": 16,
   "metadata": {},
   "outputs": [
    {
     "data": {
      "image/png": "[encoded data removed]",
      "text/plain": [
       "<Figure size 400x400 with 1 Axes>"
      ]
     },
     "metadata": {},
     "output_type": "display_data"
    }
   ],
   "source": [
    "x = np.arange(-2,2,0.1)\n",
    "y = norm_dist(x)\n",
    "\n",
    "fig, ax = plt.subplots(figsize=(4, 4), dpi=100, facecolor='w', edgecolor='k')\n",
    "plt.plot(x, y)\n",
    "\n",
    "#add info in main axis\n",
    "ax = fig.axes[0]\n",
    "ax.set_ylabel('Score (%)')\n",
    "ax.set_xlabel('Trends Absolute Difference (%/yr)')\n",
    "\n",
    "\n",
    "ax.set_facecolor('#F1F1F1')\n",
    "plt.savefig('figs/norm_dist.png', dpi=300, bbox_inches='tight')\n",
    "\n",
    "#color area of the curve above n%\n",
    "thr = 50\n",
    "xok, yok = [], []\n",
    "for i, _ in enumerate(y):\n",
    "    if y[i]>=thr:\n",
    "        xok.append(x[i])\n",
    "        yok.append(y[i])\n",
    "\n",
    "plt.fill_between(xok, yok, color='b', alpha=0.2)\n",
    "plt.savefig('figs/norm_dist_filled.png', dpi=300, bbox_inches='tight')\n"
   ]
  },
  {
   "cell_type": "code",
   "execution_count": 17,
   "metadata": {},
   "outputs": [
    {
     "name": "stdout",
     "output_type": "stream",
     "text": [
      "[-0.49999999999999867, -0.3999999999999986, -0.2999999999999985, -0.1999999999999984, -0.09999999999999831, 1.7763568394002505e-15, 0.10000000000000187, 0.20000000000000195, 0.30000000000000204, 0.40000000000000213, 0.5000000000000022]\n"
     ]
    }
   ],
   "source": [
    "print(xok)"
   ]
  },
  {
   "cell_type": "code",
   "execution_count": 20,
   "metadata": {},
   "outputs": [
    {
     "data": {
      "image/png": "[encoded data removed]",
      "text/plain": [
       "<Figure size 1152x504 with 3 Axes>"
      ]
     },
     "metadata": {},
     "output_type": "display_data"
    }
   ],
   "source": [
    "regions = ['EUROPE','NAMERICA']\n",
    "regions = ['NAMERICA']\n",
    "\n",
    "#make figure of time series for n regions\n",
    "nl, nc = 2, len(regions)\n",
    "fig, axs = plt.subplots(nl, nc, sharex='col', sharey=False, \n",
    "                       gridspec_kw={\n",
    "                           'wspace': 0.2,\n",
    "                           'hspace': 0.1\n",
    "                       })\n",
    "# add a big axes, hide frame\n",
    "fig.add_subplot(111, frameon=False)\n",
    "\n",
    "current_palette = sns.color_palette()\n",
    "\n",
    "for i, region in enumerate(regions):\n",
    "\n",
    "        \n",
    "    #first figure: number of observations\n",
    "    if len(regions)>1:\n",
    "        ax = axs[0, i]\n",
    "    else:\n",
    "        ax = axs[0]\n",
    "    #ax.set_title(region, fontweight='bold')\n",
    "    ax.text(0.95, 0.85,region,ha='right', fontweight='bold',transform=ax.transAxes)\n",
    "    \n",
    "    #full colocation\n",
    "    odf = OBS_DF[region]\n",
    "    n = odf.count(axis=1, numeric_only=False)\n",
    "    n = n.resample('M', how='mean')\n",
    "    ax.bar(x=n.index, height=n.values, color=current_palette[0], width=1, linewidth=0, zorder=10)\n",
    "    #space colocation\n",
    "    ax.bar(x=n.index, height=[ALLTS_MOD_MAP[region]['nmax'] for i in n.index], color=current_palette[1], width=1, linewidth=0, zorder=9)\n",
    "    #full domain\n",
    "    ax.bar(x=n.index, height=[REG_MOD_MAP[region]['nmax'] for i in n.index], color=current_palette[2], width=1, linewidth=0, zorder=8)\n",
    "    #ax.text(0.97,0.90,'N: {:d}'.format(REG_MOD_MAP[region]['nmax']), color=current_palette[2], ha='right', transform=ax.transAxes)\n",
    "    \n",
    "    \n",
    "    ax.set_facecolor('#F1F1F1')\n",
    "    ax.set_ylabel('Number of Points')\n",
    "    ax.set_xlim('2000-01-01','2015-01-01')\n",
    "    ax.set_ylim(1,1e4)\n",
    "    ax.set_yscale('symlog')\n",
    "    \n",
    "    \n",
    "    #second figure\n",
    "    if len(regions)>1:\n",
    "        ax = axs[1, i]\n",
    "    else:\n",
    "        ax = axs[1]\n",
    "    ax.set_facecolor('#F1F1F1')\n",
    "    #MOD_MAP, ALLTS_MOD_MAP, REG_MOD_MAP\n",
    "    ts1 = MOD_MAP[region]['trends']\n",
    "    ts2 = ALLTS_MOD_MAP[region]['trends']\n",
    "    ts3 = REG_MOD_MAP[region]['trends']\n",
    "    \n",
    "    dy = 0.12\n",
    "    \n",
    "    ax.plot(js2date(ts1['monthly']['jsdate']),ts1['monthly']['data'], ':', lw=1, color=current_palette[0], alpha=0.7)\n",
    "    ax.plot(js2date(ts1['yearly']['jsdate']),ts1['yearly']['data'], '.', ms=8,label='a', color=current_palette[0])\n",
    "    ax.plot(js2date(ts1['trends'][params['period']]['jsdate']),ts1['trends'][params['period']]['data'], ls='-', color=current_palette[0], label='')\n",
    "    ax.text(0.97,0.9,'{:+.1f}%/yr'.format(ts1['trends'][params['period']]['rel_slp']),ha='right',transform=ax.transAxes, color=current_palette[0])\n",
    "    \n",
    "    ax.plot(js2date(ts2['monthly']['jsdate']),ts2['monthly']['data'], ':', lw=1, color=current_palette[1], alpha=0.7)\n",
    "    ax.plot(js2date(ts2['yearly']['jsdate']),ts2['yearly']['data'], '.', ms=8, label='b', color=current_palette[1])\n",
    "    ax.plot(js2date(ts2['trends'][params['period']]['jsdate']),ts2['trends'][params['period']]['data'], ls='-', color=current_palette[1])\n",
    "    ax.text(0.97,0.9-dy,'{:+.1f}%/yr'.format(ts2['trends'][params['period']]['rel_slp']),ha='right',transform=ax.transAxes, color=current_palette[1])\n",
    "    \n",
    "    ax.plot(js2date(ts3['monthly']['jsdate']),ts3['monthly']['data'], ':', lw=1, color=current_palette[2], alpha=0.7)\n",
    "    ax.plot(js2date(ts3['yearly']['jsdate']),ts3['yearly']['data'], '.', ms=8, label='c', color=current_palette[2])\n",
    "    ax.plot(js2date(ts3['trends'][params['period']]['jsdate']),ts3['trends'][params['period']]['data'], ls='-', color=current_palette[2])\n",
    "    ax.text(0.97,0.90-2*dy,'{:+.1f}%/yr'.format(ts3['trends'][params['period']]['rel_slp']),ha='right',transform=ax.transAxes, color=current_palette[2])\n",
    "    \n",
    "    #print out representativity\n",
    "    ax.text(0.97,0.90-3*dy,'Rep: {:.1f}%'.format(df['Representativity'][params['ylabel']][region][params['period']]),ha='right',fontweight='bold', transform=ax.transAxes)\n",
    "    \n",
    "    \n",
    "    ax.set_ylim(0,0.3)\n",
    "    ax.set_ylim(0,20)\n",
    "    ax.set_xlim('2000-01-01','2015-01-01')\n",
    "    ax.set_ylabel(params['ylabel'])\n",
    "\n",
    "#change size of the figure\n",
    "# hide tick and tick label of the big axes\n",
    "plt.tick_params(labelcolor=None, top=False, bottom=False, left=False, right=False)\n",
    "plt.grid(False)\n",
    "plt.xticks([])\n",
    "plt.yticks([])\n",
    "\n",
    "handles, labels = ax.get_legend_handles_labels()\n",
    "labels = ['$Ref_{time}$: space and time colocation', '$Exp_{time} / Ref_{space}$: space colocation', '$Exp_{space}$: full domain']\n",
    "fig.legend(handles, labels, loc='lower center', ncol=3, facecolor='white')\n",
    "\n",
    "fig.set_size_inches(16,7)\n",
    "fig = plt.gcf()\n",
    "plt.savefig('figs/representativity-'+var+'.png', dpi=300, bbox_inches='tight')"
   ]
  },
  {
   "cell_type": "code",
   "execution_count": null,
   "metadata": {},
   "outputs": [],
   "source": []
  }
 ],
 "metadata": {
  "kernelspec": {
   "display_name": "Python 3",
   "language": "python",
   "name": "python3"
  },
  "language_info": {
   "codemirror_mode": {
    "name": "ipython",
    "version": 3
   },
   "file_extension": ".py",
   "mimetype": "text/x-python",
   "name": "python",
   "nbconvert_exporter": "python",
   "pygments_lexer": "ipython3",
   "version": "3.7.3"
  }
 },
 "nbformat": 4,
 "nbformat_minor": 4
}
