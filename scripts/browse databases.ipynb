{
 "cells": [
  {
   "cell_type": "code",
   "execution_count": 1,
   "metadata": {},
   "outputs": [],
   "source": [
    "import pyaerocom as pya\n",
    "import pandas as pd\n",
    "from IPython.display import display, clear_output\n",
    "import matplotlib.pyplot as plt\n",
    "import scipy.stats as stats\n",
    "import simplejson as json\n",
    "import numpy as np\n",
    "import datetime\n",
    "import copy\n",
    "import pwlf\n",
    "import seaborn as sns\n",
    "from trends_functions import *"
   ]
  },
  {
   "cell_type": "code",
   "execution_count": 2,
   "metadata": {},
   "outputs": [
    {
     "name": "stdout",
     "output_type": "stream",
     "text": [
      "\n",
      "Pyaerocom ReadGridded\n",
      "---------------------\n",
      "Data ID: GEOS-i33p2_HIST\n",
      "Data directory: /lustre/storeA/project/aerocom/aerocom-users-database/AEROCOM-PHASE-III-2019/GEOS-i33p2_HIST/renamed\n",
      "Available experiments: ['HIST']\n",
      "Available years: [1980, 1981, 1982, 1983, 1984, 1985, 1986, 1987, 1988, 1989, 1990, 1991, 1992, 1993, 1994, 1995, 1996, 1997, 1998, 1999, 2000, 2001, 2002, 2003, 2004, 2005, 2006, 2007, 2008, 2009, 2010, 2011, 2012, 2013, 2014, 2015, 2016, 2017, 2018]\n",
      "Available frequencies ['monthly']\n",
      "Available variables: ['abs440aer', 'abs550aer', 'abs550bc', 'abs550dust', 'abs550lt1', 'abs550lt2p5', 'abs870aer', 'albsrfc', 'cheaqpso4', 'chegpso4', 'chepmsa', 'clt', 'co', 'co50', 'drybc', 'drydms', 'drydust', 'drymsa', 'drynh3', 'drynh4', 'dryno3', 'dryoa', 'drypm10', 'drypm10dust', 'drypm10ss', 'drypm2p5', 'drypm2p5dust', 'drypm2p5ss', 'dryso2', 'dryso4', 'dryss', 'ec550aer', 'ec550dust', 'emiaoa', 'emibc', 'emico', 'emidms', 'emidust', 'eminh3', 'emioa', 'emipm10', 'emipm10dust', 'emipm10ss', 'emipm2p5', 'emipm2p5dust', 'emipm2p5ss', 'emiso2', 'emiso2anthro', 'emiso2bb', 'emiso2evolc', 'emiso2nvolc', 'emiso4', 'emiss', 'hus', 'loadbc', 'loaddms', 'loaddu', 'loadlt25', 'loadlt25du', 'loadlt25ss', 'loadnh3', 'loadnh4', 'loadno3', 'loadoa', 'loadso2', 'loadso4', 'loadss', 'mmrbc', 'mmrdust', 'mmrmsa', 'mmroa', 'mmrpb', 'mmrpm10', 'mmrpm10bc', 'mmrpm10dust', 'mmrpm10oa', 'mmrpm10so4', 'mmrpm10ss', 'mmrpm2p5', 'mmrpm2p5bc', 'mmrpm2p5dust', 'mmrpm2p5oa', 'mmrpm2p5so4', 'mmrpm2p5ss', 'mmrrn', 'mmrso4', 'mmrss', 'od440aer', 'od550aer', 'od550bc', 'od550dust', 'od550lt1', 'od550lt2p5', 'od550no3', 'od550oa', 'od550so4', 'od550ss', 'od870aer', 'pfull', 'ps', 'rh', 'rho', 'rlds', 'rlus', 'rlut', 'rlutca', 'rlutcs', 'rsds', 'rsdt', 'rsut', 'rsutca', 'rsutcs', 'rsutcsca', 'sconcbc', 'sconcdms', 'sconcdust', 'sconcnh3', 'sconcnh4', 'sconcno3', 'sconcoa', 'sconcpm10bc', 'sconcpm10oa', 'sconcpm10so4', 'sconcpm2p5', 'sconcpm2p5bc', 'sconcpm2p5dust', 'sconcpm2p5oa', 'sconcpm2p5so4', 'sconcpm2p5ss', 'sconcso2', 'sconcso4', 'sconcss', 'so2', 'ta', 'tas', 'ts', 'vmrdms', 'wetbc', 'wetdms', 'wetdust', 'wetmsa', 'wetnh3', 'wetnh4', 'wetno3', 'wetoa', 'wetpm10', 'wetpm10dust', 'wetpm10ss', 'wetpm2p5', 'wetpm2p5dust', 'wetpm2p5ss', 'wetso2', 'wetso4', 'wetss', 'ang4487aer', 'od550gt1aer']\n"
     ]
    },
    {
     "data": {
      "text/plain": [
       "['GEOS-i33p2_HIST']"
      ]
     },
     "execution_count": 2,
     "metadata": {},
     "output_type": "execute_result"
    }
   ],
   "source": [
    "pya.browse_database('GEOS-i33p2_HIST*')\n",
    "#pya.browse_database('GFDL-AM4-amip_HIST*')"
   ]
  },
  {
   "cell_type": "code",
   "execution_count": 19,
   "metadata": {},
   "outputs": [
    {
     "data": {
      "text/plain": [
       "\n",
       "Pyaerocom ReadGridded\n",
       "---------------------\n",
       "Data ID: BCC-CUACE_AP3-HIST\n",
       "Data directory: /lustre/storeA/project/aerocom/aerocom-users-database/AEROCOM-PHASE-III-2019/BCC-CUACE_AP3-HIST/renamed\n",
       "Available experiments: ['HIST']\n",
       "Available years: [1850, 1860, 1870, 1880, 1890, 1900, 1910, 1920, 1930, 1940, 1950, 1960, 1970, 1980, 1985, 1990, 1995, 2000, 2005, 2010, 2014]\n",
       "Available frequencies ['monthly']\n",
       "Available variables: ['abs550aer', 'asy550aer', 'clh', 'cll', 'clm', 'clt', 'concbc', 'concdust', 'concoa', 'concso4', 'concss', 'drybc', 'drydust', 'dryoa', 'dryso2', 'dryso4', 'dryss', 'emidust', 'emiss', 'frc0day', 'hur', 'hus', 'laoddust', 'loadbc', 'loaddust', 'loadoa', 'loadso4', 'loadss', 'od550aer', 'od550bc', 'od550dust', 'od550oa', 'od550so4', 'od550ss', 'phis', 'precc', 'precl', 'ps', 'qrs', 'qrs1', 'rlds', 'rlus', 'rlut', 'rlutcs', 'rsds', 'rsdscs', 'rsdt', 'rsdtcs', 'rsns', 'rsns0RF', 'rsns0anthaer', 'rsnscs', 'rsnscs0RF', 'rsnscs0anthaer', 'rsnt', 'rsntcs', 'rsntcs0RF', 'rsntcs0anthaer', 'rsntso4ant', 'rsus', 'rsut', 'rsutcs', 'sconcbc', 'sconcdust', 'sconcoa', 'sconcso4', 'sconcss', 'sftlf', 'ssa550aer', 'ta', 'tos', 'wetbc', 'wetdust', 'wetoa', 'wetso2', 'wetso4', 'wetss', 'zg']"
      ]
     },
     "execution_count": 19,
     "metadata": {},
     "output_type": "execute_result"
    }
   ],
   "source": [
    "model_id = 'BCC-CUACE_AP3-HIST'\n",
    "var = 'od550aer'\n",
    "reader = pya.io.ReadGridded(model_id)\n",
    "reader"
   ]
  },
  {
   "cell_type": "code",
   "execution_count": 18,
   "metadata": {},
   "outputs": [
    {
     "ename": "VarNotAvailableError",
     "evalue": "Error: variable absc550aer not available in files and can also not be computed.",
     "output_type": "error",
     "traceback": [
      "\u001b[0;31m---------------------------------------------------------------------------\u001b[0m",
      "\u001b[0;31mVarNotAvailableError\u001b[0m                      Traceback (most recent call last)",
      "\u001b[0;32m<ipython-input-18-044c66c3f647>\u001b[0m in \u001b[0;36m<module>\u001b[0;34m\u001b[0m\n\u001b[0;32m----> 1\u001b[0;31m \u001b[0mmod_data\u001b[0m \u001b[0;34m=\u001b[0m \u001b[0mreader\u001b[0m\u001b[0;34m.\u001b[0m\u001b[0mread_var\u001b[0m\u001b[0;34m(\u001b[0m\u001b[0mvar\u001b[0m\u001b[0;34m)\u001b[0m\u001b[0;34m\u001b[0m\u001b[0;34m\u001b[0m\u001b[0m\n\u001b[0m",
      "\u001b[0;32m~/Dev/pyaerocom/pyaerocom/pyaerocom/io/readgridded.py\u001b[0m in \u001b[0;36mread_var\u001b[0;34m(self, var_name, start, stop, ts_type, experiment, vert_which, flex_ts_type, prefer_longer, aux_vars, aux_fun, **kwargs)\u001b[0m\n\u001b[1;32m   1511\u001b[0m         raise VarNotAvailableError(\"Error: variable {} not available in \"\n\u001b[1;32m   1512\u001b[0m                                     \u001b[0;34m\"files and can also not be computed.\"\u001b[0m\u001b[0;34m\u001b[0m\u001b[0;34m\u001b[0m\u001b[0m\n\u001b[0;32m-> 1513\u001b[0;31m                                     .format(var_name))\n\u001b[0m\u001b[1;32m   1514\u001b[0m \u001b[0;34m\u001b[0m\u001b[0m\n\u001b[1;32m   1515\u001b[0m     def read(self, vars_to_retrieve=None, start=None, stop=None, ts_type=None,\n",
      "\u001b[0;31mVarNotAvailableError\u001b[0m: Error: variable absc550aer not available in files and can also not be computed."
     ]
    }
   ],
   "source": [
    "mod_data = reader.read_var(var)"
   ]
  },
  {
   "cell_type": "code",
   "execution_count": null,
   "metadata": {},
   "outputs": [],
   "source": []
  },
  {
   "cell_type": "code",
   "execution_count": 5,
   "metadata": {},
   "outputs": [
    {
     "data": {
      "text/plain": [
       "['/lustre/storeA/project/aerocom/aerocom-users-database/AEROCOM-PHASE-III-2019/MIROC-SPRINTARS_AP3-HIST/renamed/aerocom3_MIROC-SPRINTARS_AP3-HIST_mmrpm2p5_ModelLevel_2010_monthly.nc',\n",
       " '/lustre/storeA/project/aerocom/aerocom-users-database/AEROCOM-PHASE-III-2019/MIROC-SPRINTARS_AP3-HIST/renamed/aerocom3_MIROC-SPRINTARS_AP3-HIST_rho_ModelLevel_2010_monthly.nc']"
      ]
     },
     "execution_count": 5,
     "metadata": {},
     "output_type": "execute_result"
    }
   ],
   "source": [
    "mod_data.from_files"
   ]
  },
  {
   "cell_type": "code",
   "execution_count": 12,
   "metadata": {},
   "outputs": [
    {
     "name": "stdout",
     "output_type": "stream",
     "text": [
      "ECMWF_CAMS_REAN use pickle\n"
     ]
    }
   ],
   "source": [
    "#read pickle file\n",
    "fn = 'cache/'+model_id+'_'+var+'.pkl'\n",
    "if os.path.isfile(fn):\n",
    "    print(model_id,'use pickle')\n",
    "    # for reading also binary mode is important \n",
    "    pklfile = open(fn, 'rb')      \n",
    "    mod_data = pickle.load(pklfile) \n",
    "    pklfile.close()"
   ]
  },
  {
   "cell_type": "code",
   "execution_count": null,
   "metadata": {},
   "outputs": [],
   "source": []
  },
  {
   "cell_type": "code",
   "execution_count": 3,
   "metadata": {},
   "outputs": [
    {
     "data": {
      "text/plain": [
       "\"var = 'scon'\\nsource = 'EBASMC'\\nymin, ymax = 0, 100\\nylabel = 'PM10'\\nobs_source = source\\n\\nreader = pya.io.ReadUngridded(source)\\nobs_data = reader.read(vars_to_retrieve=var)\""
      ]
     },
     "execution_count": 3,
     "metadata": {},
     "output_type": "execute_result"
    }
   ],
   "source": [
    "'''var = 'scon'\n",
    "source = 'EBASMC'\n",
    "ymin, ymax = 0, 100\n",
    "ylabel = 'PM10'\n",
    "obs_source = source\n",
    "\n",
    "reader = pya.io.ReadUngridded(source)\n",
    "obs_data = reader.read(vars_to_retrieve=var)'''"
   ]
  },
  {
   "cell_type": "code",
   "execution_count": 4,
   "metadata": {},
   "outputs": [
    {
     "data": {
      "text/plain": [
       "\"mod_var = 'sconcso4'\\nsource = 'ECMWF_CAMS_REAN'\\nymin, ymax = 0, 100\\nylabel = 'PM10'\\nreader = pya.io.ReadGridded(source)\\nmod_data = reader.read_var(mod_var, ts_type='daily')\""
      ]
     },
     "execution_count": 4,
     "metadata": {},
     "output_type": "execute_result"
    }
   ],
   "source": [
    "'''mod_var = 'sconcso4'\n",
    "source = 'ECMWF_CAMS_REAN'\n",
    "ymin, ymax = 0, 100\n",
    "ylabel = 'PM10'\n",
    "reader = pya.io.ReadGridded(source)\n",
    "mod_data = reader.read_var(mod_var, ts_type='daily')'''"
   ]
  },
  {
   "cell_type": "code",
   "execution_count": 5,
   "metadata": {},
   "outputs": [],
   "source": [
    "min_dobs = 300 #minimum number of daily observations available in order to keep the station\n",
    "min_nstat = 2 #minimum number of stations required to compute median\n",
    "sig = 0.95 #significance\n",
    "min_dim = 5 #minimum number of days required to compute monthly mean\n",
    "min_mis = 1 #minimum number of months required to compute seasonal mean\n",
    "min_siy = 4 #minimum number of seasons required to compute annual mean\n",
    "nseg = 2 #number of segments if no significant linear trend on the time series is found\n",
    "use_obs_seg = True #if use same segments for model and bias than the ones found in obs (to be run before)"
   ]
  },
  {
   "cell_type": "code",
   "execution_count": 6,
   "metadata": {
    "code_folding": [
     1,
     6,
     10,
     14,
     18,
     22,
     26
    ]
   },
   "outputs": [
    {
     "name": "stderr",
     "output_type": "stream",
     "text": [
      "/home/augustinm/Dev/pyaerocom/pyaerocom/pyaerocom/ungriddeddata.py:123: RuntimeWarning: invalid value encountered in multiply\n",
      "  self._data = np.empty([num_points, self._COLNO]) * np.nan\n"
     ]
    },
    {
     "ename": "ValueError",
     "evalue": "Invalid input, need instance of UngriddedData, got: <class 'NoneType'>",
     "output_type": "error",
     "traceback": [
      "\u001b[0;31m---------------------------------------------------------------------------\u001b[0m",
      "\u001b[0;31mValueError\u001b[0m                                Traceback (most recent call last)",
      "\u001b[0;32m<ipython-input-6-1af107f1c1df>\u001b[0m in \u001b[0;36m<module>\u001b[0;34m\u001b[0m\n\u001b[1;32m     37\u001b[0m \u001b[0mobs_source\u001b[0m \u001b[0;34m=\u001b[0m \u001b[0msource\u001b[0m\u001b[0;34m\u001b[0m\u001b[0;34m\u001b[0m\u001b[0m\n\u001b[1;32m     38\u001b[0m \u001b[0mreader\u001b[0m \u001b[0;34m=\u001b[0m \u001b[0mpya\u001b[0m\u001b[0;34m.\u001b[0m\u001b[0mio\u001b[0m\u001b[0;34m.\u001b[0m\u001b[0mReadUngridded\u001b[0m\u001b[0;34m(\u001b[0m\u001b[0msource\u001b[0m\u001b[0;34m)\u001b[0m\u001b[0;34m\u001b[0m\u001b[0;34m\u001b[0m\u001b[0m\n\u001b[0;32m---> 39\u001b[0;31m \u001b[0mobs_data\u001b[0m \u001b[0;34m=\u001b[0m \u001b[0mreader\u001b[0m\u001b[0;34m.\u001b[0m\u001b[0mread\u001b[0m\u001b[0;34m(\u001b[0m\u001b[0mvars_to_retrieve\u001b[0m\u001b[0;34m=\u001b[0m\u001b[0mvar\u001b[0m\u001b[0;34m)\u001b[0m\u001b[0;34m\u001b[0m\u001b[0;34m\u001b[0m\u001b[0m\n\u001b[0m\u001b[1;32m     40\u001b[0m \u001b[0;34m\u001b[0m\u001b[0m\n\u001b[1;32m     41\u001b[0m \u001b[0mkind\u001b[0m \u001b[0;34m=\u001b[0m \u001b[0;34m'obs'\u001b[0m\u001b[0;34m\u001b[0m\u001b[0;34m\u001b[0m\u001b[0m\n",
      "\u001b[0;32m~/Dev/pyaerocom/pyaerocom/pyaerocom/io/readungridded.py\u001b[0m in \u001b[0;36mread\u001b[0;34m(self, datasets_to_read, vars_to_retrieve, **kwargs)\u001b[0m\n\u001b[1;32m    348\u001b[0m         \u001b[0;32mfor\u001b[0m \u001b[0mds\u001b[0m \u001b[0;32min\u001b[0m \u001b[0mself\u001b[0m\u001b[0;34m.\u001b[0m\u001b[0mdatasets_to_read\u001b[0m\u001b[0;34m:\u001b[0m\u001b[0;34m\u001b[0m\u001b[0;34m\u001b[0m\u001b[0m\n\u001b[1;32m    349\u001b[0m             \u001b[0mself\u001b[0m\u001b[0;34m.\u001b[0m\u001b[0mlogger\u001b[0m\u001b[0;34m.\u001b[0m\u001b[0minfo\u001b[0m\u001b[0;34m(\u001b[0m\u001b[0;34m'Reading {} data'\u001b[0m\u001b[0;34m.\u001b[0m\u001b[0mformat\u001b[0m\u001b[0;34m(\u001b[0m\u001b[0mds\u001b[0m\u001b[0;34m)\u001b[0m\u001b[0;34m)\u001b[0m\u001b[0;34m\u001b[0m\u001b[0;34m\u001b[0m\u001b[0m\n\u001b[0;32m--> 350\u001b[0;31m             \u001b[0mdata\u001b[0m\u001b[0;34m.\u001b[0m\u001b[0mappend\u001b[0m\u001b[0;34m(\u001b[0m\u001b[0mself\u001b[0m\u001b[0;34m.\u001b[0m\u001b[0mread_dataset\u001b[0m\u001b[0;34m(\u001b[0m\u001b[0mds\u001b[0m\u001b[0;34m,\u001b[0m \u001b[0mvars_to_retrieve\u001b[0m\u001b[0;34m,\u001b[0m \u001b[0;34m**\u001b[0m\u001b[0mkwargs\u001b[0m\u001b[0;34m)\u001b[0m\u001b[0;34m)\u001b[0m\u001b[0;34m\u001b[0m\u001b[0;34m\u001b[0m\u001b[0m\n\u001b[0m\u001b[1;32m    351\u001b[0m             \u001b[0mself\u001b[0m\u001b[0;34m.\u001b[0m\u001b[0mlogger\u001b[0m\u001b[0;34m.\u001b[0m\u001b[0minfo\u001b[0m\u001b[0;34m(\u001b[0m\u001b[0;34m'Successfully imported {} data'\u001b[0m\u001b[0;34m.\u001b[0m\u001b[0mformat\u001b[0m\u001b[0;34m(\u001b[0m\u001b[0mds\u001b[0m\u001b[0;34m)\u001b[0m\u001b[0;34m)\u001b[0m\u001b[0;34m\u001b[0m\u001b[0;34m\u001b[0m\u001b[0m\n\u001b[1;32m    352\u001b[0m         \u001b[0;32mreturn\u001b[0m \u001b[0mdata\u001b[0m\u001b[0;34m\u001b[0m\u001b[0;34m\u001b[0m\u001b[0m\n",
      "\u001b[0;32m~/Dev/pyaerocom/pyaerocom/pyaerocom/ungriddeddata.py\u001b[0m in \u001b[0;36mappend\u001b[0;34m(self, other)\u001b[0m\n\u001b[1;32m   1821\u001b[0m \u001b[0;34m\u001b[0m\u001b[0m\n\u001b[1;32m   1822\u001b[0m         \"\"\"\n\u001b[0;32m-> 1823\u001b[0;31m         \u001b[0;32mreturn\u001b[0m \u001b[0mself\u001b[0m\u001b[0;34m.\u001b[0m\u001b[0mmerge\u001b[0m\u001b[0;34m(\u001b[0m\u001b[0mother\u001b[0m\u001b[0;34m,\u001b[0m \u001b[0mnew_obj\u001b[0m\u001b[0;34m=\u001b[0m\u001b[0;32mFalse\u001b[0m\u001b[0;34m)\u001b[0m\u001b[0;34m\u001b[0m\u001b[0;34m\u001b[0m\u001b[0m\n\u001b[0m\u001b[1;32m   1824\u001b[0m \u001b[0;34m\u001b[0m\u001b[0m\n\u001b[1;32m   1825\u001b[0m     \u001b[0;32mdef\u001b[0m \u001b[0mall_datapoints_var\u001b[0m\u001b[0;34m(\u001b[0m\u001b[0mself\u001b[0m\u001b[0;34m,\u001b[0m \u001b[0mvar_name\u001b[0m\u001b[0;34m)\u001b[0m\u001b[0;34m:\u001b[0m\u001b[0;34m\u001b[0m\u001b[0;34m\u001b[0m\u001b[0m\n",
      "\u001b[0;32m~/Dev/pyaerocom/pyaerocom/pyaerocom/ungriddeddata.py\u001b[0m in \u001b[0;36mmerge\u001b[0;34m(self, other, new_obj)\u001b[0m\n\u001b[1;32m   1707\u001b[0m         \u001b[0;32mif\u001b[0m \u001b[0;32mnot\u001b[0m \u001b[0misinstance\u001b[0m\u001b[0;34m(\u001b[0m\u001b[0mother\u001b[0m\u001b[0;34m,\u001b[0m \u001b[0mUngriddedData\u001b[0m\u001b[0;34m)\u001b[0m\u001b[0;34m:\u001b[0m\u001b[0;34m\u001b[0m\u001b[0;34m\u001b[0m\u001b[0m\n\u001b[1;32m   1708\u001b[0m             raise ValueError(\"Invalid input, need instance of UngriddedData, \"\n\u001b[0;32m-> 1709\u001b[0;31m                              \"got: {}\".format(type(other)))\n\u001b[0m\u001b[1;32m   1710\u001b[0m         \u001b[0;32mif\u001b[0m \u001b[0mnew_obj\u001b[0m\u001b[0;34m:\u001b[0m\u001b[0;34m\u001b[0m\u001b[0;34m\u001b[0m\u001b[0m\n\u001b[1;32m   1711\u001b[0m             \u001b[0mobj\u001b[0m \u001b[0;34m=\u001b[0m \u001b[0mself\u001b[0m\u001b[0;34m.\u001b[0m\u001b[0mcopy\u001b[0m\u001b[0;34m(\u001b[0m\u001b[0;34m)\u001b[0m\u001b[0;34m\u001b[0m\u001b[0;34m\u001b[0m\u001b[0m\n",
      "\u001b[0;31mValueError\u001b[0m: Invalid input, need instance of UngriddedData, got: <class 'NoneType'>"
     ]
    }
   ],
   "source": [
    "var =  'sconcso4' #'ang4487aer' 'od550aer' 'od550gt1aer' 'od550lt1aer' 'sconcpm10' 'sconcpm25' 'sconcso4'\n",
    "if var=='od550aer':\n",
    "    obs = 'AeronetSunV3Lev2.daily'\n",
    "    ymin, ymax = 0, 0.8\n",
    "    ylabel = 'AOD'\n",
    "    source = 'AeronetSunV3Lev2.daily'\n",
    "if var=='ang4487aer':\n",
    "    source = 'AeronetSunV3Lev2.daily'\n",
    "    ymin, ymax = 0, 2.5\n",
    "    ylabel = 'AE'\n",
    "if var=='od550gt1aer':\n",
    "    source = 'AeronetSDAV3Lev2.daily'\n",
    "    ymin, ymax = 0, 0.8\n",
    "    ylabel = 'AOD>1µm'\n",
    "if var=='od550lt1aer':\n",
    "    source = 'AeronetSDAV3Lev2.daily'\n",
    "    ymin, ymax = 0, 0.8\n",
    "    ylabel = 'AOD<1µm'\n",
    "if var=='sconcpm10':\n",
    "    source = 'EBASMC'\n",
    "    ymin, ymax = 0, 60\n",
    "    ylabel = 'PM10'\n",
    "if var=='sconcpm25':\n",
    "    source = 'EBASMC'\n",
    "    ymin, ymax = 0, 30\n",
    "    ylabel = 'PM25'\n",
    "if var=='sconcso4':\n",
    "    source = 'EBASMC'\n",
    "    ymin, ymax = 0, 6\n",
    "    ylabel = 'SO4'\n",
    "if var=='wetconcso4':\n",
    "    source = 'EBASMC'\n",
    "    ymin, ymax = 0, 50\n",
    "    ylabel = 'SO4'\n",
    "    min_dim = 0 \n",
    "    \n",
    "obs_source = source\n",
    "reader = pya.io.ReadUngridded(source)\n",
    "obs_data = reader.read(vars_to_retrieve=var)\n",
    "\n",
    "kind = 'obs'\n",
    "data = obs_data"
   ]
  },
  {
   "cell_type": "code",
   "execution_count": null,
   "metadata": {
    "code_folding": [
     0
    ]
   },
   "outputs": [],
   "source": [
    "#by default, colocate model in space and time\n",
    "MAP = {}\n",
    "DF = {}\n",
    "ALL_TS = {}\n",
    "regions = pya.region.all()\n",
    "regions = ['NAMERICA']\n",
    "\n",
    "#computation region by region\n",
    "for region in regions:\n",
    "    f = pya.Filter(region)\n",
    "    if kind == 'obs':\n",
    "        try:\n",
    "            sub = f(data)\n",
    "            var = data.vars_to_retrieve[0]\n",
    "        except:\n",
    "            print('No station found in the area')\n",
    "            MAP[region] = {\n",
    "                'name': region,\n",
    "                'min_lon': pya.Region(region).lon_range[0],\n",
    "                'max_lon': pya.Region(region).lon_range[1],\n",
    "                'min_lat': pya.Region(region).lat_range[0],\n",
    "                'max_lat': pya.Region(region).lat_range[1],\n",
    "                'trends': {},\n",
    "                'nmax': 0,\n",
    "                'stations': [],\n",
    "            }\n",
    "            continue\n",
    "    elif kind == 'mod' or kind == 'bias':\n",
    "        if obs==None:\n",
    "            print('kind is model or bias. Needs to pass an obs dataset')\n",
    "        else:\n",
    "            try:\n",
    "                sub = f(obs)\n",
    "                var = data.var_name\n",
    "            except:\n",
    "                print('No station found in the area')\n",
    "                MAP[region] = {\n",
    "                    'name': region,\n",
    "                    'min_lon': pya.Region(region).lon_range[0],\n",
    "                    'max_lon': pya.Region(region).lon_range[1],\n",
    "                    'min_lat': pya.Region(region).lat_range[0],\n",
    "                    'max_lat': pya.Region(region).lat_range[1],\n",
    "                    'trends': {},\n",
    "                    'nmax': 0,\n",
    "                    'stations': [],\n",
    "                }\n",
    "                continue\n",
    "\n",
    "    #for each subset, creates a dataframe containing all stations timeseries\n",
    "    #first, get station data\n",
    "    data_all = sub.to_station_data_all()['stats']\n",
    "    obs_all = copy.copy(data_all)\n",
    "\n",
    "    # - - - - - - - - - - - - - - - - - - - - - - - - - - - - - - - -\n",
    "    #if model \n",
    "    if kind == 'mod':\n",
    "        if colocate_space: \n",
    "            #first, get list of stations name, lat and lon\n",
    "            stations = { 'name': [], 'lat': [], 'lon': []  }\n",
    "\n",
    "            for stat in data_all:\n",
    "                stations['name'].append(stat['station_name'])\n",
    "                stations['lat'].append(stat['station_coords']['latitude'])\n",
    "                stations['lon'].append(stat['station_coords']['longitude'])\n",
    "\n",
    "            data_all = data.to_time_series(longitude=stations['lon'], latitude=stations['lat'],  add_meta=dict(station_name = stations['name']))\n",
    "        else:\n",
    "            #creates a filter for the region\n",
    "            f = pya.Filter(region)\n",
    "            data_all = f(data)\n",
    "            med_area = data_all.get_area_weighted_timeseries()\n",
    "    # - - - - - - - - - - - - - - - - - - - - - - - - - - - - - - - -\n",
    "\n",
    "\n",
    "    #initialize pandas DataFrame\n",
    "    df = pd.DataFrame()\n",
    "\n",
    "    stations = []\n",
    "    if kind=='mod' and colocate_space==False:\n",
    "        med = med_area[var]\n",
    "        top = med\n",
    "        bottom = med\n",
    "        ts = med.to_frame()\n",
    "        ts.set_axis([var+'_'+region], axis=1, inplace=True)\n",
    "        df = pd.concat([df, ts], axis=1)\n",
    "    else:\n",
    "        for i, station in enumerate(data_all):\n",
    "            stat_name = station.station_name\n",
    "            clear_output(wait=True)\n",
    "            print('region: ', region)\n",
    "            print('station: ', stat_name)\n",
    "            ts_type = station.ts_type\n",
    "            #set individual time series as dataframe\n",
    "\n",
    "            #extract pandas series and convert it to datframe\n",
    "            ts = data_all[i][var].to_frame()\n",
    "            ts.set_axis([var+'_'+stat_name], axis=1, inplace=True)\n",
    "\n",
    "            if ts_type == 'daily':\n",
    "                if ts.count()[0]>=min_dobs:\n",
    "                    #concatenates to main dataframe\n",
    "                    df = pd.concat([df, ts], axis=1)\n",
    "            else :\n",
    "                #concatenates to main dataframe\n",
    "                df = pd.concat([df, ts], axis=1)\n",
    "\n",
    "            stations.append({\n",
    "                'name': stat_name,\n",
    "                'lat': station.latitude,\n",
    "                'lon': station.longitude\n",
    "            })\n",
    "        clear_output(wait=False)\n",
    "\n",
    "        #caluclates median and envelope with quartiles\n",
    "        med = df.median(axis=1)\n",
    "        top = df.quantile(q=0.75,axis=1)\n",
    "        bottom = df.quantile(q=0.25,axis=1)\n",
    "        #requires at least n measurements to provide a valid median\n",
    "        n = df.count(axis=1, numeric_only=False)\n",
    "        med = med[n>min_nstat]\n",
    "        top = top[n>min_nstat]\n",
    "        bottom = bottom[n>min_nstat]\n",
    "        \n",
    "    #calculates monthly averages for the plots\n",
    "    dcount = med.groupby(pd.Grouper(freq='M')).count()\n",
    "    mmed = med.groupby(pd.Grouper(freq='M')).mean().where(dcount>=min_dim)\n",
    "    mtop = top.groupby(pd.Grouper(freq='M')).mean().where(dcount>=min_dim)\n",
    "    mbottom = bottom.groupby(pd.Grouper(freq='M')).mean().where(dcount>=min_dim)\n",
    "\n",
    "    #seasonal averages\n",
    "    mcount = mmed.groupby(pd.Grouper(freq='Q')).count()\n",
    "    smed = mmed.groupby(pd.Grouper(freq='Q')).mean().where(mcount>=min_mis)\n",
    "\n",
    "    #yearly averages from seasonal averages\n",
    "    scount = smed.groupby(pd.Grouper(freq='A')).count()\n",
    "    ymed = smed.groupby(pd.Grouper(freq='A')).mean().where(scount>=min_siy)\n",
    "    ymed = ymed.shift(-6, freq ='MS')"
   ]
  },
  {
   "cell_type": "code",
   "execution_count": null,
   "metadata": {},
   "outputs": [],
   "source": [
    "#by default, colocate model in space and time\n",
    "MAP = {}\n",
    "DF = {}\n",
    "ALL_TS = {}\n",
    "regions = pya.region.all()\n",
    "regions = ['NAMERICA']\n",
    "\n",
    "#computation region by region\n",
    "for region in regions:\n",
    "    f = pya.Filter(region)\n",
    "    if kind == 'obs':\n",
    "        try:\n",
    "            sub = f(data)\n",
    "            var = data.vars_to_retrieve[0]\n",
    "        except:\n",
    "            print('No station found in the area')\n",
    "            MAP[region] = {\n",
    "                'name': region,\n",
    "                'min_lon': pya.Region(region).lon_range[0],\n",
    "                'max_lon': pya.Region(region).lon_range[1],\n",
    "                'min_lat': pya.Region(region).lat_range[0],\n",
    "                'max_lat': pya.Region(region).lat_range[1],\n",
    "                'trends': {},\n",
    "                'nmax': 0,\n",
    "                'stations': [],\n",
    "            }\n",
    "            continue\n",
    "    \n",
    "    #for each subset, creates a dataframe containing all stations timeseries\n",
    "    #first, get station data\n",
    "    data_all = sub.to_station_data_all()['stats']\n",
    "    obs_all = copy.copy(data_all)\n",
    "\n",
    "    # - - - - - - - - - - - - - - - - - - - - - - - - - - - - - - - -\n",
    "\n",
    "    #initialize pandas DataFrame\n",
    "    df = pd.DataFrame()\n",
    "\n",
    "    stations = []\n",
    "    for i, station in enumerate(data_all):\n",
    "        stat_name = station.station_name\n",
    "        clear_output(wait=True)\n",
    "        print('region: ', region)\n",
    "        print('station: ', stat_name)\n",
    "        ts_type = station.ts_type\n",
    "        #set individual time series as dataframe\n",
    "\n",
    "        #extract pandas series and convert it to datframe\n",
    "        ts = data_all[i][var].to_frame()\n",
    "        ts.set_axis([var+'_'+stat_name], axis=1, inplace=True)\n",
    "\n",
    "        if ts_type == 'daily':\n",
    "            if ts.count()[0]>=min_dobs:\n",
    "                #concatenates to main dataframe\n",
    "                df = pd.concat([df, ts], axis=1)\n",
    "        else :\n",
    "            #concatenates to main dataframe\n",
    "            df = pd.concat([df, ts], axis=1)\n",
    "\n",
    "        stations.append({\n",
    "            'name': stat_name,\n",
    "            'lat': station.latitude,\n",
    "            'lon': station.longitude\n",
    "        })\n",
    "    clear_output(wait=False)\n",
    "\n",
    "    #caluclates median and envelope with quartiles\n",
    "    med = df.median(axis=1)\n",
    "    top = df.quantile(q=0.75,axis=1)\n",
    "    bottom = df.quantile(q=0.25,axis=1)\n",
    "    #requires at least n measurements to provide a valid median\n",
    "    n = df.count(axis=1, numeric_only=False)\n",
    "    med = med[n>min_nstat]\n",
    "    top = top[n>min_nstat]\n",
    "    bottom = bottom[n>min_nstat]"
   ]
  },
  {
   "cell_type": "code",
   "execution_count": null,
   "metadata": {
    "scrolled": true
   },
   "outputs": [],
   "source": [
    "for station in stations:\n",
    "    print(station['name'])"
   ]
  },
  {
   "cell_type": "code",
   "execution_count": null,
   "metadata": {},
   "outputs": [],
   "source": [
    "df['sconcso4_Algoma'].plot()"
   ]
  },
  {
   "cell_type": "code",
   "execution_count": null,
   "metadata": {},
   "outputs": [],
   "source": [
    "sub = f(data)\n",
    "var = data.vars_to_retrieve[0]"
   ]
  },
  {
   "cell_type": "code",
   "execution_count": null,
   "metadata": {},
   "outputs": [],
   "source": [
    "data_all = sub.to_station_data_all()['stats']"
   ]
  },
  {
   "cell_type": "code",
   "execution_count": null,
   "metadata": {
    "scrolled": true
   },
   "outputs": [],
   "source": [
    "data_all[10]"
   ]
  },
  {
   "cell_type": "code",
   "execution_count": 21,
   "metadata": {},
   "outputs": [
    {
     "data": {
      "text/plain": [
       "'ECMWF_CAMS_REAN'"
      ]
     },
     "execution_count": 21,
     "metadata": {},
     "output_type": "execute_result"
    }
   ],
   "source": [
    "all_mods = ['ECMWF_CAMS_REAN', 'OsloCTM3v1.01-met2010_AP3-HIST', \n",
    "            'NorESM2-LM_historical', 'BCC-CUACE_HIST', 'CAM5-ATRAS_AP3-HIST', \n",
    "            'GFDL-AM4-amip_HIST', 'CanESM5_historical', 'CESM2_historical',\n",
    "            'E3SM-1-0_historical', 'IPSL-CM6A-LR_historical']\n",
    "var = 'od550aer'\n",
    "all_mods[0]"
   ]
  },
  {
   "cell_type": "code",
   "execution_count": 37,
   "metadata": {},
   "outputs": [
    {
     "name": "stderr",
     "output_type": "stream",
     "text": [
      "Outdated attribute suppl_info. Please use metadata instead\n",
      "Outdated attribute suppl_info. Please use metadata instead\n",
      "Outdated attribute suppl_info. Please use metadata instead\n",
      "Outdated attribute suppl_info. Please use metadata instead\n",
      "Outdated attribute suppl_info. Please use metadata instead\n",
      "Outdated attribute suppl_info. Please use metadata instead\n",
      "Outdated attribute suppl_info. Please use metadata instead\n",
      "Outdated attribute suppl_info. Please use metadata instead\n",
      "Outdated attribute suppl_info. Please use metadata instead\n",
      "Outdated attribute suppl_info. Please use metadata instead\n",
      "Outdated attribute suppl_info. Please use metadata instead\n",
      "Outdated attribute suppl_info. Please use metadata instead\n",
      "Outdated attribute suppl_info. Please use metadata instead\n",
      "Outdated attribute suppl_info. Please use metadata instead\n"
     ]
    },
    {
     "name": "stdout",
     "output_type": "stream",
     "text": [
      "OsloCTM3v1.01-met2010_AP3-HIST\n",
      "use pickle\n",
      "gunnar.myhre@cicero.oslo.no\n",
      "\n",
      "NorESM2-LM_historical\n",
      "use pickle\n",
      "Please send any requests or bug reports to noresm-ncc@met.no.\n",
      "\n",
      "BCC-CUACE_HIST\n",
      "use pickle\n",
      "Hua Zhang (huazhang@cma.gov.cn) and Zhili Wang (wangzhili1981@126.com)\n",
      "\n",
      "CAM5-ATRAS_AP3-HIST\n",
      "use pickle\n",
      "Hitoshi Matsui (matsui_at_nagoya-u.jp)\n",
      "\n",
      "GFDL-AM4-amip_HIST\n",
      "use pickle\n",
      "\n",
      "CanESM5_historical\n",
      "use pickle\n"
     ]
    },
    {
     "name": "stderr",
     "output_type": "stream",
     "text": [
      "Outdated attribute suppl_info. Please use metadata instead\n",
      "Outdated attribute suppl_info. Please use metadata instead\n",
      "Outdated attribute suppl_info. Please use metadata instead\n",
      "Outdated attribute suppl_info. Please use metadata instead\n",
      "Outdated attribute suppl_info. Please use metadata instead\n",
      "Outdated attribute suppl_info. Please use metadata instead\n"
     ]
    },
    {
     "name": "stdout",
     "output_type": "stream",
     "text": [
      "ec.cccma.info-info.ccmac.ec@canada.ca\n",
      "\n",
      "CESM2_historical\n",
      "use pickle\n",
      "cesm_cmip6@ucar.edu\n",
      "\n",
      "E3SM-1-0_historical\n",
      "use pickle\n"
     ]
    },
    {
     "name": "stderr",
     "output_type": "stream",
     "text": [
      "Outdated attribute suppl_info. Please use metadata instead\n",
      "Outdated attribute suppl_info. Please use metadata instead\n",
      "Outdated attribute suppl_info. Please use metadata instead\n",
      "Outdated attribute suppl_info. Please use metadata instead\n",
      "Outdated attribute suppl_info. Please use metadata instead\n",
      "Outdated attribute suppl_info. Please use metadata instead\n"
     ]
    },
    {
     "name": "stdout",
     "output_type": "stream",
     "text": [
      "Dave Bader (bader2@llnl.gov)\n",
      "\n",
      "IPSL-CM6A-LR_historical\n",
      "use pickle\n",
      "ipsl-cmip6@listes.ipsl.fr\n",
      "\n"
     ]
    }
   ],
   "source": [
    "import pickle\n",
    "import os\n",
    "\n",
    "for mod_source in all_mods[1:]:\n",
    "    print(mod_source)\n",
    "    \n",
    "    #check if model in cache\n",
    "    fn = 'cache/'+mod_source+'_'+var+'.pkl'\n",
    "    if os.path.isfile(fn):\n",
    "        print('use pickle')\n",
    "        # for reading also binary mode is important \n",
    "        pklfile = open(fn, 'rb')      \n",
    "        mod_data = pickle.load(pklfile) \n",
    "        pklfile.close()\n",
    "        if 'contactinfo' in mod_data.suppl_info:\n",
    "            print(mod_data.suppl_info['contactinfo'])\n",
    "        if 'contact' in mod_data.suppl_info:\n",
    "            print(mod_data.suppl_info['contact'])\n",
    "    print()"
   ]
  },
  {
   "cell_type": "code",
   "execution_count": 35,
   "metadata": {},
   "outputs": [
    {
     "name": "stderr",
     "output_type": "stream",
     "text": [
      "Outdated attribute suppl_info. Please use metadata instead\n"
     ]
    },
    {
     "data": {
      "text/plain": [
       "{'Conventions': 'CF-1.7 CMIP-6.2',\n",
       " 'creation_date': '2018-07-11T07:36:41Z',\n",
       " 'tracking_id': 'hdl:21.14100/70325bcd-6e5b-4020-afb7-830828b56bf9',\n",
       " 'description': 'AOD from ambient aerosols (i.e., includes aerosol water).  Does not include AOD from stratospheric aerosols if these are prescribed but includes other possible background aerosol types. Needs a comment attribute \"wavelength: 550 nm\"',\n",
       " 'title': 'IPSL-CM6A-LR model output prepared for CMIP6 / CMIP historical',\n",
       " 'activity_id': 'CMIP',\n",
       " 'contact': 'ipsl-cmip6@listes.ipsl.fr',\n",
       " 'data_specs_version': '01.00.21',\n",
       " 'dr2xml_version': '1.11',\n",
       " 'experiment_id': 'historical',\n",
       " 'experiment': 'all-forcing simulation of the recent past',\n",
       " 'external_variables': 'areacella',\n",
       " 'forcing_index': 1,\n",
       " 'frequency': 'mon',\n",
       " 'grid': 'LMDZ grid',\n",
       " 'grid_label': 'gr',\n",
       " 'nominal_resolution': '250 km',\n",
       " 'initialization_index': 1,\n",
       " 'institution_id': 'IPSL',\n",
       " 'institution': 'Institut Pierre Simon Laplace, Paris 75252, France',\n",
       " 'license': 'CMIP6 model data produced by IPSL is licensed under a Creative Commons Attribution-NonCommercial-ShareAlike 4.0 International License (https://creativecommons.org/licenses). Consult https://pcmdi.llnl.gov/CMIP6/TermsOfUse for terms of use governing CMIP6 output, including citation requirements and proper acknowledgment. Further information about this data, including some limitations, can be found via the further_info_url (recorded as a global attribute in this file) and at https://cmc.ipsl.fr/. The data producers and data providers make no warranty, either express or implied, including, but not limited to, warranties of merchantability and fitness for a particular purpose. All liabilities arising from the supply of the information (including any liability arising in negligence) are excluded to the fullest extent permitted by law.',\n",
       " 'mip_era': 'CMIP6',\n",
       " 'parent_experiment_id': 'piControl',\n",
       " 'parent_mip_era': 'CMIP6',\n",
       " 'parent_activity_id': 'CMIP',\n",
       " 'parent_source_id': 'IPSL-CM6A-LR',\n",
       " 'parent_time_units': 'days since 1850-01-01 00:00:00',\n",
       " 'branch_method': 'standard',\n",
       " 'branch_time_in_parent': 21914.0,\n",
       " 'branch_time_in_child': 0.0,\n",
       " 'physics_index': 1,\n",
       " 'product': 'model-output',\n",
       " 'realm': 'aerosol',\n",
       " 'source': 'IPSL-CM6A-LR (2017):  atmos: LMDZ (NPv6, N96; 144 x 143 longitude/latitude; 79 levels; top level 40000 m) land: ORCHIDEE (v2.0, Water/Carbon/Energy mode) ocean: NEMO-OPA (eORCA1.3, tripolar primarily 1deg; 362 x 332 longitude/latitude; 75 levels; top grid cell 0-2 m) ocnBgchem: NEMO-PISCES seaIce: NEMO-LIM3',\n",
       " 'source_id': 'IPSL-CM6A-LR',\n",
       " 'source_type': 'AOGCM BGC',\n",
       " 'sub_experiment_id': 'none',\n",
       " 'sub_experiment': 'none',\n",
       " 'table_id': 'AERmon',\n",
       " 'variable_id': 'od550aer',\n",
       " 'EXPID': 'historical',\n",
       " 'CMIP6_CV_version': 'cv=6.2.3.5-2-g63b123e',\n",
       " 'dr2xml_md5sum': 'f1e40c1fc5d8281f865f72fbf4e38f9d',\n",
       " 'model_version': '6.1.5',\n",
       " 'parent_variant_label': 'r1i1p1f1',\n",
       " 'name': '/ccc/work/cont003/gencmip6/p86caub/IGCM_OUT/IPSLCM6/PROD/historical/CM61-LR-hist-03.1910/CMIP6/ATM/od550aer_AERmon_IPSL-CM6A-LR_historical_r1i1p1f1_gr_%start_date%-%end_date%',\n",
       " 'further_info_url': 'https://furtherinfo.es-doc.org/CMIP6.IPSL.IPSL-CM6A-LR.historical.none.r1i1p1f1',\n",
       " 'variant_label': 'r1i1p1f1',\n",
       " 'realization_index': 1,\n",
       " 'history': 'none',\n",
       " 'NCO': 'netCDF Operators version 4.7.8 (Homepage = http://nco.sf.net, Code = http://github.com/nco/nco)',\n",
       " 'interval_operation': '900 s',\n",
       " 'interval_write': '1 month',\n",
       " 'online_operation': 'average',\n",
       " 'from_files': ['/lustre/storeA/project/aerocom/aerocom-users-database/AEROCOM-PHASE-III-2019/IPSL-CM6A-LR_historical/renamed/aerocom3_IPSL-CM6A-LR_historical_od550aer_Column_1850_monthly.nc',\n",
       "  '/lustre/storeA/project/aerocom/aerocom-users-database/AEROCOM-PHASE-III-2019/IPSL-CM6A-LR_historical/renamed/aerocom3_IPSL-CM6A-LR_historical_od550aer_Column_1851_monthly.nc',\n",
       "  '/lustre/storeA/project/aerocom/aerocom-users-database/AEROCOM-PHASE-III-2019/IPSL-CM6A-LR_historical/renamed/aerocom3_IPSL-CM6A-LR_historical_od550aer_Column_1852_monthly.nc',\n",
       "  '/lustre/storeA/project/aerocom/aerocom-users-database/AEROCOM-PHASE-III-2019/IPSL-CM6A-LR_historical/renamed/aerocom3_IPSL-CM6A-LR_historical_od550aer_Column_1853_monthly.nc',\n",
       "  '/lustre/storeA/project/aerocom/aerocom-users-database/AEROCOM-PHASE-III-2019/IPSL-CM6A-LR_historical/renamed/aerocom3_IPSL-CM6A-LR_historical_od550aer_Column_1854_monthly.nc',\n",
       "  '/lustre/storeA/project/aerocom/aerocom-users-database/AEROCOM-PHASE-III-2019/IPSL-CM6A-LR_historical/renamed/aerocom3_IPSL-CM6A-LR_historical_od550aer_Column_1855_monthly.nc',\n",
       "  '/lustre/storeA/project/aerocom/aerocom-users-database/AEROCOM-PHASE-III-2019/IPSL-CM6A-LR_historical/renamed/aerocom3_IPSL-CM6A-LR_historical_od550aer_Column_1856_monthly.nc',\n",
       "  '/lustre/storeA/project/aerocom/aerocom-users-database/AEROCOM-PHASE-III-2019/IPSL-CM6A-LR_historical/renamed/aerocom3_IPSL-CM6A-LR_historical_od550aer_Column_1857_monthly.nc',\n",
       "  '/lustre/storeA/project/aerocom/aerocom-users-database/AEROCOM-PHASE-III-2019/IPSL-CM6A-LR_historical/renamed/aerocom3_IPSL-CM6A-LR_historical_od550aer_Column_1858_monthly.nc',\n",
       "  '/lustre/storeA/project/aerocom/aerocom-users-database/AEROCOM-PHASE-III-2019/IPSL-CM6A-LR_historical/renamed/aerocom3_IPSL-CM6A-LR_historical_od550aer_Column_1859_monthly.nc',\n",
       "  '/lustre/storeA/project/aerocom/aerocom-users-database/AEROCOM-PHASE-III-2019/IPSL-CM6A-LR_historical/renamed/aerocom3_IPSL-CM6A-LR_historical_od550aer_Column_1860_monthly.nc',\n",
       "  '/lustre/storeA/project/aerocom/aerocom-users-database/AEROCOM-PHASE-III-2019/IPSL-CM6A-LR_historical/renamed/aerocom3_IPSL-CM6A-LR_historical_od550aer_Column_1861_monthly.nc',\n",
       "  '/lustre/storeA/project/aerocom/aerocom-users-database/AEROCOM-PHASE-III-2019/IPSL-CM6A-LR_historical/renamed/aerocom3_IPSL-CM6A-LR_historical_od550aer_Column_1862_monthly.nc',\n",
       "  '/lustre/storeA/project/aerocom/aerocom-users-database/AEROCOM-PHASE-III-2019/IPSL-CM6A-LR_historical/renamed/aerocom3_IPSL-CM6A-LR_historical_od550aer_Column_1863_monthly.nc',\n",
       "  '/lustre/storeA/project/aerocom/aerocom-users-database/AEROCOM-PHASE-III-2019/IPSL-CM6A-LR_historical/renamed/aerocom3_IPSL-CM6A-LR_historical_od550aer_Column_1864_monthly.nc',\n",
       "  '/lustre/storeA/project/aerocom/aerocom-users-database/AEROCOM-PHASE-III-2019/IPSL-CM6A-LR_historical/renamed/aerocom3_IPSL-CM6A-LR_historical_od550aer_Column_1865_monthly.nc',\n",
       "  '/lustre/storeA/project/aerocom/aerocom-users-database/AEROCOM-PHASE-III-2019/IPSL-CM6A-LR_historical/renamed/aerocom3_IPSL-CM6A-LR_historical_od550aer_Column_1866_monthly.nc',\n",
       "  '/lustre/storeA/project/aerocom/aerocom-users-database/AEROCOM-PHASE-III-2019/IPSL-CM6A-LR_historical/renamed/aerocom3_IPSL-CM6A-LR_historical_od550aer_Column_1867_monthly.nc',\n",
       "  '/lustre/storeA/project/aerocom/aerocom-users-database/AEROCOM-PHASE-III-2019/IPSL-CM6A-LR_historical/renamed/aerocom3_IPSL-CM6A-LR_historical_od550aer_Column_1868_monthly.nc',\n",
       "  '/lustre/storeA/project/aerocom/aerocom-users-database/AEROCOM-PHASE-III-2019/IPSL-CM6A-LR_historical/renamed/aerocom3_IPSL-CM6A-LR_historical_od550aer_Column_1869_monthly.nc',\n",
       "  '/lustre/storeA/project/aerocom/aerocom-users-database/AEROCOM-PHASE-III-2019/IPSL-CM6A-LR_historical/renamed/aerocom3_IPSL-CM6A-LR_historical_od550aer_Column_1870_monthly.nc',\n",
       "  '/lustre/storeA/project/aerocom/aerocom-users-database/AEROCOM-PHASE-III-2019/IPSL-CM6A-LR_historical/renamed/aerocom3_IPSL-CM6A-LR_historical_od550aer_Column_1871_monthly.nc',\n",
       "  '/lustre/storeA/project/aerocom/aerocom-users-database/AEROCOM-PHASE-III-2019/IPSL-CM6A-LR_historical/renamed/aerocom3_IPSL-CM6A-LR_historical_od550aer_Column_1872_monthly.nc',\n",
       "  '/lustre/storeA/project/aerocom/aerocom-users-database/AEROCOM-PHASE-III-2019/IPSL-CM6A-LR_historical/renamed/aerocom3_IPSL-CM6A-LR_historical_od550aer_Column_1873_monthly.nc',\n",
       "  '/lustre/storeA/project/aerocom/aerocom-users-database/AEROCOM-PHASE-III-2019/IPSL-CM6A-LR_historical/renamed/aerocom3_IPSL-CM6A-LR_historical_od550aer_Column_1874_monthly.nc',\n",
       "  '/lustre/storeA/project/aerocom/aerocom-users-database/AEROCOM-PHASE-III-2019/IPSL-CM6A-LR_historical/renamed/aerocom3_IPSL-CM6A-LR_historical_od550aer_Column_1875_monthly.nc',\n",
       "  '/lustre/storeA/project/aerocom/aerocom-users-database/AEROCOM-PHASE-III-2019/IPSL-CM6A-LR_historical/renamed/aerocom3_IPSL-CM6A-LR_historical_od550aer_Column_1876_monthly.nc',\n",
       "  '/lustre/storeA/project/aerocom/aerocom-users-database/AEROCOM-PHASE-III-2019/IPSL-CM6A-LR_historical/renamed/aerocom3_IPSL-CM6A-LR_historical_od550aer_Column_1877_monthly.nc',\n",
       "  '/lustre/storeA/project/aerocom/aerocom-users-database/AEROCOM-PHASE-III-2019/IPSL-CM6A-LR_historical/renamed/aerocom3_IPSL-CM6A-LR_historical_od550aer_Column_1878_monthly.nc',\n",
       "  '/lustre/storeA/project/aerocom/aerocom-users-database/AEROCOM-PHASE-III-2019/IPSL-CM6A-LR_historical/renamed/aerocom3_IPSL-CM6A-LR_historical_od550aer_Column_1879_monthly.nc',\n",
       "  '/lustre/storeA/project/aerocom/aerocom-users-database/AEROCOM-PHASE-III-2019/IPSL-CM6A-LR_historical/renamed/aerocom3_IPSL-CM6A-LR_historical_od550aer_Column_1880_monthly.nc',\n",
       "  '/lustre/storeA/project/aerocom/aerocom-users-database/AEROCOM-PHASE-III-2019/IPSL-CM6A-LR_historical/renamed/aerocom3_IPSL-CM6A-LR_historical_od550aer_Column_1881_monthly.nc',\n",
       "  '/lustre/storeA/project/aerocom/aerocom-users-database/AEROCOM-PHASE-III-2019/IPSL-CM6A-LR_historical/renamed/aerocom3_IPSL-CM6A-LR_historical_od550aer_Column_1882_monthly.nc',\n",
       "  '/lustre/storeA/project/aerocom/aerocom-users-database/AEROCOM-PHASE-III-2019/IPSL-CM6A-LR_historical/renamed/aerocom3_IPSL-CM6A-LR_historical_od550aer_Column_1883_monthly.nc',\n",
       "  '/lustre/storeA/project/aerocom/aerocom-users-database/AEROCOM-PHASE-III-2019/IPSL-CM6A-LR_historical/renamed/aerocom3_IPSL-CM6A-LR_historical_od550aer_Column_1884_monthly.nc',\n",
       "  '/lustre/storeA/project/aerocom/aerocom-users-database/AEROCOM-PHASE-III-2019/IPSL-CM6A-LR_historical/renamed/aerocom3_IPSL-CM6A-LR_historical_od550aer_Column_1885_monthly.nc',\n",
       "  '/lustre/storeA/project/aerocom/aerocom-users-database/AEROCOM-PHASE-III-2019/IPSL-CM6A-LR_historical/renamed/aerocom3_IPSL-CM6A-LR_historical_od550aer_Column_1886_monthly.nc',\n",
       "  '/lustre/storeA/project/aerocom/aerocom-users-database/AEROCOM-PHASE-III-2019/IPSL-CM6A-LR_historical/renamed/aerocom3_IPSL-CM6A-LR_historical_od550aer_Column_1887_monthly.nc',\n",
       "  '/lustre/storeA/project/aerocom/aerocom-users-database/AEROCOM-PHASE-III-2019/IPSL-CM6A-LR_historical/renamed/aerocom3_IPSL-CM6A-LR_historical_od550aer_Column_1888_monthly.nc',\n",
       "  '/lustre/storeA/project/aerocom/aerocom-users-database/AEROCOM-PHASE-III-2019/IPSL-CM6A-LR_historical/renamed/aerocom3_IPSL-CM6A-LR_historical_od550aer_Column_1889_monthly.nc',\n",
       "  '/lustre/storeA/project/aerocom/aerocom-users-database/AEROCOM-PHASE-III-2019/IPSL-CM6A-LR_historical/renamed/aerocom3_IPSL-CM6A-LR_historical_od550aer_Column_1890_monthly.nc',\n",
       "  '/lustre/storeA/project/aerocom/aerocom-users-database/AEROCOM-PHASE-III-2019/IPSL-CM6A-LR_historical/renamed/aerocom3_IPSL-CM6A-LR_historical_od550aer_Column_1891_monthly.nc',\n",
       "  '/lustre/storeA/project/aerocom/aerocom-users-database/AEROCOM-PHASE-III-2019/IPSL-CM6A-LR_historical/renamed/aerocom3_IPSL-CM6A-LR_historical_od550aer_Column_1892_monthly.nc',\n",
       "  '/lustre/storeA/project/aerocom/aerocom-users-database/AEROCOM-PHASE-III-2019/IPSL-CM6A-LR_historical/renamed/aerocom3_IPSL-CM6A-LR_historical_od550aer_Column_1893_monthly.nc',\n",
       "  '/lustre/storeA/project/aerocom/aerocom-users-database/AEROCOM-PHASE-III-2019/IPSL-CM6A-LR_historical/renamed/aerocom3_IPSL-CM6A-LR_historical_od550aer_Column_1894_monthly.nc',\n",
       "  '/lustre/storeA/project/aerocom/aerocom-users-database/AEROCOM-PHASE-III-2019/IPSL-CM6A-LR_historical/renamed/aerocom3_IPSL-CM6A-LR_historical_od550aer_Column_1895_monthly.nc',\n",
       "  '/lustre/storeA/project/aerocom/aerocom-users-database/AEROCOM-PHASE-III-2019/IPSL-CM6A-LR_historical/renamed/aerocom3_IPSL-CM6A-LR_historical_od550aer_Column_1896_monthly.nc',\n",
       "  '/lustre/storeA/project/aerocom/aerocom-users-database/AEROCOM-PHASE-III-2019/IPSL-CM6A-LR_historical/renamed/aerocom3_IPSL-CM6A-LR_historical_od550aer_Column_1897_monthly.nc',\n",
       "  '/lustre/storeA/project/aerocom/aerocom-users-database/AEROCOM-PHASE-III-2019/IPSL-CM6A-LR_historical/renamed/aerocom3_IPSL-CM6A-LR_historical_od550aer_Column_1898_monthly.nc',\n",
       "  '/lustre/storeA/project/aerocom/aerocom-users-database/AEROCOM-PHASE-III-2019/IPSL-CM6A-LR_historical/renamed/aerocom3_IPSL-CM6A-LR_historical_od550aer_Column_1899_monthly.nc',\n",
       "  '/lustre/storeA/project/aerocom/aerocom-users-database/AEROCOM-PHASE-III-2019/IPSL-CM6A-LR_historical/renamed/aerocom3_IPSL-CM6A-LR_historical_od550aer_Column_1900_monthly.nc',\n",
       "  '/lustre/storeA/project/aerocom/aerocom-users-database/AEROCOM-PHASE-III-2019/IPSL-CM6A-LR_historical/renamed/aerocom3_IPSL-CM6A-LR_historical_od550aer_Column_1901_monthly.nc',\n",
       "  '/lustre/storeA/project/aerocom/aerocom-users-database/AEROCOM-PHASE-III-2019/IPSL-CM6A-LR_historical/renamed/aerocom3_IPSL-CM6A-LR_historical_od550aer_Column_1902_monthly.nc',\n",
       "  '/lustre/storeA/project/aerocom/aerocom-users-database/AEROCOM-PHASE-III-2019/IPSL-CM6A-LR_historical/renamed/aerocom3_IPSL-CM6A-LR_historical_od550aer_Column_1903_monthly.nc',\n",
       "  '/lustre/storeA/project/aerocom/aerocom-users-database/AEROCOM-PHASE-III-2019/IPSL-CM6A-LR_historical/renamed/aerocom3_IPSL-CM6A-LR_historical_od550aer_Column_1904_monthly.nc',\n",
       "  '/lustre/storeA/project/aerocom/aerocom-users-database/AEROCOM-PHASE-III-2019/IPSL-CM6A-LR_historical/renamed/aerocom3_IPSL-CM6A-LR_historical_od550aer_Column_1905_monthly.nc',\n",
       "  '/lustre/storeA/project/aerocom/aerocom-users-database/AEROCOM-PHASE-III-2019/IPSL-CM6A-LR_historical/renamed/aerocom3_IPSL-CM6A-LR_historical_od550aer_Column_1906_monthly.nc',\n",
       "  '/lustre/storeA/project/aerocom/aerocom-users-database/AEROCOM-PHASE-III-2019/IPSL-CM6A-LR_historical/renamed/aerocom3_IPSL-CM6A-LR_historical_od550aer_Column_1907_monthly.nc',\n",
       "  '/lustre/storeA/project/aerocom/aerocom-users-database/AEROCOM-PHASE-III-2019/IPSL-CM6A-LR_historical/renamed/aerocom3_IPSL-CM6A-LR_historical_od550aer_Column_1908_monthly.nc',\n",
       "  '/lustre/storeA/project/aerocom/aerocom-users-database/AEROCOM-PHASE-III-2019/IPSL-CM6A-LR_historical/renamed/aerocom3_IPSL-CM6A-LR_historical_od550aer_Column_1909_monthly.nc',\n",
       "  '/lustre/storeA/project/aerocom/aerocom-users-database/AEROCOM-PHASE-III-2019/IPSL-CM6A-LR_historical/renamed/aerocom3_IPSL-CM6A-LR_historical_od550aer_Column_1910_monthly.nc',\n",
       "  '/lustre/storeA/project/aerocom/aerocom-users-database/AEROCOM-PHASE-III-2019/IPSL-CM6A-LR_historical/renamed/aerocom3_IPSL-CM6A-LR_historical_od550aer_Column_1911_monthly.nc',\n",
       "  '/lustre/storeA/project/aerocom/aerocom-users-database/AEROCOM-PHASE-III-2019/IPSL-CM6A-LR_historical/renamed/aerocom3_IPSL-CM6A-LR_historical_od550aer_Column_1912_monthly.nc',\n",
       "  '/lustre/storeA/project/aerocom/aerocom-users-database/AEROCOM-PHASE-III-2019/IPSL-CM6A-LR_historical/renamed/aerocom3_IPSL-CM6A-LR_historical_od550aer_Column_1913_monthly.nc',\n",
       "  '/lustre/storeA/project/aerocom/aerocom-users-database/AEROCOM-PHASE-III-2019/IPSL-CM6A-LR_historical/renamed/aerocom3_IPSL-CM6A-LR_historical_od550aer_Column_1914_monthly.nc',\n",
       "  '/lustre/storeA/project/aerocom/aerocom-users-database/AEROCOM-PHASE-III-2019/IPSL-CM6A-LR_historical/renamed/aerocom3_IPSL-CM6A-LR_historical_od550aer_Column_1915_monthly.nc',\n",
       "  '/lustre/storeA/project/aerocom/aerocom-users-database/AEROCOM-PHASE-III-2019/IPSL-CM6A-LR_historical/renamed/aerocom3_IPSL-CM6A-LR_historical_od550aer_Column_1916_monthly.nc',\n",
       "  '/lustre/storeA/project/aerocom/aerocom-users-database/AEROCOM-PHASE-III-2019/IPSL-CM6A-LR_historical/renamed/aerocom3_IPSL-CM6A-LR_historical_od550aer_Column_1917_monthly.nc',\n",
       "  '/lustre/storeA/project/aerocom/aerocom-users-database/AEROCOM-PHASE-III-2019/IPSL-CM6A-LR_historical/renamed/aerocom3_IPSL-CM6A-LR_historical_od550aer_Column_1918_monthly.nc',\n",
       "  '/lustre/storeA/project/aerocom/aerocom-users-database/AEROCOM-PHASE-III-2019/IPSL-CM6A-LR_historical/renamed/aerocom3_IPSL-CM6A-LR_historical_od550aer_Column_1919_monthly.nc',\n",
       "  '/lustre/storeA/project/aerocom/aerocom-users-database/AEROCOM-PHASE-III-2019/IPSL-CM6A-LR_historical/renamed/aerocom3_IPSL-CM6A-LR_historical_od550aer_Column_1920_monthly.nc',\n",
       "  '/lustre/storeA/project/aerocom/aerocom-users-database/AEROCOM-PHASE-III-2019/IPSL-CM6A-LR_historical/renamed/aerocom3_IPSL-CM6A-LR_historical_od550aer_Column_1921_monthly.nc',\n",
       "  '/lustre/storeA/project/aerocom/aerocom-users-database/AEROCOM-PHASE-III-2019/IPSL-CM6A-LR_historical/renamed/aerocom3_IPSL-CM6A-LR_historical_od550aer_Column_1922_monthly.nc',\n",
       "  '/lustre/storeA/project/aerocom/aerocom-users-database/AEROCOM-PHASE-III-2019/IPSL-CM6A-LR_historical/renamed/aerocom3_IPSL-CM6A-LR_historical_od550aer_Column_1923_monthly.nc',\n",
       "  '/lustre/storeA/project/aerocom/aerocom-users-database/AEROCOM-PHASE-III-2019/IPSL-CM6A-LR_historical/renamed/aerocom3_IPSL-CM6A-LR_historical_od550aer_Column_1924_monthly.nc',\n",
       "  '/lustre/storeA/project/aerocom/aerocom-users-database/AEROCOM-PHASE-III-2019/IPSL-CM6A-LR_historical/renamed/aerocom3_IPSL-CM6A-LR_historical_od550aer_Column_1925_monthly.nc',\n",
       "  '/lustre/storeA/project/aerocom/aerocom-users-database/AEROCOM-PHASE-III-2019/IPSL-CM6A-LR_historical/renamed/aerocom3_IPSL-CM6A-LR_historical_od550aer_Column_1926_monthly.nc',\n",
       "  '/lustre/storeA/project/aerocom/aerocom-users-database/AEROCOM-PHASE-III-2019/IPSL-CM6A-LR_historical/renamed/aerocom3_IPSL-CM6A-LR_historical_od550aer_Column_1927_monthly.nc',\n",
       "  '/lustre/storeA/project/aerocom/aerocom-users-database/AEROCOM-PHASE-III-2019/IPSL-CM6A-LR_historical/renamed/aerocom3_IPSL-CM6A-LR_historical_od550aer_Column_1928_monthly.nc',\n",
       "  '/lustre/storeA/project/aerocom/aerocom-users-database/AEROCOM-PHASE-III-2019/IPSL-CM6A-LR_historical/renamed/aerocom3_IPSL-CM6A-LR_historical_od550aer_Column_1929_monthly.nc',\n",
       "  '/lustre/storeA/project/aerocom/aerocom-users-database/AEROCOM-PHASE-III-2019/IPSL-CM6A-LR_historical/renamed/aerocom3_IPSL-CM6A-LR_historical_od550aer_Column_1930_monthly.nc',\n",
       "  '/lustre/storeA/project/aerocom/aerocom-users-database/AEROCOM-PHASE-III-2019/IPSL-CM6A-LR_historical/renamed/aerocom3_IPSL-CM6A-LR_historical_od550aer_Column_1931_monthly.nc',\n",
       "  '/lustre/storeA/project/aerocom/aerocom-users-database/AEROCOM-PHASE-III-2019/IPSL-CM6A-LR_historical/renamed/aerocom3_IPSL-CM6A-LR_historical_od550aer_Column_1932_monthly.nc',\n",
       "  '/lustre/storeA/project/aerocom/aerocom-users-database/AEROCOM-PHASE-III-2019/IPSL-CM6A-LR_historical/renamed/aerocom3_IPSL-CM6A-LR_historical_od550aer_Column_1933_monthly.nc',\n",
       "  '/lustre/storeA/project/aerocom/aerocom-users-database/AEROCOM-PHASE-III-2019/IPSL-CM6A-LR_historical/renamed/aerocom3_IPSL-CM6A-LR_historical_od550aer_Column_1934_monthly.nc',\n",
       "  '/lustre/storeA/project/aerocom/aerocom-users-database/AEROCOM-PHASE-III-2019/IPSL-CM6A-LR_historical/renamed/aerocom3_IPSL-CM6A-LR_historical_od550aer_Column_1935_monthly.nc',\n",
       "  '/lustre/storeA/project/aerocom/aerocom-users-database/AEROCOM-PHASE-III-2019/IPSL-CM6A-LR_historical/renamed/aerocom3_IPSL-CM6A-LR_historical_od550aer_Column_1936_monthly.nc',\n",
       "  '/lustre/storeA/project/aerocom/aerocom-users-database/AEROCOM-PHASE-III-2019/IPSL-CM6A-LR_historical/renamed/aerocom3_IPSL-CM6A-LR_historical_od550aer_Column_1937_monthly.nc',\n",
       "  '/lustre/storeA/project/aerocom/aerocom-users-database/AEROCOM-PHASE-III-2019/IPSL-CM6A-LR_historical/renamed/aerocom3_IPSL-CM6A-LR_historical_od550aer_Column_1938_monthly.nc',\n",
       "  '/lustre/storeA/project/aerocom/aerocom-users-database/AEROCOM-PHASE-III-2019/IPSL-CM6A-LR_historical/renamed/aerocom3_IPSL-CM6A-LR_historical_od550aer_Column_1939_monthly.nc',\n",
       "  '/lustre/storeA/project/aerocom/aerocom-users-database/AEROCOM-PHASE-III-2019/IPSL-CM6A-LR_historical/renamed/aerocom3_IPSL-CM6A-LR_historical_od550aer_Column_1940_monthly.nc',\n",
       "  '/lustre/storeA/project/aerocom/aerocom-users-database/AEROCOM-PHASE-III-2019/IPSL-CM6A-LR_historical/renamed/aerocom3_IPSL-CM6A-LR_historical_od550aer_Column_1941_monthly.nc',\n",
       "  '/lustre/storeA/project/aerocom/aerocom-users-database/AEROCOM-PHASE-III-2019/IPSL-CM6A-LR_historical/renamed/aerocom3_IPSL-CM6A-LR_historical_od550aer_Column_1942_monthly.nc',\n",
       "  '/lustre/storeA/project/aerocom/aerocom-users-database/AEROCOM-PHASE-III-2019/IPSL-CM6A-LR_historical/renamed/aerocom3_IPSL-CM6A-LR_historical_od550aer_Column_1943_monthly.nc',\n",
       "  '/lustre/storeA/project/aerocom/aerocom-users-database/AEROCOM-PHASE-III-2019/IPSL-CM6A-LR_historical/renamed/aerocom3_IPSL-CM6A-LR_historical_od550aer_Column_1944_monthly.nc',\n",
       "  '/lustre/storeA/project/aerocom/aerocom-users-database/AEROCOM-PHASE-III-2019/IPSL-CM6A-LR_historical/renamed/aerocom3_IPSL-CM6A-LR_historical_od550aer_Column_1945_monthly.nc',\n",
       "  '/lustre/storeA/project/aerocom/aerocom-users-database/AEROCOM-PHASE-III-2019/IPSL-CM6A-LR_historical/renamed/aerocom3_IPSL-CM6A-LR_historical_od550aer_Column_1946_monthly.nc',\n",
       "  '/lustre/storeA/project/aerocom/aerocom-users-database/AEROCOM-PHASE-III-2019/IPSL-CM6A-LR_historical/renamed/aerocom3_IPSL-CM6A-LR_historical_od550aer_Column_1947_monthly.nc',\n",
       "  '/lustre/storeA/project/aerocom/aerocom-users-database/AEROCOM-PHASE-III-2019/IPSL-CM6A-LR_historical/renamed/aerocom3_IPSL-CM6A-LR_historical_od550aer_Column_1948_monthly.nc',\n",
       "  '/lustre/storeA/project/aerocom/aerocom-users-database/AEROCOM-PHASE-III-2019/IPSL-CM6A-LR_historical/renamed/aerocom3_IPSL-CM6A-LR_historical_od550aer_Column_1949_monthly.nc',\n",
       "  '/lustre/storeA/project/aerocom/aerocom-users-database/AEROCOM-PHASE-III-2019/IPSL-CM6A-LR_historical/renamed/aerocom3_IPSL-CM6A-LR_historical_od550aer_Column_1950_monthly.nc',\n",
       "  '/lustre/storeA/project/aerocom/aerocom-users-database/AEROCOM-PHASE-III-2019/IPSL-CM6A-LR_historical/renamed/aerocom3_IPSL-CM6A-LR_historical_od550aer_Column_1951_monthly.nc',\n",
       "  '/lustre/storeA/project/aerocom/aerocom-users-database/AEROCOM-PHASE-III-2019/IPSL-CM6A-LR_historical/renamed/aerocom3_IPSL-CM6A-LR_historical_od550aer_Column_1952_monthly.nc',\n",
       "  '/lustre/storeA/project/aerocom/aerocom-users-database/AEROCOM-PHASE-III-2019/IPSL-CM6A-LR_historical/renamed/aerocom3_IPSL-CM6A-LR_historical_od550aer_Column_1953_monthly.nc',\n",
       "  '/lustre/storeA/project/aerocom/aerocom-users-database/AEROCOM-PHASE-III-2019/IPSL-CM6A-LR_historical/renamed/aerocom3_IPSL-CM6A-LR_historical_od550aer_Column_1954_monthly.nc',\n",
       "  '/lustre/storeA/project/aerocom/aerocom-users-database/AEROCOM-PHASE-III-2019/IPSL-CM6A-LR_historical/renamed/aerocom3_IPSL-CM6A-LR_historical_od550aer_Column_1955_monthly.nc',\n",
       "  '/lustre/storeA/project/aerocom/aerocom-users-database/AEROCOM-PHASE-III-2019/IPSL-CM6A-LR_historical/renamed/aerocom3_IPSL-CM6A-LR_historical_od550aer_Column_1956_monthly.nc',\n",
       "  '/lustre/storeA/project/aerocom/aerocom-users-database/AEROCOM-PHASE-III-2019/IPSL-CM6A-LR_historical/renamed/aerocom3_IPSL-CM6A-LR_historical_od550aer_Column_1957_monthly.nc',\n",
       "  '/lustre/storeA/project/aerocom/aerocom-users-database/AEROCOM-PHASE-III-2019/IPSL-CM6A-LR_historical/renamed/aerocom3_IPSL-CM6A-LR_historical_od550aer_Column_1958_monthly.nc',\n",
       "  '/lustre/storeA/project/aerocom/aerocom-users-database/AEROCOM-PHASE-III-2019/IPSL-CM6A-LR_historical/renamed/aerocom3_IPSL-CM6A-LR_historical_od550aer_Column_1959_monthly.nc',\n",
       "  '/lustre/storeA/project/aerocom/aerocom-users-database/AEROCOM-PHASE-III-2019/IPSL-CM6A-LR_historical/renamed/aerocom3_IPSL-CM6A-LR_historical_od550aer_Column_1960_monthly.nc',\n",
       "  '/lustre/storeA/project/aerocom/aerocom-users-database/AEROCOM-PHASE-III-2019/IPSL-CM6A-LR_historical/renamed/aerocom3_IPSL-CM6A-LR_historical_od550aer_Column_1961_monthly.nc',\n",
       "  '/lustre/storeA/project/aerocom/aerocom-users-database/AEROCOM-PHASE-III-2019/IPSL-CM6A-LR_historical/renamed/aerocom3_IPSL-CM6A-LR_historical_od550aer_Column_1962_monthly.nc',\n",
       "  '/lustre/storeA/project/aerocom/aerocom-users-database/AEROCOM-PHASE-III-2019/IPSL-CM6A-LR_historical/renamed/aerocom3_IPSL-CM6A-LR_historical_od550aer_Column_1963_monthly.nc',\n",
       "  '/lustre/storeA/project/aerocom/aerocom-users-database/AEROCOM-PHASE-III-2019/IPSL-CM6A-LR_historical/renamed/aerocom3_IPSL-CM6A-LR_historical_od550aer_Column_1964_monthly.nc',\n",
       "  '/lustre/storeA/project/aerocom/aerocom-users-database/AEROCOM-PHASE-III-2019/IPSL-CM6A-LR_historical/renamed/aerocom3_IPSL-CM6A-LR_historical_od550aer_Column_1965_monthly.nc',\n",
       "  '/lustre/storeA/project/aerocom/aerocom-users-database/AEROCOM-PHASE-III-2019/IPSL-CM6A-LR_historical/renamed/aerocom3_IPSL-CM6A-LR_historical_od550aer_Column_1966_monthly.nc',\n",
       "  '/lustre/storeA/project/aerocom/aerocom-users-database/AEROCOM-PHASE-III-2019/IPSL-CM6A-LR_historical/renamed/aerocom3_IPSL-CM6A-LR_historical_od550aer_Column_1967_monthly.nc',\n",
       "  '/lustre/storeA/project/aerocom/aerocom-users-database/AEROCOM-PHASE-III-2019/IPSL-CM6A-LR_historical/renamed/aerocom3_IPSL-CM6A-LR_historical_od550aer_Column_1968_monthly.nc',\n",
       "  '/lustre/storeA/project/aerocom/aerocom-users-database/AEROCOM-PHASE-III-2019/IPSL-CM6A-LR_historical/renamed/aerocom3_IPSL-CM6A-LR_historical_od550aer_Column_1969_monthly.nc',\n",
       "  '/lustre/storeA/project/aerocom/aerocom-users-database/AEROCOM-PHASE-III-2019/IPSL-CM6A-LR_historical/renamed/aerocom3_IPSL-CM6A-LR_historical_od550aer_Column_1970_monthly.nc',\n",
       "  '/lustre/storeA/project/aerocom/aerocom-users-database/AEROCOM-PHASE-III-2019/IPSL-CM6A-LR_historical/renamed/aerocom3_IPSL-CM6A-LR_historical_od550aer_Column_1971_monthly.nc',\n",
       "  '/lustre/storeA/project/aerocom/aerocom-users-database/AEROCOM-PHASE-III-2019/IPSL-CM6A-LR_historical/renamed/aerocom3_IPSL-CM6A-LR_historical_od550aer_Column_1972_monthly.nc',\n",
       "  '/lustre/storeA/project/aerocom/aerocom-users-database/AEROCOM-PHASE-III-2019/IPSL-CM6A-LR_historical/renamed/aerocom3_IPSL-CM6A-LR_historical_od550aer_Column_1973_monthly.nc',\n",
       "  '/lustre/storeA/project/aerocom/aerocom-users-database/AEROCOM-PHASE-III-2019/IPSL-CM6A-LR_historical/renamed/aerocom3_IPSL-CM6A-LR_historical_od550aer_Column_1974_monthly.nc',\n",
       "  '/lustre/storeA/project/aerocom/aerocom-users-database/AEROCOM-PHASE-III-2019/IPSL-CM6A-LR_historical/renamed/aerocom3_IPSL-CM6A-LR_historical_od550aer_Column_1975_monthly.nc',\n",
       "  '/lustre/storeA/project/aerocom/aerocom-users-database/AEROCOM-PHASE-III-2019/IPSL-CM6A-LR_historical/renamed/aerocom3_IPSL-CM6A-LR_historical_od550aer_Column_1976_monthly.nc',\n",
       "  '/lustre/storeA/project/aerocom/aerocom-users-database/AEROCOM-PHASE-III-2019/IPSL-CM6A-LR_historical/renamed/aerocom3_IPSL-CM6A-LR_historical_od550aer_Column_1977_monthly.nc',\n",
       "  '/lustre/storeA/project/aerocom/aerocom-users-database/AEROCOM-PHASE-III-2019/IPSL-CM6A-LR_historical/renamed/aerocom3_IPSL-CM6A-LR_historical_od550aer_Column_1978_monthly.nc',\n",
       "  '/lustre/storeA/project/aerocom/aerocom-users-database/AEROCOM-PHASE-III-2019/IPSL-CM6A-LR_historical/renamed/aerocom3_IPSL-CM6A-LR_historical_od550aer_Column_1979_monthly.nc',\n",
       "  '/lustre/storeA/project/aerocom/aerocom-users-database/AEROCOM-PHASE-III-2019/IPSL-CM6A-LR_historical/renamed/aerocom3_IPSL-CM6A-LR_historical_od550aer_Column_1980_monthly.nc',\n",
       "  '/lustre/storeA/project/aerocom/aerocom-users-database/AEROCOM-PHASE-III-2019/IPSL-CM6A-LR_historical/renamed/aerocom3_IPSL-CM6A-LR_historical_od550aer_Column_1981_monthly.nc',\n",
       "  '/lustre/storeA/project/aerocom/aerocom-users-database/AEROCOM-PHASE-III-2019/IPSL-CM6A-LR_historical/renamed/aerocom3_IPSL-CM6A-LR_historical_od550aer_Column_1982_monthly.nc',\n",
       "  '/lustre/storeA/project/aerocom/aerocom-users-database/AEROCOM-PHASE-III-2019/IPSL-CM6A-LR_historical/renamed/aerocom3_IPSL-CM6A-LR_historical_od550aer_Column_1983_monthly.nc',\n",
       "  '/lustre/storeA/project/aerocom/aerocom-users-database/AEROCOM-PHASE-III-2019/IPSL-CM6A-LR_historical/renamed/aerocom3_IPSL-CM6A-LR_historical_od550aer_Column_1984_monthly.nc',\n",
       "  '/lustre/storeA/project/aerocom/aerocom-users-database/AEROCOM-PHASE-III-2019/IPSL-CM6A-LR_historical/renamed/aerocom3_IPSL-CM6A-LR_historical_od550aer_Column_1985_monthly.nc',\n",
       "  '/lustre/storeA/project/aerocom/aerocom-users-database/AEROCOM-PHASE-III-2019/IPSL-CM6A-LR_historical/renamed/aerocom3_IPSL-CM6A-LR_historical_od550aer_Column_1986_monthly.nc',\n",
       "  '/lustre/storeA/project/aerocom/aerocom-users-database/AEROCOM-PHASE-III-2019/IPSL-CM6A-LR_historical/renamed/aerocom3_IPSL-CM6A-LR_historical_od550aer_Column_1987_monthly.nc',\n",
       "  '/lustre/storeA/project/aerocom/aerocom-users-database/AEROCOM-PHASE-III-2019/IPSL-CM6A-LR_historical/renamed/aerocom3_IPSL-CM6A-LR_historical_od550aer_Column_1988_monthly.nc',\n",
       "  '/lustre/storeA/project/aerocom/aerocom-users-database/AEROCOM-PHASE-III-2019/IPSL-CM6A-LR_historical/renamed/aerocom3_IPSL-CM6A-LR_historical_od550aer_Column_1989_monthly.nc',\n",
       "  '/lustre/storeA/project/aerocom/aerocom-users-database/AEROCOM-PHASE-III-2019/IPSL-CM6A-LR_historical/renamed/aerocom3_IPSL-CM6A-LR_historical_od550aer_Column_1990_monthly.nc',\n",
       "  '/lustre/storeA/project/aerocom/aerocom-users-database/AEROCOM-PHASE-III-2019/IPSL-CM6A-LR_historical/renamed/aerocom3_IPSL-CM6A-LR_historical_od550aer_Column_1991_monthly.nc',\n",
       "  '/lustre/storeA/project/aerocom/aerocom-users-database/AEROCOM-PHASE-III-2019/IPSL-CM6A-LR_historical/renamed/aerocom3_IPSL-CM6A-LR_historical_od550aer_Column_1992_monthly.nc',\n",
       "  '/lustre/storeA/project/aerocom/aerocom-users-database/AEROCOM-PHASE-III-2019/IPSL-CM6A-LR_historical/renamed/aerocom3_IPSL-CM6A-LR_historical_od550aer_Column_1993_monthly.nc',\n",
       "  '/lustre/storeA/project/aerocom/aerocom-users-database/AEROCOM-PHASE-III-2019/IPSL-CM6A-LR_historical/renamed/aerocom3_IPSL-CM6A-LR_historical_od550aer_Column_1994_monthly.nc',\n",
       "  '/lustre/storeA/project/aerocom/aerocom-users-database/AEROCOM-PHASE-III-2019/IPSL-CM6A-LR_historical/renamed/aerocom3_IPSL-CM6A-LR_historical_od550aer_Column_1995_monthly.nc',\n",
       "  '/lustre/storeA/project/aerocom/aerocom-users-database/AEROCOM-PHASE-III-2019/IPSL-CM6A-LR_historical/renamed/aerocom3_IPSL-CM6A-LR_historical_od550aer_Column_1996_monthly.nc',\n",
       "  '/lustre/storeA/project/aerocom/aerocom-users-database/AEROCOM-PHASE-III-2019/IPSL-CM6A-LR_historical/renamed/aerocom3_IPSL-CM6A-LR_historical_od550aer_Column_1997_monthly.nc',\n",
       "  '/lustre/storeA/project/aerocom/aerocom-users-database/AEROCOM-PHASE-III-2019/IPSL-CM6A-LR_historical/renamed/aerocom3_IPSL-CM6A-LR_historical_od550aer_Column_1998_monthly.nc',\n",
       "  '/lustre/storeA/project/aerocom/aerocom-users-database/AEROCOM-PHASE-III-2019/IPSL-CM6A-LR_historical/renamed/aerocom3_IPSL-CM6A-LR_historical_od550aer_Column_1999_monthly.nc',\n",
       "  '/lustre/storeA/project/aerocom/aerocom-users-database/AEROCOM-PHASE-III-2019/IPSL-CM6A-LR_historical/renamed/aerocom3_IPSL-CM6A-LR_historical_od550aer_Column_2000_monthly.nc',\n",
       "  '/lustre/storeA/project/aerocom/aerocom-users-database/AEROCOM-PHASE-III-2019/IPSL-CM6A-LR_historical/renamed/aerocom3_IPSL-CM6A-LR_historical_od550aer_Column_2001_monthly.nc',\n",
       "  '/lustre/storeA/project/aerocom/aerocom-users-database/AEROCOM-PHASE-III-2019/IPSL-CM6A-LR_historical/renamed/aerocom3_IPSL-CM6A-LR_historical_od550aer_Column_2002_monthly.nc',\n",
       "  '/lustre/storeA/project/aerocom/aerocom-users-database/AEROCOM-PHASE-III-2019/IPSL-CM6A-LR_historical/renamed/aerocom3_IPSL-CM6A-LR_historical_od550aer_Column_2003_monthly.nc',\n",
       "  '/lustre/storeA/project/aerocom/aerocom-users-database/AEROCOM-PHASE-III-2019/IPSL-CM6A-LR_historical/renamed/aerocom3_IPSL-CM6A-LR_historical_od550aer_Column_2004_monthly.nc',\n",
       "  '/lustre/storeA/project/aerocom/aerocom-users-database/AEROCOM-PHASE-III-2019/IPSL-CM6A-LR_historical/renamed/aerocom3_IPSL-CM6A-LR_historical_od550aer_Column_2005_monthly.nc',\n",
       "  '/lustre/storeA/project/aerocom/aerocom-users-database/AEROCOM-PHASE-III-2019/IPSL-CM6A-LR_historical/renamed/aerocom3_IPSL-CM6A-LR_historical_od550aer_Column_2006_monthly.nc',\n",
       "  '/lustre/storeA/project/aerocom/aerocom-users-database/AEROCOM-PHASE-III-2019/IPSL-CM6A-LR_historical/renamed/aerocom3_IPSL-CM6A-LR_historical_od550aer_Column_2007_monthly.nc',\n",
       "  '/lustre/storeA/project/aerocom/aerocom-users-database/AEROCOM-PHASE-III-2019/IPSL-CM6A-LR_historical/renamed/aerocom3_IPSL-CM6A-LR_historical_od550aer_Column_2008_monthly.nc',\n",
       "  '/lustre/storeA/project/aerocom/aerocom-users-database/AEROCOM-PHASE-III-2019/IPSL-CM6A-LR_historical/renamed/aerocom3_IPSL-CM6A-LR_historical_od550aer_Column_2009_monthly.nc',\n",
       "  '/lustre/storeA/project/aerocom/aerocom-users-database/AEROCOM-PHASE-III-2019/IPSL-CM6A-LR_historical/renamed/aerocom3_IPSL-CM6A-LR_historical_od550aer_Column_2010_monthly.nc',\n",
       "  '/lustre/storeA/project/aerocom/aerocom-users-database/AEROCOM-PHASE-III-2019/IPSL-CM6A-LR_historical/renamed/aerocom3_IPSL-CM6A-LR_historical_od550aer_Column_2011_monthly.nc',\n",
       "  '/lustre/storeA/project/aerocom/aerocom-users-database/AEROCOM-PHASE-III-2019/IPSL-CM6A-LR_historical/renamed/aerocom3_IPSL-CM6A-LR_historical_od550aer_Column_2012_monthly.nc',\n",
       "  '/lustre/storeA/project/aerocom/aerocom-users-database/AEROCOM-PHASE-III-2019/IPSL-CM6A-LR_historical/renamed/aerocom3_IPSL-CM6A-LR_historical_od550aer_Column_2013_monthly.nc',\n",
       "  '/lustre/storeA/project/aerocom/aerocom-users-database/AEROCOM-PHASE-III-2019/IPSL-CM6A-LR_historical/renamed/aerocom3_IPSL-CM6A-LR_historical_od550aer_Column_2014_monthly.nc'],\n",
       " 'data_id': 'IPSL-CM6A-LR_historical',\n",
       " 'var_name_read': 'n/d',\n",
       " 'ts_type': 'monthly',\n",
       " 'regridded': False,\n",
       " 'outliers_removed': False,\n",
       " 'computed': False,\n",
       " 'concatenated': True,\n",
       " 'region': None,\n",
       " 'reader': None}"
      ]
     },
     "execution_count": 35,
     "metadata": {},
     "output_type": "execute_result"
    }
   ],
   "source": [
    "mod_data.suppl_info"
   ]
  },
  {
   "cell_type": "code",
   "execution_count": null,
   "metadata": {},
   "outputs": [],
   "source": []
  }
 ],
 "metadata": {
  "kernelspec": {
   "display_name": "Python 3",
   "language": "python",
   "name": "python3"
  },
  "language_info": {
   "codemirror_mode": {
    "name": "ipython",
    "version": 3
   },
   "file_extension": ".py",
   "mimetype": "text/x-python",
   "name": "python",
   "nbconvert_exporter": "python",
   "pygments_lexer": "ipython3",
   "version": "3.7.3"
  }
 },
 "nbformat": 4,
 "nbformat_minor": 4
}
