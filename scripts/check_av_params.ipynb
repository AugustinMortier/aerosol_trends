{
 "cells": [
  {
   "cell_type": "markdown",
   "metadata": {},
   "source": [
    "# Check if model can provide parameters"
   ]
  },
  {
   "cell_type": "code",
   "execution_count": 6,
   "metadata": {},
   "outputs": [],
   "source": [
    "from trends_functions import *\n",
    "import pyaerocom as pya\n",
    "from warnings import filterwarnings\n",
    "filterwarnings('ignore')\n",
    "pya.change_verbosity('critical', pya.const.logger)\n",
    "pya.change_verbosity('critical', pya.const.print_log)"
   ]
  },
  {
   "cell_type": "code",
   "execution_count": 7,
   "metadata": {},
   "outputs": [
    {
     "data": {
      "text/plain": [
       "{'ECMWF_CAMS_REAN': {'group': 'CAMS_Rean'},\n",
       " 'GEOS-i33p2_HIST': {'group': 'AP3'},\n",
       " 'OsloCTM3v1.01-met2010_AP3-HIST': {'group': 'AP3'},\n",
       " 'NorESM2-LM_historical': {'group': 'AP3'},\n",
       " 'CAM5-ATRAS_AP3-HIST': {'group': 'AP3'},\n",
       " 'GFDL-AM4-amip_HIST': {'group': 'AP3'},\n",
       " 'CanESM5_historical': {'group': 'CMIP6'},\n",
       " 'CESM2_historical': {'group': 'CMIP6'},\n",
       " 'IPSL-CM6A-LR_historical': {'group': 'CMIP6'},\n",
       " 'ECHAM6.3-HAM2.3-fSST_HIST': {'group': 'AP3'},\n",
       " 'BCC-CUACE_AP3-HIST': {'group': 'AP3'}}"
      ]
     },
     "execution_count": 7,
     "metadata": {},
     "output_type": "execute_result"
    }
   ],
   "source": [
    "all_mods = get_all_mods()\n",
    "all_mods"
   ]
  },
  {
   "cell_type": "markdown",
   "metadata": {},
   "source": [
    "### For one model, check list of available parameters"
   ]
  },
  {
   "cell_type": "code",
   "execution_count": 27,
   "metadata": {},
   "outputs": [],
   "source": [
    "mod = 'NorESM2-CPL-NEWTEST_HIST'"
   ]
  },
  {
   "cell_type": "code",
   "execution_count": 42,
   "metadata": {},
   "outputs": [],
   "source": [
    "params = ['ang4487aer', 'od550aer', 'od550gt1aer', 'od550lt1aer', 'concpm10', 'concpm25', 'concso4', 'scatc550dryaer', 'absc550aer']\n",
    "params = ['od550aer', 'od550dust', 'od550ss', 'od550oa', 'od550so4', 'od550bc', 'emidust', 'emiss', 'emioa', 'emiso4', 'emibc']"
   ]
  },
  {
   "cell_type": "code",
   "execution_count": 43,
   "metadata": {},
   "outputs": [
    {
     "name": "stdout",
     "output_type": "stream",
     "text": [
      "od550aer  OK\n",
      "od550dust  OK\n",
      "od550ss  OK\n",
      "od550oa  OK\n",
      "od550so4  OK\n",
      "od550bc  OK\n",
      "emidust  OK\n",
      "emiss  OK\n",
      "emioa  OK\n",
      "emiso4  OK\n",
      "emibc  OK\n"
     ]
    }
   ],
   "source": [
    "r = pya.io.ReadGridded(mod)\n",
    "for param in params:\n",
    "    try:\n",
    "        if param=='scatc550dryaer':\n",
    "            data = r.read_var(param, ts_type='daily', aux_fun=pya.io.aux_read_cubes.subtract_cubes, aux_vars=['ec550dryaer', 'absc550aer'])\n",
    "        else:\n",
    "            data = r.read_var(param, ts_type='daily')\n",
    "        print(param,' OK')\n",
    "    except:\n",
    "        print(param, 'NOPE')"
   ]
  },
  {
   "cell_type": "code",
   "execution_count": 41,
   "metadata": {},
   "outputs": [
    {
     "data": {
      "text/plain": [
       "pyaerocom.GriddedData\n",
       "Grid data: <iris 'Cube' of aerosol absorption coefficient / (1/Mm) (time: 180; atmosphere_hybrid_sigma_pressure_coordinate: 32; latitude: 96; longitude: 144)>"
      ]
     },
     "execution_count": 41,
     "metadata": {},
     "output_type": "execute_result"
    }
   ],
   "source": [
    "data"
   ]
  },
  {
   "cell_type": "markdown",
   "metadata": {},
   "source": [
    "### For parameters, print list of available models"
   ]
  },
  {
   "cell_type": "code",
   "execution_count": 26,
   "metadata": {},
   "outputs": [
    {
     "name": "stdout",
     "output_type": "stream",
     "text": [
      "* * * od550dust * *\n",
      "od550dust ['ECMWF_CAMS_REAN', 'GEOS-i33p2_HIST', 'OsloCTM3v1.01-met2010_AP3-HIST', 'CAM5-ATRAS_AP3-HIST', 'GFDL-AM4-amip_HIST', 'ECHAM6.3-HAM2.3-fSST_HIST', 'BCC-CUACE_AP3-HIST']\n"
     ]
    }
   ],
   "source": [
    "params = ['concpm10', 'concpm25', 'concso4', 'scatc550dryaer', 'absc550aer']\n",
    "params = ['scatc550dryaer', 'absc550aer', 'ec550dryaer']\n",
    "params = ['od550dust']\n",
    "for param in params:\n",
    "    print('* * * '+param+' * *')\n",
    "    av_mods = []\n",
    "    for mod in list(all_mods.keys()):\n",
    "        r = pya.io.ReadGridded(mod)\n",
    "        try:\n",
    "            if param=='scatc550dryaer':\n",
    "                data = reader.read_var(param, ts_type='daily', aux_fun=pya.io.aux_read_cubes.subtract_cubes, aux_vars=['ec550dryaer', 'absc550aer'])\n",
    "            else:\n",
    "                data = r.read_var(param, ts_type='daily')\n",
    "            av_mods.append(mod)\n",
    "        except:\n",
    "            continue\n",
    "    print(param, av_mods)"
   ]
  },
  {
   "cell_type": "code",
   "execution_count": 23,
   "metadata": {},
   "outputs": [],
   "source": [
    "mod = 'GFDL-AM4-amip_HIST'\n",
    "param = 'emidust'\n",
    "data = r.read_var(param, ts_type='daily')"
   ]
  },
  {
   "cell_type": "code",
   "execution_count": null,
   "metadata": {},
   "outputs": [],
   "source": []
  }
 ],
 "metadata": {
  "kernelspec": {
   "display_name": "Python 3",
   "language": "python",
   "name": "python3"
  },
  "language_info": {
   "codemirror_mode": {
    "name": "ipython",
    "version": 3
   },
   "file_extension": ".py",
   "mimetype": "text/x-python",
   "name": "python",
   "nbconvert_exporter": "python",
   "pygments_lexer": "ipython3",
   "version": "3.7.3"
  }
 },
 "nbformat": 4,
 "nbformat_minor": 4
}
