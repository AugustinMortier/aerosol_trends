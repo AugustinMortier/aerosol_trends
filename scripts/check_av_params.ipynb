{
 "cells": [
  {
   "cell_type": "markdown",
   "metadata": {},
   "source": [
    "# Check if model can provide parameters"
   ]
  },
  {
   "cell_type": "code",
   "execution_count": 1,
   "metadata": {},
   "outputs": [],
   "source": [
    "from trends_functions import *\n",
    "import pyaerocom as pya\n",
    "from warnings import filterwarnings\n",
    "filterwarnings('ignore')\n",
    "pya.change_verbosity('critical', pya.const.logger)\n",
    "pya.change_verbosity('critical', pya.const.print_log)"
   ]
  },
  {
   "cell_type": "code",
   "execution_count": 2,
   "metadata": {},
   "outputs": [
    {
     "data": {
      "text/plain": [
       "{'ECMWF_CAMS_REAN': {'name': 'ECMWF-Rean', 'group': 'CAMS-Rean'},\n",
       " 'GEOS-i33p2_HIST': {'name': 'GEOS', 'group': 'AP3'},\n",
       " 'OsloCTM3v1.01-met2010_AP3-HIST': {'name': 'OsloCTM3', 'group': 'AP3'},\n",
       " 'NorESM2-CPL-NEWTEST_HIST': {'name': 'NorESM2', 'group': 'AP3'},\n",
       " 'CAM5-ATRAS_AP3-HIST': {'name': 'CAM5-ATRAS', 'group': 'AP3'},\n",
       " 'GFDL-AM4-amip_HIST': {'name': 'GFDL-AM4', 'group': 'AP3'},\n",
       " 'ECHAM6.3-HAM2.3-fSST_HIST': {'name': 'ECHAM-HAM', 'group': 'AP3'},\n",
       " 'BCC-CUACE_AP3-HIST': {'name': 'BCC-CUACE', 'group': 'AP3'},\n",
       " 'CanESM5_historical': {'name': 'CanESM5', 'group': 'CMIP6'},\n",
       " 'CESM2_historical': {'name': 'CESM2', 'group': 'CMIP6'},\n",
       " 'IPSL-CM6A-LR_historical': {'name': 'IPSL-CM6A', 'group': 'CMIP6'}}"
      ]
     },
     "execution_count": 2,
     "metadata": {},
     "output_type": "execute_result"
    }
   ],
   "source": [
    "all_mods = get_all_mods()\n",
    "all_mods"
   ]
  },
  {
   "cell_type": "markdown",
   "metadata": {},
   "source": [
    "### For one model, check list of available parameters"
   ]
  },
  {
   "cell_type": "code",
   "execution_count": 23,
   "metadata": {},
   "outputs": [],
   "source": [
    "mod = 'MIROC-SPRINTARS_AP3-HIST'"
   ]
  },
  {
   "cell_type": "code",
   "execution_count": 24,
   "metadata": {},
   "outputs": [],
   "source": [
    "params = ['ang4487aer', 'od550aer', 'od550gt1aer', 'od550lt1aer', 'concpm10', 'concpm25', 'concso4', 'scatc550dryaer', 'absc550aer']\n",
    "#params = ['od550aer', 'od550dust', 'od550ss', 'od550oa', 'od550so4', 'od550bc', 'emidust', 'emiss', 'emioa', 'emiso4', 'emibc']\n",
    "#params = ['concso4']"
   ]
  },
  {
   "cell_type": "code",
   "execution_count": 25,
   "metadata": {},
   "outputs": [
    {
     "name": "stdout",
     "output_type": "stream",
     "text": [
      "ang4487aer  OK\n",
      "od550aer  OK\n",
      "od550gt1aer  OK\n",
      "od550lt1aer  OK\n",
      "concpm10  OK\n",
      "concpm25 NOPE\n",
      "concso4  OK\n",
      "scatc550dryaer NOPE\n",
      "absc550aer  OK\n"
     ]
    }
   ],
   "source": [
    "r = pya.io.ReadGridded(mod)\n",
    "for param in params:\n",
    "    try:\n",
    "        if param=='scatc550dryaer':\n",
    "            data = r.read_var(param, ts_type='daily', aux_fun=pya.io.aux_read_cubes.subtract_cubes, aux_vars=['ec550dryaer', 'absc550aer'])\n",
    "        else:\n",
    "            data = r.read_var(param, ts_type='daily')\n",
    "        print(param,' OK')\n",
    "    except:\n",
    "        print(param, 'NOPE')"
   ]
  },
  {
   "cell_type": "code",
   "execution_count": 9,
   "metadata": {},
   "outputs": [
    {
     "data": {
      "text/plain": [
       "pyaerocom.GriddedData\n",
       "Grid data: <iris 'Cube' of concso4 / (ug m-3) (time: 3180; hybrid level at layer midpoints: 47; latitude: 96; longitude: 192)>"
      ]
     },
     "execution_count": 9,
     "metadata": {},
     "output_type": "execute_result"
    }
   ],
   "source": [
    "data"
   ]
  },
  {
   "cell_type": "markdown",
   "metadata": {},
   "source": [
    "### For parameters, print list of available models"
   ]
  },
  {
   "cell_type": "code",
   "execution_count": 18,
   "metadata": {},
   "outputs": [
    {
     "name": "stdout",
     "output_type": "stream",
     "text": [
      "* * * ang4487aer * *\n",
      "ang4487aer ['ECMWF_CAMS_REAN', 'GEOS-i33p2_HIST', 'OsloCTM3v1.01-met2010_AP3-HIST', 'NorESM2-CPL-NEWTEST_HIST', 'CAM5-ATRAS_AP3-HIST', 'GFDL-AM4-amip_HIST', 'ECHAM6.3-HAM2.3-fSST_HIST']\n",
      "* * * od550aer * *\n",
      "od550aer ['ECMWF_CAMS_REAN', 'GEOS-i33p2_HIST', 'OsloCTM3v1.01-met2010_AP3-HIST', 'NorESM2-CPL-NEWTEST_HIST', 'CAM5-ATRAS_AP3-HIST', 'GFDL-AM4-amip_HIST', 'ECHAM6.3-HAM2.3-fSST_HIST', 'BCC-CUACE_AP3-HIST', 'CanESM5_historical', 'CESM2_historical', 'IPSL-CM6A-LR_historical']\n",
      "* * * od550gt1aer * *\n",
      "od550gt1aer ['OsloCTM3v1.01-met2010_AP3-HIST', 'NorESM2-CPL-NEWTEST_HIST', 'CAM5-ATRAS_AP3-HIST', 'GFDL-AM4-amip_HIST', 'ECHAM6.3-HAM2.3-fSST_HIST']\n",
      "* * * od550lt1aer * *\n",
      "od550lt1aer ['GEOS-i33p2_HIST', 'OsloCTM3v1.01-met2010_AP3-HIST', 'NorESM2-CPL-NEWTEST_HIST', 'CAM5-ATRAS_AP3-HIST', 'GFDL-AM4-amip_HIST', 'ECHAM6.3-HAM2.3-fSST_HIST']\n",
      "* * * concpm10 * *\n",
      "concpm10 ['ECMWF_CAMS_REAN', 'GEOS-i33p2_HIST', 'NorESM2-CPL-NEWTEST_HIST', 'ECHAM6.3-HAM2.3-fSST_HIST']\n",
      "* * * concpm25 * *\n",
      "concpm25 ['ECMWF_CAMS_REAN', 'NorESM2-CPL-NEWTEST_HIST']\n",
      "* * * concso4 * *\n",
      "concso4 ['ECMWF_CAMS_REAN', 'GEOS-i33p2_HIST', 'OsloCTM3v1.01-met2010_AP3-HIST', 'NorESM2-CPL-NEWTEST_HIST', 'ECHAM6.3-HAM2.3-fSST_HIST', 'BCC-CUACE_AP3-HIST']\n",
      "* * * scatc550dryaer * *\n",
      "scatc550dryaer []\n",
      "* * * absc550aer * *\n",
      "absc550aer ['NorESM2-CPL-NEWTEST_HIST']\n"
     ]
    }
   ],
   "source": [
    "POINTS = {}\n",
    "params = ['ang4487aer', 'od550aer', 'od550gt1aer', 'od550lt1aer', 'concpm10', 'concpm25', 'concso4', 'scatc550dryaer', 'absc550aer']\n",
    "for param in params:\n",
    "    POINTS[param] = []\n",
    "    print('* * * '+param+' * *')\n",
    "    av_mods = []\n",
    "    for mod in list(all_mods.keys()):\n",
    "        r = pya.io.ReadGridded(mod)\n",
    "        try:\n",
    "            if param=='scatc550dryaer':\n",
    "                data = reader.read_var(param, ts_type='daily', aux_fun=pya.io.aux_read_cubes.subtract_cubes, aux_vars=['ec550dryaer', 'absc550aer'])\n",
    "            else:\n",
    "                data = r.read_var(param, ts_type='daily')\n",
    "            av_mods.append(mod)\n",
    "            POINTS[param].append(mod)\n",
    "        except:\n",
    "            continue\n",
    "    print(param, av_mods)"
   ]
  },
  {
   "cell_type": "code",
   "execution_count": 19,
   "metadata": {},
   "outputs": [],
   "source": [
    "MODPOINTS = {}\n",
    "for model in list(all_mods.keys()):\n",
    "    MODPOINTS[model] = 0\n",
    "    for param in params:\n",
    "        if model in POINTS[param]:\n",
    "            MODPOINTS[model] += 1 "
   ]
  },
  {
   "cell_type": "code",
   "execution_count": 22,
   "metadata": {},
   "outputs": [
    {
     "name": "stdout",
     "output_type": "stream",
     "text": [
      "ECMWF_CAMS_REAN 5\n",
      "GEOS-i33p2_HIST 5\n",
      "OsloCTM3v1.01-met2010_AP3-HIST 5\n",
      "NorESM2-CPL-NEWTEST_HIST 8\n",
      "CAM5-ATRAS_AP3-HIST 4\n",
      "GFDL-AM4-amip_HIST 4\n",
      "ECHAM6.3-HAM2.3-fSST_HIST 6\n",
      "BCC-CUACE_AP3-HIST 2\n",
      "CanESM5_historical 1\n",
      "CESM2_historical 1\n",
      "IPSL-CM6A-LR_historical 1\n"
     ]
    }
   ],
   "source": [
    "for model in list(all_mods.keys()):\n",
    "    print(model, MODPOINTS[model])"
   ]
  },
  {
   "cell_type": "code",
   "execution_count": null,
   "metadata": {},
   "outputs": [],
   "source": []
  }
 ],
 "metadata": {
  "kernelspec": {
   "display_name": "Python 3",
   "language": "python",
   "name": "python3"
  },
  "language_info": {
   "codemirror_mode": {
    "name": "ipython",
    "version": 3
   },
   "file_extension": ".py",
   "mimetype": "text/x-python",
   "name": "python",
   "nbconvert_exporter": "python",
   "pygments_lexer": "ipython3",
   "version": "3.7.3"
  }
 },
 "nbformat": 4,
 "nbformat_minor": 4
}
