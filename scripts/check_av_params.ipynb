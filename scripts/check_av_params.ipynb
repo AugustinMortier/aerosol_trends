{
 "cells": [
  {
   "cell_type": "markdown",
   "metadata": {},
   "source": [
    "# Check if model can provide parameters"
   ]
  },
  {
   "cell_type": "code",
   "execution_count": 6,
   "metadata": {},
   "outputs": [],
   "source": [
    "from trends_functions import *\n",
    "import pyaerocom as pya\n",
    "from warnings import filterwarnings\n",
    "filterwarnings('ignore')\n",
    "pya.change_verbosity('critical', pya.const.logger)\n",
    "pya.change_verbosity('critical', pya.const.print_log)"
   ]
  },
  {
   "cell_type": "code",
   "execution_count": 7,
   "metadata": {},
   "outputs": [
    {
     "data": {
      "text/plain": [
       "{'ECMWF_CAMS_REAN': {'group': 'CAMS_Rean'},\n",
       " 'GEOS-i33p2_HIST': {'group': 'AP3'},\n",
       " 'OsloCTM3v1.01-met2010_AP3-HIST': {'group': 'AP3'},\n",
       " 'NorESM2-LM_historical': {'group': 'AP3'},\n",
       " 'CAM5-ATRAS_AP3-HIST': {'group': 'AP3'},\n",
       " 'GFDL-AM4-amip_HIST': {'group': 'AP3'},\n",
       " 'CanESM5_historical': {'group': 'CMIP6'},\n",
       " 'CESM2_historical': {'group': 'CMIP6'},\n",
       " 'IPSL-CM6A-LR_historical': {'group': 'CMIP6'},\n",
       " 'ECHAM6.3-HAM2.3-fSST_HIST': {'group': 'AP3'},\n",
       " 'BCC-CUACE_AP3-HIST': {'group': 'AP3'}}"
      ]
     },
     "execution_count": 7,
     "metadata": {},
     "output_type": "execute_result"
    }
   ],
   "source": [
    "all_mods = get_all_mods()\n",
    "all_mods"
   ]
  },
  {
   "cell_type": "markdown",
   "metadata": {},
   "source": [
    "### For one model, check list of available parameters"
   ]
  },
  {
   "cell_type": "code",
   "execution_count": 14,
   "metadata": {},
   "outputs": [],
   "source": [
    "mod = 'ECMWF_CAMS_REAN'"
   ]
  },
  {
   "cell_type": "code",
   "execution_count": 15,
   "metadata": {},
   "outputs": [],
   "source": [
    "params = ['ang4487aer', 'od550aer', 'od550gt1aer', 'od550lt1aer', 'concpm10', 'concpm25', 'concso4', 'scatc550dryaer', 'absc550aer']"
   ]
  },
  {
   "cell_type": "code",
   "execution_count": 16,
   "metadata": {},
   "outputs": [
    {
     "name": "stdout",
     "output_type": "stream",
     "text": [
      "ang4487aer  OK\n",
      "od550aer  OK\n",
      "od550gt1aer NOPE\n",
      "od550lt1aer NOPE\n",
      "concpm10  OK\n",
      "concpm25  OK\n",
      "concso4  OK\n",
      "scatc550dryaer NOPE\n",
      "absc550aer NOPE\n"
     ]
    }
   ],
   "source": [
    "r = pya.io.ReadGridded(mod)\n",
    "for param in params:\n",
    "    try:\n",
    "        data = r.read_var(param, ts_type='daily')\n",
    "        print(param,' OK')\n",
    "    except:\n",
    "        print(param, 'NOPE')"
   ]
  },
  {
   "cell_type": "code",
   "execution_count": 19,
   "metadata": {},
   "outputs": [
    {
     "name": "stdout",
     "output_type": "stream",
     "text": [
      "\n",
      "Pyaerocom ReadGridded\n",
      "---------------------\n",
      "Data ID: ECMWF_CAMS_REAN\n",
      "Data directory: /lustre/storeA/project/aerocom/aerocom-users-database/ECMWF/ECMWF_CAMS_REAN/renamed\n",
      "Available experiments: ['', 'REAN']\n",
      "Available years: [2003, 2004, 2005, 2006, 2007, 2008, 2009, 2010, 2011, 2012, 2013, 2014, 2015, 2016, 2017, 2018, 2019, 9999]\n",
      "Available frequencies ['daily' 'monthly']\n",
      "Available variables: ['ang4487aer', 'bscatc532aerboa', 'bscatc532aertoa', 'ec532aer', 'ec532dryaer', 'od440aer', 'od550aer', 'od550bc', 'od550dust', 'od550oa', 'od550so4', 'od550ss', 'od865aer', 'sconcbc', 'sconcdust', 'sconcoa', 'sconcpm10', 'sconcpm25', 'sconcso4', 'sconcss', 'time', 'z']\n",
      "\n",
      "Loaded GriddedData objects:\n",
      "ID: ECMWF_CAMS_REAN, Var: ang4487aer\n",
      "ID: ECMWF_CAMS_REAN, Var: od550aer\n",
      "ID: ECMWF_CAMS_REAN, Var: sconcpm10\n",
      "ID: ECMWF_CAMS_REAN, Var: sconcpm25\n",
      "ID: ECMWF_CAMS_REAN, Var: sconcso4\n"
     ]
    }
   ],
   "source": [
    "print(r)"
   ]
  },
  {
   "cell_type": "markdown",
   "metadata": {},
   "source": [
    "### For parameters, print list of available models"
   ]
  },
  {
   "cell_type": "code",
   "execution_count": 26,
   "metadata": {},
   "outputs": [
    {
     "name": "stdout",
     "output_type": "stream",
     "text": [
      "* * * od550dust * *\n",
      "od550dust ['ECMWF_CAMS_REAN', 'GEOS-i33p2_HIST', 'OsloCTM3v1.01-met2010_AP3-HIST', 'CAM5-ATRAS_AP3-HIST', 'GFDL-AM4-amip_HIST', 'ECHAM6.3-HAM2.3-fSST_HIST', 'BCC-CUACE_AP3-HIST']\n"
     ]
    }
   ],
   "source": [
    "params = ['concpm10', 'concpm25', 'concso4', 'scatc550dryaer', 'absc550aer']\n",
    "params = ['scatc550dryaer', 'absc550aer', 'ec550dryaer']\n",
    "params = ['od550dust']\n",
    "for param in params:\n",
    "    print('* * * '+param+' * *')\n",
    "    av_mods = []\n",
    "    for mod in list(all_mods.keys()):\n",
    "        r = pya.io.ReadGridded(mod)\n",
    "        try:\n",
    "            if param=='scatc550dryaer':\n",
    "                data = reader.read_var(param, ts_type='daily', aux_fun=pya.io.aux_read_cubes.subtract_cubes, aux_vars=['ec550dryaer', 'absc550aer'])\n",
    "            else:\n",
    "                data = r.read_var(param, ts_type='daily')\n",
    "            av_mods.append(mod)\n",
    "        except:\n",
    "            continue\n",
    "    print(param, av_mods)"
   ]
  },
  {
   "cell_type": "code",
   "execution_count": 23,
   "metadata": {},
   "outputs": [],
   "source": [
    "mod = 'GFDL-AM4-amip_HIST'\n",
    "param = 'emidust'\n",
    "data = r.read_var(param, ts_type='daily')"
   ]
  },
  {
   "cell_type": "code",
   "execution_count": null,
   "metadata": {},
   "outputs": [],
   "source": []
  }
 ],
 "metadata": {
  "kernelspec": {
   "display_name": "Python 3",
   "language": "python",
   "name": "python3"
  },
  "language_info": {
   "codemirror_mode": {
    "name": "ipython",
    "version": 3
   },
   "file_extension": ".py",
   "mimetype": "text/x-python",
   "name": "python",
   "nbconvert_exporter": "python",
   "pygments_lexer": "ipython3",
   "version": "3.7.3"
  }
 },
 "nbformat": 4,
 "nbformat_minor": 4
}
