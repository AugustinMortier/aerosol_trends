{
 "cells": [
  {
   "cell_type": "markdown",
   "metadata": {},
   "source": [
    "# Compute mean of observation for a specific year"
   ]
  },
  {
   "cell_type": "code",
   "execution_count": 1,
   "metadata": {},
   "outputs": [],
   "source": [
    "# modules importation\n",
    "from trends_functions import *\n",
    "from warnings import filterwarnings\n",
    "filterwarnings('ignore')"
   ]
  },
  {
   "cell_type": "code",
   "execution_count": 2,
   "metadata": {},
   "outputs": [],
   "source": [
    "# run observations\n",
    "varss = ['od550aer', 'od550lt1aer', 'od550gt1aer', 'ang4487aer', 'concpm2p5', 'concpm10', 'concso4', 'scatc550dryaer', 'absc550aer']\n",
    "regions = ['EUROPE', 'NAMERICA', 'SAMERICA', 'NAFRICA', 'SAFRICA', 'ASIA', 'AUSTRALIA']"
   ]
  },
  {
   "cell_type": "code",
   "execution_count": 3,
   "metadata": {
    "code_folding": [
     4,
     10,
     16,
     22,
     28,
     34,
     40,
     53
    ]
   },
   "outputs": [
    {
     "name": "stdout",
     "output_type": "stream",
     "text": [
      "compute trend\n",
      "no flags\n",
      "no flags EUROPE station:  ZvenigoroddsEi_GCWD\n",
      "no flags ASIA station:  Zhongshan_UnivityDh\n",
      "no flags NAMERICA station:  Yumaowknife_AuroraC NAMERICA station:  Calipso_Sterling_PO NAMERICA station:  DRAGON_EaglePoint NAMERICA station:  IMPROVE-MammothCave\n",
      "no flags SAMERICA station:  Veracruz_MAX_MEXFOPSAMERICA station:  Concepcion\n",
      "no flags NAFRICA station:  Zinder_DMNporttutea\n",
      "region:  SAFRICA station:  Walvis_Bay_airport\n",
      "Less than 7 points in selected period\n",
      "no flags\n",
      "no flags AUSTRALIA station:  Tinga_Tinganand_QLD\n",
      "compute trendD station:  ZvenigorodportityaP WORLD station:  Calipso_Mardela_Spr WORLD station:  Lecce_University\n",
      "no flags\n",
      "no flags EUROPE station:  ZvenigorodMOW1erCmD\n",
      "no flags ASIA station:  Zhongshan_UnivityDh ASIA station:  DRAGON_Kyungil_Univ ASIA station:  Ieodo_Station ASIA station:  Taihu\n",
      "no flags NAMERICA station:  Yumaowknife_AuroraC NAMERICA station:  Calipso_W_Mardela\n",
      "no flags SAMERICA station:  UdeConcepcion-CEFOP\n",
      "no flags NAFRICA station:  Zinder_Airporttutea\n",
      "region:  SAFRICA station:  Walvis_Bay_airport\n",
      "Less than 7 points in selected period\n",
      "no flags\n",
      "no flags AUSTRALIA station:  Tinga_Tinganand_QLD\n",
      "compute trendD station:  ZvenigorodportityaP WORLD station:  DRAGON_CLLGP WORLD station:  DRAGON_Pylesville\n",
      "no flags\n",
      "no flags EUROPE station:  ZvenigorodMOW1erCmD\n",
      "no flags ASIA station:  Zhongshan_UnivityDh ASIA station:  Mobile_N_053108E\n",
      "no flags NAMERICA station:  Yumaowknife_AuroraC NAMERICA station:  Calipso_Hillsboro_E station:  DRAGON_ARNLS\n",
      "no flags SAMERICA station:  UdeConcepcion-CEFOP\n",
      "no flags NAFRICA station:  Zinder_Airporttutea Tizi_Ouzou\n",
      "region:  SAFRICA station:  Walvis_Bay_airport\n",
      "Less than 7 points in selected period\n",
      "no flags\n",
      "no flags AUSTRALIA station:  Tinga_Tinganand_QLD\n",
      "compute trendD station:  ZvenigorodportityaP WORLD station:  Braccagni WORLD station:  DRAGON_Arvin WORLD station:  DRAGON_SPBRK WORLD station:  Mobile_Kanpur_W2 WORLD station:  Trelew\n",
      "no flags\n",
      "no flags EUROPE station:  ZvenigorodMOW1erCmD\n",
      "no flags ASIA station:  Zhongshan_UnivityDh\n",
      "no flags NAMERICA station:  Yumaowknife_AuroraC NAMERICA station:  Calipso_White_Marsh\n",
      "no flags SAMERICA station:  Veracruz_MAX_MEXFOP\n",
      "no flags NAFRICA station:  Zinder_DMNporttutea\n",
      "region:  SAFRICA station:  Walvis_Bay_airport\n",
      "Less than 7 points in selected period\n",
      "no flags\n",
      "no flags AUSTRALIA station:  Tinga_Tinganand_QLD\n",
      "compute trendD station:  ZvenigorodportityaP\n",
      "region:  ASIA station:  Gual Pahari Island-Désert\n",
      "Less than 7 points in selected period\n",
      "No station found in , SAFRICArraablo de los MontesCyprus Atmospheric Observatory\n",
      "No station found in , AUSTRALIA\n",
      "read EBASWORLD station:  Zosenibodenntainstional Park-Lind Point (VI01)n5)tory\n",
      "compute trend\n",
      "region:  ASIA station:  Petalling Jayalandntésertrch Observatoryt\n",
      "Less than 7 points in selected period\n",
      "No station found in , SAFRICArraablo de los MontesCyprus Atmospheric Observatory\n",
      "No station found in , AUSTRALIA\n",
      "compute trendD station:  Zosenibodenntainstional Park-Lind Point (VI01)n5)tory\n",
      "no flags\n",
      "no flags EUROPE station:  Ähtäri I-III Dam)\n",
      "no flags ASIA station:  TereljRataari (Vachiralongkorn Dam)\n",
      "no flags NAMERICA station:  Zion_Canyon - Turtleback Domey_Run)\n",
      "no flags SAMERICA station:  Virgin_Islands_NP\n",
      "No station found in , SAFRICArrarrota\n",
      "No station found in , AUSTRALIA\n",
      "no flags\n",
      "compute trendD station:  Ähtäri I-IIuntain (Ny-Ålesund) Dam)\n",
      "excluding module\n",
      "exclude  Montseny\n",
      "excluding modulestation:  Vavihillmospheric Research Observatoryt\n",
      "region:  ASIA station:  Tiksion-do\n",
      "Less than 7 points in selected period\n",
      "excluding module\n",
      "exclude  National Capitol - Central, Washington D.C\n",
      "exclude  Phoenix\n",
      "excluding moduleA station:  Wichita Mountainsderness3ain #1ment (GA09)WA99)5)\n",
      "excluding moduleA station:  Cape San Juan\n",
      "exclude  Granada\n",
      "region:  NAFRICA station:  Lamezia Termeyliatou ; Cyprus Atmospheric Observatory\n",
      "Less than 7 points in selected period\n",
      "excluding module\n",
      "No station found in , AUSTRALIA Point\n",
      "excluding module\n",
      "exclude  Granada\n",
      "exclude  Montseny\n",
      "exclude  National Capitol - Central, Washington D.C\n",
      "exclude  Phoenix\n",
      "compute trendD station:  Zeppelin mountain (Ny-Ålesund)1rvatoryA09)WA99)5)tory\n",
      "excluding module\n",
      "exclude  Leipzig-Mitte\n",
      "exclude  Ústí n.L.-mesto\n",
      "excluding modulestation:  Waldhoflmospheric Research Observatoryt\n",
      "region:  ASIA station:  TiksiPahariy\n",
      "Less than 7 points in selected period\n",
      "excluding module\n",
      "excluding moduleA station:  Trinidad Headt Plains E13\n",
      "excluding moduleA station:  Cape San Juan\n",
      "exclude  Granada\n",
      "region:  NAFRICA station:  Finokaliailloaliatou ; Cyprus Atmospheric Observatory\n",
      "Less than 7 points in selected period\n",
      "excluding module\n",
      "No station found in , AUSTRALIA Point\n",
      "excluding module\n",
      "exclude  Granada\n",
      "exclude  Leipzig-Mitte\n",
      "exclude  Ústí n.L.-mesto\n",
      "region:  WORLD station:  Zeppelin mountain (Ny-Ålesund)ervatorytic Observatory\r"
     ]
    }
   ],
   "source": [
    "OBS_MAP = {}\n",
    "for var in varss:\n",
    "    if var in ['concpm10', 'concpm25']:\n",
    "        print('read EBAS')\n",
    "        EBAS = read_EBAS()\n",
    "    else:\n",
    "        EBAS = None\n",
    "    # computation parameters\n",
    "    params = get_params()\n",
    "    params['kind'] = 'obs'\n",
    "    params['min_dobs'] = 300\n",
    "    fill_params(params, var)\n",
    "    if var in ['scatc550dryaer', 'absc550aer']:\n",
    "        params['period'] = '2000-2018'\n",
    "    else:\n",
    "        params['period'] = '2000-2014'\n",
    "    params['var'] = var\n",
    "    \n",
    "    obs_source = params['source']\n",
    "    reader = pya.io.ReadUngridded(obs_source)\n",
    "    obs_data = reader.read(vars_to_retrieve=var)\n",
    "    \n",
    "    print('compute trend')\n",
    "    _, OBS_MAP[var], _ = process_trend(\n",
    "        obs_data, params,\n",
    "        plot=False, show_plot=False, save_plot=False, write_json=False, EBAS=EBAS\n",
    "    )"
   ]
  },
  {
   "cell_type": "markdown",
   "metadata": {},
   "source": [
    "## put this in a dataframe"
   ]
  },
  {
   "cell_type": "code",
   "execution_count": 4,
   "metadata": {},
   "outputs": [],
   "source": [
    "#'concpm25', 'concpm10', 'concso4', 'scatc550dryaer', 'absc550aer'"
   ]
  },
  {
   "cell_type": "code",
   "execution_count": 5,
   "metadata": {},
   "outputs": [],
   "source": [
    "regions.remove('SAFRICA')"
   ]
  },
  {
   "cell_type": "code",
   "execution_count": 8,
   "metadata": {},
   "outputs": [
    {
     "name": "stdout",
     "output_type": "stream",
     "text": [
      "od550aer\n",
      "od550lt1aer\n",
      "od550gt1aer\n",
      "ang4487aer\n",
      "concpm2p5\n",
      "concpm10\n",
      "concso4\n",
      "scatc550dryaer\n",
      "absc550aer\n"
     ]
    }
   ],
   "source": [
    "thead = ['']+regions\n",
    "tbody = []\n",
    "\n",
    "for var in varss:\n",
    "    period = '2000-2014'\n",
    "    if var in ['concpm2p5', 'concpm10', 'scatc550dryaer', 'absc550aer']:\n",
    "        fmt = '{:2.1f}'\n",
    "        if var in ['scatc550dryaer', 'absc550aer']:\n",
    "            period = '2000-2018'\n",
    "    else:\n",
    "        fmt = '{:3.2f}'\n",
    "    print(var)\n",
    "    fill_params(params, var)\n",
    "    unit = params['unit']\n",
    "    if unit == '':\n",
    "        str_unit = ''\n",
    "    else:\n",
    "        str_unit = ' ('+unit+')'\n",
    "    line = [params['ylabel']+str_unit] + [fmt.format(OBS_MAP[var][region]['trends']['trends'][period]['data'][0]) if region in OBS_MAP[var] and 'trends' in OBS_MAP[var][region]['trends'] and period in OBS_MAP[var][region]['trends']['trends'] else '-' for region in regions]\n",
    "    tbody.append(line)\n",
    "\n",
    "    df = pd.DataFrame(tbody, columns=thead)"
   ]
  },
  {
   "cell_type": "code",
   "execution_count": 9,
   "metadata": {},
   "outputs": [
    {
     "name": "stdout",
     "output_type": "stream",
     "text": [
      "\\begin{tabular}{lllllll}\n",
      "\\tophline\n",
      "                    & EUROPE & NAMERICA & SAMERICA & NAFRICA &  ASIA & AUSTRALIA \\\\\n",
      "\\middlehline\n",
      "                AOD &   0.17 &     0.10 &     0.15 &    0.26 &  0.37 &      0.10 \\\\\n",
      "            AOD<1µm &   0.15 &     0.08 &     0.11 &    0.11 &  0.22 &      0.04 \\\\\n",
      "            AOD>1µm &   0.03 &     0.02 &     0.03 &    0.10 &  0.09 &      0.03 \\\\\n",
      "                 AE &   1.43 &     1.48 &     1.26 &    0.70 &  1.16 &      1.00 \\\\\n",
      "     PM2.5 (µg.m-3) &   12.3 &      6.9 &        - &     9.0 &     - &         - \\\\\n",
      "      PM10 (µg.m-3) &   16.8 &     12.4 &        - &    19.7 &     - &         - \\\\\n",
      "       SO4 (µg.m-3) &   2.01 &     1.45 &        - &    2.98 &  1.97 &         - \\\\\n",
      " Scat. Coef. (1/Mm) &   34.4 &     23.4 &        - &       - &     - &         - \\\\\n",
      "  Abs. Coef. (1/Mm) &    6.3 &      2.6 &        - &       - &     - &         - \\\\\n",
      "\\bottomhline\n",
      "\\end{tabular}\n",
      "\n"
     ]
    }
   ],
   "source": [
    "with pd.option_context(\"max_colwidth\", 1000):\n",
    "    latable = df.to_latex(index=False, longtable=False, escape=False)\n",
    "    #replace rule with hline for ACP\n",
    "    latable = latable.replace('toprule','tophline')\n",
    "    latable = latable.replace('midrule','middlehline')\n",
    "    latable = latable.replace('bottomrule','bottomhline')\n",
    "    print(latable)"
   ]
  },
  {
   "cell_type": "code",
   "execution_count": null,
   "metadata": {},
   "outputs": [],
   "source": []
  }
 ],
 "metadata": {
  "kernelspec": {
   "display_name": "Python 3",
   "language": "python",
   "name": "python3"
  },
  "language_info": {
   "codemirror_mode": {
    "name": "ipython",
    "version": 3
   },
   "file_extension": ".py",
   "mimetype": "text/x-python",
   "name": "python",
   "nbconvert_exporter": "python",
   "pygments_lexer": "ipython3",
   "version": "3.7.3"
  }
 },
 "nbformat": 4,
 "nbformat_minor": 4
}
