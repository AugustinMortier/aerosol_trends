{
 "cells": [
  {
   "cell_type": "markdown",
   "metadata": {},
   "source": [
    "# Plot regions used in the study and table of available dataset/models per parameter"
   ]
  },
  {
   "cell_type": "code",
   "execution_count": 2,
   "metadata": {},
   "outputs": [],
   "source": [
    "from trends_functions import *\n",
    "import pyaerocom as pya\n",
    "from warnings import filterwarnings\n",
    "import pandas as pd\n",
    "import matplotlib.patheffects as PathEffects\n",
    "import cartopy.crs as ccrs\n",
    "from cartopy.mpl.ticker import LongitudeFormatter, LatitudeFormatter\n",
    "from shapely.geometry.polygon import LinearRing\n",
    "filterwarnings('ignore')"
   ]
  },
  {
   "cell_type": "code",
   "execution_count": 3,
   "metadata": {},
   "outputs": [],
   "source": [
    "# import seaborn style\n",
    "sns.set()\n",
    "sns.set_context(\"paper\")\n",
    "# sns.set_style(\"whitegrid\")\n",
    "sns.color_palette(\"muted\")\n",
    "# since each figure will be a subfigure, increase font_size\n",
    "fscale = 1.0\n",
    "sns.set(font_scale=fscale)"
   ]
  },
  {
   "cell_type": "markdown",
   "metadata": {},
   "source": [
    "### start with regions map"
   ]
  },
  {
   "cell_type": "code",
   "execution_count": 4,
   "metadata": {},
   "outputs": [],
   "source": [
    "regions = get_regions()"
   ]
  },
  {
   "cell_type": "code",
   "execution_count": 5,
   "metadata": {},
   "outputs": [],
   "source": [
    "parameters = ['od550aer', 'concpm10', 'concso4', 'scatc550dryaer', 'absc550aer']"
   ]
  },
  {
   "cell_type": "code",
   "execution_count": 6,
   "metadata": {},
   "outputs": [
    {
     "name": "stdout",
     "output_type": "stream",
     "text": [
      "no flags\n",
      "no flags EUROPE station:  ZvenigoroddsEi_GCWD\n",
      "no flags ASIA station:  Zhongshan_UnivityDh ASIA station:  Kaashidhoo\n",
      "no flags NAMERICA station:  Yumaowknife_AuroraC NAMERICA station:  DRAGON_UH_Sugarland\n",
      "no flags SAMERICA station:  Veracruz_MAX_MEXFOP\n",
      "no flags NAFRICA station:  Zinder_DMNporttutea\n",
      "region:  SAFRICA station:  Walvis_Bay_airport\n",
      "Less than 7 points in selected period\n",
      "no flags\n",
      "no flags AUSTRALIA station:  Tinga_Tinganand_QLD\n",
      "region:  ASIA station:  Petalling JayaI Gentésertrch Observatoryt\n",
      "Less than 7 points in selected period\n",
      "No station found in , SAFRICArraablo de los MontesCyprus Atmospheric Observatory\n",
      "No station found in , AUSTRALIA\n",
      "no flags WORLD station:  Zosenibodenntainstional Park-Lind Point (VI01)n5)tory\n",
      "no flags EUROPE station:  Ähtäri I-III Dam)\n",
      "no flags ASIA station:  TereljRataari (Vachiralongkorn Dam)\n",
      "no flags NAMERICA station:  Zion_Canyon - Turtleback Domey_Run)\n",
      "no flags SAMERICA station:  Virgin_Islands_NP\n",
      "No station found in , SAFRICArrarrota\n",
      "No station found in , AUSTRALIA\n",
      "no flags\n",
      "region:  ASIA station:  Gosanon-domospheric Research Observatoryt\n",
      "Less than 7 points in selected period\n",
      "region:  NAFRICA station:  Granadaiaillonainsderness3ain #1ment (GA09)WA99)5)\n",
      "Less than 7 points in selected period\n",
      "No station found in , AUSTRALIA Point\n",
      "excluding moduletation:  Zeppelin mountain (Ny-Ålesund)1rvatoryA09)WA99)5)\n",
      "excluding modulestation:  Ústí n.L.-mestoic Research Observatoryt\n",
      "region:  ASIA station:  Gual Pahariy\n",
      "Less than 7 points in selected period\n",
      "excluding module\n",
      "excluding moduleA station:  Trinidad Headt Plains E13\n",
      "excluding moduleA station:  Cape San Juan\n",
      "region:  NAFRICA station:  Granadaiailloa\n",
      "Less than 7 points in selected period\n",
      "excluding module\n",
      "No station found in , AUSTRALIA Point\n",
      "excluding module\n",
      "exclude  Alert\n",
      "region:  WORLD station:  Ústí n.L.-mestoin (Ny-Ålesund)ervatoryt\r"
     ]
    }
   ],
   "source": [
    "#read observations\n",
    "OBS = {}\n",
    "\n",
    "for i, var in enumerate(parameters):\n",
    "    # computation parameters\n",
    "    params = get_params()\n",
    "    params['kind'] = 'obs'\n",
    "    fill_params(params, var)\n",
    "\n",
    "    params['var'] = var\n",
    "    obs_source = params['source']\n",
    "    reader = pya.io.ReadUngridded(obs_source)\n",
    "    obs_data = reader.read(vars_to_retrieve=var)\n",
    "    \n",
    "    #compte the trend just to have filtering (300 points, ...)\n",
    "    _, OBS[var], _ = process_trend(\n",
    "        obs_data, params,\n",
    "        plot=False, show_plot=False, save_plot=False, write_json=False\n",
    "    )"
   ]
  },
  {
   "cell_type": "code",
   "execution_count": 7,
   "metadata": {},
   "outputs": [],
   "source": [
    "thead = ['Region', 'Lat [Min-Max]', 'Lon [Min-Max]']\n",
    "tbody = []\n",
    "for region in regions:\n",
    "    pyreg = pya.Region(region)\n",
    "    tbody.append([pyreg.name, pyreg['lat_range'], pyreg['lon_range']])\n",
    "df = pd.DataFrame(tbody,columns=thead)"
   ]
  },
  {
   "cell_type": "code",
   "execution_count": null,
   "metadata": {},
   "outputs": [],
   "source": [
    "nl, nc = 1, 1\n",
    "fs = 0.6\n",
    "plt.figure(figsize=(16*fs,9*fs))\n",
    "ax = plt.axes(projection=ccrs.PlateCarree())\n",
    "ax.coastlines()\n",
    "\n",
    "#plot the regions\n",
    "for region in regions:\n",
    "    pyreg = pya.Region(region)\n",
    "    \n",
    "    reglons = pyreg['lon_range']\n",
    "    reglats = pyreg['lat_range']\n",
    "    \n",
    "    #get rectangle coordinates\n",
    "    lons = [reglons[0], reglons[0], reglons[1], reglons[1]]\n",
    "    lats = [reglats[0], reglats[1], reglats[1], reglats[0]]\n",
    "    ring = LinearRing(list(zip(lons, lats)))\n",
    "    ax.add_geometries([ring], ccrs.PlateCarree(), facecolor='none', edgecolor='darkgray', zorder=100)\n",
    "    x0, y0 = reglons[0]+2, reglats[1]-2\n",
    "    txt = ax.text(x0, y0, pyreg['_name'], ha='left', va='top', fontweight='bold', zorder=98)\n",
    "    txt.set_path_effects([PathEffects.withStroke(linewidth=2, foreground='w')])\n",
    "\n",
    "#plot the observations available\n",
    "palette = sns.cubehelix_palette(len(parameters), start=0, rot=-.15, dark=.2, light=.7, reverse=False)\n",
    "#palette = sns.light_palette(\"navy\", reverse=False)\n",
    "#palette = sns.color_palette(\"Blues\", n_colors=len(parameters))\n",
    "#palette = list(reversed(['#2d3d60','#150578','#192bc2','#449dd1','#78c0e0']))\n",
    "#palette = sns.color_palette('Set2')\n",
    "#palette = ['#a6cee3','#1f78b4','#fb9a99','#b2df8a','#33a02c']\n",
    "#palette = sns.color_palette('deep')\n",
    "#palette = [palette[i] for i in [7,2,3,9,0]]\n",
    "\n",
    "#palette = sns.color_palette(\"pastel\")\n",
    "#parameters = ['od550aer', 'concpm10', 'concso4', 'scatc550dryaer', 'absc550aer']\n",
    "networks = ['AERONET', '$PM_{10/2.5}$', '$SO_{4}$', 'Scat. Coef.', 'Abs. Coef']\n",
    "colors = [palette[i] for i, var in enumerate(parameters)]\n",
    "markers = ['o', '+', 'x','^', 'v']\n",
    "sizes = [3, 4, 4, 3, 3]\n",
    "for i, var in enumerate(parameters):\n",
    "    lons = [station ['lon'] for station in OBS[var]['WORLD']['stations']]\n",
    "    lats = [station ['lat'] for station in OBS[var]['WORLD']['stations']]\n",
    "    ax.plot(lons, lats, marker=markers[i], lw=0, ms=sizes[i], color=colors[i], alpha=1, transform=ccrs.PlateCarree(), label=networks[i] )\n",
    "    \n",
    "    ax.set_xticks([-180, -120, -60, 0, 60, 120, 180], crs=ccrs.PlateCarree())\n",
    "    ax.set_yticks([-90, -60, -30, 0, 30, 60, 90], crs=ccrs.PlateCarree())\n",
    "    lon_formatter = LongitudeFormatter(zero_direction_label=True)\n",
    "    lat_formatter = LatitudeFormatter()\n",
    "    ax.xaxis.set_major_formatter(lon_formatter)\n",
    "    ax.yaxis.set_major_formatter(lat_formatter)\n",
    "\n",
    "    #add nmax\n",
    "    for region in regions:\n",
    "        pyreg = pya.Region(region)\n",
    "        reglons = pyreg['lon_range']\n",
    "        reglats = pyreg['lat_range']\n",
    "        y0 = reglats[1]-2\n",
    "        if region=='WORLD':\n",
    "            x0 = reglons[0]+40\n",
    "            dx = 20\n",
    "            dy = 0\n",
    "        else:\n",
    "            x0 = reglons[0]+2\n",
    "            dx=14\n",
    "            dy = 8\n",
    "        if region in OBS[var]:\n",
    "            nmax = len(OBS[var][region]['stations'])\n",
    "        else:\n",
    "            nmax = 0\n",
    "        txt = ax.text(x0+i*dx, y0-dy, '{:3d}'.format(nmax), ha='left', va='top', fontweight='bold', fontsize=10, color=colors[i],zorder=97, backgroundcolor=(1,1,1,.5))\n",
    "        txt.set_path_effects([PathEffects.withStroke(linewidth=2, foreground='w')])\n",
    "        \n",
    "plt.legend(fancybox=True,framealpha=1, shadow=False, facecolor='white')\n",
    "#setbackground color\n",
    "ax.set_facecolor('#F1F1F1')\n",
    "plt.savefig('figs/maps/av_obs.png', dpi=300, bbox_inches='tight')"
   ]
  },
  {
   "cell_type": "markdown",
   "metadata": {},
   "source": [
    "### for each parameter, list of available models"
   ]
  },
  {
   "cell_type": "code",
   "execution_count": 92,
   "metadata": {},
   "outputs": [],
   "source": [
    "parameters = ['od550aer', 'od550lt1aer', 'od550gt1aer', 'ang4487aer', 'concpm25', 'concpm10', 'concso4', 'scatc550dryaer', 'absc550aer']"
   ]
  },
  {
   "cell_type": "code",
   "execution_count": 93,
   "metadata": {},
   "outputs": [],
   "source": [
    "all_mods = get_all_mods()\n",
    "\n",
    "thead = ['Parameter', 'Observation Network', 'Models grp 0', 'Models grp 1']\n",
    "tbody = []\n",
    "for var in parameters:\n",
    "    params = get_params()\n",
    "    fill_params(params, var)\n",
    "    mods0 = []\n",
    "    mods1 = []\n",
    "    mods = params['models']\n",
    "    \n",
    "    for mod in mods:\n",
    "        str_mod = mod.split('_')[0]\n",
    "        #str_mod = str_mod.split('-')[0]\n",
    "        #if mod==params['ref_model']:\n",
    "        #    str_mod = str_mod+'$^{*}$'\n",
    "        \n",
    "        if mod in all_mods and all_mods[mod]['group'] == 'group0':\n",
    "            mods0.append(str_mod)\n",
    "        else:\n",
    "            mods1.append(str_mod)\n",
    "    \n",
    "    #convert list into a string\n",
    "    mods0 = '; '.join(mods0)\n",
    "    mods1 = '; '.join(mods1)\n",
    "    \n",
    "    if mods0=='':\n",
    "        mods0 = '-'\n",
    "    if mods1=='':\n",
    "        mods1 = '-'\n",
    "    \n",
    "    \n",
    "    #source\n",
    "    source = params['source']\n",
    "    source = source.split('.')[0]\n",
    "    \n",
    "    tbody.append([params['ylabel'], source, mods0, mods1])\n",
    "\n",
    "df = pd.DataFrame(tbody, columns=thead)"
   ]
  },
  {
   "cell_type": "code",
   "execution_count": 94,
   "metadata": {},
   "outputs": [
    {
     "name": "stdout",
     "output_type": "stream",
     "text": [
      "\\begin{tabular}{llll}\n",
      "\\tophline\n",
      "   Parameter &  Observation Network & Models grp 0 &                                                                                                                                                  Models grp 1 \\\\\n",
      "\\middlehline\n",
      "         AOD &     AeronetSunV3Lev2 &            - &  ECMWF; OsloCTM3v1.01-met2010; NorESM2-CPL-NEWTEST; GFDL-AM4-amip; CanESM5; CESM2; IPSL-CM6A-LR; GEOS-i33p2; ECHAM6.3-HAM2.3-fSST; BCC-CUACE; MIROC-SPRINTARS \\\\\n",
      "     AOD<1µm &     AeronetSDAV3Lev2 &            - &                                                                         NorESM2-CPL-NEWTEST; GFDL-AM4-amip; GEOS-i33p2; ECHAM6.3-HAM2.3-fSST; MIROC-SPRINTARS \\\\\n",
      "     AOD>1µm &     AeronetSDAV3Lev2 &            - &                                            ECMWF; OsloCTM3v1.01-met2010; NorESM2-CPL-NEWTEST; BCC-CUACE; GFDL-AM4-amip; ECHAM6.3-HAM2.3-fSST; MIROC-SPRINTARS \\\\\n",
      "          AE &     AeronetSunV3Lev2 &            - &                                           ECMWF; OsloCTM3v1.01-met2010; NorESM2-CPL-NEWTEST; GFDL-AM4-amip; GEOS-i33p2; ECHAM6.3-HAM2.3-fSST; MIROC-SPRINTARS \\\\\n",
      "       PM2.5 &               EBASMC &            - &                                                                                                                                    ECMWF; NorESM2-CPL-NEWTEST \\\\\n",
      "        PM10 &               EBASMC &            - &                                                                                 ECMWF; GEOS-i33p2; ECHAM6.3-HAM2.3-fSST; MIROC-SPRINTARS; NorESM2-CPL-NEWTEST \\\\\n",
      "         SO4 &  GAWTADsubsetAasEtAl &            - &                                               ECMWF; GEOS-i33p2; OsloCTM3v1.01-met2010; ECHAM6.3-HAM2.3-fSST; BCC-CUACE; NorESM2-CPL-NEWTEST; MIROC-SPRINTARS \\\\\n",
      " Scat. Coef. &               EBASMC &            - &                                                                                                                                           NorESM2-CPL-NEWTEST \\\\\n",
      "  Abs. Coef. &               EBASMC &            - &                                                                                                                          NorESM2-CPL-NEWTEST; MIROC-SPRINTARS \\\\\n",
      "\\bottomhline\n",
      "\\end{tabular}\n",
      "\n"
     ]
    }
   ],
   "source": [
    "with pd.option_context(\"max_colwidth\", 1000):\n",
    "    latable = df.to_latex(index=False, longtable=False, escape=False)\n",
    "    #replace rule with hline for ACP\n",
    "    latable = latable.replace('toprule','tophline')\n",
    "    latable = latable.replace('midrule','middlehline')\n",
    "    latable = latable.replace('bottomrule','bottomhline')\n",
    "    print(latable)"
   ]
  },
  {
   "cell_type": "markdown",
   "metadata": {},
   "source": [
    "### Print table Param - Obs - Models"
   ]
  },
  {
   "cell_type": "code",
   "execution_count": 95,
   "metadata": {},
   "outputs": [],
   "source": [
    "all_mods = get_all_mods()\n",
    "\n",
    "thead = ['Parameter', 'Observation Network', 'Models']\n",
    "tbody = []\n",
    "for var in parameters:\n",
    "    params = get_params()\n",
    "    fill_params(params, var)\n",
    "    str_mods = []\n",
    "    mods = params['models']\n",
    "    \n",
    "    for mod in all_mods:\n",
    "        str_mod = get_all_mods()[mod]['name']\n",
    "        #str_mod = str_mod.split('-')[0]\n",
    "        #if mod in all_mods and all_mods[mod]['group'] == 'CAMS_Rean':\n",
    "        #    str_mod += '$^{0}$'\n",
    "        #elif mod in all_mods and all_mods[mod]['group'] == 'AP3':\n",
    "        #    str_mod += '$^{1}$'\n",
    "        #elif mod in all_mods and all_mods[mod]['group'] == 'CMIP6':\n",
    "        #    str_mod += '$^{2}$'\n",
    "        #if mod==params['ref_model']:\n",
    "        #    str_mod += '$^{*}$'\n",
    "        if mod in mods:\n",
    "            str_mods.append(str_mod)\n",
    "    \n",
    "    #convert list into a string\n",
    "    str_mods = '; '.join(str_mods)\n",
    "    \n",
    "    if str_mods=='':\n",
    "        str_mods = '-'\n",
    "    \n",
    "    #source\n",
    "    source = params['source']\n",
    "    source = source.split('.')[0]\n",
    "    \n",
    "    tbody.append([params['ylabel'], source, str_mods])\n",
    "\n",
    "df = pd.DataFrame(tbody, columns=thead)"
   ]
  },
  {
   "cell_type": "code",
   "execution_count": 96,
   "metadata": {},
   "outputs": [
    {
     "name": "stdout",
     "output_type": "stream",
     "text": [
      "\\begin{tabular}{lll}\n",
      "\\tophline\n",
      "   Parameter &  Observation Network &                                                                                                     Models \\\\\n",
      "\\middlehline\n",
      "         AOD &     AeronetSunV3Lev2 &  ECMWF-Rean; NorESM2; SPRINTARS; ECHAM-HAM; GEOS; OsloCTM3; GFDL-AM4; BCC-CUACE; CanESM5; CESM2; IPSL-CM6A \\\\\n",
      "     AOD<1µm &     AeronetSDAV3Lev2 &                                                              NorESM2; SPRINTARS; ECHAM-HAM; GEOS; GFDL-AM4 \\\\\n",
      "     AOD>1µm &     AeronetSDAV3Lev2 &                                   ECMWF-Rean; NorESM2; SPRINTARS; ECHAM-HAM; OsloCTM3; GFDL-AM4; BCC-CUACE \\\\\n",
      "          AE &     AeronetSunV3Lev2 &                                        ECMWF-Rean; NorESM2; SPRINTARS; ECHAM-HAM; GEOS; OsloCTM3; GFDL-AM4 \\\\\n",
      "       PM2.5 &               EBASMC &                                                                                        ECMWF-Rean; NorESM2 \\\\\n",
      "        PM10 &               EBASMC &                                                            ECMWF-Rean; NorESM2; SPRINTARS; ECHAM-HAM; GEOS \\\\\n",
      "         SO4 &  GAWTADsubsetAasEtAl &                                       ECMWF-Rean; NorESM2; SPRINTARS; ECHAM-HAM; GEOS; OsloCTM3; BCC-CUACE \\\\\n",
      " Scat. Coef. &               EBASMC &                                                                                                    NorESM2 \\\\\n",
      "  Abs. Coef. &               EBASMC &                                                                                         NorESM2; SPRINTARS \\\\\n",
      "\\bottomhline\n",
      "\\end{tabular}\n",
      "\n"
     ]
    }
   ],
   "source": [
    "with pd.option_context(\"max_colwidth\", 1000):\n",
    "    latable = df.to_latex(index=False, longtable=False, escape=False)\n",
    "    #replace rule with hline for ACP\n",
    "    latable = latable.replace('toprule','tophline')\n",
    "    latable = latable.replace('midrule','middlehline')\n",
    "    latable = latable.replace('bottomrule','bottomhline')\n",
    "    print(latable)"
   ]
  },
  {
   "cell_type": "markdown",
   "metadata": {},
   "source": [
    "### Print table Model - Emissions - Meterorology - Resolution"
   ]
  },
  {
   "cell_type": "code",
   "execution_count": 90,
   "metadata": {},
   "outputs": [
    {
     "name": "stdout",
     "output_type": "stream",
     "text": [
      "ECMWF_CAMS_REAN\n",
      "NorESM2-CPL-NEWTEST_HIST\n",
      "MIROC-SPRINTARS_AP3-HIST\n",
      "ECHAM6.3-HAM2.3-fSST_HIST\n",
      "GEOS-i33p2_HIST\n",
      "OsloCTM3v1.01-met2010_AP3-HIST\n",
      "GFDL-AM4-amip_HIST\n",
      "BCC-CUACE_AP3-HIST\n",
      "CanESM5_historical\n",
      "CESM2_historical\n",
      "IPSL-CM6A-LR_historical\n"
     ]
    }
   ],
   "source": [
    "models = list(all_mods.keys())\n",
    "\n",
    "thead = ['Model', 'Group', 'Emission', 'Meteorology', 'Resolution (LatxLon)', 'References']\n",
    "tbody = []\n",
    "\n",
    "for model in models:\n",
    "    print(model)\n",
    "    model_name = get_all_mods()[model]['name']\n",
    "    #=============================================================================\n",
    "    #get some info within netcdf files\n",
    "    r = pya.io.ReadGridded(model)\n",
    "    param = 'od550aer'\n",
    "    data = r.read_var(param, ts_type='monthly')\n",
    "    data = data.crop(time_range=(2000, str('2015')))\n",
    "    data = data.resample_time(to_ts_type='yearly')\n",
    "    cube = data.cube\n",
    "    time_stamp = data.time_stamps()[1].item().year-data.time_stamps()[0].item().year\n",
    "    if 'references' in cube.attributes:\n",
    "        references = cube.attributes['references']\n",
    "    else:\n",
    "        references = '-'\n",
    "    dlat = '{:3.2f}'.format(abs(data.cube.coord('latitude').points[1] - data.cube.coord('latitude').points[0]))\n",
    "    dlon = '{:3.2f}'.format(abs(data.cube.coord('longitude').points[1] - data.cube.coord('longitude').points[0]))\n",
    "    #=============================================================================\n",
    "    #append to table\n",
    "    tbody.append([model_name,all_mods[model]['group'],'?','?', str(dlat)+'x'+str(dlon), references.replace('_','\\_')])\n",
    "    \n",
    "df = pd.DataFrame(tbody, columns=thead)"
   ]
  },
  {
   "cell_type": "code",
   "execution_count": 91,
   "metadata": {},
   "outputs": [
    {
     "name": "stdout",
     "output_type": "stream",
     "text": [
      "\\begin{tabular}{llllll}\n",
      "\\tophline\n",
      "      Model &      Group & Emission & Meteorology & Resolution (LatxLon) &                                                                                                                                                   References \\\\\n",
      "\\middlehline\n",
      " ECMWF-Rean &  CAMS-Rean &        ? &           ? &            1.12x1.12 &                                                                                                                                                            - \\\\\n",
      "    NorESM2 &        AP3 &        ? &           ? &            1.89x2.50 &                                                                                                                                                            - \\\\\n",
      "  SPRINTARS &        AP3 &        ? &           ? &            0.56x0.56 &  Takemura et al. (J. Geophys. Res., 2000, 17853-17873) (J. Climate, 2002, 333-352) (J. Geophys. Res., 2005, 2004JD005029) (Atmos. Chem. Phys., 9, 3061-3073) \\\\\n",
      "  ECHAM-HAM &        AP3 &        ? &           ? &            1.85x1.88 &                                                                                                                                                            - \\\\\n",
      "       GEOS &        AP3 &        ? &           ? &            1.00x1.00 &                                                                                                                                                            - \\\\\n",
      "   OsloCTM3 &        AP3 &        ? &           ? &            2.25x2.25 &                                                                          Lund et al., 2018 (GMD, 11, 4909-4931) &      Myhre et al. 2009 (ACP, 9, 1365-1392) \\\\\n",
      "   GFDL-AM4 &        AP3 &        ? &           ? &            1.00x1.25 &                                                                                                                                                            - \\\\\n",
      "  BCC-CUACE &        AP3 &        ? &           ? &            2.77x2.81 &                                                                                                                                                            - \\\\\n",
      "    CanESM5 &      CMIP6 &        ? &           ? &            2.77x2.81 &                                                Geophysical Model Development Special issue on CanESM5 (https://www.geosci-model-dev.net/special_issues.html) \\\\\n",
      "      CESM2 &      CMIP6 &        ? &           ? &            0.94x1.25 &                                                                                                                                                            - \\\\\n",
      "  IPSL-CM6A &      CMIP6 &        ? &           ? &            1.27x2.50 &                                                                                                                                                            - \\\\\n",
      "\\bottomhline\n",
      "\\end{tabular}\n",
      "\n"
     ]
    }
   ],
   "source": [
    "with pd.option_context(\"max_colwidth\", 1000):\n",
    "    latable = df.to_latex(index=False, longtable=False, escape=False)\n",
    "    #replace rule with hline for ACP\n",
    "    latable = latable.replace('toprule','tophline')\n",
    "    latable = latable.replace('midrule','middlehline')\n",
    "    latable = latable.replace('bottomrule','bottomhline')\n",
    "    print(latable)"
   ]
  },
  {
   "cell_type": "code",
   "execution_count": null,
   "metadata": {},
   "outputs": [],
   "source": []
  }
 ],
 "metadata": {
  "kernelspec": {
   "display_name": "Python 3",
   "language": "python",
   "name": "python3"
  },
  "language_info": {
   "codemirror_mode": {
    "name": "ipython",
    "version": 3
   },
   "file_extension": ".py",
   "mimetype": "text/x-python",
   "name": "python",
   "nbconvert_exporter": "python",
   "pygments_lexer": "ipython3",
   "version": "3.7.3"
  }
 },
 "nbformat": 4,
 "nbformat_minor": 4
}
